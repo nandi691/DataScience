{
 "cells": [
  {
   "cell_type": "markdown",
   "metadata": {
    "colab_type": "text",
    "id": "BqYY1wPDeLE5"
   },
   "source": [
    "<table align=\"left\" width=100%>\n",
    "    <tr>\n",
    "        <td width=\"20%\">\n",
    "            <img src=\"faculty.png\">\n",
    "        </td>\n",
    "        <td>\n",
    "            <div align=\"center\">\n",
    "                <font color=\"#21618C\" size=8px>\n",
    "                  <b> Faculty Notebook <br> (Session 6) </b>\n",
    "                </font>\n",
    "            </div>\n",
    "        </td>\n",
    "    </tr>\n",
    "</table>"
   ]
  },
  {
   "cell_type": "markdown",
   "metadata": {
    "colab_type": "text",
    "id": "ejk-L1wueLE6"
   },
   "source": [
    "## Problem Statement\n",
    "\n",
    "Indian Premier League (IPL) is a league for Twenty20 (T20) cricket championships started in India. The auction price of the player depends on his performance in test matches or one-day internationals. The primary skill of the player also contributes to the auction price. We use different regression techniques to predict the auction price of the player."
   ]
  },
  {
   "cell_type": "markdown",
   "metadata": {
    "colab_type": "text",
    "id": "qcKPJa8YeLE7"
   },
   "source": [
    "## About the dataset (IPL Auction data)\n",
    "\n",
    "**PLAYER NAME**: Name of the player<br>\n",
    "**AGE**: The age of the player is classified into three categories. Category 1 means the player is less than 25 years old. Category 2 means the player is between 25 and 35 years and Category 3 means the player has aged more than 35.<br>\n",
    "**COUNTRY**: Country of the player<br>\n",
    "**PLAYING ROLE**: Player's primary skill<br>\n",
    "**T-RUNS**: Total runs scored in the test matches<br>\n",
    "**T-WKTS**: Total wickets taken in the test matches<br>\n",
    "**ODI-RUNS-S**: Runs scored in One Day Internationals<br>\n",
    "**ODI-SR-B**: Batting strike rate in One Day Internationals<br>\n",
    "**ODI-WKTS**: Wickets taken in One Day Internationals<br>\n",
    "**ODI-SR-BL**: Bowling strike rate in One Day Internationals<br>\n",
    "**CAPTAINCY EXP**: Captained a team or not<br>\n",
    "**RUNS-S**: Number of runs scored by a player<br>\n",
    "**HS**: Highest score by a batsman in IPL<br>\n",
    "**AVE**: Average runs scored by a batsman in IPL<br>\n",
    "**SR-B**: Batting strike rate (ratio of the number of runs scored to the number of basses faced) in IPL.<br>\n",
    "**SIXERS**: Number of six runs scored by a player in IPL.<br>\n",
    "**RUNS-C**: Number of runs conceded by a player<br>\n",
    "**WKTS**: Number of wickets were taken by a player in IPL.<br>\n",
    "**AVE-BL**: Bowling average (number of runs conceded / number of wickets taken) in IPL.<br>\n",
    "**ECON**: Economy rate of a bowler in IPL (number of runs conceded by the bowler per over).<br>\n",
    "**SR-BL**: Bowling strike rate (ratio of the number of balls bowled to the number of wickets taken) in IPL.<br>\n",
    "**SOLD PRICE**: Auction price of the player (Target Variable)<br>"
   ]
  },
  {
   "cell_type": "markdown",
   "metadata": {
    "colab_type": "text",
    "id": "AfzalB2HeLE7"
   },
   "source": [
    "## Table of Content\n",
    "\n",
    "1. **[Import Libraries](#lib)**\n",
    "2. **[Data Preparation](#prep)**\n",
    "    - 2.1 - **[Read the Data](#read)**\n",
    "    - 2.2 - **[Check the Data Type](#dtype)**\n",
    "    - 2.3 - **[Remove Insignificant Variables](#drop)**\n",
    "    - 2.4 - **[Missing Value Treatment](#null)**\n",
    "    - 2.5 - **[Dummy Encode the Categorical Variables](#dummy)**\n",
    "    - 2.6 - **[Scale the Data](#scale)**\n",
    "    - 2.7 - **[Train-Test Split](#split)**\n",
    "3. **[Multiple Linear Regression (OLS)](#linreg)**\n",
    "4. **[Cross-Validation (CV)](#cv)**\n",
    "\t- 4.1 - **[k-Fold CV](#kfold)**\n",
    "    - 4.2 - **[Leave One Out Cross Validation (LOOCV)](#loocv)**    \n",
    "5. **[Gradient Descent](#GD)**\n",
    "    - 5.1 - **[Stochastic Gradient Descent (SGD)](#SGD)**\n",
    "6. **[Regularization](#regu)**\n",
    "    - 6.1 - **[Ridge Regression](#ridge)**\n",
    "    - 6.2 - **[Lasso Regression](#lasso)**\n",
    "    - 6.3 - **[Elastic Net Regression](#elastic)**\n",
    "7. **[GridSearchCV](#GScv)**"
   ]
  },
  {
   "cell_type": "markdown",
   "metadata": {
    "colab_type": "text",
    "id": "l6Sj_e7aeLE8"
   },
   "source": [
    "<a id=\"lib\"></a>\n",
    "# 1. Import Libraries"
   ]
  },
  {
   "cell_type": "markdown",
   "metadata": {
    "colab_type": "text",
    "id": "XqwPIHjbeLE8"
   },
   "source": [
    "**Let us import the required libraries.**"
   ]
  },
  {
   "cell_type": "code",
   "execution_count": 1,
   "metadata": {
    "colab": {},
    "colab_type": "code",
    "executionInfo": {
     "elapsed": 1486,
     "status": "ok",
     "timestamp": 1598880406265,
     "user": {
      "displayName": "Sutithi Chakraborty",
      "photoUrl": "",
      "userId": "12749148906436566424"
     },
     "user_tz": -330
    },
    "id": "BSo6J2qHeLE9"
   },
   "outputs": [],
   "source": [
    "# import 'Numpy' \n",
    "import numpy as np\n",
    "\n",
    "# import 'Pandas' \n",
    "import pandas as pd\n",
    "\n",
    "# import subpackage of Matplotlib\n",
    "import matplotlib.pyplot as plt\n",
    "\n",
    "# import 'Seaborn' \n",
    "import seaborn as sns\n",
    "\n",
    "# to suppress warnings \n",
    "from warnings import filterwarnings\n",
    "filterwarnings('ignore')\n",
    "\n",
    "# display all columns of the dataframe\n",
    "pd.options.display.max_columns = None\n",
    "\n",
    "# display all rows of the dataframe\n",
    "pd.options.display.max_rows = None\n",
    " \n",
    "# to display the float values upto 6 decimal places     \n",
    "pd.options.display.float_format = '{:.6f}'.format\n",
    "\n",
    "# import train-test split \n",
    "from sklearn.model_selection import train_test_split\n",
    "\n",
    "# import various functions from statsmodels\n",
    "import statsmodels\n",
    "import statsmodels.api as sm\n",
    "\n",
    "# import 'stats'\n",
    "from scipy import stats\n",
    "\n",
    "# 'metrics' from sklearn is used for evaluating the model performance\n",
    "from sklearn.metrics import mean_squared_error\n",
    "from sklearn.metrics import mean_absolute_error\n",
    "\n",
    "\n",
    "# import function to perform linear regression\n",
    "from sklearn.linear_model import LinearRegression\n",
    "\n",
    "# import StandardScaler to perform scaling\n",
    "from sklearn.preprocessing import StandardScaler \n",
    "\n",
    "# import SGDRegressor from sklearn to perform linear regression with stochastic gradient descent\n",
    "from sklearn.linear_model import SGDRegressor\n",
    "\n",
    "# import function for ridge regression\n",
    "from sklearn.linear_model import Ridge\n",
    "\n",
    "# import function for lasso regression\n",
    "from sklearn.linear_model import Lasso\n",
    "\n",
    "# import function for elastic net regression\n",
    "from sklearn.linear_model import ElasticNet\n",
    "\n",
    "# import function to perform GridSearchCV\n",
    "from sklearn.model_selection import GridSearchCV\n",
    "\n",
    "# import functions to perform cross validation\n",
    "from sklearn.model_selection import LeaveOneOut\n",
    "from sklearn.model_selection import cross_val_score\n",
    "from sklearn.model_selection import KFold"
   ]
  },
  {
   "cell_type": "code",
   "execution_count": 2,
   "metadata": {
    "colab": {},
    "colab_type": "code",
    "executionInfo": {
     "elapsed": 1374,
     "status": "ok",
     "timestamp": 1598880411661,
     "user": {
      "displayName": "Sutithi Chakraborty",
      "photoUrl": "",
      "userId": "12749148906436566424"
     },
     "user_tz": -330
    },
    "id": "i_ELmHrneLFB"
   },
   "outputs": [],
   "source": [
    "# set the plot size using 'rcParams'\n",
    "# once the plot size is set using 'rcParams', it sets the size of all the forthcoming plots in the file\n",
    "# pass width and height in inches to 'figure.figsize' \n",
    "plt.rcParams['figure.figsize'] = [15,8]"
   ]
  },
  {
   "cell_type": "markdown",
   "metadata": {
    "colab_type": "text",
    "id": "bHeDNryeeLFD"
   },
   "source": [
    "<a id=\"prep\"></a>\n",
    "# 2. Data Preparation"
   ]
  },
  {
   "cell_type": "markdown",
   "metadata": {
    "colab_type": "text",
    "id": "_o9G54YNeLFE"
   },
   "source": [
    "<a id=\"read\"></a>\n",
    "## 2.1 Read the Data"
   ]
  },
  {
   "cell_type": "markdown",
   "metadata": {
    "colab_type": "text",
    "id": "UqXY_QbZeLFE"
   },
   "source": [
    "#### Read the dataset and print the first five observations."
   ]
  },
  {
   "cell_type": "code",
   "execution_count": 3,
   "metadata": {
    "colab": {
     "base_uri": "https://localhost:8080/",
     "height": 316
    },
    "colab_type": "code",
    "executionInfo": {
     "elapsed": 1098,
     "status": "ok",
     "timestamp": 1598880414291,
     "user": {
      "displayName": "Sutithi Chakraborty",
      "photoUrl": "",
      "userId": "12749148906436566424"
     },
     "user_tz": -330
    },
    "id": "A-1VOfkmeLFE",
    "outputId": "487c59c7-eb85-4939-80ec-39cf1357b9e8",
    "scrolled": false
   },
   "outputs": [
    {
     "data": {
      "text/html": [
       "<div>\n",
       "<style scoped>\n",
       "    .dataframe tbody tr th:only-of-type {\n",
       "        vertical-align: middle;\n",
       "    }\n",
       "\n",
       "    .dataframe tbody tr th {\n",
       "        vertical-align: top;\n",
       "    }\n",
       "\n",
       "    .dataframe thead th {\n",
       "        text-align: right;\n",
       "    }\n",
       "</style>\n",
       "<table border=\"1\" class=\"dataframe\">\n",
       "  <thead>\n",
       "    <tr style=\"text-align: right;\">\n",
       "      <th></th>\n",
       "      <th>PLAYER NAME</th>\n",
       "      <th>AGE</th>\n",
       "      <th>COUNTRY</th>\n",
       "      <th>PLAYING ROLE</th>\n",
       "      <th>T-RUNS</th>\n",
       "      <th>T-WKTS</th>\n",
       "      <th>ODI-RUNS-S</th>\n",
       "      <th>ODI-SR-B</th>\n",
       "      <th>ODI-WKTS</th>\n",
       "      <th>ODI-SR-BL</th>\n",
       "      <th>CAPTAINCY EXP</th>\n",
       "      <th>RUNS-S</th>\n",
       "      <th>HS</th>\n",
       "      <th>AVE</th>\n",
       "      <th>SR-B</th>\n",
       "      <th>SIXERS</th>\n",
       "      <th>RUNS-C</th>\n",
       "      <th>WKTS</th>\n",
       "      <th>AVE-BL</th>\n",
       "      <th>ECON</th>\n",
       "      <th>SR-BL</th>\n",
       "      <th>SOLD PRICE</th>\n",
       "    </tr>\n",
       "  </thead>\n",
       "  <tbody>\n",
       "    <tr>\n",
       "      <th>0</th>\n",
       "      <td>Abdulla, YA</td>\n",
       "      <td>2</td>\n",
       "      <td>SA</td>\n",
       "      <td>Allrounder</td>\n",
       "      <td>0</td>\n",
       "      <td>0</td>\n",
       "      <td>0</td>\n",
       "      <td>0.000000</td>\n",
       "      <td>0</td>\n",
       "      <td>0.000000</td>\n",
       "      <td>0</td>\n",
       "      <td>0</td>\n",
       "      <td>0</td>\n",
       "      <td>0.000000</td>\n",
       "      <td>0.000000</td>\n",
       "      <td>0</td>\n",
       "      <td>307</td>\n",
       "      <td>15</td>\n",
       "      <td>20.470000</td>\n",
       "      <td>8.900000</td>\n",
       "      <td>13.930000</td>\n",
       "      <td>50000</td>\n",
       "    </tr>\n",
       "    <tr>\n",
       "      <th>1</th>\n",
       "      <td>Abdur Razzak</td>\n",
       "      <td>2</td>\n",
       "      <td>BAN</td>\n",
       "      <td>Bowler</td>\n",
       "      <td>214</td>\n",
       "      <td>18</td>\n",
       "      <td>657</td>\n",
       "      <td>71.410000</td>\n",
       "      <td>185</td>\n",
       "      <td>37.600000</td>\n",
       "      <td>0</td>\n",
       "      <td>0</td>\n",
       "      <td>0</td>\n",
       "      <td>0.000000</td>\n",
       "      <td>0.000000</td>\n",
       "      <td>0</td>\n",
       "      <td>29</td>\n",
       "      <td>0</td>\n",
       "      <td>0.000000</td>\n",
       "      <td>14.500000</td>\n",
       "      <td>0.000000</td>\n",
       "      <td>50000</td>\n",
       "    </tr>\n",
       "    <tr>\n",
       "      <th>2</th>\n",
       "      <td>Agarkar, AB</td>\n",
       "      <td>2</td>\n",
       "      <td>IND</td>\n",
       "      <td>Bowler</td>\n",
       "      <td>571</td>\n",
       "      <td>58</td>\n",
       "      <td>1269</td>\n",
       "      <td>80.620000</td>\n",
       "      <td>288</td>\n",
       "      <td>32.900000</td>\n",
       "      <td>0</td>\n",
       "      <td>167</td>\n",
       "      <td>39</td>\n",
       "      <td>18.560000</td>\n",
       "      <td>121.010000</td>\n",
       "      <td>5</td>\n",
       "      <td>1059</td>\n",
       "      <td>29</td>\n",
       "      <td>36.520000</td>\n",
       "      <td>8.810000</td>\n",
       "      <td>24.900000</td>\n",
       "      <td>350000</td>\n",
       "    </tr>\n",
       "    <tr>\n",
       "      <th>3</th>\n",
       "      <td>Ashwin, R</td>\n",
       "      <td>1</td>\n",
       "      <td>IND</td>\n",
       "      <td>Bowler</td>\n",
       "      <td>284</td>\n",
       "      <td>31</td>\n",
       "      <td>241</td>\n",
       "      <td>84.560000</td>\n",
       "      <td>51</td>\n",
       "      <td>36.800000</td>\n",
       "      <td>0</td>\n",
       "      <td>58</td>\n",
       "      <td>11</td>\n",
       "      <td>5.800000</td>\n",
       "      <td>76.320000</td>\n",
       "      <td>0</td>\n",
       "      <td>1125</td>\n",
       "      <td>49</td>\n",
       "      <td>22.960000</td>\n",
       "      <td>6.230000</td>\n",
       "      <td>22.140000</td>\n",
       "      <td>850000</td>\n",
       "    </tr>\n",
       "    <tr>\n",
       "      <th>4</th>\n",
       "      <td>Badrinath, S</td>\n",
       "      <td>2</td>\n",
       "      <td>IND</td>\n",
       "      <td>Batsman</td>\n",
       "      <td>63</td>\n",
       "      <td>0</td>\n",
       "      <td>79</td>\n",
       "      <td>45.930000</td>\n",
       "      <td>0</td>\n",
       "      <td>0.000000</td>\n",
       "      <td>0</td>\n",
       "      <td>1317</td>\n",
       "      <td>71</td>\n",
       "      <td>32.930000</td>\n",
       "      <td>120.710000</td>\n",
       "      <td>28</td>\n",
       "      <td>0</td>\n",
       "      <td>0</td>\n",
       "      <td>0.000000</td>\n",
       "      <td>0.000000</td>\n",
       "      <td>0.000000</td>\n",
       "      <td>800000</td>\n",
       "    </tr>\n",
       "  </tbody>\n",
       "</table>\n",
       "</div>"
      ],
      "text/plain": [
       "    PLAYER NAME  AGE COUNTRY PLAYING ROLE  T-RUNS  T-WKTS  ODI-RUNS-S  \\\n",
       "0   Abdulla, YA    2      SA   Allrounder       0       0           0   \n",
       "1  Abdur Razzak    2     BAN       Bowler     214      18         657   \n",
       "2   Agarkar, AB    2     IND       Bowler     571      58        1269   \n",
       "3     Ashwin, R    1     IND       Bowler     284      31         241   \n",
       "4  Badrinath, S    2     IND      Batsman      63       0          79   \n",
       "\n",
       "   ODI-SR-B  ODI-WKTS  ODI-SR-BL  CAPTAINCY EXP  RUNS-S  HS       AVE  \\\n",
       "0  0.000000         0   0.000000              0       0   0  0.000000   \n",
       "1 71.410000       185  37.600000              0       0   0  0.000000   \n",
       "2 80.620000       288  32.900000              0     167  39 18.560000   \n",
       "3 84.560000        51  36.800000              0      58  11  5.800000   \n",
       "4 45.930000         0   0.000000              0    1317  71 32.930000   \n",
       "\n",
       "        SR-B  SIXERS  RUNS-C  WKTS    AVE-BL      ECON     SR-BL  SOLD PRICE  \n",
       "0   0.000000       0     307    15 20.470000  8.900000 13.930000       50000  \n",
       "1   0.000000       0      29     0  0.000000 14.500000  0.000000       50000  \n",
       "2 121.010000       5    1059    29 36.520000  8.810000 24.900000      350000  \n",
       "3  76.320000       0    1125    49 22.960000  6.230000 22.140000      850000  \n",
       "4 120.710000      28       0     0  0.000000  0.000000  0.000000      800000  "
      ]
     },
     "execution_count": 3,
     "metadata": {},
     "output_type": "execute_result"
    }
   ],
   "source": [
    "# load the csv file\n",
    "# store the data in 'df_ipl'\n",
    "df_ipl = pd.read_csv('IPL_IMB_data.csv')\n",
    "\n",
    "# display first five observations using head()\n",
    "df_ipl.head()"
   ]
  },
  {
   "cell_type": "markdown",
   "metadata": {
    "colab_type": "text",
    "id": "gIcQPJ9IeLFH"
   },
   "source": [
    "**Let us now see the number of variables and observations in the data.**"
   ]
  },
  {
   "cell_type": "code",
   "execution_count": 4,
   "metadata": {
    "colab": {
     "base_uri": "https://localhost:8080/",
     "height": 34
    },
    "colab_type": "code",
    "executionInfo": {
     "elapsed": 1058,
     "status": "ok",
     "timestamp": 1598880418329,
     "user": {
      "displayName": "Sutithi Chakraborty",
      "photoUrl": "",
      "userId": "12749148906436566424"
     },
     "user_tz": -330
    },
    "id": "g08NkLFaeLFH",
    "outputId": "c445b461-cbca-4bd1-d14f-e6635bdf37f7"
   },
   "outputs": [
    {
     "data": {
      "text/plain": [
       "(130, 22)"
      ]
     },
     "execution_count": 4,
     "metadata": {},
     "output_type": "execute_result"
    }
   ],
   "source": [
    "# use 'shape' to check the dimension of data\n",
    "df_ipl.shape"
   ]
  },
  {
   "cell_type": "markdown",
   "metadata": {
    "colab_type": "text",
    "id": "KqdGzY3FeLFK"
   },
   "source": [
    "**Interpretation:** The data has 130 observations and 22 variables."
   ]
  },
  {
   "cell_type": "markdown",
   "metadata": {
    "colab_type": "text",
    "id": "cDP9-THXeLFK"
   },
   "source": [
    "<a id=\"dtype\"></a>\n",
    "## 2.2 Check the Data Type"
   ]
  },
  {
   "cell_type": "markdown",
   "metadata": {
    "colab_type": "text",
    "id": "id_tDl7VeLFL"
   },
   "source": [
    "**Check the data type of each variable. If the data type is not as per the data definition, change the data type.**"
   ]
  },
  {
   "cell_type": "code",
   "execution_count": 5,
   "metadata": {
    "colab": {
     "base_uri": "https://localhost:8080/",
     "height": 403
    },
    "colab_type": "code",
    "executionInfo": {
     "elapsed": 1302,
     "status": "ok",
     "timestamp": 1598880421690,
     "user": {
      "displayName": "Sutithi Chakraborty",
      "photoUrl": "",
      "userId": "12749148906436566424"
     },
     "user_tz": -330
    },
    "id": "nIRijD6JeLFL",
    "outputId": "669852ce-dffd-466b-b0ae-f1d4ff09eef3",
    "scrolled": false
   },
   "outputs": [
    {
     "data": {
      "text/plain": [
       "PLAYER NAME       object\n",
       "AGE                int64\n",
       "COUNTRY           object\n",
       "PLAYING ROLE      object\n",
       "T-RUNS             int64\n",
       "T-WKTS             int64\n",
       "ODI-RUNS-S         int64\n",
       "ODI-SR-B         float64\n",
       "ODI-WKTS           int64\n",
       "ODI-SR-BL        float64\n",
       "CAPTAINCY EXP      int64\n",
       "RUNS-S             int64\n",
       "HS                 int64\n",
       "AVE              float64\n",
       "SR-B             float64\n",
       "SIXERS             int64\n",
       "RUNS-C             int64\n",
       "WKTS               int64\n",
       "AVE-BL           float64\n",
       "ECON             float64\n",
       "SR-BL            float64\n",
       "SOLD PRICE         int64\n",
       "dtype: object"
      ]
     },
     "execution_count": 5,
     "metadata": {},
     "output_type": "execute_result"
    }
   ],
   "source": [
    "# use 'dtypes' to check the data type of a variable\n",
    "df_ipl.dtypes"
   ]
  },
  {
   "cell_type": "markdown",
   "metadata": {
    "colab_type": "text",
    "id": "H26fWYuMeLFO"
   },
   "source": [
    "**Interpretation:** The variables `PLAYER NAME`, `COUNTRY` and `PLAYING ROLE` are categorical. All the remaining variables are numerical. \n",
    "\n",
    "From the above output, we see that the data type of `AGE` and `CAPTAINCY EXP` is 'int64'.\n",
    "\n",
    "But according to the data definition, `AGE` and `CAPTAINCY EXP` are categorical variables, which are wrongly interpreted as 'int64', so we will convert these variables data type to 'object'."
   ]
  },
  {
   "cell_type": "markdown",
   "metadata": {
    "colab_type": "text",
    "id": "XUZ4LRc_eLFO"
   },
   "source": [
    "#### Change the data type as per the data definition."
   ]
  },
  {
   "cell_type": "code",
   "execution_count": 6,
   "metadata": {
    "colab": {},
    "colab_type": "code",
    "executionInfo": {
     "elapsed": 1064,
     "status": "ok",
     "timestamp": 1598880425272,
     "user": {
      "displayName": "Sutithi Chakraborty",
      "photoUrl": "",
      "userId": "12749148906436566424"
     },
     "user_tz": -330
    },
    "id": "ToyaeeM7eLFP"
   },
   "outputs": [],
   "source": [
    "# convert numerical variables to categorical (object) \n",
    "# use astype() to change the data type\n",
    "\n",
    "# change the data type of 'AGE' \n",
    "df_ipl['AGE'] = df_ipl['AGE'].astype('object')\n",
    "\n",
    "# change the data type of 'CAPTAINCY EXP'\n",
    "df_ipl['CAPTAINCY EXP'] = df_ipl['CAPTAINCY EXP'].astype('object')"
   ]
  },
  {
   "cell_type": "markdown",
   "metadata": {
    "colab_type": "text",
    "id": "5gJR6Ap6eLFR"
   },
   "source": [
    "#### Recheck the data type after the conversion. "
   ]
  },
  {
   "cell_type": "code",
   "execution_count": 7,
   "metadata": {
    "colab": {
     "base_uri": "https://localhost:8080/",
     "height": 403
    },
    "colab_type": "code",
    "executionInfo": {
     "elapsed": 714,
     "status": "ok",
     "timestamp": 1598880426517,
     "user": {
      "displayName": "Sutithi Chakraborty",
      "photoUrl": "",
      "userId": "12749148906436566424"
     },
     "user_tz": -330
    },
    "id": "LRRm649geLFR",
    "outputId": "27bb09f5-6663-4455-9fa7-7f2493105a07"
   },
   "outputs": [
    {
     "data": {
      "text/plain": [
       "PLAYER NAME       object\n",
       "AGE               object\n",
       "COUNTRY           object\n",
       "PLAYING ROLE      object\n",
       "T-RUNS             int64\n",
       "T-WKTS             int64\n",
       "ODI-RUNS-S         int64\n",
       "ODI-SR-B         float64\n",
       "ODI-WKTS           int64\n",
       "ODI-SR-BL        float64\n",
       "CAPTAINCY EXP     object\n",
       "RUNS-S             int64\n",
       "HS                 int64\n",
       "AVE              float64\n",
       "SR-B             float64\n",
       "SIXERS             int64\n",
       "RUNS-C             int64\n",
       "WKTS               int64\n",
       "AVE-BL           float64\n",
       "ECON             float64\n",
       "SR-BL            float64\n",
       "SOLD PRICE         int64\n",
       "dtype: object"
      ]
     },
     "execution_count": 7,
     "metadata": {},
     "output_type": "execute_result"
    }
   ],
   "source": [
    "# recheck the data types using 'dtypes'\n",
    "df_ipl.dtypes"
   ]
  },
  {
   "cell_type": "markdown",
   "metadata": {
    "colab_type": "text",
    "id": "tYm22SP8eLFU"
   },
   "source": [
    "**Interpretation:** Now, all the variables have the correct data type."
   ]
  },
  {
   "cell_type": "markdown",
   "metadata": {
    "colab_type": "text",
    "id": "MQ4HaYKjeLFU"
   },
   "source": [
    "<a id=\"drop\"></a>\n",
    "## 2.3 Remove Insignificant Variables"
   ]
  },
  {
   "cell_type": "markdown",
   "metadata": {
    "colab_type": "text",
    "id": "8wdnjTR5eLFU"
   },
   "source": [
    "The column `PLAYER NAME` contains the name of the player, which is redundant for further analysis. Thus, we drop the column."
   ]
  },
  {
   "cell_type": "code",
   "execution_count": 8,
   "metadata": {
    "colab": {},
    "colab_type": "code",
    "executionInfo": {
     "elapsed": 1274,
     "status": "ok",
     "timestamp": 1598880429870,
     "user": {
      "displayName": "Sutithi Chakraborty",
      "photoUrl": "",
      "userId": "12749148906436566424"
     },
     "user_tz": -330
    },
    "id": "qxoYeNH7eLFV"
   },
   "outputs": [],
   "source": [
    "# drop the column 'PLAYER NAME' using drop()\n",
    "# 'axis = 1' drops the specified column\n",
    "df_ipl = df_ipl.drop('PLAYER NAME', axis = 1)"
   ]
  },
  {
   "cell_type": "markdown",
   "metadata": {
    "colab_type": "text",
    "id": "gMD5jLvbeLFY"
   },
   "source": [
    "<a id=\"null\"></a>\n",
    "## 2.4 Missing Value Treatment"
   ]
  },
  {
   "cell_type": "markdown",
   "metadata": {
    "colab_type": "text",
    "id": "fo3R0DtWeLFY"
   },
   "source": [
    "First run a check for the presence of missing values and their percentage for each column. Then choose the right approach to treat them."
   ]
  },
  {
   "cell_type": "code",
   "execution_count": 9,
   "metadata": {
    "colab": {
     "base_uri": "https://localhost:8080/",
     "height": 669
    },
    "colab_type": "code",
    "executionInfo": {
     "elapsed": 1173,
     "status": "ok",
     "timestamp": 1598880431628,
     "user": {
      "displayName": "Sutithi Chakraborty",
      "photoUrl": "",
      "userId": "12749148906436566424"
     },
     "user_tz": -330
    },
    "id": "lwVGnkgNeLFY",
    "outputId": "5f0ca1cc-68f7-4460-a7f8-30c6b0e54b4d"
   },
   "outputs": [
    {
     "data": {
      "text/html": [
       "<div>\n",
       "<style scoped>\n",
       "    .dataframe tbody tr th:only-of-type {\n",
       "        vertical-align: middle;\n",
       "    }\n",
       "\n",
       "    .dataframe tbody tr th {\n",
       "        vertical-align: top;\n",
       "    }\n",
       "\n",
       "    .dataframe thead th {\n",
       "        text-align: right;\n",
       "    }\n",
       "</style>\n",
       "<table border=\"1\" class=\"dataframe\">\n",
       "  <thead>\n",
       "    <tr style=\"text-align: right;\">\n",
       "      <th></th>\n",
       "      <th>Total</th>\n",
       "      <th>Percentage of Missing Values</th>\n",
       "    </tr>\n",
       "  </thead>\n",
       "  <tbody>\n",
       "    <tr>\n",
       "      <th>AGE</th>\n",
       "      <td>0</td>\n",
       "      <td>0.000000</td>\n",
       "    </tr>\n",
       "    <tr>\n",
       "      <th>HS</th>\n",
       "      <td>0</td>\n",
       "      <td>0.000000</td>\n",
       "    </tr>\n",
       "    <tr>\n",
       "      <th>SR-BL</th>\n",
       "      <td>0</td>\n",
       "      <td>0.000000</td>\n",
       "    </tr>\n",
       "    <tr>\n",
       "      <th>ECON</th>\n",
       "      <td>0</td>\n",
       "      <td>0.000000</td>\n",
       "    </tr>\n",
       "    <tr>\n",
       "      <th>AVE-BL</th>\n",
       "      <td>0</td>\n",
       "      <td>0.000000</td>\n",
       "    </tr>\n",
       "    <tr>\n",
       "      <th>WKTS</th>\n",
       "      <td>0</td>\n",
       "      <td>0.000000</td>\n",
       "    </tr>\n",
       "    <tr>\n",
       "      <th>RUNS-C</th>\n",
       "      <td>0</td>\n",
       "      <td>0.000000</td>\n",
       "    </tr>\n",
       "    <tr>\n",
       "      <th>SIXERS</th>\n",
       "      <td>0</td>\n",
       "      <td>0.000000</td>\n",
       "    </tr>\n",
       "    <tr>\n",
       "      <th>SR-B</th>\n",
       "      <td>0</td>\n",
       "      <td>0.000000</td>\n",
       "    </tr>\n",
       "    <tr>\n",
       "      <th>AVE</th>\n",
       "      <td>0</td>\n",
       "      <td>0.000000</td>\n",
       "    </tr>\n",
       "    <tr>\n",
       "      <th>RUNS-S</th>\n",
       "      <td>0</td>\n",
       "      <td>0.000000</td>\n",
       "    </tr>\n",
       "    <tr>\n",
       "      <th>COUNTRY</th>\n",
       "      <td>0</td>\n",
       "      <td>0.000000</td>\n",
       "    </tr>\n",
       "    <tr>\n",
       "      <th>CAPTAINCY EXP</th>\n",
       "      <td>0</td>\n",
       "      <td>0.000000</td>\n",
       "    </tr>\n",
       "    <tr>\n",
       "      <th>ODI-SR-BL</th>\n",
       "      <td>0</td>\n",
       "      <td>0.000000</td>\n",
       "    </tr>\n",
       "    <tr>\n",
       "      <th>ODI-WKTS</th>\n",
       "      <td>0</td>\n",
       "      <td>0.000000</td>\n",
       "    </tr>\n",
       "    <tr>\n",
       "      <th>ODI-SR-B</th>\n",
       "      <td>0</td>\n",
       "      <td>0.000000</td>\n",
       "    </tr>\n",
       "    <tr>\n",
       "      <th>ODI-RUNS-S</th>\n",
       "      <td>0</td>\n",
       "      <td>0.000000</td>\n",
       "    </tr>\n",
       "    <tr>\n",
       "      <th>T-WKTS</th>\n",
       "      <td>0</td>\n",
       "      <td>0.000000</td>\n",
       "    </tr>\n",
       "    <tr>\n",
       "      <th>T-RUNS</th>\n",
       "      <td>0</td>\n",
       "      <td>0.000000</td>\n",
       "    </tr>\n",
       "    <tr>\n",
       "      <th>PLAYING ROLE</th>\n",
       "      <td>0</td>\n",
       "      <td>0.000000</td>\n",
       "    </tr>\n",
       "    <tr>\n",
       "      <th>SOLD PRICE</th>\n",
       "      <td>0</td>\n",
       "      <td>0.000000</td>\n",
       "    </tr>\n",
       "  </tbody>\n",
       "</table>\n",
       "</div>"
      ],
      "text/plain": [
       "               Total  Percentage of Missing Values\n",
       "AGE                0                      0.000000\n",
       "HS                 0                      0.000000\n",
       "SR-BL              0                      0.000000\n",
       "ECON               0                      0.000000\n",
       "AVE-BL             0                      0.000000\n",
       "WKTS               0                      0.000000\n",
       "RUNS-C             0                      0.000000\n",
       "SIXERS             0                      0.000000\n",
       "SR-B               0                      0.000000\n",
       "AVE                0                      0.000000\n",
       "RUNS-S             0                      0.000000\n",
       "COUNTRY            0                      0.000000\n",
       "CAPTAINCY EXP      0                      0.000000\n",
       "ODI-SR-BL          0                      0.000000\n",
       "ODI-WKTS           0                      0.000000\n",
       "ODI-SR-B           0                      0.000000\n",
       "ODI-RUNS-S         0                      0.000000\n",
       "T-WKTS             0                      0.000000\n",
       "T-RUNS             0                      0.000000\n",
       "PLAYING ROLE       0                      0.000000\n",
       "SOLD PRICE         0                      0.000000"
      ]
     },
     "execution_count": 9,
     "metadata": {},
     "output_type": "execute_result"
    }
   ],
   "source": [
    "# sort the variables on the basis of total null values in the variable\n",
    "# 'isnull().sum()' returns the number of missing values in each variable\n",
    "# 'ascending = False' sorts values in the descending order\n",
    "# the variable with highest number of missing values will appear first\n",
    "Total = df_ipl.isnull().sum().sort_values(ascending=False)          \n",
    "\n",
    "# calculate percentage of missing values\n",
    "# 'ascending = False' sorts values in the descending order\n",
    "# the variable with highest percentage of missing values will appear first\n",
    "Percent = (df_ipl.isnull().sum()*100/df_ipl.isnull().count()).sort_values(ascending=False)   \n",
    "\n",
    "# concat the 'Total' and 'Percent' columns using 'concat' function\n",
    "# pass a list of column names in parameter 'keys' \n",
    "# 'axis = 1' concats along the columns\n",
    "missing_data = pd.concat([Total, Percent], axis = 1, keys = ['Total', 'Percentage of Missing Values'])    \n",
    "missing_data"
   ]
  },
  {
   "cell_type": "markdown",
   "metadata": {
    "colab_type": "text",
    "id": "sZQCFk-teLFb"
   },
   "source": [
    "**Interpretation:** The above output shows that there are no missing values in the data."
   ]
  },
  {
   "cell_type": "markdown",
   "metadata": {
    "colab_type": "text",
    "id": "wXKLLa8heLFb"
   },
   "source": [
    "<a id=\"dummy\"></a>\n",
    "## 2.5 Dummy Encode the Categorical Variables"
   ]
  },
  {
   "cell_type": "markdown",
   "metadata": {
    "colab_type": "text",
    "id": "4dfWWhGqeLFc"
   },
   "source": [
    "#### Split the dependent and independent variables."
   ]
  },
  {
   "cell_type": "code",
   "execution_count": 10,
   "metadata": {
    "colab": {},
    "colab_type": "code",
    "executionInfo": {
     "elapsed": 1062,
     "status": "ok",
     "timestamp": 1598880438688,
     "user": {
      "displayName": "Sutithi Chakraborty",
      "photoUrl": "",
      "userId": "12749148906436566424"
     },
     "user_tz": -330
    },
    "id": "IZ9m6MLjeLFc"
   },
   "outputs": [],
   "source": [
    "# store the target variable 'SOLD PRICE' in a dataframe 'df_target'\n",
    "df_target = df_ipl['SOLD PRICE']\n",
    "\n",
    "# store all the independent variables in a dataframe 'df_feature' \n",
    "# drop the column 'SOLD PRICE' using drop()\n",
    "# 'axis = 1' drops the specified column\n",
    "df_feature = df_ipl.drop('SOLD PRICE', axis = 1)"
   ]
  },
  {
   "cell_type": "markdown",
   "metadata": {
    "colab_type": "text",
    "id": "XpF635WjeLFe"
   },
   "source": [
    "#### Filter numerical and categorical variables."
   ]
  },
  {
   "cell_type": "code",
   "execution_count": 11,
   "metadata": {
    "colab": {
     "base_uri": "https://localhost:8080/",
     "height": 84
    },
    "colab_type": "code",
    "executionInfo": {
     "elapsed": 800,
     "status": "ok",
     "timestamp": 1598880439980,
     "user": {
      "displayName": "Sutithi Chakraborty",
      "photoUrl": "",
      "userId": "12749148906436566424"
     },
     "user_tz": -330
    },
    "id": "stSQkNpteLFf",
    "outputId": "2dec1d3f-609f-4d5e-aa07-dc04f313f634"
   },
   "outputs": [
    {
     "data": {
      "text/plain": [
       "Index(['T-RUNS', 'T-WKTS', 'ODI-RUNS-S', 'ODI-SR-B', 'ODI-WKTS', 'ODI-SR-BL',\n",
       "       'RUNS-S', 'HS', 'AVE', 'SR-B', 'SIXERS', 'RUNS-C', 'WKTS', 'AVE-BL',\n",
       "       'ECON', 'SR-BL'],\n",
       "      dtype='object')"
      ]
     },
     "execution_count": 11,
     "metadata": {},
     "output_type": "execute_result"
    }
   ],
   "source": [
    "# filter the numerical features in the dataset\n",
    "# 'select_dtypes' is used to select the variables with given data type\n",
    "# 'include = [np.number]' will include all the numerical variables\n",
    "df_num = df_feature.select_dtypes(include = [np.number])\n",
    "\n",
    "# display numerical features\n",
    "df_num.columns"
   ]
  },
  {
   "cell_type": "code",
   "execution_count": 12,
   "metadata": {
    "colab": {
     "base_uri": "https://localhost:8080/",
     "height": 34
    },
    "colab_type": "code",
    "executionInfo": {
     "elapsed": 1228,
     "status": "ok",
     "timestamp": 1598880444473,
     "user": {
      "displayName": "Sutithi Chakraborty",
      "photoUrl": "",
      "userId": "12749148906436566424"
     },
     "user_tz": -330
    },
    "id": "IeXYeoPJeLFh",
    "outputId": "6e21cc69-f749-45af-ca83-8ed869718c0a"
   },
   "outputs": [
    {
     "data": {
      "text/plain": [
       "Index(['AGE', 'COUNTRY', 'PLAYING ROLE', 'CAPTAINCY EXP'], dtype='object')"
      ]
     },
     "execution_count": 12,
     "metadata": {},
     "output_type": "execute_result"
    }
   ],
   "source": [
    "# filter the categorical features in the dataset\n",
    "# 'select_dtypes' is used to select the variables with given data type\n",
    "# 'include = [np.object]' will include all the categorical variables\n",
    "df_cat = df_feature.select_dtypes(include = [np.object])\n",
    "\n",
    "# display categorical features\n",
    "df_cat.columns"
   ]
  },
  {
   "cell_type": "markdown",
   "metadata": {
    "colab_type": "text",
    "id": "SlHC0awGeLFj"
   },
   "source": [
    "The regression method fails in presence of categorical variables. To overcome this we use (n-1) dummy encoding. \n",
    "\n",
    "**Encode the each categorical variable and create (n-1) dummy variables for n categories of the variable.**"
   ]
  },
  {
   "cell_type": "code",
   "execution_count": 13,
   "metadata": {
    "colab": {},
    "colab_type": "code",
    "executionInfo": {
     "elapsed": 1020,
     "status": "ok",
     "timestamp": 1598880446780,
     "user": {
      "displayName": "Sutithi Chakraborty",
      "photoUrl": "",
      "userId": "12749148906436566424"
     },
     "user_tz": -330
    },
    "id": "3UfynRJSeLFj"
   },
   "outputs": [],
   "source": [
    "# use 'get_dummies' from pandas to create dummy variables\n",
    "# use 'drop_first' to create (n-1) dummy variables\n",
    "dummy_var = pd.get_dummies(data = df_cat, drop_first = True)"
   ]
  },
  {
   "cell_type": "markdown",
   "metadata": {
    "colab_type": "text",
    "id": "t2au4_PheLFn"
   },
   "source": [
    "<a id=\"scale\"></a>\n",
    "## 2.6 Scale the Data "
   ]
  },
  {
   "cell_type": "markdown",
   "metadata": {
    "colab_type": "text",
    "id": "45FwuHCReLFn"
   },
   "source": [
    "We scale the variables to get all the variables in the same range. With this, we can avoid a problem in which some features come to dominate solely because they tend to have larger values than others."
   ]
  },
  {
   "cell_type": "code",
   "execution_count": 14,
   "metadata": {
    "colab": {},
    "colab_type": "code",
    "executionInfo": {
     "elapsed": 988,
     "status": "ok",
     "timestamp": 1598880449613,
     "user": {
      "displayName": "Sutithi Chakraborty",
      "photoUrl": "",
      "userId": "12749148906436566424"
     },
     "user_tz": -330
    },
    "id": "URh53b_2eLFo"
   },
   "outputs": [],
   "source": [
    "# initialize the standard scalar\n",
    "X_scaler = StandardScaler()\n",
    "\n",
    "# scale all the numeric variables\n",
    "# standardize all the columns of the dataframe 'df_num'\n",
    "num_scaled = X_scaler.fit_transform(df_num)\n",
    "\n",
    "# create a dataframe of scaled numerical variables\n",
    "# pass the required column names to the parameter 'columns'\n",
    "df_num_scaled = pd.DataFrame(num_scaled, columns = df_num.columns)\n",
    "\n",
    "# standardize the target variable explicitly and store it in a new variable 'y'\n",
    "y = (df_target - df_target.mean()) / df_target.std()"
   ]
  },
  {
   "cell_type": "markdown",
   "metadata": {
    "colab_type": "text",
    "id": "63X583CEeLFq"
   },
   "source": [
    "#### Concatenate scaled numerical and dummy encoded categorical variables."
   ]
  },
  {
   "cell_type": "code",
   "execution_count": 15,
   "metadata": {
    "colab": {
     "base_uri": "https://localhost:8080/",
     "height": 249
    },
    "colab_type": "code",
    "executionInfo": {
     "elapsed": 1053,
     "status": "ok",
     "timestamp": 1598880452668,
     "user": {
      "displayName": "Sutithi Chakraborty",
      "photoUrl": "",
      "userId": "12749148906436566424"
     },
     "user_tz": -330
    },
    "id": "FbJAyVjbeLFr",
    "outputId": "48158b77-ff10-4a00-eaa9-d7718b0d6648"
   },
   "outputs": [
    {
     "data": {
      "text/html": [
       "<div>\n",
       "<style scoped>\n",
       "    .dataframe tbody tr th:only-of-type {\n",
       "        vertical-align: middle;\n",
       "    }\n",
       "\n",
       "    .dataframe tbody tr th {\n",
       "        vertical-align: top;\n",
       "    }\n",
       "\n",
       "    .dataframe thead th {\n",
       "        text-align: right;\n",
       "    }\n",
       "</style>\n",
       "<table border=\"1\" class=\"dataframe\">\n",
       "  <thead>\n",
       "    <tr style=\"text-align: right;\">\n",
       "      <th></th>\n",
       "      <th>T-RUNS</th>\n",
       "      <th>T-WKTS</th>\n",
       "      <th>ODI-RUNS-S</th>\n",
       "      <th>ODI-SR-B</th>\n",
       "      <th>ODI-WKTS</th>\n",
       "      <th>ODI-SR-BL</th>\n",
       "      <th>RUNS-S</th>\n",
       "      <th>HS</th>\n",
       "      <th>AVE</th>\n",
       "      <th>SR-B</th>\n",
       "      <th>SIXERS</th>\n",
       "      <th>RUNS-C</th>\n",
       "      <th>WKTS</th>\n",
       "      <th>AVE-BL</th>\n",
       "      <th>ECON</th>\n",
       "      <th>SR-BL</th>\n",
       "      <th>AGE_2</th>\n",
       "      <th>AGE_3</th>\n",
       "      <th>COUNTRY_BAN</th>\n",
       "      <th>COUNTRY_ENG</th>\n",
       "      <th>COUNTRY_IND</th>\n",
       "      <th>COUNTRY_NZ</th>\n",
       "      <th>COUNTRY_PAK</th>\n",
       "      <th>COUNTRY_SA</th>\n",
       "      <th>COUNTRY_SL</th>\n",
       "      <th>COUNTRY_WI</th>\n",
       "      <th>COUNTRY_ZIM</th>\n",
       "      <th>PLAYING ROLE_Batsman</th>\n",
       "      <th>PLAYING ROLE_Bowler</th>\n",
       "      <th>PLAYING ROLE_W. Keeper</th>\n",
       "      <th>CAPTAINCY EXP_1</th>\n",
       "    </tr>\n",
       "  </thead>\n",
       "  <tbody>\n",
       "    <tr>\n",
       "      <th>0</th>\n",
       "      <td>-0.657994</td>\n",
       "      <td>-0.468108</td>\n",
       "      <td>-0.703043</td>\n",
       "      <td>-2.758455</td>\n",
       "      <td>-0.686760</td>\n",
       "      <td>-1.277132</td>\n",
       "      <td>-0.839099</td>\n",
       "      <td>-1.307954</td>\n",
       "      <td>-1.693829</td>\n",
       "      <td>-3.102880</td>\n",
       "      <td>-0.745369</td>\n",
       "      <td>-0.303010</td>\n",
       "      <td>-0.099814</td>\n",
       "      <td>-0.127413</td>\n",
       "      <td>0.547597</td>\n",
       "      <td>-0.226928</td>\n",
       "      <td>1</td>\n",
       "      <td>0</td>\n",
       "      <td>0</td>\n",
       "      <td>0</td>\n",
       "      <td>0</td>\n",
       "      <td>0</td>\n",
       "      <td>0</td>\n",
       "      <td>1</td>\n",
       "      <td>0</td>\n",
       "      <td>0</td>\n",
       "      <td>0</td>\n",
       "      <td>0</td>\n",
       "      <td>0</td>\n",
       "      <td>0</td>\n",
       "      <td>0</td>\n",
       "    </tr>\n",
       "    <tr>\n",
       "      <th>1</th>\n",
       "      <td>-0.593006</td>\n",
       "      <td>-0.341460</td>\n",
       "      <td>-0.518927</td>\n",
       "      <td>0.009520</td>\n",
       "      <td>0.983269</td>\n",
       "      <td>0.133821</td>\n",
       "      <td>-0.839099</td>\n",
       "      <td>-1.307954</td>\n",
       "      <td>-1.693829</td>\n",
       "      <td>-3.102880</td>\n",
       "      <td>-0.745369</td>\n",
       "      <td>-0.802864</td>\n",
       "      <td>-0.790019</td>\n",
       "      <td>-1.115257</td>\n",
       "      <td>1.685233</td>\n",
       "      <td>-1.142498</td>\n",
       "      <td>1</td>\n",
       "      <td>0</td>\n",
       "      <td>1</td>\n",
       "      <td>0</td>\n",
       "      <td>0</td>\n",
       "      <td>0</td>\n",
       "      <td>0</td>\n",
       "      <td>0</td>\n",
       "      <td>0</td>\n",
       "      <td>0</td>\n",
       "      <td>0</td>\n",
       "      <td>0</td>\n",
       "      <td>1</td>\n",
       "      <td>0</td>\n",
       "      <td>0</td>\n",
       "    </tr>\n",
       "    <tr>\n",
       "      <th>2</th>\n",
       "      <td>-0.484592</td>\n",
       "      <td>-0.060022</td>\n",
       "      <td>-0.347421</td>\n",
       "      <td>0.366516</td>\n",
       "      <td>1.913068</td>\n",
       "      <td>-0.042548</td>\n",
       "      <td>-0.566604</td>\n",
       "      <td>-0.232487</td>\n",
       "      <td>-0.014415</td>\n",
       "      <td>0.278190</td>\n",
       "      <td>-0.534721</td>\n",
       "      <td>1.049112</td>\n",
       "      <td>0.544377</td>\n",
       "      <td>0.647130</td>\n",
       "      <td>0.529313</td>\n",
       "      <td>0.494091</td>\n",
       "      <td>1</td>\n",
       "      <td>0</td>\n",
       "      <td>0</td>\n",
       "      <td>0</td>\n",
       "      <td>1</td>\n",
       "      <td>0</td>\n",
       "      <td>0</td>\n",
       "      <td>0</td>\n",
       "      <td>0</td>\n",
       "      <td>0</td>\n",
       "      <td>0</td>\n",
       "      <td>0</td>\n",
       "      <td>1</td>\n",
       "      <td>0</td>\n",
       "      <td>0</td>\n",
       "    </tr>\n",
       "    <tr>\n",
       "      <th>3</th>\n",
       "      <td>-0.571749</td>\n",
       "      <td>-0.249993</td>\n",
       "      <td>-0.635505</td>\n",
       "      <td>0.519237</td>\n",
       "      <td>-0.226374</td>\n",
       "      <td>0.103801</td>\n",
       "      <td>-0.744460</td>\n",
       "      <td>-1.004617</td>\n",
       "      <td>-1.169012</td>\n",
       "      <td>-0.970467</td>\n",
       "      <td>-0.745369</td>\n",
       "      <td>1.167783</td>\n",
       "      <td>1.464649</td>\n",
       "      <td>-0.007250</td>\n",
       "      <td>0.005188</td>\n",
       "      <td>0.312686</td>\n",
       "      <td>0</td>\n",
       "      <td>0</td>\n",
       "      <td>0</td>\n",
       "      <td>0</td>\n",
       "      <td>1</td>\n",
       "      <td>0</td>\n",
       "      <td>0</td>\n",
       "      <td>0</td>\n",
       "      <td>0</td>\n",
       "      <td>0</td>\n",
       "      <td>0</td>\n",
       "      <td>0</td>\n",
       "      <td>1</td>\n",
       "      <td>0</td>\n",
       "      <td>0</td>\n",
       "    </tr>\n",
       "    <tr>\n",
       "      <th>4</th>\n",
       "      <td>-0.638862</td>\n",
       "      <td>-0.468108</td>\n",
       "      <td>-0.680904</td>\n",
       "      <td>-0.978129</td>\n",
       "      <td>-0.686760</td>\n",
       "      <td>-1.277132</td>\n",
       "      <td>1.309858</td>\n",
       "      <td>0.649946</td>\n",
       "      <td>1.285864</td>\n",
       "      <td>0.269808</td>\n",
       "      <td>0.434258</td>\n",
       "      <td>-0.855007</td>\n",
       "      <td>-0.790019</td>\n",
       "      <td>-1.115257</td>\n",
       "      <td>-1.260432</td>\n",
       "      <td>-1.142498</td>\n",
       "      <td>1</td>\n",
       "      <td>0</td>\n",
       "      <td>0</td>\n",
       "      <td>0</td>\n",
       "      <td>1</td>\n",
       "      <td>0</td>\n",
       "      <td>0</td>\n",
       "      <td>0</td>\n",
       "      <td>0</td>\n",
       "      <td>0</td>\n",
       "      <td>0</td>\n",
       "      <td>1</td>\n",
       "      <td>0</td>\n",
       "      <td>0</td>\n",
       "      <td>0</td>\n",
       "    </tr>\n",
       "  </tbody>\n",
       "</table>\n",
       "</div>"
      ],
      "text/plain": [
       "     T-RUNS    T-WKTS  ODI-RUNS-S  ODI-SR-B  ODI-WKTS  ODI-SR-BL    RUNS-S  \\\n",
       "0 -0.657994 -0.468108   -0.703043 -2.758455 -0.686760  -1.277132 -0.839099   \n",
       "1 -0.593006 -0.341460   -0.518927  0.009520  0.983269   0.133821 -0.839099   \n",
       "2 -0.484592 -0.060022   -0.347421  0.366516  1.913068  -0.042548 -0.566604   \n",
       "3 -0.571749 -0.249993   -0.635505  0.519237 -0.226374   0.103801 -0.744460   \n",
       "4 -0.638862 -0.468108   -0.680904 -0.978129 -0.686760  -1.277132  1.309858   \n",
       "\n",
       "         HS       AVE      SR-B    SIXERS    RUNS-C      WKTS    AVE-BL  \\\n",
       "0 -1.307954 -1.693829 -3.102880 -0.745369 -0.303010 -0.099814 -0.127413   \n",
       "1 -1.307954 -1.693829 -3.102880 -0.745369 -0.802864 -0.790019 -1.115257   \n",
       "2 -0.232487 -0.014415  0.278190 -0.534721  1.049112  0.544377  0.647130   \n",
       "3 -1.004617 -1.169012 -0.970467 -0.745369  1.167783  1.464649 -0.007250   \n",
       "4  0.649946  1.285864  0.269808  0.434258 -0.855007 -0.790019 -1.115257   \n",
       "\n",
       "       ECON     SR-BL  AGE_2  AGE_3  COUNTRY_BAN  COUNTRY_ENG  COUNTRY_IND  \\\n",
       "0  0.547597 -0.226928      1      0            0            0            0   \n",
       "1  1.685233 -1.142498      1      0            1            0            0   \n",
       "2  0.529313  0.494091      1      0            0            0            1   \n",
       "3  0.005188  0.312686      0      0            0            0            1   \n",
       "4 -1.260432 -1.142498      1      0            0            0            1   \n",
       "\n",
       "   COUNTRY_NZ  COUNTRY_PAK  COUNTRY_SA  COUNTRY_SL  COUNTRY_WI  COUNTRY_ZIM  \\\n",
       "0           0            0           1           0           0            0   \n",
       "1           0            0           0           0           0            0   \n",
       "2           0            0           0           0           0            0   \n",
       "3           0            0           0           0           0            0   \n",
       "4           0            0           0           0           0            0   \n",
       "\n",
       "   PLAYING ROLE_Batsman  PLAYING ROLE_Bowler  PLAYING ROLE_W. Keeper  \\\n",
       "0                     0                    0                       0   \n",
       "1                     0                    1                       0   \n",
       "2                     0                    1                       0   \n",
       "3                     0                    1                       0   \n",
       "4                     1                    0                       0   \n",
       "\n",
       "   CAPTAINCY EXP_1  \n",
       "0                0  \n",
       "1                0  \n",
       "2                0  \n",
       "3                0  \n",
       "4                0  "
      ]
     },
     "execution_count": 15,
     "metadata": {},
     "output_type": "execute_result"
    }
   ],
   "source": [
    "# concat the dummy variables with numeric features to create a dataframe of all independent variables\n",
    "# 'axis=1' concats the dataframes along columns \n",
    "X = pd.concat([df_num_scaled, dummy_var], axis = 1)\n",
    "\n",
    "# display first five observations\n",
    "X.head()"
   ]
  },
  {
   "cell_type": "markdown",
   "metadata": {
    "colab_type": "text",
    "id": "Nj8O3UixeLFt"
   },
   "source": [
    "**Interpretation:** We can see that the dummy variables are added to the data. '1' in the column 'AGE_2' represents that the age of the corresponding player is between 25 to 35 years. Also, the '0' in both the columns 'AGE_2' and 'AGE_3' indicates that the age of the corresponding player is less than 25."
   ]
  },
  {
   "cell_type": "markdown",
   "metadata": {
    "colab_type": "text",
    "id": "sFGOlAFeeLFt"
   },
   "source": [
    "<a id=\"split\"></a>\n",
    "## 2.7 Train-Test Split"
   ]
  },
  {
   "cell_type": "markdown",
   "metadata": {
    "colab_type": "text",
    "id": "DrUQXAsKeLFu"
   },
   "source": [
    "Before applying variour regression techniques to predict the auction price of the player, let us split the dataset in train and test set."
   ]
  },
  {
   "cell_type": "code",
   "execution_count": 16,
   "metadata": {
    "colab": {
     "base_uri": "https://localhost:8080/",
     "height": 84
    },
    "colab_type": "code",
    "executionInfo": {
     "elapsed": 1162,
     "status": "ok",
     "timestamp": 1598880456385,
     "user": {
      "displayName": "Sutithi Chakraborty",
      "photoUrl": "",
      "userId": "12749148906436566424"
     },
     "user_tz": -330
    },
    "id": "Mlqzw8pveLFu",
    "outputId": "c95918d1-99c8-4466-8666-7bd0ea401f60"
   },
   "outputs": [
    {
     "name": "stdout",
     "output_type": "stream",
     "text": [
      "X_train (104, 31)\n",
      "y_train (104,)\n",
      "X_test (26, 31)\n",
      "y_test (26,)\n"
     ]
    }
   ],
   "source": [
    "# split data into train subset and test subset\n",
    "# set 'random_state' to generate the same dataset each time you run the code \n",
    "# 'test_size' returns the proportion of data to be included in the testing set\n",
    "X_train, X_test, y_train, y_test = train_test_split(X, y, random_state = 10, test_size = 0.2)\n",
    "\n",
    "# check the dimensions of the train & test subset using 'shape'\n",
    "# print dimension of train set\n",
    "print('X_train', X_train.shape)\n",
    "print('y_train', y_train.shape)\n",
    "\n",
    "# print dimension of test set\n",
    "print('X_test', X_test.shape)\n",
    "print('y_test', y_test.shape)"
   ]
  },
  {
   "cell_type": "markdown",
   "metadata": {
    "colab_type": "text",
    "id": "atSLXMSaeLFx"
   },
   "source": [
    "## Create generalized functions to calculate various metrics for models"
   ]
  },
  {
   "cell_type": "markdown",
   "metadata": {
    "colab_type": "text",
    "id": "pll6YLx8eLFx"
   },
   "source": [
    "#### Create a generalized function to calculate the RMSE for train and test set."
   ]
  },
  {
   "cell_type": "code",
   "execution_count": 17,
   "metadata": {
    "colab": {},
    "colab_type": "code",
    "executionInfo": {
     "elapsed": 1272,
     "status": "ok",
     "timestamp": 1598880459848,
     "user": {
      "displayName": "Sutithi Chakraborty",
      "photoUrl": "",
      "userId": "12749148906436566424"
     },
     "user_tz": -330
    },
    "id": "xwlh3BhOeLFy"
   },
   "outputs": [],
   "source": [
    "# create a generalized function to calculate the RMSE values for train set\n",
    "def get_train_rmse(model):\n",
    "    \n",
    "    # For training set:\n",
    "    # train_pred: prediction made by the model on the training dataset 'X_train'\n",
    "    # y_train: actual values ofthe target variable for the train dataset\n",
    "\n",
    "    # predict the output of the target variable from the train data \n",
    "    train_pred = model.predict(X_train)\n",
    "\n",
    "    # calculate the MSE using the \"mean_squared_error\" function\n",
    "\n",
    "    # MSE for the train data\n",
    "    mse_train = mean_squared_error(y_train, train_pred)\n",
    "\n",
    "    # take the square root of the MSE to calculate the RMSE\n",
    "    # round the value upto 4 digits using 'round()'\n",
    "    rmse_train = round(np.sqrt(mse_train), 4)\n",
    "    \n",
    "    # return the training RMSE\n",
    "    return(rmse_train)"
   ]
  },
  {
   "cell_type": "code",
   "execution_count": 18,
   "metadata": {
    "colab": {},
    "colab_type": "code",
    "executionInfo": {
     "elapsed": 1196,
     "status": "ok",
     "timestamp": 1598880462067,
     "user": {
      "displayName": "Sutithi Chakraborty",
      "photoUrl": "",
      "userId": "12749148906436566424"
     },
     "user_tz": -330
    },
    "id": "_CMWxJEVeLF0"
   },
   "outputs": [],
   "source": [
    "# create a generalized function to calculate the RMSE values test set\n",
    "def get_test_rmse(model):\n",
    "    \n",
    "    # For testing set:\n",
    "    # test_pred: prediction made by the model on the test dataset 'X_test'\n",
    "    # y_test: actual values of the target variable for the test dataset\n",
    "\n",
    "    # predict the output of the target variable from the test data\n",
    "    test_pred = model.predict(X_test)\n",
    "\n",
    "    # MSE for the test data\n",
    "    mse_test = mean_squared_error(y_test, test_pred)\n",
    "\n",
    "    # take the square root of the MSE to calculate the RMSE\n",
    "    # round the value upto 4 digits using 'round()'\n",
    "    rmse_test = round(np.sqrt(mse_test), 4)\n",
    "\n",
    "    # return the test RMSE\n",
    "    return(rmse_test)"
   ]
  },
  {
   "cell_type": "markdown",
   "metadata": {
    "colab_type": "text",
    "id": "Jdsq8LJ0eLF3"
   },
   "source": [
    "#### Create a generalized function to calculate the MAPE for test set."
   ]
  },
  {
   "cell_type": "code",
   "execution_count": 19,
   "metadata": {
    "colab": {},
    "colab_type": "code",
    "executionInfo": {
     "elapsed": 1085,
     "status": "ok",
     "timestamp": 1598880465816,
     "user": {
      "displayName": "Sutithi Chakraborty",
      "photoUrl": "",
      "userId": "12749148906436566424"
     },
     "user_tz": -330
    },
    "id": "jEd3PqPVeLF3"
   },
   "outputs": [],
   "source": [
    "# define a function to calculate MAPE\n",
    "# pass the actual and predicted values as input to the function\n",
    "# return the calculated MAPE \n",
    "def mape(actual, predicted):\n",
    "    return (np.mean(np.abs((actual - predicted) / actual)) * 100)\n",
    "\n",
    "def get_test_mape(model):\n",
    "    \n",
    "    # For testing set:\n",
    "    # test_pred: prediction made by the model on the test dataset 'X_test'\n",
    "    # y_test: actual values of the target variable for the test dataset\n",
    "\n",
    "    # predict the output of the target variable from the test data\n",
    "    test_pred = model.predict(X_test)\n",
    "    \n",
    "    # calculate the mape using the \"mape()\" function created above\n",
    "    # calculate the MAPE for the test data\n",
    "    mape_test = mape(y_test, test_pred)\n",
    "\n",
    "    # return the MAPE for the test set\n",
    "    return(mape_test)"
   ]
  },
  {
   "cell_type": "markdown",
   "metadata": {
    "colab_type": "text",
    "id": "O85PnnxveLF6"
   },
   "source": [
    "#### Create a generalized function to calculate the R-Squared and Adjusted R- Squared"
   ]
  },
  {
   "cell_type": "code",
   "execution_count": 20,
   "metadata": {
    "colab": {},
    "colab_type": "code",
    "executionInfo": {
     "elapsed": 1216,
     "status": "ok",
     "timestamp": 1598880473238,
     "user": {
      "displayName": "Sutithi Chakraborty",
      "photoUrl": "",
      "userId": "12749148906436566424"
     },
     "user_tz": -330
    },
    "id": "U20cKGXaeLF7"
   },
   "outputs": [],
   "source": [
    "# define a function to get R-squared and adjusted R-squared value\n",
    "def get_score(model):\n",
    "    \n",
    "    # score() returns the R-squared value\n",
    "    r_sq = model.score(X_train, y_train)\n",
    "    \n",
    "    # calculate adjusted R-squared value\n",
    "    # 'n' denotes number of observations in train set\n",
    "    # 'shape[0]' returns number of rows \n",
    "    n = X_train.shape[0]\n",
    "    \n",
    "    # 'k' denotes number of variables in train set\n",
    "    # 'shape[1]' returns number of columns\n",
    "    k = X_train.shape[1]\n",
    "    \n",
    "    # calculate adjusted R-squared using the formula\n",
    "    r_sq_adj = 1 - ((1-r_sq)*(n-1)/(n-k-1))\n",
    "    \n",
    "    # return the R-squared and adjusted R-squared value \n",
    "    return ([r_sq, r_sq_adj])"
   ]
  },
  {
   "cell_type": "markdown",
   "metadata": {
    "colab_type": "text",
    "id": "L9oiAddteLF9"
   },
   "source": [
    "#### Create a generalized function to create a dataframe containing the scores from all the models"
   ]
  },
  {
   "cell_type": "code",
   "execution_count": 21,
   "metadata": {
    "colab": {},
    "colab_type": "code",
    "executionInfo": {
     "elapsed": 1170,
     "status": "ok",
     "timestamp": 1598880477256,
     "user": {
      "displayName": "Sutithi Chakraborty",
      "photoUrl": "",
      "userId": "12749148906436566424"
     },
     "user_tz": -330
    },
    "id": "jt_c8dCjeLF9"
   },
   "outputs": [],
   "source": [
    "# create an empty dataframe to store the scores for various algorithms\n",
    "score_card = pd.DataFrame(columns=['Model_Name', 'Alpha (Wherever Required)', 'l1-ratio', 'R-Squared',\n",
    "                                       'Adj. R-Squared', 'Test_RMSE', 'Test_MAPE'])\n",
    "\n",
    "# create a function to update the score card for comparision of the scores from different algorithms\n",
    "# pass the model name, model build, alpha and l1_ration as input parameters\n",
    "# if 'alpha' and/or 'l1_ratio' is not specified, the function assigns '-'\n",
    "def update_score_card(algorithm_name, model, alpha = '-', l1_ratio = '-'):\n",
    "    \n",
    "    # assign 'score_card' as global variable\n",
    "    global score_card\n",
    "\n",
    "    # append the results to the dataframe 'score_card'\n",
    "    # 'ignore_index = True' do not consider the index labels\n",
    "    score_card = score_card.append({'Model_Name': algorithm_name,\n",
    "                       'Alpha (Wherever Required)': alpha, \n",
    "                       'l1-ratio': l1_ratio, \n",
    "                       'Test_MAPE': get_test_mape(model), \n",
    "                       'Test_RMSE': get_test_rmse(model), \n",
    "                       'R-Squared': get_score(model)[0], \n",
    "                       'Adj. R-Squared': get_score(model)[1]}, ignore_index = True)"
   ]
  },
  {
   "cell_type": "markdown",
   "metadata": {
    "colab_type": "text",
    "id": "JV1gH-bJeLGA"
   },
   "source": [
    "#### Create a generalized function to plot a barchart for the coefficients"
   ]
  },
  {
   "cell_type": "code",
   "execution_count": 22,
   "metadata": {
    "colab": {},
    "colab_type": "code",
    "executionInfo": {
     "elapsed": 1385,
     "status": "ok",
     "timestamp": 1598880484217,
     "user": {
      "displayName": "Sutithi Chakraborty",
      "photoUrl": "",
      "userId": "12749148906436566424"
     },
     "user_tz": -330
    },
    "id": "eIdVdilWeLGA"
   },
   "outputs": [],
   "source": [
    "# define a function to plot a barplot\n",
    "# pass the model \n",
    "def plot_coefficients(model, algorithm_name):\n",
    "    # create a dataframe of variable names and their corresponding value of coefficients obtained from model\n",
    "    # 'columns' returns the column names of the dataframe 'X'\n",
    "    # 'coef_' returns the coefficient of each variable\n",
    "    df_coeff = pd.DataFrame({'Variable': X.columns, 'Coefficient': model.coef_})\n",
    "\n",
    "    # sort the dataframe in descending order\n",
    "    # 'sort_values' sorts the column based on the values\n",
    "    # 'ascending = False' sorts the values in the descending order\n",
    "    sorted_coeff = df_coeff.sort_values('Coefficient', ascending = False)\n",
    "\n",
    "    # plot a bar plot with Coefficient on the x-axis and Variable names on y-axis\n",
    "    # pass the data to the parameter, 'sorted_coeff' to plot the barplot\n",
    "    sns.barplot(x = \"Coefficient\", y = \"Variable\", data = sorted_coeff)\n",
    "    \n",
    "    # add x-axis label\n",
    "    # set the size of the text using 'fontsize'\n",
    "    plt.xlabel(\"Coefficients from {}\".format(algorithm_name), fontsize = 15)\n",
    "\n",
    "    # add y-axis label\n",
    "    # set the size of the text using 'fontsize'\n",
    "    plt.ylabel('Features', fontsize = 15)"
   ]
  },
  {
   "cell_type": "markdown",
   "metadata": {
    "colab_type": "text",
    "id": "tES6rlS1eLGC"
   },
   "source": [
    "<a id=\"linreg\"></a>\n",
    "# 3. Multiple Linear Regression (OLS)"
   ]
  },
  {
   "cell_type": "markdown",
   "metadata": {
    "colab_type": "text",
    "id": "EoxNvt9EeLGC"
   },
   "source": [
    "#### Build a MLR model on a training dataset."
   ]
  },
  {
   "cell_type": "code",
   "execution_count": 23,
   "metadata": {
    "colab": {
     "base_uri": "https://localhost:8080/",
     "height": 34
    },
    "colab_type": "code",
    "executionInfo": {
     "elapsed": 1109,
     "status": "ok",
     "timestamp": 1598880488771,
     "user": {
      "displayName": "Sutithi Chakraborty",
      "photoUrl": "",
      "userId": "12749148906436566424"
     },
     "user_tz": -330
    },
    "id": "YJxTxFEzeLGD",
    "outputId": "0469c884-4f90-464d-c922-c1caa609de86"
   },
   "outputs": [
    {
     "data": {
      "text/plain": [
       "0.5861565829183139"
      ]
     },
     "execution_count": 23,
     "metadata": {},
     "output_type": "execute_result"
    }
   ],
   "source": [
    "# initiate linear regression model\n",
    "linreg = LinearRegression()\n",
    "\n",
    "# build the model using X_train and y_train\n",
    "# use fit() to fit the regression model\n",
    "MLR_model = linreg.fit(X_train, y_train)\n",
    "\n",
    "# print the R-squared value for the model\n",
    "# score() returns the R-squared value\n",
    "MLR_model.score(X_train, y_train)"
   ]
  },
  {
   "cell_type": "code",
   "execution_count": 24,
   "metadata": {
    "colab": {
     "base_uri": "https://localhost:8080/",
     "height": 67
    },
    "colab_type": "code",
    "executionInfo": {
     "elapsed": 1043,
     "status": "ok",
     "timestamp": 1598880492496,
     "user": {
      "displayName": "Sutithi Chakraborty",
      "photoUrl": "",
      "userId": "12749148906436566424"
     },
     "user_tz": -330
    },
    "id": "lrsN1EoFeLGG",
    "outputId": "8c877574-2a2f-4552-b9b0-a1de04758d05",
    "scrolled": true
   },
   "outputs": [
    {
     "name": "stdout",
     "output_type": "stream",
     "text": [
      "RMSE on train set:  0.6591\n",
      "RMSE on test set:  0.8634\n",
      "Difference between RMSE on train and test set:  0.20429999999999993\n"
     ]
    }
   ],
   "source": [
    "# print training RMSE\n",
    "print('RMSE on train set: ', get_train_rmse(MLR_model))\n",
    "\n",
    "# print training RMSE\n",
    "print('RMSE on test set: ', get_test_rmse(MLR_model))\n",
    "\n",
    "# calculate the difference between train and test set RMSE\n",
    "difference = abs(get_test_rmse(MLR_model) - get_train_rmse(MLR_model))\n",
    "\n",
    "# print the difference between train and test set RMSE\n",
    "print('Difference between RMSE on train and test set: ', difference)"
   ]
  },
  {
   "cell_type": "markdown",
   "metadata": {
    "colab_type": "text",
    "id": "S4ZareieeLGI"
   },
   "source": [
    "**Interpretation:** RMSE on the training set is 0.6591, while on the test set it is 0.8634. We can see that there is a large difference in the RMSE of the train and the test set. This implies that our model has overfitted on the train set. \n",
    "\n",
    "To deal with the problem of overfitting, we study the approach of `Regularization` in the later section. "
   ]
  },
  {
   "cell_type": "code",
   "execution_count": 25,
   "metadata": {
    "colab": {
     "base_uri": "https://localhost:8080/",
     "height": 77
    },
    "colab_type": "code",
    "executionInfo": {
     "elapsed": 1161,
     "status": "ok",
     "timestamp": 1598880496460,
     "user": {
      "displayName": "Sutithi Chakraborty",
      "photoUrl": "",
      "userId": "12749148906436566424"
     },
     "user_tz": -330
    },
    "id": "XRSvn9IWeLGI",
    "outputId": "ac88d978-365e-43be-974c-5383d57f0f2c"
   },
   "outputs": [
    {
     "data": {
      "text/html": [
       "<div>\n",
       "<style scoped>\n",
       "    .dataframe tbody tr th:only-of-type {\n",
       "        vertical-align: middle;\n",
       "    }\n",
       "\n",
       "    .dataframe tbody tr th {\n",
       "        vertical-align: top;\n",
       "    }\n",
       "\n",
       "    .dataframe thead th {\n",
       "        text-align: right;\n",
       "    }\n",
       "</style>\n",
       "<table border=\"1\" class=\"dataframe\">\n",
       "  <thead>\n",
       "    <tr style=\"text-align: right;\">\n",
       "      <th></th>\n",
       "      <th>Model_Name</th>\n",
       "      <th>Alpha (Wherever Required)</th>\n",
       "      <th>l1-ratio</th>\n",
       "      <th>R-Squared</th>\n",
       "      <th>Adj. R-Squared</th>\n",
       "      <th>Test_RMSE</th>\n",
       "      <th>Test_MAPE</th>\n",
       "    </tr>\n",
       "  </thead>\n",
       "  <tbody>\n",
       "    <tr>\n",
       "      <th>0</th>\n",
       "      <td>Linear Regression</td>\n",
       "      <td>-</td>\n",
       "      <td>-</td>\n",
       "      <td>0.586157</td>\n",
       "      <td>0.407974</td>\n",
       "      <td>0.863400</td>\n",
       "      <td>252.515937</td>\n",
       "    </tr>\n",
       "  </tbody>\n",
       "</table>\n",
       "</div>"
      ],
      "text/plain": [
       "          Model_Name Alpha (Wherever Required) l1-ratio  R-Squared  \\\n",
       "0  Linear Regression                         -        -   0.586157   \n",
       "\n",
       "   Adj. R-Squared  Test_RMSE  Test_MAPE  \n",
       "0        0.407974   0.863400 252.515937  "
      ]
     },
     "execution_count": 25,
     "metadata": {},
     "output_type": "execute_result"
    }
   ],
   "source": [
    "# update the dataframe 'score_card'\n",
    "update_score_card(algorithm_name = 'Linear Regression', model = MLR_model)\n",
    "\n",
    "# print the dataframe\n",
    "score_card"
   ]
  },
  {
   "cell_type": "code",
   "execution_count": null,
   "metadata": {
    "colab": {},
    "colab_type": "code",
    "id": "jwrUAfuOeLGK"
   },
   "outputs": [],
   "source": []
  },
  {
   "cell_type": "markdown",
   "metadata": {
    "colab_type": "text",
    "id": "upVa8d0ceLGM"
   },
   "source": [
    "<a id=\"cv\"></a>\n",
    "# 4. Cross Validation"
   ]
  },
  {
   "cell_type": "markdown",
   "metadata": {
    "colab_type": "text",
    "id": "xdBunSVdeLGN"
   },
   "source": [
    "<a id=\"kfold\"></a>\n",
    "## 4.1 K-Fold Cross Validation\n",
    "K-Fold cross validation is where a given dataset is divided into `K` folds where at some stage each fold is used as a test set."
   ]
  },
  {
   "cell_type": "code",
   "execution_count": 26,
   "metadata": {
    "colab": {},
    "colab_type": "code",
    "executionInfo": {
     "elapsed": 1072,
     "status": "ok",
     "timestamp": 1598880501797,
     "user": {
      "displayName": "Sutithi Chakraborty",
      "photoUrl": "",
      "userId": "12749148906436566424"
     },
     "user_tz": -330
    },
    "id": "vsjtD9nzeLGN"
   },
   "outputs": [],
   "source": [
    "# n_splits: specify the number of k folds\n",
    "kf = KFold(n_splits = 5)"
   ]
  },
  {
   "cell_type": "code",
   "execution_count": 27,
   "metadata": {
    "colab": {},
    "colab_type": "code",
    "executionInfo": {
     "elapsed": 1092,
     "status": "ok",
     "timestamp": 1598880503657,
     "user": {
      "displayName": "Sutithi Chakraborty",
      "photoUrl": "",
      "userId": "12749148906436566424"
     },
     "user_tz": -330
    },
    "id": "xFrg61g3eLGP"
   },
   "outputs": [],
   "source": [
    "# create a function 'get_score' that returns the R-squared score for the training set\n",
    "# 'get_score' takes 5 input parameters\n",
    "def Get_score(model, X_train_k, X_test_k, y_train_k, y_test_k):\n",
    "    model.fit(X_train_k, y_train_k)                                   # fit the model\n",
    "    return model.score(X_test_k, y_test_k)                            # return the R-squared value"
   ]
  },
  {
   "cell_type": "code",
   "execution_count": 28,
   "metadata": {
    "colab": {},
    "colab_type": "code",
    "executionInfo": {
     "elapsed": 1091,
     "status": "ok",
     "timestamp": 1598880505872,
     "user": {
      "displayName": "Sutithi Chakraborty",
      "photoUrl": "",
      "userId": "12749148906436566424"
     },
     "user_tz": -330
    },
    "id": "bISn68C0nPx_"
   },
   "outputs": [],
   "source": [
    "# split data into train subset and test subset\n",
    "# set 'random_state' to generate the same dataset each time you run the code \n",
    "# 'test_size' returns the proportion of data to be included in the testing set\n",
    "X_train, X_test, y_train, y_test = train_test_split(X, y, random_state = 10, test_size = 0.3)"
   ]
  },
  {
   "cell_type": "code",
   "execution_count": 29,
   "metadata": {
    "colab": {
     "base_uri": "https://localhost:8080/",
     "height": 101
    },
    "colab_type": "code",
    "executionInfo": {
     "elapsed": 1275,
     "status": "ok",
     "timestamp": 1598880512015,
     "user": {
      "displayName": "Sutithi Chakraborty",
      "photoUrl": "",
      "userId": "12749148906436566424"
     },
     "user_tz": -330
    },
    "id": "Uqm_yVypeLGT",
    "outputId": "24eb82f4-99a9-4dfa-d367-5862d3f02b4f"
   },
   "outputs": [
    {
     "name": "stdout",
     "output_type": "stream",
     "text": [
      "All scores:  [-3.05690848936647, 0.04837632483674381, -0.23493810869189358, -0.29706852103042536, 0.07395711134286131]\n",
      "\n",
      "Minimum score obtained:  -3.0569\n",
      "Maximum score obtained:  0.074\n",
      "Average score obtained:  -0.6933\n"
     ]
    }
   ],
   "source": [
    "# create an empty list to store the scores\n",
    "scores = []\n",
    "\n",
    "# kf.split() splits the indices of X_train into train_index and test_index\n",
    "# further dividing the X_train and y_train sets into train and test sets for cross validation\n",
    "# Remember: Cross validation works on training set not on test set\n",
    "# use '\\' for stacking the code \n",
    "for train_index, test_index in kf.split(X_train):\n",
    "    X_train_k, X_test_k, y_train_k, y_test_k = X_train.iloc[train_index], X_train.iloc[test_index], \\\n",
    "                                               y_train.iloc[train_index], y_train.iloc[test_index]\n",
    "   \n",
    "    # call the function 'get_scores()' and append the scores in the list 'scores'\n",
    "    scores.append(Get_score(LinearRegression(), X_train_k, X_test_k, y_train_k, y_test_k)) \n",
    "    \n",
    "# print all scores\n",
    "print('All scores: ', scores)\n",
    "\n",
    "# print the minimum score from the list\n",
    "# use 'round()' to round-off the minimum score upto 4 digits\n",
    "# min() returns minimum score \n",
    "print(\"\\nMinimum score obtained: \", round(min(scores), 4))\n",
    "\n",
    "# print the maximum score from the list\n",
    "# use 'round()' to round-off the maximum score upto 4 digits\n",
    "# max() returns maximum score \n",
    "print(\"Maximum score obtained: \", round(max(scores), 4))\n",
    "\n",
    "# print the average score from the list\n",
    "# use 'round()' to round-off the average score upto 4 digits\n",
    "# np.mean() returns average score \n",
    "print(\"Average score obtained: \", round(np.mean(scores), 4))"
   ]
  },
  {
   "cell_type": "markdown",
   "metadata": {
    "colab_type": "text",
    "id": "cO2iosLFeLGV"
   },
   "source": [
    "### K-Fold Cross Validation using `cross_val_score()`"
   ]
  },
  {
   "cell_type": "markdown",
   "metadata": {
    "colab_type": "text",
    "id": "4lLLkB9peLGW"
   },
   "source": [
    "`cross_val_score()` also does the stratified sampling internally if required"
   ]
  },
  {
   "cell_type": "code",
   "execution_count": 30,
   "metadata": {
    "colab": {},
    "colab_type": "code",
    "executionInfo": {
     "elapsed": 1152,
     "status": "ok",
     "timestamp": 1598880516615,
     "user": {
      "displayName": "Sutithi Chakraborty",
      "photoUrl": "",
      "userId": "12749148906436566424"
     },
     "user_tz": -330
    },
    "id": "p09O1k2weLGW"
   },
   "outputs": [],
   "source": [
    "# using cross_val_score() for k-fold cross validation\n",
    "# estimator: pass the machine learning function. Here we are performing linear regression\n",
    "# pass the X_train and y_train sets\n",
    "# cv: stands for number of folds. Similar to k in KFold\n",
    "# scoring: pass the scoring parameter e.g. 'r2' for r-squared, 'neg_mean_squared_error' for mean squared error (negative)\n",
    "scores = cross_val_score(estimator = LinearRegression(), \n",
    "                         X = X_train, \n",
    "                         y = y_train, \n",
    "                         cv = 5, \n",
    "                         scoring = 'r2')"
   ]
  },
  {
   "cell_type": "code",
   "execution_count": 31,
   "metadata": {
    "colab": {
     "base_uri": "https://localhost:8080/",
     "height": 101
    },
    "colab_type": "code",
    "executionInfo": {
     "elapsed": 1041,
     "status": "ok",
     "timestamp": 1598880520396,
     "user": {
      "displayName": "Sutithi Chakraborty",
      "photoUrl": "",
      "userId": "12749148906436566424"
     },
     "user_tz": -330
    },
    "id": "FboH4OnNeLGY",
    "outputId": "9ef8f242-2c0b-4c4e-b32b-70809189a0e1"
   },
   "outputs": [
    {
     "name": "stdout",
     "output_type": "stream",
     "text": [
      "All scores:  [-3.05690849  0.04837632 -0.23493811 -0.29706852  0.07395711]\n",
      "\n",
      "Minimum score obtained:  -3.0569\n",
      "Maximum score obtained:  0.074\n",
      "Average score obtained:  -0.6933\n"
     ]
    }
   ],
   "source": [
    "# print all scores\n",
    "print('All scores: ', scores)\n",
    "\n",
    "# print the minimum score from the list\n",
    "# use 'round()' to round-off the minimum score upto 4 digits\n",
    "# min() returns minimum score \n",
    "print(\"\\nMinimum score obtained: \", round(min(scores), 4))\n",
    "\n",
    "# print the maximum score from the list\n",
    "# use 'round()' to round-off the maximum score upto 4 digits\n",
    "# max() returns maximum score \n",
    "print(\"Maximum score obtained: \", round(max(scores), 4))\n",
    "\n",
    "# print the average score from the list\n",
    "# use 'round()' to round-off the average score upto 4 digits\n",
    "# np.mean() returns average score \n",
    "print(\"Average score obtained: \", round(np.mean(scores), 4))"
   ]
  },
  {
   "cell_type": "markdown",
   "metadata": {
    "colab_type": "text",
    "id": "ca9Srp5EeLGb"
   },
   "source": [
    "We can see that we got the same scores from `KFold()` and `cross_val_score()`."
   ]
  },
  {
   "cell_type": "markdown",
   "metadata": {
    "colab_type": "text",
    "id": "mhraZsGslCSZ"
   },
   "source": [
    "<a id=\"loocv\"></a>\n",
    "## 4.2 Leave One Out Cross Validation (LOOCV)\n",
    "It is a process in which the model is trained on the training dataset, with the exception of only one data point, which is used to test the model. This method increases the variance, as only one data point is used for testing. LOOCV can be time consuming as k is equal to the number of observations.\n",
    "\n",
    "In LOOCV, the estimates from each fold are highly correlated and their average can have a high level of variance."
   ]
  },
  {
   "cell_type": "code",
   "execution_count": 32,
   "metadata": {
    "colab": {},
    "colab_type": "code",
    "executionInfo": {
     "elapsed": 1026,
     "status": "ok",
     "timestamp": 1598880525153,
     "user": {
      "displayName": "Sutithi Chakraborty",
      "photoUrl": "",
      "userId": "12749148906436566424"
     },
     "user_tz": -330
    },
    "id": "-yhgsvDhmp2s"
   },
   "outputs": [],
   "source": [
    "# split data into train subset and test subset\n",
    "# set 'random_state' to generate the same dataset each time you run the code \n",
    "# 'test_size' returns the proportion of data to be included in the testing set\n",
    "X_train, X_test, y_train, y_test = train_test_split(X, y, random_state = 10, test_size = 0.2)"
   ]
  },
  {
   "cell_type": "code",
   "execution_count": 33,
   "metadata": {
    "colab": {},
    "colab_type": "code",
    "executionInfo": {
     "elapsed": 993,
     "status": "ok",
     "timestamp": 1598880528642,
     "user": {
      "displayName": "Sutithi Chakraborty",
      "photoUrl": "",
      "userId": "12749148906436566424"
     },
     "user_tz": -330
    },
    "id": "ZlChpmffeLGj"
   },
   "outputs": [],
   "source": [
    "# creating a function 'get_score' that returns the R-squared score for the training set\n",
    "# 'get_score' takes 5 input parameters\n",
    "def Get_score(model, X_train_k, X_test_k, y_train_k, y_test_k):\n",
    "    model.fit(X_train_k, y_train_k)                               # fit the model\n",
    "    return model.score(X_test_k, y_test_k)                        # return the R-squared value"
   ]
  },
  {
   "cell_type": "code",
   "execution_count": 34,
   "metadata": {
    "colab": {},
    "colab_type": "code",
    "executionInfo": {
     "elapsed": 1363,
     "status": "ok",
     "timestamp": 1598880531640,
     "user": {
      "displayName": "Sutithi Chakraborty",
      "photoUrl": "",
      "userId": "12749148906436566424"
     },
     "user_tz": -330
    },
    "id": "kwNBWmUheLGl"
   },
   "outputs": [],
   "source": [
    "# create an empty to store the MSE for each model\n",
    "loocv_rmse = []\n",
    "\n",
    "# instantiate the LOOCV method \n",
    "loocv = LeaveOneOut()\n",
    "\n",
    "# use the for loop to build the regression model for each cross validation \n",
    "# use split() to split the dataset into two subsets; one with (n-1) data points and another with 1 data point\n",
    "# where, n = total number of observations\n",
    "\n",
    "for train_index, test_index in loocv.split(X_train):\n",
    "    # create the train dataset, use iloc[] to retrieve the corresponding observations in train data\n",
    "    # create the test dataset, use iloc[] to retrieve the corresponding observations in test data\n",
    "    # # use '\\' for stacking the code \n",
    "    X_train_l, X_test_l, y_train_l, y_test_l = X_train.iloc[train_index], X_train.iloc[test_index], \\\n",
    "                                               y_train.iloc[train_index], y_train.iloc[test_index]\n",
    "    \n",
    "    # instantiate the regression model\n",
    "    linreg = LinearRegression()\n",
    "    \n",
    "    # fit the model on training dataset\n",
    "    linreg.fit(X_train_l, y_train_l)\n",
    "    \n",
    "    # calculate MSE using test dataset\n",
    "    # use predict() to predict the values of target variable\n",
    "    mse = mean_squared_error(y_test_l, linreg.predict(X_test_l))\n",
    "    \n",
    "    # calculate the RMSE\n",
    "    rmse = np.sqrt(mse)\n",
    "    \n",
    "    # use append() to add each RMSE to the list 'loocv_rmse'\n",
    "    loocv_rmse.append(rmse)"
   ]
  },
  {
   "cell_type": "code",
   "execution_count": 35,
   "metadata": {
    "colab": {
     "base_uri": "https://localhost:8080/",
     "height": 84
    },
    "colab_type": "code",
    "executionInfo": {
     "elapsed": 995,
     "status": "ok",
     "timestamp": 1598880535348,
     "user": {
      "displayName": "Sutithi Chakraborty",
      "photoUrl": "",
      "userId": "12749148906436566424"
     },
     "user_tz": -330
    },
    "id": "jNrG4MbVeLGn",
    "outputId": "05eb7c5c-6a6d-4411-e7a6-b1d51f4e68be"
   },
   "outputs": [
    {
     "name": "stdout",
     "output_type": "stream",
     "text": [
      "\n",
      "Minimum rmse obtained:  0.0018\n",
      "Maximum rmse obtained:  2.887\n",
      "Average rmse obtained:  0.7281\n"
     ]
    }
   ],
   "source": [
    "# print the minimum rmse from the list\n",
    "# use 'round()' to round-off the minimum rmse upto 4 digits\n",
    "# min() returns minimum rmse \n",
    "print(\"\\nMinimum rmse obtained: \", round(min(loocv_rmse), 4))\n",
    "\n",
    "# print the maximum rmse from the list\n",
    "# use 'round()' to round-off the maximum rmse upto 4 digits\n",
    "# max() returns maximum rmse \n",
    "print(\"Maximum rmse obtained: \", round(max(loocv_rmse), 4))\n",
    "\n",
    "# print the average rmse from the list\n",
    "# use 'round()' to round-off the average rmse upto 4 digits\n",
    "# np.mean() returns average rmse \n",
    "print(\"Average rmse obtained: \", round(np.mean(loocv_rmse), 4))"
   ]
  },
  {
   "cell_type": "markdown",
   "metadata": {
    "colab_type": "text",
    "id": "eh-GSwXGeLGx"
   },
   "source": [
    "<a id=\"GD\"></a>\n",
    "# 5. Gradient Descent"
   ]
  },
  {
   "cell_type": "markdown",
   "metadata": {
    "colab_type": "text",
    "id": "xVHhFZnMeLGx"
   },
   "source": [
    "<a id=\"SGD\"></a>\n",
    "## 5.1 Stochastic Gradient Descent"
   ]
  },
  {
   "cell_type": "markdown",
   "metadata": {
    "colab_type": "text",
    "id": "JS_GVSEreLGx"
   },
   "source": [
    "The gradient descent method considers all the data points to calculate the values of the parameters at each step. For a very large dataset, this method becomes computationally expensive. To avoid this problem, we use Stochastic Gradient Descent (SGD) which considers a single data point (sample) to perform each iteration. Each sample is randomly selected for performing the iteration."
   ]
  },
  {
   "cell_type": "markdown",
   "metadata": {
    "colab_type": "text",
    "id": "clvLgIa6eLGy"
   },
   "source": [
    "####  Build MLR model using SGD method."
   ]
  },
  {
   "cell_type": "code",
   "execution_count": 36,
   "metadata": {
    "colab": {
     "base_uri": "https://localhost:8080/",
     "height": 50
    },
    "colab_type": "code",
    "executionInfo": {
     "elapsed": 1008,
     "status": "ok",
     "timestamp": 1598880539683,
     "user": {
      "displayName": "Sutithi Chakraborty",
      "photoUrl": "",
      "userId": "12749148906436566424"
     },
     "user_tz": -330
    },
    "id": "MnRBmT1MeLGy",
    "outputId": "3de847ea-a6dc-4e5b-85c3-838a5842747e"
   },
   "outputs": [
    {
     "name": "stdout",
     "output_type": "stream",
     "text": [
      "RMSE on train set: 0.7174\n",
      "RMSE on test set: 0.8136\n"
     ]
    }
   ],
   "source": [
    "# instantiate the SGDRegressor\n",
    "# set 'random_state' to generate the same dataset each time you run the code \n",
    "sgd = SGDRegressor(random_state = 10)\n",
    "\n",
    "# build the model on train data \n",
    "# use fit() to fit the model\n",
    "linreg_with_SGD = sgd.fit(X_train, y_train)\n",
    "\n",
    "# print RMSE for train set\n",
    "# call the function 'get_train_rmse'\n",
    "print('RMSE on train set:', get_train_rmse(linreg_with_SGD))\n",
    "\n",
    "# print RMSE for test set\n",
    "# call the function 'get_test_rmse'\n",
    "print('RMSE on test set:', get_test_rmse(linreg_with_SGD))"
   ]
  },
  {
   "cell_type": "markdown",
   "metadata": {
    "colab_type": "text",
    "id": "N6xhHI5xeLGz"
   },
   "source": [
    "#### Visualize the change in values of coefficients obtained from `MLR_model (using OLS)` and `linreg_with_SGD`"
   ]
  },
  {
   "cell_type": "code",
   "execution_count": 37,
   "metadata": {
    "colab": {
     "base_uri": "https://localhost:8080/",
     "height": 585
    },
    "colab_type": "code",
    "executionInfo": {
     "elapsed": 2401,
     "status": "ok",
     "timestamp": 1598880544162,
     "user": {
      "displayName": "Sutithi Chakraborty",
      "photoUrl": "",
      "userId": "12749148906436566424"
     },
     "user_tz": -330
    },
    "id": "ZgFGH_ZLeLG0",
    "outputId": "af8bce2a-0e74-4a85-bb10-b0929bcc35e4"
   },
   "outputs": [
    {
     "data": {
      "image/png": "[encoded data removed]",
      "text/plain": [
       "<Figure size 1080x576 with 2 Axes>"
      ]
     },
     "metadata": {
      "needs_background": "light"
     },
     "output_type": "display_data"
    }
   ],
   "source": [
    "# subplot() is used to plot the multiple plots as a subplot\n",
    "# (1,2) plots a subplot of one row and two columns\n",
    "# pass the index of the plot as the third parameter of subplot()\n",
    "plt.subplot(1,2,1)\n",
    "plot_coefficients(MLR_model, 'Linear Regression (OLS)')\n",
    "\n",
    "# pass the index of the plot as the third parameter of subplot()\n",
    "plt.subplot(1,2,2)\n",
    "plot_coefficients(linreg_with_SGD, 'Linear Regression (SGD)')\n",
    "\n",
    "# to adjust the subplots\n",
    "plt.tight_layout()\n",
    "\n",
    "# display the plot\n",
    "plt.show()"
   ]
  },
  {
   "cell_type": "markdown",
   "metadata": {
    "colab_type": "text",
    "id": "9lwsmzGAeLG2"
   },
   "source": [
    "**Interpretation:** The coefficients obtained from SGD have smaller values as compared to the coefficients obtained from linear regression using OLS."
   ]
  },
  {
   "cell_type": "code",
   "execution_count": 38,
   "metadata": {
    "colab": {
     "base_uri": "https://localhost:8080/",
     "height": 106
    },
    "colab_type": "code",
    "executionInfo": {
     "elapsed": 1022,
     "status": "ok",
     "timestamp": 1598880547637,
     "user": {
      "displayName": "Sutithi Chakraborty",
      "photoUrl": "",
      "userId": "12749148906436566424"
     },
     "user_tz": -330
    },
    "id": "F-4BWAH-eLG3",
    "outputId": "af822ac7-0047-4d80-ef1f-666f0fa06cdd"
   },
   "outputs": [
    {
     "data": {
      "text/html": [
       "<div>\n",
       "<style scoped>\n",
       "    .dataframe tbody tr th:only-of-type {\n",
       "        vertical-align: middle;\n",
       "    }\n",
       "\n",
       "    .dataframe tbody tr th {\n",
       "        vertical-align: top;\n",
       "    }\n",
       "\n",
       "    .dataframe thead th {\n",
       "        text-align: right;\n",
       "    }\n",
       "</style>\n",
       "<table border=\"1\" class=\"dataframe\">\n",
       "  <thead>\n",
       "    <tr style=\"text-align: right;\">\n",
       "      <th></th>\n",
       "      <th>Model_Name</th>\n",
       "      <th>Alpha (Wherever Required)</th>\n",
       "      <th>l1-ratio</th>\n",
       "      <th>R-Squared</th>\n",
       "      <th>Adj. R-Squared</th>\n",
       "      <th>Test_RMSE</th>\n",
       "      <th>Test_MAPE</th>\n",
       "    </tr>\n",
       "  </thead>\n",
       "  <tbody>\n",
       "    <tr>\n",
       "      <th>0</th>\n",
       "      <td>Linear Regression</td>\n",
       "      <td>-</td>\n",
       "      <td>-</td>\n",
       "      <td>0.586157</td>\n",
       "      <td>0.407974</td>\n",
       "      <td>0.863400</td>\n",
       "      <td>252.515937</td>\n",
       "    </tr>\n",
       "    <tr>\n",
       "      <th>1</th>\n",
       "      <td>Linear Regression (using SGD)</td>\n",
       "      <td>-</td>\n",
       "      <td>-</td>\n",
       "      <td>0.509755</td>\n",
       "      <td>0.298677</td>\n",
       "      <td>0.813600</td>\n",
       "      <td>174.716611</td>\n",
       "    </tr>\n",
       "  </tbody>\n",
       "</table>\n",
       "</div>"
      ],
      "text/plain": [
       "                      Model_Name Alpha (Wherever Required) l1-ratio  \\\n",
       "0              Linear Regression                         -        -   \n",
       "1  Linear Regression (using SGD)                         -        -   \n",
       "\n",
       "   R-Squared  Adj. R-Squared  Test_RMSE  Test_MAPE  \n",
       "0   0.586157        0.407974   0.863400 252.515937  \n",
       "1   0.509755        0.298677   0.813600 174.716611  "
      ]
     },
     "execution_count": 38,
     "metadata": {},
     "output_type": "execute_result"
    }
   ],
   "source": [
    "# update the dataframe 'score_card'\n",
    "update_score_card(algorithm_name = 'Linear Regression (using SGD)', model = linreg_with_SGD)\n",
    "\n",
    "# print the dataframe\n",
    "score_card"
   ]
  },
  {
   "cell_type": "markdown",
   "metadata": {
    "colab_type": "text",
    "id": "oiH434hkeLG6"
   },
   "source": [
    "<a id=\"regu\"></a>\n",
    "# 6. Regularization"
   ]
  },
  {
   "cell_type": "markdown",
   "metadata": {
    "colab_type": "text",
    "id": "JNis1ip8eLG6"
   },
   "source": [
    "One way to deal with the overfitting problem is by adding the `Regularization` to the model. It is observed that inflation of the coefficients cause overfitting. To prevent overfitting, it is important to regulate the coefficients by penalizing possible coefficient inflations. Regularization imposes penalties on parameters if they inflate to large values to prevent them from being weighted too heavily. In this section, we will learn about the three regularization techniques:\n",
    "\n",
    "1. Ridge Regression\n",
    "2. Lasso Regression\n",
    "3. Elastic Net Regression"
   ]
  },
  {
   "cell_type": "markdown",
   "metadata": {
    "colab_type": "text",
    "id": "MSN9SB_HeLG6"
   },
   "source": [
    "<a id=\"ridge\"></a>\n",
    "## 6.1 Ridge Regression"
   ]
  },
  {
   "cell_type": "markdown",
   "metadata": {
    "colab_type": "text",
    "id": "fd7KynZyeLG7"
   },
   "source": [
    "Most of the times our data can show multicollinearity in the variables. To analyze such data we can use `Ridge Regression`. It uses the L2 norm for regularization. "
   ]
  },
  {
   "cell_type": "markdown",
   "metadata": {
    "colab_type": "text",
    "id": "Zgss2qZEeLG7"
   },
   "source": [
    "#### Build regression model using Ridge Regression for alpha = 1."
   ]
  },
  {
   "cell_type": "code",
   "execution_count": 39,
   "metadata": {
    "colab": {
     "base_uri": "https://localhost:8080/",
     "height": 34
    },
    "colab_type": "code",
    "executionInfo": {
     "elapsed": 1082,
     "status": "ok",
     "timestamp": 1598880555545,
     "user": {
      "displayName": "Sutithi Chakraborty",
      "photoUrl": "",
      "userId": "12749148906436566424"
     },
     "user_tz": -330
    },
    "id": "Al5ECgb1eLG7",
    "outputId": "09f859b3-2870-4078-9c69-8aaea4edcf3a"
   },
   "outputs": [
    {
     "name": "stdout",
     "output_type": "stream",
     "text": [
      "RMSE on test set: 0.838\n"
     ]
    }
   ],
   "source": [
    "# use Ridge() to perform ridge regression\n",
    "# 'alpha' assigns the regularization strength to the model\n",
    "# 'max_iter' assigns maximum number of iterations for the model to run \n",
    "ridge = Ridge(alpha = 1, max_iter = 500)\n",
    "\n",
    "# fit the model on train set\n",
    "ridge.fit(X_train, y_train)\n",
    "\n",
    "# print RMSE for test set\n",
    "# call the function 'get_test_rmse'\n",
    "print('RMSE on test set:', get_test_rmse(ridge))"
   ]
  },
  {
   "cell_type": "markdown",
   "metadata": {
    "colab_type": "text",
    "id": "17HITpu1eLG9"
   },
   "source": [
    "**Interpretation:** After applying the ridge regression with alpha equal to one, we get 0.838 as the RMSE value."
   ]
  },
  {
   "cell_type": "code",
   "execution_count": 40,
   "metadata": {
    "colab": {
     "base_uri": "https://localhost:8080/",
     "height": 136
    },
    "colab_type": "code",
    "executionInfo": {
     "elapsed": 1287,
     "status": "ok",
     "timestamp": 1598880559407,
     "user": {
      "displayName": "Sutithi Chakraborty",
      "photoUrl": "",
      "userId": "12749148906436566424"
     },
     "user_tz": -330
    },
    "id": "X77YpBQseLG9",
    "outputId": "93929e86-0000-4ffb-fd23-98c8a68d0a6c"
   },
   "outputs": [
    {
     "data": {
      "text/html": [
       "<div>\n",
       "<style scoped>\n",
       "    .dataframe tbody tr th:only-of-type {\n",
       "        vertical-align: middle;\n",
       "    }\n",
       "\n",
       "    .dataframe tbody tr th {\n",
       "        vertical-align: top;\n",
       "    }\n",
       "\n",
       "    .dataframe thead th {\n",
       "        text-align: right;\n",
       "    }\n",
       "</style>\n",
       "<table border=\"1\" class=\"dataframe\">\n",
       "  <thead>\n",
       "    <tr style=\"text-align: right;\">\n",
       "      <th></th>\n",
       "      <th>Model_Name</th>\n",
       "      <th>Alpha (Wherever Required)</th>\n",
       "      <th>l1-ratio</th>\n",
       "      <th>R-Squared</th>\n",
       "      <th>Adj. R-Squared</th>\n",
       "      <th>Test_RMSE</th>\n",
       "      <th>Test_MAPE</th>\n",
       "    </tr>\n",
       "  </thead>\n",
       "  <tbody>\n",
       "    <tr>\n",
       "      <th>0</th>\n",
       "      <td>Linear Regression</td>\n",
       "      <td>-</td>\n",
       "      <td>-</td>\n",
       "      <td>0.586157</td>\n",
       "      <td>0.407974</td>\n",
       "      <td>0.863400</td>\n",
       "      <td>252.515937</td>\n",
       "    </tr>\n",
       "    <tr>\n",
       "      <th>1</th>\n",
       "      <td>Linear Regression (using SGD)</td>\n",
       "      <td>-</td>\n",
       "      <td>-</td>\n",
       "      <td>0.509755</td>\n",
       "      <td>0.298677</td>\n",
       "      <td>0.813600</td>\n",
       "      <td>174.716611</td>\n",
       "    </tr>\n",
       "    <tr>\n",
       "      <th>2</th>\n",
       "      <td>Ridge Regression (with alpha = 1)</td>\n",
       "      <td>1</td>\n",
       "      <td>-</td>\n",
       "      <td>0.573461</td>\n",
       "      <td>0.389812</td>\n",
       "      <td>0.838000</td>\n",
       "      <td>255.654207</td>\n",
       "    </tr>\n",
       "  </tbody>\n",
       "</table>\n",
       "</div>"
      ],
      "text/plain": [
       "                          Model_Name Alpha (Wherever Required) l1-ratio  \\\n",
       "0                  Linear Regression                         -        -   \n",
       "1      Linear Regression (using SGD)                         -        -   \n",
       "2  Ridge Regression (with alpha = 1)                         1        -   \n",
       "\n",
       "   R-Squared  Adj. R-Squared  Test_RMSE  Test_MAPE  \n",
       "0   0.586157        0.407974   0.863400 252.515937  \n",
       "1   0.509755        0.298677   0.813600 174.716611  \n",
       "2   0.573461        0.389812   0.838000 255.654207  "
      ]
     },
     "execution_count": 40,
     "metadata": {},
     "output_type": "execute_result"
    }
   ],
   "source": [
    "# update the dataframe 'score_card'\n",
    "update_score_card(algorithm_name='Ridge Regression (with alpha = 1)', model = ridge, alpha = 1)\n",
    "\n",
    "# print the dataframe\n",
    "score_card"
   ]
  },
  {
   "cell_type": "markdown",
   "metadata": {
    "colab_type": "text",
    "id": "sUXoWHzZeLG_"
   },
   "source": [
    "#### Build regression model using Ridge Regression for alpha = 2."
   ]
  },
  {
   "cell_type": "code",
   "execution_count": 41,
   "metadata": {
    "colab": {
     "base_uri": "https://localhost:8080/",
     "height": 34
    },
    "colab_type": "code",
    "executionInfo": {
     "elapsed": 1243,
     "status": "ok",
     "timestamp": 1598880563862,
     "user": {
      "displayName": "Sutithi Chakraborty",
      "photoUrl": "",
      "userId": "12749148906436566424"
     },
     "user_tz": -330
    },
    "id": "PxHLoEcoeLG_",
    "outputId": "7e7921ba-3766-4aec-8307-8cee96e9b646"
   },
   "outputs": [
    {
     "name": "stdout",
     "output_type": "stream",
     "text": [
      "RMSE on test set: 0.8317\n"
     ]
    }
   ],
   "source": [
    "# use Ridge() to perform ridge regression\n",
    "# 'alpha' assigns the regularization strength to the model\n",
    "# 'max_iter' assigns maximum number of iterations for the model to run\n",
    "ridge = Ridge(alpha = 2, max_iter = 500)\n",
    "\n",
    "# fit the model on train set\n",
    "ridge.fit(X_train, y_train)\n",
    "\n",
    "\n",
    "# print RMSE for test set\n",
    "# call the function 'get_test_rmse'\n",
    "print('RMSE on test set:', get_test_rmse(ridge))"
   ]
  },
  {
   "cell_type": "markdown",
   "metadata": {
    "colab_type": "text",
    "id": "hLjTCedueLHA"
   },
   "source": [
    "**Interpretation:** After applying the ridge regression with alpha equal to two, the RMSE value decreased to 0.8317."
   ]
  },
  {
   "cell_type": "markdown",
   "metadata": {
    "colab_type": "text",
    "id": "tjN_saLseLHA"
   },
   "source": [
    "#### Visualize the change in values of coefficients obtained from `MLR_model (using OLS)` and `ridge_model`"
   ]
  },
  {
   "cell_type": "code",
   "execution_count": 42,
   "metadata": {
    "colab": {
     "base_uri": "https://localhost:8080/",
     "height": 585
    },
    "colab_type": "code",
    "executionInfo": {
     "elapsed": 2450,
     "status": "ok",
     "timestamp": 1598880570142,
     "user": {
      "displayName": "Sutithi Chakraborty",
      "photoUrl": "",
      "userId": "12749148906436566424"
     },
     "user_tz": -330
    },
    "id": "3Pb7-YpzeLHB",
    "outputId": "2315b2fb-3acc-43f8-adf5-8aa5f70a0c9c"
   },
   "outputs": [
    {
     "data": {
      "image/png": "[encoded data removed]",
      "text/plain": [
       "<Figure size 1080x576 with 2 Axes>"
      ]
     },
     "metadata": {
      "needs_background": "light"
     },
     "output_type": "display_data"
    }
   ],
   "source": [
    "# subplot() is used to plot the multiple plots as a subplot\n",
    "# (1,2) plots a subplot of one row and two columns\n",
    "# pass the index of the plot as the third parameter of subplot()\n",
    "plt.subplot(1,2,1)\n",
    "plot_coefficients(MLR_model, 'Linear Regression (OLS)')\n",
    "\n",
    "# pass the index of the plot as the third parameter of subplot()\n",
    "plt.subplot(1,2,2)\n",
    "plot_coefficients(ridge, 'Ridge Regression (alpha = 2)')\n",
    "\n",
    "# to adjust the subplots\n",
    "plt.tight_layout()\n",
    "\n",
    "# display the plot\n",
    "plt.show()"
   ]
  },
  {
   "cell_type": "markdown",
   "metadata": {
    "colab_type": "text",
    "id": "noeBTzA8eLHC"
   },
   "source": [
    "**Interpretation:** The coefficients obtained from ridge regression have smaller values as compared to the coefficients obtained from linear regression using OLS."
   ]
  },
  {
   "cell_type": "code",
   "execution_count": 43,
   "metadata": {
    "colab": {
     "base_uri": "https://localhost:8080/",
     "height": 166
    },
    "colab_type": "code",
    "executionInfo": {
     "elapsed": 1023,
     "status": "ok",
     "timestamp": 1598880573897,
     "user": {
      "displayName": "Sutithi Chakraborty",
      "photoUrl": "",
      "userId": "12749148906436566424"
     },
     "user_tz": -330
    },
    "id": "VyFHlWBPeLHC",
    "outputId": "4d5e26d6-b2aa-4ef8-893d-58e57c46b240",
    "scrolled": true
   },
   "outputs": [
    {
     "data": {
      "text/html": [
       "<div>\n",
       "<style scoped>\n",
       "    .dataframe tbody tr th:only-of-type {\n",
       "        vertical-align: middle;\n",
       "    }\n",
       "\n",
       "    .dataframe tbody tr th {\n",
       "        vertical-align: top;\n",
       "    }\n",
       "\n",
       "    .dataframe thead th {\n",
       "        text-align: right;\n",
       "    }\n",
       "</style>\n",
       "<table border=\"1\" class=\"dataframe\">\n",
       "  <thead>\n",
       "    <tr style=\"text-align: right;\">\n",
       "      <th></th>\n",
       "      <th>Model_Name</th>\n",
       "      <th>Alpha (Wherever Required)</th>\n",
       "      <th>l1-ratio</th>\n",
       "      <th>R-Squared</th>\n",
       "      <th>Adj. R-Squared</th>\n",
       "      <th>Test_RMSE</th>\n",
       "      <th>Test_MAPE</th>\n",
       "    </tr>\n",
       "  </thead>\n",
       "  <tbody>\n",
       "    <tr>\n",
       "      <th>0</th>\n",
       "      <td>Linear Regression</td>\n",
       "      <td>-</td>\n",
       "      <td>-</td>\n",
       "      <td>0.586157</td>\n",
       "      <td>0.407974</td>\n",
       "      <td>0.863400</td>\n",
       "      <td>252.515937</td>\n",
       "    </tr>\n",
       "    <tr>\n",
       "      <th>1</th>\n",
       "      <td>Linear Regression (using SGD)</td>\n",
       "      <td>-</td>\n",
       "      <td>-</td>\n",
       "      <td>0.509755</td>\n",
       "      <td>0.298677</td>\n",
       "      <td>0.813600</td>\n",
       "      <td>174.716611</td>\n",
       "    </tr>\n",
       "    <tr>\n",
       "      <th>2</th>\n",
       "      <td>Ridge Regression (with alpha = 1)</td>\n",
       "      <td>1</td>\n",
       "      <td>-</td>\n",
       "      <td>0.573461</td>\n",
       "      <td>0.389812</td>\n",
       "      <td>0.838000</td>\n",
       "      <td>255.654207</td>\n",
       "    </tr>\n",
       "    <tr>\n",
       "      <th>3</th>\n",
       "      <td>Ridge Regression (with alpha = 2)</td>\n",
       "      <td>2</td>\n",
       "      <td>-</td>\n",
       "      <td>0.561194</td>\n",
       "      <td>0.372264</td>\n",
       "      <td>0.831700</td>\n",
       "      <td>239.940149</td>\n",
       "    </tr>\n",
       "  </tbody>\n",
       "</table>\n",
       "</div>"
      ],
      "text/plain": [
       "                          Model_Name Alpha (Wherever Required) l1-ratio  \\\n",
       "0                  Linear Regression                         -        -   \n",
       "1      Linear Regression (using SGD)                         -        -   \n",
       "2  Ridge Regression (with alpha = 1)                         1        -   \n",
       "3  Ridge Regression (with alpha = 2)                         2        -   \n",
       "\n",
       "   R-Squared  Adj. R-Squared  Test_RMSE  Test_MAPE  \n",
       "0   0.586157        0.407974   0.863400 252.515937  \n",
       "1   0.509755        0.298677   0.813600 174.716611  \n",
       "2   0.573461        0.389812   0.838000 255.654207  \n",
       "3   0.561194        0.372264   0.831700 239.940149  "
      ]
     },
     "execution_count": 43,
     "metadata": {},
     "output_type": "execute_result"
    }
   ],
   "source": [
    "# update the dataframe 'score_card'\n",
    "update_score_card(algorithm_name = 'Ridge Regression (with alpha = 2)', model = ridge, alpha = '2')\n",
    "\n",
    "# print the datarframe\n",
    "score_card"
   ]
  },
  {
   "cell_type": "markdown",
   "metadata": {
    "colab_type": "text",
    "id": "po3QkWg9eLHE"
   },
   "source": [
    "<a id=\"lasso\"></a>\n",
    "## 6.2 Lasso Regression"
   ]
  },
  {
   "cell_type": "markdown",
   "metadata": {
    "colab_type": "text",
    "id": "QPOz3sPReLHF"
   },
   "source": [
    "Lasso regression shrinks the less important variable's coefficient to zero which makes this technique more useful when we are dealing with large number of variables. It is a type of regularization technique that uses L1 norm for regularization. "
   ]
  },
  {
   "cell_type": "code",
   "execution_count": 44,
   "metadata": {
    "colab": {
     "base_uri": "https://localhost:8080/",
     "height": 34
    },
    "colab_type": "code",
    "executionInfo": {
     "elapsed": 1053,
     "status": "ok",
     "timestamp": 1598880579078,
     "user": {
      "displayName": "Sutithi Chakraborty",
      "photoUrl": "",
      "userId": "12749148906436566424"
     },
     "user_tz": -330
    },
    "id": "mPWCDcH5eLHF",
    "outputId": "25357d9f-7beb-4a66-bcb5-f4262da161bf"
   },
   "outputs": [
    {
     "name": "stdout",
     "output_type": "stream",
     "text": [
      "RMSE on test set: 0.8198\n"
     ]
    }
   ],
   "source": [
    "# use Lasso() to perform lasso regression\n",
    "# 'alpha' assigns the regularization strength to the model\n",
    "# 'max_iter' assigns maximum number of iterations for the model to run\n",
    "lasso = Lasso(alpha = 0.01, max_iter = 500)\n",
    "\n",
    "# fit the model on train set\n",
    "lasso.fit(X_train, y_train)\n",
    "\n",
    "# print RMSE for test set\n",
    "# call the function 'get_test_rmse'\n",
    "print('RMSE on test set:', get_test_rmse(lasso))"
   ]
  },
  {
   "cell_type": "markdown",
   "metadata": {
    "colab_type": "text",
    "id": "_K4zaa8zeLHH"
   },
   "source": [
    "**Interpretation:** After applying the lasso regression with alpha equal to 0.01, the RMSE value is 0.8198."
   ]
  },
  {
   "cell_type": "markdown",
   "metadata": {
    "colab_type": "text",
    "id": "OF1jj2f1eLHH"
   },
   "source": [
    "#### Visualize the change in values of coefficients obtained from `MLR_model (using OLS)` and `lasso_model`"
   ]
  },
  {
   "cell_type": "code",
   "execution_count": 45,
   "metadata": {
    "colab": {
     "base_uri": "https://localhost:8080/",
     "height": 585
    },
    "colab_type": "code",
    "executionInfo": {
     "elapsed": 2665,
     "status": "ok",
     "timestamp": 1598880585475,
     "user": {
      "displayName": "Sutithi Chakraborty",
      "photoUrl": "",
      "userId": "12749148906436566424"
     },
     "user_tz": -330
    },
    "id": "PZsucSBJeLHH",
    "outputId": "bd685309-6d7c-4c3b-dcf9-49bbed46326c"
   },
   "outputs": [
    {
     "data": {
      "image/png": "[encoded data removed]",
      "text/plain": [
       "<Figure size 1080x576 with 2 Axes>"
      ]
     },
     "metadata": {
      "needs_background": "light"
     },
     "output_type": "display_data"
    }
   ],
   "source": [
    "# subplot() is used to plot the multiple plots as a subplot\n",
    "# (1,2) plots a subplot of one row and two columns\n",
    "# pass the index of the plot as the third parameter of subplot()\n",
    "plt.subplot(1,2,1)\n",
    "plot_coefficients(MLR_model, 'Linear Regression (OLS)')\n",
    "\n",
    "# pass the index of the plot as the third parameter of subplot()\n",
    "plt.subplot(1,2,2)\n",
    "plot_coefficients(lasso, 'Lasso Regression (alpha = 0.01)')\n",
    "\n",
    "# to adjust the subplots\n",
    "plt.tight_layout()\n",
    "\n",
    "# display the plot\n",
    "plt.show()"
   ]
  },
  {
   "cell_type": "markdown",
   "metadata": {
    "colab_type": "text",
    "id": "GduO1acSeLHJ"
   },
   "source": [
    "**Interpretation:** The second subplot (on the right) shows that the lasso regression have reduced the coefficients of some variables to zero.\n",
    "\n",
    "Let us print the list of variables with zero coefficient."
   ]
  },
  {
   "cell_type": "code",
   "execution_count": 46,
   "metadata": {
    "colab": {
     "base_uri": "https://localhost:8080/",
     "height": 218
    },
    "colab_type": "code",
    "executionInfo": {
     "elapsed": 1063,
     "status": "ok",
     "timestamp": 1598880589216,
     "user": {
      "displayName": "Sutithi Chakraborty",
      "photoUrl": "",
      "userId": "12749148906436566424"
     },
     "user_tz": -330
    },
    "id": "V8ltUbzDeLHJ",
    "outputId": "24a9480b-4f44-418a-b167-3f9b0a2e5acf"
   },
   "outputs": [
    {
     "name": "stdout",
     "output_type": "stream",
     "text": [
      "Insignificant variables obtained from Lasso Regression when alpha is 0.01\n"
     ]
    },
    {
     "data": {
      "text/plain": [
       "['ODI-SR-BL',\n",
       " 'WKTS',\n",
       " 'ECON',\n",
       " 'SR-BL',\n",
       " 'COUNTRY_BAN',\n",
       " 'COUNTRY_NZ',\n",
       " 'COUNTRY_PAK',\n",
       " 'COUNTRY_SA',\n",
       " 'COUNTRY_WI',\n",
       " 'COUNTRY_ZIM',\n",
       " 'PLAYING ROLE_Bowler']"
      ]
     },
     "execution_count": 46,
     "metadata": {},
     "output_type": "execute_result"
    }
   ],
   "source": [
    "# create a dataframe to store the variable names and their corresponding coefficient values.\n",
    "df_lasso_coeff = pd.DataFrame({'Variable': X.columns, 'Coefficient': lasso.coef_})\n",
    "\n",
    "# print the variables having the coefficient value equal to zero\n",
    "# 'to_list()' converts the output to the list type\n",
    "print('Insignificant variables obtained from Lasso Regression when alpha is 0.01')\n",
    "df_lasso_coeff.Variable[df_lasso_coeff.Coefficient == 0].to_list()"
   ]
  },
  {
   "cell_type": "code",
   "execution_count": 47,
   "metadata": {
    "colab": {
     "base_uri": "https://localhost:8080/",
     "height": 195
    },
    "colab_type": "code",
    "executionInfo": {
     "elapsed": 1065,
     "status": "ok",
     "timestamp": 1598880594393,
     "user": {
      "displayName": "Sutithi Chakraborty",
      "photoUrl": "",
      "userId": "12749148906436566424"
     },
     "user_tz": -330
    },
    "id": "LRIbP-xkeLHL",
    "outputId": "b278a8ee-bd97-4f3f-b14e-22d68af91fb8"
   },
   "outputs": [
    {
     "data": {
      "text/html": [
       "<div>\n",
       "<style scoped>\n",
       "    .dataframe tbody tr th:only-of-type {\n",
       "        vertical-align: middle;\n",
       "    }\n",
       "\n",
       "    .dataframe tbody tr th {\n",
       "        vertical-align: top;\n",
       "    }\n",
       "\n",
       "    .dataframe thead th {\n",
       "        text-align: right;\n",
       "    }\n",
       "</style>\n",
       "<table border=\"1\" class=\"dataframe\">\n",
       "  <thead>\n",
       "    <tr style=\"text-align: right;\">\n",
       "      <th></th>\n",
       "      <th>Model_Name</th>\n",
       "      <th>Alpha (Wherever Required)</th>\n",
       "      <th>l1-ratio</th>\n",
       "      <th>R-Squared</th>\n",
       "      <th>Adj. R-Squared</th>\n",
       "      <th>Test_RMSE</th>\n",
       "      <th>Test_MAPE</th>\n",
       "    </tr>\n",
       "  </thead>\n",
       "  <tbody>\n",
       "    <tr>\n",
       "      <th>0</th>\n",
       "      <td>Linear Regression</td>\n",
       "      <td>-</td>\n",
       "      <td>-</td>\n",
       "      <td>0.586157</td>\n",
       "      <td>0.407974</td>\n",
       "      <td>0.863400</td>\n",
       "      <td>252.515937</td>\n",
       "    </tr>\n",
       "    <tr>\n",
       "      <th>1</th>\n",
       "      <td>Linear Regression (using SGD)</td>\n",
       "      <td>-</td>\n",
       "      <td>-</td>\n",
       "      <td>0.509755</td>\n",
       "      <td>0.298677</td>\n",
       "      <td>0.813600</td>\n",
       "      <td>174.716611</td>\n",
       "    </tr>\n",
       "    <tr>\n",
       "      <th>2</th>\n",
       "      <td>Ridge Regression (with alpha = 1)</td>\n",
       "      <td>1</td>\n",
       "      <td>-</td>\n",
       "      <td>0.573461</td>\n",
       "      <td>0.389812</td>\n",
       "      <td>0.838000</td>\n",
       "      <td>255.654207</td>\n",
       "    </tr>\n",
       "    <tr>\n",
       "      <th>3</th>\n",
       "      <td>Ridge Regression (with alpha = 2)</td>\n",
       "      <td>2</td>\n",
       "      <td>-</td>\n",
       "      <td>0.561194</td>\n",
       "      <td>0.372264</td>\n",
       "      <td>0.831700</td>\n",
       "      <td>239.940149</td>\n",
       "    </tr>\n",
       "    <tr>\n",
       "      <th>4</th>\n",
       "      <td>Lasso Regression</td>\n",
       "      <td>0.01</td>\n",
       "      <td>-</td>\n",
       "      <td>0.543715</td>\n",
       "      <td>0.347259</td>\n",
       "      <td>0.819800</td>\n",
       "      <td>210.014068</td>\n",
       "    </tr>\n",
       "  </tbody>\n",
       "</table>\n",
       "</div>"
      ],
      "text/plain": [
       "                          Model_Name Alpha (Wherever Required) l1-ratio  \\\n",
       "0                  Linear Regression                         -        -   \n",
       "1      Linear Regression (using SGD)                         -        -   \n",
       "2  Ridge Regression (with alpha = 1)                         1        -   \n",
       "3  Ridge Regression (with alpha = 2)                         2        -   \n",
       "4                   Lasso Regression                      0.01        -   \n",
       "\n",
       "   R-Squared  Adj. R-Squared  Test_RMSE  Test_MAPE  \n",
       "0   0.586157        0.407974   0.863400 252.515937  \n",
       "1   0.509755        0.298677   0.813600 174.716611  \n",
       "2   0.573461        0.389812   0.838000 255.654207  \n",
       "3   0.561194        0.372264   0.831700 239.940149  \n",
       "4   0.543715        0.347259   0.819800 210.014068  "
      ]
     },
     "execution_count": 47,
     "metadata": {},
     "output_type": "execute_result"
    }
   ],
   "source": [
    "# update the dataframe 'score_card'\n",
    "update_score_card(algorithm_name = 'Lasso Regression', model = lasso, alpha = '0.01')\n",
    "\n",
    "# print the datarframe\n",
    "score_card"
   ]
  },
  {
   "cell_type": "markdown",
   "metadata": {
    "colab_type": "text",
    "id": "dyH7eKOjeLHM"
   },
   "source": [
    "<a id=\"elastic\"></a>\n",
    "## 6.3 Elastic Net Regression"
   ]
  },
  {
   "cell_type": "markdown",
   "metadata": {
    "colab_type": "text",
    "id": "8CUCCaSteLHN"
   },
   "source": [
    "This technique is a combination of Rigde and Lasso reression techniques. It considers the linear combination of penalties for L1 and L2 regularization."
   ]
  },
  {
   "cell_type": "code",
   "execution_count": 48,
   "metadata": {
    "colab": {
     "base_uri": "https://localhost:8080/",
     "height": 34
    },
    "colab_type": "code",
    "executionInfo": {
     "elapsed": 1169,
     "status": "ok",
     "timestamp": 1598880604545,
     "user": {
      "displayName": "Sutithi Chakraborty",
      "photoUrl": "",
      "userId": "12749148906436566424"
     },
     "user_tz": -330
    },
    "id": "8JPe9ddpeLHN",
    "outputId": "00854a36-1e97-412c-8e66-244522072cb9"
   },
   "outputs": [
    {
     "name": "stdout",
     "output_type": "stream",
     "text": [
      "RMSE on test set: 0.7984\n"
     ]
    }
   ],
   "source": [
    "# use ElasticNet() to perform Elastic Net regression\n",
    "# 'alpha' assigns the regularization strength to the model\n",
    "# 'l1_ratio' is the ElasticNet mixing parameter\n",
    "# 'l1_ratio = 0' performs Ridge regression\n",
    "# 'l1_ratio = 1' performs Lasso regression\n",
    "# pass number of iterations to 'max_iter'\n",
    "enet = ElasticNet(alpha = 0.1, l1_ratio = 0.01, max_iter = 500)\n",
    "\n",
    "# fit the model on train data\n",
    "enet.fit(X_train, y_train)\n",
    "\n",
    "\n",
    "# print RMSE for test set\n",
    "# call the function 'get_test_rmse'\n",
    "print('RMSE on test set:', get_test_rmse(enet))"
   ]
  },
  {
   "cell_type": "markdown",
   "metadata": {
    "colab_type": "text",
    "id": "kztMWmB8eLHO"
   },
   "source": [
    "**Interpretation:** With the elastic-net regression, we get 0.7984 as the RMSE value."
   ]
  },
  {
   "cell_type": "markdown",
   "metadata": {
    "colab_type": "text",
    "id": "_n1ExkcweLHO"
   },
   "source": [
    "#### Visualize the change in values of coefficients obtained from `MLR_model (using OLS)` and `Elastic Net regression`"
   ]
  },
  {
   "cell_type": "code",
   "execution_count": 49,
   "metadata": {
    "colab": {
     "base_uri": "https://localhost:8080/",
     "height": 585
    },
    "colab_type": "code",
    "executionInfo": {
     "elapsed": 2518,
     "status": "ok",
     "timestamp": 1598880611691,
     "user": {
      "displayName": "Sutithi Chakraborty",
      "photoUrl": "",
      "userId": "12749148906436566424"
     },
     "user_tz": -330
    },
    "id": "Uf844UDFeLHO",
    "outputId": "da8d262c-9225-44d8-e3a7-6b38c0c59941"
   },
   "outputs": [
    {
     "data": {
      "image/png": "[encoded data removed]",
      "text/plain": [
       "<Figure size 1080x576 with 2 Axes>"
      ]
     },
     "metadata": {
      "needs_background": "light"
     },
     "output_type": "display_data"
    }
   ],
   "source": [
    "# subplot() is used to plot the multiple plots as a subplot\n",
    "# (1,2) plots a subplot of one row and two columns\n",
    "# pass the index of the plot as the third parameter of subplot()\n",
    "plt.subplot(1,2,1)\n",
    "plot_coefficients(MLR_model, 'Linear Regression (OLS)')\n",
    "\n",
    "# pass the index of the plot as the third parameter of subplot()\n",
    "plt.subplot(1,2,2)\n",
    "plot_coefficients(enet, 'Elastic Net Regression')\n",
    "\n",
    "# to adjust the subplots\n",
    "plt.tight_layout()\n",
    "\n",
    "# display the plot\n",
    "plt.show()"
   ]
  },
  {
   "cell_type": "code",
   "execution_count": 50,
   "metadata": {
    "colab": {
     "base_uri": "https://localhost:8080/",
     "height": 225
    },
    "colab_type": "code",
    "executionInfo": {
     "elapsed": 1040,
     "status": "ok",
     "timestamp": 1598880617263,
     "user": {
      "displayName": "Sutithi Chakraborty",
      "photoUrl": "",
      "userId": "12749148906436566424"
     },
     "user_tz": -330
    },
    "id": "Gm-s1cb9eLHQ",
    "outputId": "ca7fc97a-39f1-4f9f-db79-7d0270f7f837"
   },
   "outputs": [
    {
     "data": {
      "text/html": [
       "<div>\n",
       "<style scoped>\n",
       "    .dataframe tbody tr th:only-of-type {\n",
       "        vertical-align: middle;\n",
       "    }\n",
       "\n",
       "    .dataframe tbody tr th {\n",
       "        vertical-align: top;\n",
       "    }\n",
       "\n",
       "    .dataframe thead th {\n",
       "        text-align: right;\n",
       "    }\n",
       "</style>\n",
       "<table border=\"1\" class=\"dataframe\">\n",
       "  <thead>\n",
       "    <tr style=\"text-align: right;\">\n",
       "      <th></th>\n",
       "      <th>Model_Name</th>\n",
       "      <th>Alpha (Wherever Required)</th>\n",
       "      <th>l1-ratio</th>\n",
       "      <th>R-Squared</th>\n",
       "      <th>Adj. R-Squared</th>\n",
       "      <th>Test_RMSE</th>\n",
       "      <th>Test_MAPE</th>\n",
       "    </tr>\n",
       "  </thead>\n",
       "  <tbody>\n",
       "    <tr>\n",
       "      <th>0</th>\n",
       "      <td>Linear Regression</td>\n",
       "      <td>-</td>\n",
       "      <td>-</td>\n",
       "      <td>0.586157</td>\n",
       "      <td>0.407974</td>\n",
       "      <td>0.863400</td>\n",
       "      <td>252.515937</td>\n",
       "    </tr>\n",
       "    <tr>\n",
       "      <th>1</th>\n",
       "      <td>Linear Regression (using SGD)</td>\n",
       "      <td>-</td>\n",
       "      <td>-</td>\n",
       "      <td>0.509755</td>\n",
       "      <td>0.298677</td>\n",
       "      <td>0.813600</td>\n",
       "      <td>174.716611</td>\n",
       "    </tr>\n",
       "    <tr>\n",
       "      <th>2</th>\n",
       "      <td>Ridge Regression (with alpha = 1)</td>\n",
       "      <td>1</td>\n",
       "      <td>-</td>\n",
       "      <td>0.573461</td>\n",
       "      <td>0.389812</td>\n",
       "      <td>0.838000</td>\n",
       "      <td>255.654207</td>\n",
       "    </tr>\n",
       "    <tr>\n",
       "      <th>3</th>\n",
       "      <td>Ridge Regression (with alpha = 2)</td>\n",
       "      <td>2</td>\n",
       "      <td>-</td>\n",
       "      <td>0.561194</td>\n",
       "      <td>0.372264</td>\n",
       "      <td>0.831700</td>\n",
       "      <td>239.940149</td>\n",
       "    </tr>\n",
       "    <tr>\n",
       "      <th>4</th>\n",
       "      <td>Lasso Regression</td>\n",
       "      <td>0.01</td>\n",
       "      <td>-</td>\n",
       "      <td>0.543715</td>\n",
       "      <td>0.347259</td>\n",
       "      <td>0.819800</td>\n",
       "      <td>210.014068</td>\n",
       "    </tr>\n",
       "    <tr>\n",
       "      <th>5</th>\n",
       "      <td>Elastic Net Regression</td>\n",
       "      <td>0.1</td>\n",
       "      <td>0.01</td>\n",
       "      <td>0.500086</td>\n",
       "      <td>0.284845</td>\n",
       "      <td>0.798400</td>\n",
       "      <td>169.139566</td>\n",
       "    </tr>\n",
       "  </tbody>\n",
       "</table>\n",
       "</div>"
      ],
      "text/plain": [
       "                          Model_Name Alpha (Wherever Required) l1-ratio  \\\n",
       "0                  Linear Regression                         -        -   \n",
       "1      Linear Regression (using SGD)                         -        -   \n",
       "2  Ridge Regression (with alpha = 1)                         1        -   \n",
       "3  Ridge Regression (with alpha = 2)                         2        -   \n",
       "4                   Lasso Regression                      0.01        -   \n",
       "5             Elastic Net Regression                       0.1     0.01   \n",
       "\n",
       "   R-Squared  Adj. R-Squared  Test_RMSE  Test_MAPE  \n",
       "0   0.586157        0.407974   0.863400 252.515937  \n",
       "1   0.509755        0.298677   0.813600 174.716611  \n",
       "2   0.573461        0.389812   0.838000 255.654207  \n",
       "3   0.561194        0.372264   0.831700 239.940149  \n",
       "4   0.543715        0.347259   0.819800 210.014068  \n",
       "5   0.500086        0.284845   0.798400 169.139566  "
      ]
     },
     "execution_count": 50,
     "metadata": {},
     "output_type": "execute_result"
    }
   ],
   "source": [
    "# update the dataframe 'score_card'\n",
    "update_score_card(algorithm_name = 'Elastic Net Regression', model = enet, alpha = '0.1', l1_ratio = '0.01')\n",
    "\n",
    "# print the datarframe\n",
    "score_card"
   ]
  },
  {
   "cell_type": "markdown",
   "metadata": {
    "colab_type": "text",
    "id": "1zXJGcoQeLHR"
   },
   "source": [
    "<a id=\"GScv\"></a>\n",
    "# 7. GridSearchCV"
   ]
  },
  {
   "cell_type": "markdown",
   "metadata": {
    "colab_type": "text",
    "id": "YGen1lioeLHS"
   },
   "source": [
    "Hyperparameters are the parameters in the model that are preset by the user. GridSearch considers all the combinations of hyperparameters and returns the best hyperparameter values. Following are some of the parameters that GridSearchCV takes:\n",
    "\n",
    "1. estimator: pass the machine learning algorithm model\n",
    "2. param_grid: takes a dictionary having parameter names as keys and list of parameters as values\n",
    "3. cv: number of folds for k-fold cross validation"
   ]
  },
  {
   "cell_type": "markdown",
   "metadata": {
    "colab_type": "text",
    "id": "dgc4De1_eLHS"
   },
   "source": [
    "### Find optimal value of alpha for `Ridge Regression`"
   ]
  },
  {
   "cell_type": "code",
   "execution_count": 55,
   "metadata": {
    "colab": {
     "base_uri": "https://localhost:8080/",
     "height": 67
    },
    "colab_type": "code",
    "executionInfo": {
     "elapsed": 1632,
     "status": "ok",
     "timestamp": 1598880624228,
     "user": {
      "displayName": "Sutithi Chakraborty",
      "photoUrl": "",
      "userId": "12749148906436566424"
     },
     "user_tz": -330
    },
    "id": "sNXzmIbseLHS",
    "outputId": "1a3f36e1-c80f-4e1a-80c9-ed4fd0699f62",
    "scrolled": false
   },
   "outputs": [
    {
     "name": "stdout",
     "output_type": "stream",
     "text": [
      "Best parameters for Ridge Regression:  {'alpha': 20} \n",
      "\n",
      "RMSE on test set: 0.7812\n"
     ]
    }
   ],
   "source": [
    "tuned_paramaters = {'alpha' : [1e-10, 1e-8, 1e-4,1e-3, 1e-2, 0.1, 1, 5, 10, 20, 40, 60, 80, 100]}\n",
    "# initiate the ridge regression model\n",
    "ridge = Ridge()\n",
    "\n",
    "# use GridSearchCV() to find the optimal value of alpha\n",
    "# estimator: pass the ridge regression model\n",
    "# param_grid: pass the list 'tuned_parameters'\n",
    "# cv: number of folds in k-fold i.e. here cv = 10\n",
    "ridge_grid = GridSearchCV(estimator = ridge, \n",
    "                          param_grid = tuned_paramaters, \n",
    "                          cv = 10)\n",
    "\n",
    "# fit the model on X_train and y_train using fit()\n",
    " \n",
    "ridge_grid.fit(X_train, y_train)\n",
    " \n",
    "\n",
    "# get the best parameters\n",
    "print('Best parameters for Ridge Regression: ', ridge_grid.best_params_, '\\n')\n",
    "\n",
    "# print the RMSE for test set using the model having optimal value of alpha\n",
    "print('RMSE on test set:', get_test_rmse(ridge_grid))"
   ]
  },
  {
   "cell_type": "code",
   "execution_count": 57,
   "metadata": {},
   "outputs": [],
   "source": [
    "def get_test_rmse(model):\n",
    "    \n",
    "    # For testing set:\n",
    "    # test_pred: prediction made by the model on the test dataset 'X_test'\n",
    "    # y_test: actual values of the target variable for the test dataset\n",
    "\n",
    "    # predict the output of the target variable from the test data\n",
    "    test_pred = model.predict(X_test)\n",
    "\n",
    "    # MSE for the test data\n",
    "    mse_test = mean_squared_error(y_test, test_pred)\n",
    "\n",
    "    # take the square root of the MSE to calculate the RMSE\n",
    "    # round the value upto 4 digits using 'round()'\n",
    "    rmse_test = round(np.sqrt(mse_test), 4)\n",
    "\n",
    "    # return the test RMSE\n",
    "    return(rmse_test)"
   ]
  },
  {
   "cell_type": "markdown",
   "metadata": {},
   "source": [
    "#### Optuna\n",
    "\n",
    "import optuna\n",
    "\n",
    "def objective(trial):\n",
    "    x = trial.suggest_float('x', -10, 10)\n",
    "    return (x - 2) ** 2\n",
    "\n",
    "study = optuna.create_study()\n",
    "study.optimize(objective, n_trials=100)\n",
    "\n",
    "study.best_params  # E.g. {'x': 2.002108042}\n",
    "\n",
    "import optuna \n",
    "import optuna.trial._state\n",
    "\n",
    "\n",
    "# search space \n",
    "\n",
    "\n",
    "\n",
    "# objective function\n",
    "\n",
    "def objective(trial) :\n",
    "    tuned_paramaters = {'alpha':trial.suggest_float(\"alpha\",0.000000000000001,100) }\n",
    "    ridge = Ridge(**tuned_paramaters)\n",
    "    ridge.fit(X_train, y_train)\n",
    "    return get_test_rmse(ridge)\n",
    "    \n",
    "study = optuna.create_study(direction=\"minimize\")\n",
    "study.optimize(objective, n_trials=100)\n",
    "\n",
    "\n",
    "trial = study.best_trial\n",
    "\n",
    "for key, value in trial.params.items():\n",
    "        print(\" {}: {}\".format(key, value))\n",
    "\n"
   ]
  },
  {
   "cell_type": "code",
   "execution_count": 59,
   "metadata": {},
   "outputs": [
    {
     "name": "stdout",
     "output_type": "stream",
     "text": [
      "RMSE on test set: 0.7648\n"
     ]
    }
   ],
   "source": [
    "ridge = Ridge(alpha = 99.26996668460605)\n",
    "ridge.fit(X_train, y_train)\n",
    "print('RMSE on test set:', get_test_rmse(ridge))"
   ]
  },
  {
   "cell_type": "markdown",
   "metadata": {
    "colab_type": "text",
    "id": "s0X_oKoNeLHT"
   },
   "source": [
    "**Interpretation:** With the optimal value of alpha that we got from GridSearchCV, the RMSE of test set decreased to 0.7812."
   ]
  },
  {
   "cell_type": "code",
   "execution_count": null,
   "metadata": {
    "colab": {
     "base_uri": "https://localhost:8080/",
     "height": 254
    },
    "colab_type": "code",
    "executionInfo": {
     "elapsed": 1010,
     "status": "ok",
     "timestamp": 1598880628356,
     "user": {
      "displayName": "Sutithi Chakraborty",
      "photoUrl": "",
      "userId": "12749148906436566424"
     },
     "user_tz": -330
    },
    "id": "UK67Vn_zeLHU",
    "outputId": "5baafcf7-37bb-4207-af7b-7ca4194c732d",
    "scrolled": true
   },
   "outputs": [],
   "source": [
    "# # update the dataframe 'score_card'\n",
    "# # 'best_params_' returns the dictionary containig best parameter values and parameter name  \n",
    "# # 'get()' returns the value of specified parameter\n",
    "# update_score_card(algorithm_name = 'Ridge Regression (using GridSearchCV)', \n",
    "#                   model = ridge_grid, \n",
    "#                   alpha = ridge_grid.best_params_.get('alpha'))\n",
    "\n",
    "# # print the datarframe\n",
    "# score_card"
   ]
  },
  {
   "cell_type": "markdown",
   "metadata": {
    "colab_type": "text",
    "id": "vKx2O__qeLHX"
   },
   "source": [
    "### Find optimal value of alpha for `Lasso Regression`"
   ]
  },
  {
   "cell_type": "code",
   "execution_count": 60,
   "metadata": {
    "colab": {
     "base_uri": "https://localhost:8080/",
     "height": 67
    },
    "colab_type": "code",
    "executionInfo": {
     "elapsed": 1423,
     "status": "ok",
     "timestamp": 1598880633006,
     "user": {
      "displayName": "Sutithi Chakraborty",
      "photoUrl": "",
      "userId": "12749148906436566424"
     },
     "user_tz": -330
    },
    "id": "JoU-aHEFeLHX",
    "outputId": "192da6dd-2ebf-45ea-c96a-a23bdd98f563"
   },
   "outputs": [
    {
     "name": "stdout",
     "output_type": "stream",
     "text": [
      "Best parameters for Lasso Regression:  {'alpha': 0.1} \n",
      "\n",
      "RMSE on test set: 0.7845\n"
     ]
    }
   ],
   "source": [
    "# create a dictionary with hyperparameters and its values\n",
    "# 'alpha' assigns the regularization strength to the model\n",
    "# 'max_iter' assigns maximum number of iterations for the model to run\n",
    "tuned_paramaters = [{'alpha':[1e-15, 1e-10, 1e-8, 0.0001, 0.001, 0.01, 0.1, 1, 5, 10, 20]}]\n",
    "                     \n",
    "# 'max_iter':100,500,1000,1500,2000\n",
    " \n",
    "# initiate the lasso regression model \n",
    "lasso = Lasso()\n",
    "\n",
    "# use GridSearchCV() to find the optimal value of alpha\n",
    "# estimator: pass the lasso regression model\n",
    "# param_grid: pass the list 'tuned_parameters'\n",
    "# cv: number of folds in k-fold i.e. here cv = 10\n",
    "lasso_grid = GridSearchCV(estimator = lasso, \n",
    "                          param_grid = tuned_paramaters, \n",
    "                          cv = 10)\n",
    "\n",
    "# fit the model on X_train and y_train using fit()\n",
    "lasso_grid.fit(X_train, y_train)\n",
    "\n",
    "# get the best parameters\n",
    "print('Best parameters for Lasso Regression: ', lasso_grid.best_params_, '\\n')\n",
    "\n",
    "# print the RMSE for the test set using the model having optimal value of alpha\n",
    "print('RMSE on test set:', get_test_rmse(lasso_grid))"
   ]
  },
  {
   "cell_type": "markdown",
   "metadata": {},
   "source": [
    "#### optuna"
   ]
  },
  {
   "cell_type": "code",
   "execution_count": 73,
   "metadata": {
    "scrolled": true
   },
   "outputs": [
    {
     "name": "stderr",
     "output_type": "stream",
     "text": [
      "\u001b[32m[I 2022-06-28 23:17:32,289]\u001b[0m A new study created in memory with name: no-name-72e4f564-99aa-4d6e-aa4d-ca9ab72ef385\u001b[0m\n",
      "\u001b[32m[I 2022-06-28 23:17:32,299]\u001b[0m Trial 0 finished with value: 0.8741 and parameters: {'alpha': 95.20634876276924}. Best is trial 0 with value: 0.8741.\u001b[0m\n",
      "\u001b[32m[I 2022-06-28 23:17:32,305]\u001b[0m Trial 1 finished with value: 0.8741 and parameters: {'alpha': 82.8840244471765}. Best is trial 0 with value: 0.8741.\u001b[0m\n",
      "\u001b[32m[I 2022-06-28 23:17:32,311]\u001b[0m Trial 2 finished with value: 0.8741 and parameters: {'alpha': 55.22135580719615}. Best is trial 0 with value: 0.8741.\u001b[0m\n",
      "\u001b[32m[I 2022-06-28 23:17:32,317]\u001b[0m Trial 3 finished with value: 0.8741 and parameters: {'alpha': 95.87136729747266}. Best is trial 0 with value: 0.8741.\u001b[0m\n",
      "\u001b[32m[I 2022-06-28 23:17:32,325]\u001b[0m Trial 4 finished with value: 0.8741 and parameters: {'alpha': 94.89003099873653}. Best is trial 0 with value: 0.8741.\u001b[0m\n",
      "\u001b[32m[I 2022-06-28 23:17:32,338]\u001b[0m Trial 5 finished with value: 0.8741 and parameters: {'alpha': 18.014270054218294}. Best is trial 0 with value: 0.8741.\u001b[0m\n",
      "\u001b[32m[I 2022-06-28 23:17:32,349]\u001b[0m Trial 6 finished with value: 0.8741 and parameters: {'alpha': 45.59921737687469}. Best is trial 0 with value: 0.8741.\u001b[0m\n",
      "\u001b[32m[I 2022-06-28 23:17:32,363]\u001b[0m Trial 7 finished with value: 0.8741 and parameters: {'alpha': 88.18464731891353}. Best is trial 0 with value: 0.8741.\u001b[0m\n",
      "\u001b[32m[I 2022-06-28 23:17:32,371]\u001b[0m Trial 8 finished with value: 0.8741 and parameters: {'alpha': 6.083596420771355}. Best is trial 0 with value: 0.8741.\u001b[0m\n",
      "\u001b[32m[I 2022-06-28 23:17:32,379]\u001b[0m Trial 9 finished with value: 0.8741 and parameters: {'alpha': 78.69313277301143}. Best is trial 0 with value: 0.8741.\u001b[0m\n",
      "\u001b[32m[I 2022-06-28 23:17:32,392]\u001b[0m Trial 10 finished with value: 0.8741 and parameters: {'alpha': 59.1714988647345}. Best is trial 0 with value: 0.8741.\u001b[0m\n",
      "\u001b[32m[I 2022-06-28 23:17:32,410]\u001b[0m Trial 11 finished with value: 0.8741 and parameters: {'alpha': 72.58787273112998}. Best is trial 0 with value: 0.8741.\u001b[0m\n",
      "\u001b[32m[I 2022-06-28 23:17:32,424]\u001b[0m Trial 12 finished with value: 0.8741 and parameters: {'alpha': 71.93261770056932}. Best is trial 0 with value: 0.8741.\u001b[0m\n",
      "\u001b[32m[I 2022-06-28 23:17:32,437]\u001b[0m Trial 13 finished with value: 0.8741 and parameters: {'alpha': 39.34313142249532}. Best is trial 0 with value: 0.8741.\u001b[0m\n",
      "\u001b[32m[I 2022-06-28 23:17:32,456]\u001b[0m Trial 14 finished with value: 0.8741 and parameters: {'alpha': 99.43443618400181}. Best is trial 0 with value: 0.8741.\u001b[0m\n",
      "\u001b[32m[I 2022-06-28 23:17:32,465]\u001b[0m Trial 15 finished with value: 0.8741 and parameters: {'alpha': 84.67098902917134}. Best is trial 0 with value: 0.8741.\u001b[0m\n",
      "\u001b[32m[I 2022-06-28 23:17:32,481]\u001b[0m Trial 16 finished with value: 0.8741 and parameters: {'alpha': 63.75884523415171}. Best is trial 0 with value: 0.8741.\u001b[0m\n",
      "\u001b[32m[I 2022-06-28 23:17:32,495]\u001b[0m Trial 17 finished with value: 0.8741 and parameters: {'alpha': 98.6406852402805}. Best is trial 0 with value: 0.8741.\u001b[0m\n",
      "\u001b[32m[I 2022-06-28 23:17:32,512]\u001b[0m Trial 18 finished with value: 0.8741 and parameters: {'alpha': 86.13743384450896}. Best is trial 0 with value: 0.8741.\u001b[0m\n",
      "\u001b[32m[I 2022-06-28 23:17:32,526]\u001b[0m Trial 19 finished with value: 0.8741 and parameters: {'alpha': 65.23075272831466}. Best is trial 0 with value: 0.8741.\u001b[0m\n",
      "\u001b[32m[I 2022-06-28 23:17:32,542]\u001b[0m Trial 20 finished with value: 0.8741 and parameters: {'alpha': 36.13395260611787}. Best is trial 0 with value: 0.8741.\u001b[0m\n",
      "\u001b[32m[I 2022-06-28 23:17:32,554]\u001b[0m Trial 21 finished with value: 0.8741 and parameters: {'alpha': 92.1764420425371}. Best is trial 0 with value: 0.8741.\u001b[0m\n",
      "\u001b[32m[I 2022-06-28 23:17:32,565]\u001b[0m Trial 22 finished with value: 0.8741 and parameters: {'alpha': 68.81317897426021}. Best is trial 0 with value: 0.8741.\u001b[0m\n",
      "\u001b[32m[I 2022-06-28 23:17:32,581]\u001b[0m Trial 23 finished with value: 0.8741 and parameters: {'alpha': 32.271594152189905}. Best is trial 0 with value: 0.8741.\u001b[0m\n",
      "\u001b[32m[I 2022-06-28 23:17:32,590]\u001b[0m Trial 24 finished with value: 0.8741 and parameters: {'alpha': 27.353014295235567}. Best is trial 0 with value: 0.8741.\u001b[0m\n",
      "\u001b[32m[I 2022-06-28 23:17:32,602]\u001b[0m Trial 25 finished with value: 0.8741 and parameters: {'alpha': 74.10227671779008}. Best is trial 0 with value: 0.8741.\u001b[0m\n",
      "\u001b[32m[I 2022-06-28 23:17:32,615]\u001b[0m Trial 26 finished with value: 0.8741 and parameters: {'alpha': 29.309343222862168}. Best is trial 0 with value: 0.8741.\u001b[0m\n",
      "\u001b[32m[I 2022-06-28 23:17:32,630]\u001b[0m Trial 27 finished with value: 0.8741 and parameters: {'alpha': 24.489686482915772}. Best is trial 0 with value: 0.8741.\u001b[0m\n",
      "\u001b[32m[I 2022-06-28 23:17:32,639]\u001b[0m Trial 28 finished with value: 0.8741 and parameters: {'alpha': 8.035855959222982}. Best is trial 0 with value: 0.8741.\u001b[0m\n",
      "\u001b[32m[I 2022-06-28 23:17:32,648]\u001b[0m Trial 29 finished with value: 0.8741 and parameters: {'alpha': 49.55199381342467}. Best is trial 0 with value: 0.8741.\u001b[0m\n",
      "\u001b[32m[I 2022-06-28 23:17:32,659]\u001b[0m Trial 30 finished with value: 0.8741 and parameters: {'alpha': 21.214840037094017}. Best is trial 0 with value: 0.8741.\u001b[0m\n",
      "\u001b[32m[I 2022-06-28 23:17:32,671]\u001b[0m Trial 31 finished with value: 0.8741 and parameters: {'alpha': 3.11231234341102}. Best is trial 0 with value: 0.8741.\u001b[0m\n",
      "\u001b[32m[I 2022-06-28 23:17:32,682]\u001b[0m Trial 32 finished with value: 0.8741 and parameters: {'alpha': 44.64354076743871}. Best is trial 0 with value: 0.8741.\u001b[0m\n",
      "\u001b[32m[I 2022-06-28 23:17:32,692]\u001b[0m Trial 33 finished with value: 0.8741 and parameters: {'alpha': 10.038143240022473}. Best is trial 0 with value: 0.8741.\u001b[0m\n",
      "\u001b[32m[I 2022-06-28 23:17:32,703]\u001b[0m Trial 34 finished with value: 0.8172 and parameters: {'alpha': 0.3016907019340307}. Best is trial 34 with value: 0.8172.\u001b[0m\n",
      "\u001b[32m[I 2022-06-28 23:17:32,718]\u001b[0m Trial 35 finished with value: 0.8741 and parameters: {'alpha': 14.472989211665237}. Best is trial 34 with value: 0.8172.\u001b[0m\n",
      "\u001b[32m[I 2022-06-28 23:17:32,730]\u001b[0m Trial 36 finished with value: 0.8741 and parameters: {'alpha': 34.69635150112104}. Best is trial 34 with value: 0.8172.\u001b[0m\n",
      "\u001b[32m[I 2022-06-28 23:17:32,741]\u001b[0m Trial 37 finished with value: 0.8741 and parameters: {'alpha': 92.46612289592954}. Best is trial 34 with value: 0.8172.\u001b[0m\n",
      "\u001b[32m[I 2022-06-28 23:17:32,754]\u001b[0m Trial 38 finished with value: 0.8741 and parameters: {'alpha': 91.74551808486521}. Best is trial 34 with value: 0.8172.\u001b[0m\n",
      "\u001b[32m[I 2022-06-28 23:17:32,763]\u001b[0m Trial 39 finished with value: 0.8741 and parameters: {'alpha': 76.93411944387427}. Best is trial 34 with value: 0.8172.\u001b[0m\n",
      "\u001b[32m[I 2022-06-28 23:17:32,775]\u001b[0m Trial 40 finished with value: 0.8741 and parameters: {'alpha': 51.31128769653889}. Best is trial 34 with value: 0.8172.\u001b[0m\n",
      "\u001b[32m[I 2022-06-28 23:17:32,789]\u001b[0m Trial 41 finished with value: 0.8741 and parameters: {'alpha': 28.245902102040723}. Best is trial 34 with value: 0.8172.\u001b[0m\n",
      "\u001b[32m[I 2022-06-28 23:17:32,798]\u001b[0m Trial 42 finished with value: 0.8741 and parameters: {'alpha': 57.199820135649375}. Best is trial 34 with value: 0.8172.\u001b[0m\n",
      "\u001b[32m[I 2022-06-28 23:17:32,812]\u001b[0m Trial 43 finished with value: 0.8741 and parameters: {'alpha': 13.879638562530957}. Best is trial 34 with value: 0.8172.\u001b[0m\n",
      "\u001b[32m[I 2022-06-28 23:17:32,828]\u001b[0m Trial 44 finished with value: 0.8741 and parameters: {'alpha': 80.16735329632965}. Best is trial 34 with value: 0.8172.\u001b[0m\n",
      "\u001b[32m[I 2022-06-28 23:17:32,844]\u001b[0m Trial 45 finished with value: 0.8741 and parameters: {'alpha': 41.86186100004605}. Best is trial 34 with value: 0.8172.\u001b[0m\n",
      "\u001b[32m[I 2022-06-28 23:17:32,892]\u001b[0m Trial 46 finished with value: 0.8451 and parameters: {'alpha': 0.42243813287829823}. Best is trial 34 with value: 0.8172.\u001b[0m\n",
      "\u001b[32m[I 2022-06-28 23:17:32,905]\u001b[0m Trial 47 finished with value: 0.8741 and parameters: {'alpha': 1.416072852944216}. Best is trial 34 with value: 0.8172.\u001b[0m\n",
      "\u001b[32m[I 2022-06-28 23:17:32,919]\u001b[0m Trial 48 finished with value: 0.8741 and parameters: {'alpha': 22.631500551542068}. Best is trial 34 with value: 0.8172.\u001b[0m\n",
      "\u001b[32m[I 2022-06-28 23:17:32,930]\u001b[0m Trial 49 finished with value: 0.8741 and parameters: {'alpha': 13.196384735700981}. Best is trial 34 with value: 0.8172.\u001b[0m\n",
      "\u001b[32m[I 2022-06-28 23:17:32,944]\u001b[0m Trial 50 finished with value: 0.8741 and parameters: {'alpha': 8.442902500071133}. Best is trial 34 with value: 0.8172.\u001b[0m\n"
     ]
    },
    {
     "name": "stderr",
     "output_type": "stream",
     "text": [
      "\u001b[32m[I 2022-06-28 23:17:32,966]\u001b[0m Trial 51 finished with value: 0.8741 and parameters: {'alpha': 5.644144790668564}. Best is trial 34 with value: 0.8172.\u001b[0m\n",
      "\u001b[32m[I 2022-06-28 23:17:32,981]\u001b[0m Trial 52 finished with value: 0.8741 and parameters: {'alpha': 17.837984995460126}. Best is trial 34 with value: 0.8172.\u001b[0m\n",
      "\u001b[32m[I 2022-06-28 23:17:33,007]\u001b[0m Trial 53 finished with value: 0.8741 and parameters: {'alpha': 1.9697960399647059}. Best is trial 34 with value: 0.8172.\u001b[0m\n",
      "\u001b[32m[I 2022-06-28 23:17:33,032]\u001b[0m Trial 54 finished with value: 0.8741 and parameters: {'alpha': 0.7972642970826251}. Best is trial 34 with value: 0.8172.\u001b[0m\n",
      "\u001b[32m[I 2022-06-28 23:17:33,044]\u001b[0m Trial 55 finished with value: 0.8741 and parameters: {'alpha': 20.225291317671523}. Best is trial 34 with value: 0.8172.\u001b[0m\n",
      "\u001b[32m[I 2022-06-28 23:17:33,052]\u001b[0m Trial 56 finished with value: 0.8741 and parameters: {'alpha': 4.952728683039086}. Best is trial 34 with value: 0.8172.\u001b[0m\n",
      "\u001b[32m[I 2022-06-28 23:17:33,063]\u001b[0m Trial 57 finished with value: 0.8741 and parameters: {'alpha': 11.387145818068056}. Best is trial 34 with value: 0.8172.\u001b[0m\n",
      "\u001b[32m[I 2022-06-28 23:17:33,073]\u001b[0m Trial 58 finished with value: 0.8741 and parameters: {'alpha': 10.324363232938811}. Best is trial 34 with value: 0.8172.\u001b[0m\n",
      "\u001b[32m[I 2022-06-28 23:17:33,083]\u001b[0m Trial 59 finished with value: 0.8741 and parameters: {'alpha': 3.807223488836509}. Best is trial 34 with value: 0.8172.\u001b[0m\n",
      "\u001b[32m[I 2022-06-28 23:17:33,096]\u001b[0m Trial 60 finished with value: 0.8741 and parameters: {'alpha': 13.271981248384188}. Best is trial 34 with value: 0.8172.\u001b[0m\n",
      "\u001b[32m[I 2022-06-28 23:17:33,107]\u001b[0m Trial 61 finished with value: 0.8741 and parameters: {'alpha': 40.47937830872234}. Best is trial 34 with value: 0.8172.\u001b[0m\n",
      "\u001b[32m[I 2022-06-28 23:17:33,115]\u001b[0m Trial 62 finished with value: 0.8741 and parameters: {'alpha': 88.32625978655565}. Best is trial 34 with value: 0.8172.\u001b[0m\n",
      "\u001b[32m[I 2022-06-28 23:17:33,125]\u001b[0m Trial 63 finished with value: 0.8741 and parameters: {'alpha': 93.87196576124946}. Best is trial 34 with value: 0.8172.\u001b[0m\n",
      "\u001b[32m[I 2022-06-28 23:17:33,136]\u001b[0m Trial 64 finished with value: 0.8741 and parameters: {'alpha': 90.69878820104135}. Best is trial 34 with value: 0.8172.\u001b[0m\n",
      "\u001b[32m[I 2022-06-28 23:17:33,145]\u001b[0m Trial 65 finished with value: 0.8741 and parameters: {'alpha': 99.14562960633744}. Best is trial 34 with value: 0.8172.\u001b[0m\n",
      "\u001b[32m[I 2022-06-28 23:17:33,156]\u001b[0m Trial 66 finished with value: 0.8741 and parameters: {'alpha': 96.2712843698908}. Best is trial 34 with value: 0.8172.\u001b[0m\n",
      "\u001b[32m[I 2022-06-28 23:17:33,166]\u001b[0m Trial 67 finished with value: 0.8741 and parameters: {'alpha': 34.668012754372434}. Best is trial 34 with value: 0.8172.\u001b[0m\n",
      "\u001b[32m[I 2022-06-28 23:17:33,177]\u001b[0m Trial 68 finished with value: 0.8741 and parameters: {'alpha': 76.15639016022074}. Best is trial 34 with value: 0.8172.\u001b[0m\n",
      "\u001b[32m[I 2022-06-28 23:17:33,190]\u001b[0m Trial 69 finished with value: 0.8741 and parameters: {'alpha': 80.81371415446257}. Best is trial 34 with value: 0.8172.\u001b[0m\n",
      "\u001b[32m[I 2022-06-28 23:17:33,202]\u001b[0m Trial 70 finished with value: 0.8741 and parameters: {'alpha': 83.79303197805677}. Best is trial 34 with value: 0.8172.\u001b[0m\n",
      "\u001b[32m[I 2022-06-28 23:17:33,214]\u001b[0m Trial 71 finished with value: 0.8741 and parameters: {'alpha': 6.6986291950414545}. Best is trial 34 with value: 0.8172.\u001b[0m\n",
      "\u001b[32m[I 2022-06-28 23:17:33,225]\u001b[0m Trial 72 finished with value: 0.7972 and parameters: {'alpha': 0.19022224700391455}. Best is trial 72 with value: 0.7972.\u001b[0m\n",
      "\u001b[32m[I 2022-06-28 23:17:33,235]\u001b[0m Trial 73 finished with value: 0.8741 and parameters: {'alpha': 56.6341851607448}. Best is trial 72 with value: 0.7972.\u001b[0m\n",
      "\u001b[32m[I 2022-06-28 23:17:33,246]\u001b[0m Trial 74 finished with value: 0.8741 and parameters: {'alpha': 16.158195866131244}. Best is trial 72 with value: 0.7972.\u001b[0m\n",
      "\u001b[32m[I 2022-06-28 23:17:33,256]\u001b[0m Trial 75 finished with value: 0.8741 and parameters: {'alpha': 6.401167823479508}. Best is trial 72 with value: 0.7972.\u001b[0m\n",
      "\u001b[32m[I 2022-06-28 23:17:33,268]\u001b[0m Trial 76 finished with value: 0.8209 and parameters: {'alpha': 0.32058740798862806}. Best is trial 72 with value: 0.7972.\u001b[0m\n",
      "\u001b[32m[I 2022-06-28 23:17:33,279]\u001b[0m Trial 77 finished with value: 0.7865 and parameters: {'alpha': 0.10401150765210376}. Best is trial 77 with value: 0.7865.\u001b[0m\n",
      "\u001b[32m[I 2022-06-28 23:17:33,291]\u001b[0m Trial 78 finished with value: 0.8741 and parameters: {'alpha': 17.848147591495415}. Best is trial 77 with value: 0.7865.\u001b[0m\n",
      "\u001b[32m[I 2022-06-28 23:17:33,303]\u001b[0m Trial 79 finished with value: 0.8741 and parameters: {'alpha': 69.88938709962565}. Best is trial 77 with value: 0.7865.\u001b[0m\n",
      "\u001b[32m[I 2022-06-28 23:17:33,316]\u001b[0m Trial 80 finished with value: 0.811 and parameters: {'alpha': 0.2672948037725954}. Best is trial 77 with value: 0.7865.\u001b[0m\n",
      "\u001b[32m[I 2022-06-28 23:17:33,332]\u001b[0m Trial 81 finished with value: 0.8741 and parameters: {'alpha': 0.6456604993292041}. Best is trial 77 with value: 0.7865.\u001b[0m\n",
      "\u001b[32m[I 2022-06-28 23:17:33,345]\u001b[0m Trial 82 finished with value: 0.8741 and parameters: {'alpha': 4.353144230750634}. Best is trial 77 with value: 0.7865.\u001b[0m\n",
      "\u001b[32m[I 2022-06-28 23:17:33,359]\u001b[0m Trial 83 finished with value: 0.8741 and parameters: {'alpha': 10.535231783716496}. Best is trial 77 with value: 0.7865.\u001b[0m\n",
      "\u001b[32m[I 2022-06-28 23:17:33,372]\u001b[0m Trial 84 finished with value: 0.8133 and parameters: {'alpha': 0.042305119179885886}. Best is trial 77 with value: 0.7865.\u001b[0m\n",
      "\u001b[32m[I 2022-06-28 23:17:33,381]\u001b[0m Trial 85 finished with value: 0.7863 and parameters: {'alpha': 0.07075459154557348}. Best is trial 85 with value: 0.7863.\u001b[0m\n",
      "\u001b[32m[I 2022-06-28 23:17:33,394]\u001b[0m Trial 86 finished with value: 0.8741 and parameters: {'alpha': 3.15859461905634}. Best is trial 85 with value: 0.7863.\u001b[0m\n",
      "\u001b[32m[I 2022-06-28 23:17:33,408]\u001b[0m Trial 87 finished with value: 0.8741 and parameters: {'alpha': 3.51551412664211}. Best is trial 85 with value: 0.7863.\u001b[0m\n",
      "\u001b[32m[I 2022-06-28 23:17:33,421]\u001b[0m Trial 88 finished with value: 0.8278 and parameters: {'alpha': 0.3525608237120165}. Best is trial 85 with value: 0.7863.\u001b[0m\n",
      "\u001b[32m[I 2022-06-28 23:17:33,434]\u001b[0m Trial 89 finished with value: 0.7937 and parameters: {'alpha': 0.1676965202833135}. Best is trial 85 with value: 0.7863.\u001b[0m\n",
      "\u001b[32m[I 2022-06-28 23:17:33,447]\u001b[0m Trial 90 finished with value: 0.8741 and parameters: {'alpha': 8.7499721337284}. Best is trial 85 with value: 0.7863.\u001b[0m\n",
      "\u001b[32m[I 2022-06-28 23:17:33,461]\u001b[0m Trial 91 finished with value: 0.7887 and parameters: {'alpha': 0.1313466519844442}. Best is trial 85 with value: 0.7863.\u001b[0m\n",
      "\u001b[32m[I 2022-06-28 23:17:33,475]\u001b[0m Trial 92 finished with value: 0.7889 and parameters: {'alpha': 0.13833458929558634}. Best is trial 85 with value: 0.7863.\u001b[0m\n",
      "\u001b[32m[I 2022-06-28 23:17:33,490]\u001b[0m Trial 93 finished with value: 0.8741 and parameters: {'alpha': 6.961688688991196}. Best is trial 85 with value: 0.7863.\u001b[0m\n",
      "\u001b[32m[I 2022-06-28 23:17:33,501]\u001b[0m Trial 94 finished with value: 0.8741 and parameters: {'alpha': 2.534869310409069}. Best is trial 85 with value: 0.7863.\u001b[0m\n",
      "\u001b[32m[I 2022-06-28 23:17:33,513]\u001b[0m Trial 95 finished with value: 0.7891 and parameters: {'alpha': 0.14085974838902884}. Best is trial 85 with value: 0.7863.\u001b[0m\n",
      "\u001b[32m[I 2022-06-28 23:17:33,527]\u001b[0m Trial 96 finished with value: 0.8741 and parameters: {'alpha': 5.223631298665364}. Best is trial 85 with value: 0.7863.\u001b[0m\n",
      "\u001b[32m[I 2022-06-28 23:17:33,542]\u001b[0m Trial 97 finished with value: 0.8741 and parameters: {'alpha': 8.338847409439097}. Best is trial 85 with value: 0.7863.\u001b[0m\n",
      "\u001b[32m[I 2022-06-28 23:17:33,558]\u001b[0m Trial 98 finished with value: 0.8741 and parameters: {'alpha': 2.6074625132941813}. Best is trial 85 with value: 0.7863.\u001b[0m\n",
      "\u001b[32m[I 2022-06-28 23:17:33,573]\u001b[0m Trial 99 finished with value: 0.8741 and parameters: {'alpha': 11.680604964013568}. Best is trial 85 with value: 0.7863.\u001b[0m\n"
     ]
    },
    {
     "name": "stdout",
     "output_type": "stream",
     "text": [
      " alpha: 0.07075459154557348\n"
     ]
    }
   ],
   "source": [
    "import optuna \n",
    "import optuna.trial._state\n",
    "\n",
    "\n",
    "# search space \n",
    "\n",
    "\n",
    "\n",
    "# objective function\n",
    "\n",
    "def objective(trial) :\n",
    "    tuned_paramaters = {'alpha':trial.suggest_float(\"alpha\",0.000000000000001,100) }\n",
    "    lasso = Lasso(**tuned_paramaters)\n",
    "    lasso.fit(X_train, y_train)\n",
    "    return get_test_rmse(lasso)\n",
    "    \n",
    "study = optuna.create_study(direction=\"minimize\")\n",
    "study.optimize(objective, n_trials=100)\n",
    "\n",
    "\n",
    "trial = study.best_trial\n",
    "\n",
    "for key, value in trial.params.items():\n",
    "        print(\" {}: {}\".format(key, value))\n"
   ]
  },
  {
   "cell_type": "code",
   "execution_count": 74,
   "metadata": {},
   "outputs": [
    {
     "name": "stdout",
     "output_type": "stream",
     "text": [
      "RMSE on test set: 0.7863\n"
     ]
    }
   ],
   "source": [
    "lasso = Lasso(alpha = 0.07075459154557348)\n",
    "\n",
    " \n",
    "lasso.fit(X_train, y_train)\n",
    "print('RMSE on test set:', get_test_rmse(lasso))"
   ]
  },
  {
   "cell_type": "markdown",
   "metadata": {
    "colab_type": "text",
    "id": "xE58ptY-eLHY"
   },
   "source": [
    "**Interpretation:** With the optimal value of alpha that we got from GridSearchCV, the RMSE of test set is 0.7845."
   ]
  },
  {
   "cell_type": "code",
   "execution_count": null,
   "metadata": {
    "colab": {
     "base_uri": "https://localhost:8080/",
     "height": 284
    },
    "colab_type": "code",
    "executionInfo": {
     "elapsed": 1196,
     "status": "ok",
     "timestamp": 1598880637721,
     "user": {
      "displayName": "Sutithi Chakraborty",
      "photoUrl": "",
      "userId": "12749148906436566424"
     },
     "user_tz": -330
    },
    "id": "GinvgI5keLHY",
    "outputId": "ff38bee9-36d2-42ea-b3db-63c586d900bd",
    "scrolled": true
   },
   "outputs": [],
   "source": [
    "# update the dataframe 'score_card'\n",
    "# 'best_params_' returns the dictionary containig best parameter values and parameter name  \n",
    "# 'get()' returns the value of specified parameter\n",
    "update_score_card(algorithm_name = 'Lasso Regression (using GridSearchCV)', \n",
    "                  model = lasso_grid, \n",
    "                  alpha = lasso_grid.best_params_.get('alpha'))\n",
    "\n",
    "# print the datarframe\n",
    "score_card"
   ]
  },
  {
   "cell_type": "markdown",
   "metadata": {
    "colab_type": "text",
    "id": "0eBWc2FheLHb"
   },
   "source": [
    "### Find optimal value of alpha for `Elastic Net Regression`"
   ]
  },
  {
   "cell_type": "code",
   "execution_count": 76,
   "metadata": {
    "colab": {
     "base_uri": "https://localhost:8080/",
     "height": 67
    },
    "colab_type": "code",
    "executionInfo": {
     "elapsed": 4434,
     "status": "ok",
     "timestamp": 1598880648519,
     "user": {
      "displayName": "Sutithi Chakraborty",
      "photoUrl": "",
      "userId": "12749148906436566424"
     },
     "user_tz": -330
    },
    "id": "BKaRBaWfeLHb",
    "outputId": "0d182e89-bcfe-453c-8939-879dfb5b30a5"
   },
   "outputs": [
    {
     "name": "stdout",
     "output_type": "stream",
     "text": [
      "Best parameters for Elastic Net Regression:  {'alpha': 0.1, 'l1_ratio': 0.0001} \n",
      "\n",
      "RMSE on test set: 0.7972\n"
     ]
    }
   ],
   "source": [
    "# create a dictionary with hyperparameters and its values\n",
    "# 'alpha' assigns the regularization strength to the model\n",
    "# 'l1_ratio' is the ElasticNet mixing parameter\n",
    "# 'max_iter' assigns maximum number of iterations for the model to run\n",
    "tuned_paramaters = [{'alpha':[0.0001, 0.001, 0.01, 0.1, 1, 5, 10, 20, 40, 60],\n",
    "                      'l1_ratio':[0.0001, 0.0002, 0.001, 0.01, 0.1, 0.2]}]\n",
    "\n",
    "# initiate the elastic net regression model  \n",
    "enet = ElasticNet()\n",
    "\n",
    "# use GridSearchCV() to find the optimal value of alpha and l1_ratio\n",
    "# estimator: pass the elastic net regression model\n",
    "# param_grid: pass the list 'tuned_parameters'\n",
    "# cv: number of folds in k-fold i.e. here cv = 10\n",
    "enet_grid = GridSearchCV(estimator = enet, \n",
    "                          param_grid = tuned_paramaters, \n",
    "                          cv = 10)\n",
    "\n",
    "# fit the model on X_train and y_train using fit()\n",
    "enet_grid.fit(X_train, y_train)\n",
    "\n",
    "# get the best parameters\n",
    "print('Best parameters for Elastic Net Regression: ', enet_grid.best_params_, '\\n')\n",
    "\n",
    "# print the RMSE for the test set using the model having optimal value of alpha and l1-ratio\n",
    "print('RMSE on test set:', get_test_rmse(enet_grid))"
   ]
  },
  {
   "cell_type": "markdown",
   "metadata": {},
   "source": [
    "### Optune"
   ]
  },
  {
   "cell_type": "code",
   "execution_count": 79,
   "metadata": {
    "scrolled": true
   },
   "outputs": [
    {
     "name": "stderr",
     "output_type": "stream",
     "text": [
      "\u001b[32m[I 2022-06-28 23:20:39,627]\u001b[0m A new study created in memory with name: no-name-b6a28587-ddb6-4831-825f-bdcea164260d\u001b[0m\n",
      "\u001b[32m[I 2022-06-28 23:20:39,636]\u001b[0m Trial 0 finished with value: 0.7938 and parameters: {'alpha': 0.16650983389442475, 'l1_ratio': 0.08405876317892294}. Best is trial 0 with value: 0.7938.\u001b[0m\n",
      "\u001b[32m[I 2022-06-28 23:20:39,642]\u001b[0m Trial 1 finished with value: 0.8741 and parameters: {'alpha': 56.836976410292415, 'l1_ratio': 0.11111691507867139}. Best is trial 0 with value: 0.7938.\u001b[0m\n",
      "\u001b[32m[I 2022-06-28 23:20:39,649]\u001b[0m Trial 2 finished with value: 0.8741 and parameters: {'alpha': 71.00498896111773, 'l1_ratio': 0.6772559118477254}. Best is trial 0 with value: 0.7938.\u001b[0m\n",
      "\u001b[32m[I 2022-06-28 23:20:39,655]\u001b[0m Trial 3 finished with value: 0.8741 and parameters: {'alpha': 81.2278387595284, 'l1_ratio': 0.41200603441542666}. Best is trial 0 with value: 0.7938.\u001b[0m\n",
      "\u001b[32m[I 2022-06-28 23:20:39,668]\u001b[0m Trial 4 finished with value: 0.8741 and parameters: {'alpha': 44.848587172135446, 'l1_ratio': 0.12983130165768905}. Best is trial 0 with value: 0.7938.\u001b[0m\n",
      "\u001b[32m[I 2022-06-28 23:20:39,680]\u001b[0m Trial 5 finished with value: 0.8741 and parameters: {'alpha': 9.845630297132692, 'l1_ratio': 0.6449042021452266}. Best is trial 0 with value: 0.7938.\u001b[0m\n",
      "\u001b[32m[I 2022-06-28 23:20:39,689]\u001b[0m Trial 6 finished with value: 0.8741 and parameters: {'alpha': 3.9503016127892208, 'l1_ratio': 0.6645740174098572}. Best is trial 0 with value: 0.7938.\u001b[0m\n",
      "\u001b[32m[I 2022-06-28 23:20:39,697]\u001b[0m Trial 7 finished with value: 0.8741 and parameters: {'alpha': 28.44964706660591, 'l1_ratio': 0.9496439568995638}. Best is trial 0 with value: 0.7938.\u001b[0m\n",
      "\u001b[32m[I 2022-06-28 23:20:39,710]\u001b[0m Trial 8 finished with value: 0.8741 and parameters: {'alpha': 40.442734128665606, 'l1_ratio': 0.46301423221204385}. Best is trial 0 with value: 0.7938.\u001b[0m\n",
      "\u001b[32m[I 2022-06-28 23:20:39,718]\u001b[0m Trial 9 finished with value: 0.8741 and parameters: {'alpha': 56.1064701799998, 'l1_ratio': 0.35053675057254496}. Best is trial 0 with value: 0.7938.\u001b[0m\n",
      "\u001b[32m[I 2022-06-28 23:20:39,733]\u001b[0m Trial 10 finished with value: 0.8741 and parameters: {'alpha': 96.73557477049015, 'l1_ratio': 0.019557576376393312}. Best is trial 0 with value: 0.7938.\u001b[0m\n",
      "\u001b[32m[I 2022-06-28 23:20:39,756]\u001b[0m Trial 11 finished with value: 0.8741 and parameters: {'alpha': 61.53984939219937, 'l1_ratio': 0.22083386015420772}. Best is trial 0 with value: 0.7938.\u001b[0m\n",
      "\u001b[32m[I 2022-06-28 23:20:39,780]\u001b[0m Trial 12 finished with value: 0.8741 and parameters: {'alpha': 30.265440434138107, 'l1_ratio': 0.025022386513304726}. Best is trial 0 with value: 0.7938.\u001b[0m\n",
      "\u001b[32m[I 2022-06-28 23:20:39,797]\u001b[0m Trial 13 finished with value: 0.8741 and parameters: {'alpha': 19.217532538511122, 'l1_ratio': 0.23933042421167636}. Best is trial 0 with value: 0.7938.\u001b[0m\n",
      "\u001b[32m[I 2022-06-28 23:20:39,812]\u001b[0m Trial 14 finished with value: 0.8741 and parameters: {'alpha': 77.09732793203605, 'l1_ratio': 0.1981959092063359}. Best is trial 0 with value: 0.7938.\u001b[0m\n",
      "\u001b[32m[I 2022-06-28 23:20:39,831]\u001b[0m Trial 15 finished with value: 0.8741 and parameters: {'alpha': 39.5699750769937, 'l1_ratio': 0.3162881925055745}. Best is trial 0 with value: 0.7938.\u001b[0m\n",
      "\u001b[32m[I 2022-06-28 23:20:39,848]\u001b[0m Trial 16 finished with value: 0.8741 and parameters: {'alpha': 60.35336341249658, 'l1_ratio': 0.11042896500820716}. Best is trial 0 with value: 0.7938.\u001b[0m\n",
      "\u001b[32m[I 2022-06-28 23:20:39,865]\u001b[0m Trial 17 finished with value: 0.8741 and parameters: {'alpha': 90.5660842265366, 'l1_ratio': 0.5505917136698206}. Best is trial 0 with value: 0.7938.\u001b[0m\n",
      "\u001b[32m[I 2022-06-28 23:20:39,880]\u001b[0m Trial 18 finished with value: 0.8741 and parameters: {'alpha': 12.406622758824, 'l1_ratio': 0.29425005650551017}. Best is trial 0 with value: 0.7938.\u001b[0m\n",
      "\u001b[32m[I 2022-06-28 23:20:39,892]\u001b[0m Trial 19 finished with value: 0.8741 and parameters: {'alpha': 69.56007954261885, 'l1_ratio': 0.9107399631914046}. Best is trial 0 with value: 0.7938.\u001b[0m\n",
      "\u001b[32m[I 2022-06-28 23:20:39,911]\u001b[0m Trial 20 finished with value: 0.8741 and parameters: {'alpha': 93.71498337150692, 'l1_ratio': 0.5756435137362406}. Best is trial 0 with value: 0.7938.\u001b[0m\n",
      "\u001b[32m[I 2022-06-28 23:20:39,929]\u001b[0m Trial 21 finished with value: 0.8741 and parameters: {'alpha': 2.6283192518130036, 'l1_ratio': 0.8216194070244935}. Best is trial 0 with value: 0.7938.\u001b[0m\n",
      "\u001b[32m[I 2022-06-28 23:20:39,944]\u001b[0m Trial 22 finished with value: 0.8741 and parameters: {'alpha': 16.673903484878153, 'l1_ratio': 0.9789279058165952}. Best is trial 0 with value: 0.7938.\u001b[0m\n",
      "\u001b[32m[I 2022-06-28 23:20:39,961]\u001b[0m Trial 23 finished with value: 0.8741 and parameters: {'alpha': 88.42634984935727, 'l1_ratio': 0.8525225456029695}. Best is trial 0 with value: 0.7938.\u001b[0m\n",
      "\u001b[32m[I 2022-06-28 23:20:39,982]\u001b[0m Trial 24 finished with value: 0.8741 and parameters: {'alpha': 23.939100606737355, 'l1_ratio': 0.7873794755442205}. Best is trial 0 with value: 0.7938.\u001b[0m\n",
      "\u001b[32m[I 2022-06-28 23:20:40,004]\u001b[0m Trial 25 finished with value: 0.8741 and parameters: {'alpha': 4.168703916478142, 'l1_ratio': 0.7928732149454559}. Best is trial 0 with value: 0.7938.\u001b[0m\n",
      "\u001b[32m[I 2022-06-28 23:20:40,019]\u001b[0m Trial 26 finished with value: 0.8741 and parameters: {'alpha': 10.520893253922246, 'l1_ratio': 0.9914939519355567}. Best is trial 0 with value: 0.7938.\u001b[0m\n",
      "\u001b[32m[I 2022-06-28 23:20:40,035]\u001b[0m Trial 27 finished with value: 0.8741 and parameters: {'alpha': 25.75734644095139, 'l1_ratio': 0.8114557734969706}. Best is trial 0 with value: 0.7938.\u001b[0m\n",
      "\u001b[32m[I 2022-06-28 23:20:40,053]\u001b[0m Trial 28 finished with value: 0.8741 and parameters: {'alpha': 1.9189496197510625, 'l1_ratio': 0.7230258262869668}. Best is trial 0 with value: 0.7938.\u001b[0m\n",
      "\u001b[32m[I 2022-06-28 23:20:40,072]\u001b[0m Trial 29 finished with value: 0.8741 and parameters: {'alpha': 10.850866944626718, 'l1_ratio': 0.8937662222405194}. Best is trial 0 with value: 0.7938.\u001b[0m\n",
      "\u001b[32m[I 2022-06-28 23:20:40,089]\u001b[0m Trial 30 finished with value: 0.8741 and parameters: {'alpha': 34.02023417736555, 'l1_ratio': 0.8984189813401168}. Best is trial 0 with value: 0.7938.\u001b[0m\n",
      "\u001b[32m[I 2022-06-28 23:20:40,106]\u001b[0m Trial 31 finished with value: 0.8465 and parameters: {'alpha': 0.5866691114710072, 'l1_ratio': 0.70369753897759}. Best is trial 0 with value: 0.7938.\u001b[0m\n",
      "\u001b[32m[I 2022-06-28 23:20:40,125]\u001b[0m Trial 32 finished with value: 0.795 and parameters: {'alpha': 0.2568875831412374, 'l1_ratio': 0.6939904420666507}. Best is trial 0 with value: 0.7938.\u001b[0m\n",
      "\u001b[32m[I 2022-06-28 23:20:40,141]\u001b[0m Trial 33 finished with value: 0.8741 and parameters: {'alpha': 72.62961538759984, 'l1_ratio': 0.6896671799927296}. Best is trial 0 with value: 0.7938.\u001b[0m\n",
      "\u001b[32m[I 2022-06-28 23:20:40,157]\u001b[0m Trial 34 finished with value: 0.8741 and parameters: {'alpha': 19.573160939161745, 'l1_ratio': 0.601920328611731}. Best is trial 0 with value: 0.7938.\u001b[0m\n",
      "\u001b[32m[I 2022-06-28 23:20:40,171]\u001b[0m Trial 35 finished with value: 0.8741 and parameters: {'alpha': 50.75916049796597, 'l1_ratio': 0.4619703330971217}. Best is trial 0 with value: 0.7938.\u001b[0m\n",
      "\u001b[32m[I 2022-06-28 23:20:40,192]\u001b[0m Trial 36 finished with value: 0.8339 and parameters: {'alpha': 0.6365632467460915, 'l1_ratio': 0.5501551621566515}. Best is trial 0 with value: 0.7938.\u001b[0m\n",
      "\u001b[32m[I 2022-06-28 23:20:40,214]\u001b[0m Trial 37 finished with value: 0.8741 and parameters: {'alpha': 6.848583286304086, 'l1_ratio': 0.7334192629460479}. Best is trial 0 with value: 0.7938.\u001b[0m\n",
      "\u001b[32m[I 2022-06-28 23:20:40,237]\u001b[0m Trial 38 finished with value: 0.8741 and parameters: {'alpha': 16.10970240433416, 'l1_ratio': 0.5170939175052038}. Best is trial 0 with value: 0.7938.\u001b[0m\n",
      "\u001b[32m[I 2022-06-28 23:20:40,252]\u001b[0m Trial 39 finished with value: 0.8729 and parameters: {'alpha': 1.296291788542608, 'l1_ratio': 0.395884375979221}. Best is trial 0 with value: 0.7938.\u001b[0m\n",
      "\u001b[32m[I 2022-06-28 23:20:40,274]\u001b[0m Trial 40 finished with value: 0.8741 and parameters: {'alpha': 7.492674006034567, 'l1_ratio': 0.6437041866536344}. Best is trial 0 with value: 0.7938.\u001b[0m\n",
      "\u001b[32m[I 2022-06-28 23:20:40,291]\u001b[0m Trial 41 finished with value: 0.7878 and parameters: {'alpha': 0.3486279988280897, 'l1_ratio': 0.39392298134186043}. Best is trial 41 with value: 0.7878.\u001b[0m\n"
     ]
    },
    {
     "name": "stderr",
     "output_type": "stream",
     "text": [
      "\u001b[32m[I 2022-06-28 23:20:40,311]\u001b[0m Trial 42 finished with value: 0.8741 and parameters: {'alpha': 1.3362111565359314, 'l1_ratio': 0.6249046321158578}. Best is trial 41 with value: 0.7878.\u001b[0m\n",
      "\u001b[32m[I 2022-06-28 23:20:40,328]\u001b[0m Trial 43 finished with value: 0.8741 and parameters: {'alpha': 12.952347052483908, 'l1_ratio': 0.47640657822075433}. Best is trial 41 with value: 0.7878.\u001b[0m\n",
      "\u001b[32m[I 2022-06-28 23:20:40,346]\u001b[0m Trial 44 finished with value: 0.8741 and parameters: {'alpha': 6.967814473435938, 'l1_ratio': 0.41373091084619784}. Best is trial 41 with value: 0.7878.\u001b[0m\n",
      "\u001b[32m[I 2022-06-28 23:20:40,364]\u001b[0m Trial 45 finished with value: 0.7736 and parameters: {'alpha': 0.4585087186074762, 'l1_ratio': 0.08160305586361644}. Best is trial 45 with value: 0.7736.\u001b[0m\n",
      "\u001b[32m[I 2022-06-28 23:20:40,383]\u001b[0m Trial 46 finished with value: 0.8741 and parameters: {'alpha': 21.359111834605216, 'l1_ratio': 0.09553568125167132}. Best is trial 45 with value: 0.7736.\u001b[0m\n",
      "\u001b[32m[I 2022-06-28 23:20:40,398]\u001b[0m Trial 47 finished with value: 0.8741 and parameters: {'alpha': 14.959028258869568, 'l1_ratio': 0.17619706404652047}. Best is trial 45 with value: 0.7736.\u001b[0m\n",
      "\u001b[32m[I 2022-06-28 23:20:40,417]\u001b[0m Trial 48 finished with value: 0.8741 and parameters: {'alpha': 7.0108781102016176, 'l1_ratio': 0.07709884796166938}. Best is trial 45 with value: 0.7736.\u001b[0m\n",
      "\u001b[32m[I 2022-06-28 23:20:40,436]\u001b[0m Trial 49 finished with value: 0.8741 and parameters: {'alpha': 6.09476917174613, 'l1_ratio': 0.15610407113706815}. Best is trial 45 with value: 0.7736.\u001b[0m\n",
      "\u001b[32m[I 2022-06-28 23:20:40,458]\u001b[0m Trial 50 finished with value: 0.8741 and parameters: {'alpha': 10.382449720268827, 'l1_ratio': 0.24088871933263614}. Best is trial 45 with value: 0.7736.\u001b[0m\n",
      "\u001b[32m[I 2022-06-28 23:20:40,478]\u001b[0m Trial 51 finished with value: 0.7739 and parameters: {'alpha': 0.9764769623831191, 'l1_ratio': 0.06725588625868409}. Best is trial 45 with value: 0.7736.\u001b[0m\n",
      "\u001b[32m[I 2022-06-28 23:20:40,494]\u001b[0m Trial 52 finished with value: 0.8418 and parameters: {'alpha': 4.702017119248086, 'l1_ratio': 0.05678192385400719}. Best is trial 45 with value: 0.7736.\u001b[0m\n",
      "\u001b[32m[I 2022-06-28 23:20:40,514]\u001b[0m Trial 53 finished with value: 0.7709 and parameters: {'alpha': 0.5843843105449336, 'l1_ratio': 0.02513934561026432}. Best is trial 53 with value: 0.7709.\u001b[0m\n",
      "\u001b[32m[I 2022-06-28 23:20:40,532]\u001b[0m Trial 54 finished with value: 0.8627 and parameters: {'alpha': 9.533334702290901, 'l1_ratio': 0.03560334125772051}. Best is trial 53 with value: 0.7709.\u001b[0m\n",
      "\u001b[32m[I 2022-06-28 23:20:40,552]\u001b[0m Trial 55 finished with value: 0.8741 and parameters: {'alpha': 13.714803438610815, 'l1_ratio': 0.13021172187448582}. Best is trial 53 with value: 0.7709.\u001b[0m\n",
      "\u001b[32m[I 2022-06-28 23:20:40,567]\u001b[0m Trial 56 finished with value: 0.8741 and parameters: {'alpha': 4.382434596227549, 'l1_ratio': 0.13319511823972463}. Best is trial 53 with value: 0.7709.\u001b[0m\n",
      "\u001b[32m[I 2022-06-28 23:20:40,583]\u001b[0m Trial 57 finished with value: 0.8499 and parameters: {'alpha': 18.227757910298603, 'l1_ratio': 0.007313860285187421}. Best is trial 53 with value: 0.7709.\u001b[0m\n",
      "\u001b[32m[I 2022-06-28 23:20:40,598]\u001b[0m Trial 58 finished with value: 0.8116 and parameters: {'alpha': 0.07828484662034471, 'l1_ratio': 0.06849023299613667}. Best is trial 53 with value: 0.7709.\u001b[0m\n",
      "\u001b[32m[I 2022-06-28 23:20:40,612]\u001b[0m Trial 59 finished with value: 0.8741 and parameters: {'alpha': 4.714885329983736, 'l1_ratio': 0.19315603210660132}. Best is trial 53 with value: 0.7709.\u001b[0m\n",
      "\u001b[32m[I 2022-06-28 23:20:40,626]\u001b[0m Trial 60 finished with value: 0.8741 and parameters: {'alpha': 31.136823321931473, 'l1_ratio': 0.24708700149682788}. Best is trial 53 with value: 0.7709.\u001b[0m\n",
      "\u001b[32m[I 2022-06-28 23:20:40,645]\u001b[0m Trial 61 finished with value: 0.8014 and parameters: {'alpha': 0.11782052044273575, 'l1_ratio': 0.07051427096288887}. Best is trial 53 with value: 0.7709.\u001b[0m\n",
      "\u001b[32m[I 2022-06-28 23:20:40,658]\u001b[0m Trial 62 finished with value: 0.867 and parameters: {'alpha': 9.346678308663789, 'l1_ratio': 0.041583394343395294}. Best is trial 53 with value: 0.7709.\u001b[0m\n",
      "\u001b[32m[I 2022-06-28 23:20:40,673]\u001b[0m Trial 63 finished with value: 0.8741 and parameters: {'alpha': 4.50159327631459, 'l1_ratio': 0.28425838176826557}. Best is trial 53 with value: 0.7709.\u001b[0m\n",
      "\u001b[32m[I 2022-06-28 23:20:40,686]\u001b[0m Trial 64 finished with value: 0.7957 and parameters: {'alpha': 0.15597737426266803, 'l1_ratio': 0.0925120472199695}. Best is trial 53 with value: 0.7709.\u001b[0m\n",
      "\u001b[32m[I 2022-06-28 23:20:40,708]\u001b[0m Trial 65 finished with value: 0.8293 and parameters: {'alpha': 13.2992394907959, 'l1_ratio': 0.00256578079632502}. Best is trial 53 with value: 0.7709.\u001b[0m\n",
      "\u001b[32m[I 2022-06-28 23:20:40,732]\u001b[0m Trial 66 finished with value: 0.8741 and parameters: {'alpha': 7.719024917016076, 'l1_ratio': 0.10094007169739118}. Best is trial 53 with value: 0.7709.\u001b[0m\n",
      "\u001b[32m[I 2022-06-28 23:20:40,745]\u001b[0m Trial 67 finished with value: 0.8741 and parameters: {'alpha': 3.483322490501618, 'l1_ratio': 0.15960863614233342}. Best is trial 53 with value: 0.7709.\u001b[0m\n",
      "\u001b[32m[I 2022-06-28 23:20:40,758]\u001b[0m Trial 68 finished with value: 0.8741 and parameters: {'alpha': 43.065804748287555, 'l1_ratio': 0.3394599847290704}. Best is trial 53 with value: 0.7709.\u001b[0m\n",
      "\u001b[32m[I 2022-06-28 23:20:40,777]\u001b[0m Trial 69 finished with value: 0.8741 and parameters: {'alpha': 23.25607634700029, 'l1_ratio': 0.12031344371169955}. Best is trial 53 with value: 0.7709.\u001b[0m\n",
      "\u001b[32m[I 2022-06-28 23:20:40,792]\u001b[0m Trial 70 finished with value: 0.8741 and parameters: {'alpha': 10.17620904675481, 'l1_ratio': 0.20960379171660934}. Best is trial 53 with value: 0.7709.\u001b[0m\n",
      "\u001b[32m[I 2022-06-28 23:20:40,808]\u001b[0m Trial 71 finished with value: 0.816 and parameters: {'alpha': 2.3794564691662012, 'l1_ratio': 0.08224741423581176}. Best is trial 53 with value: 0.7709.\u001b[0m\n",
      "\u001b[32m[I 2022-06-28 23:20:40,836]\u001b[0m Trial 72 finished with value: 0.7805 and parameters: {'alpha': 0.2893798939291822, 'l1_ratio': 0.031875535904215165}. Best is trial 53 with value: 0.7709.\u001b[0m\n",
      "\u001b[32m[I 2022-06-28 23:20:40,883]\u001b[0m Trial 73 finished with value: 0.8053 and parameters: {'alpha': 3.3169803176876704, 'l1_ratio': 0.03294108735555189}. Best is trial 53 with value: 0.7709.\u001b[0m\n",
      "\u001b[32m[I 2022-06-28 23:20:40,896]\u001b[0m Trial 74 finished with value: 0.7802 and parameters: {'alpha': 0.25367103221671494, 'l1_ratio': 0.1446873374889649}. Best is trial 53 with value: 0.7709.\u001b[0m\n",
      "\u001b[32m[I 2022-06-28 23:20:40,911]\u001b[0m Trial 75 finished with value: 0.8741 and parameters: {'alpha': 8.013375386664086, 'l1_ratio': 0.15341380091985402}. Best is trial 53 with value: 0.7709.\u001b[0m\n",
      "\u001b[32m[I 2022-06-28 23:20:40,927]\u001b[0m Trial 76 finished with value: 0.8686 and parameters: {'alpha': 12.442184788115767, 'l1_ratio': 0.03137188311119729}. Best is trial 53 with value: 0.7709.\u001b[0m\n",
      "\u001b[32m[I 2022-06-28 23:20:40,942]\u001b[0m Trial 77 finished with value: 0.7876 and parameters: {'alpha': 4.174615115843892, 'l1_ratio': 0.0024197146550671844}. Best is trial 53 with value: 0.7709.\u001b[0m\n",
      "\u001b[32m[I 2022-06-28 23:20:40,955]\u001b[0m Trial 78 finished with value: 0.8482 and parameters: {'alpha': 5.555096890628314, 'l1_ratio': 0.05150267230458081}. Best is trial 53 with value: 0.7709.\u001b[0m\n",
      "\u001b[32m[I 2022-06-28 23:20:40,969]\u001b[0m Trial 79 finished with value: 0.8481 and parameters: {'alpha': 16.86716321725314, 'l1_ratio': 0.007728579155556813}. Best is trial 53 with value: 0.7709.\u001b[0m\n",
      "\u001b[32m[I 2022-06-28 23:20:40,985]\u001b[0m Trial 80 finished with value: 0.8741 and parameters: {'alpha': 84.88598672332218, 'l1_ratio': 0.11886254042908041}. Best is trial 53 with value: 0.7709.\u001b[0m\n",
      "\u001b[32m[I 2022-06-28 23:20:41,002]\u001b[0m Trial 81 finished with value: 0.8363 and parameters: {'alpha': 4.125835996405954, 'l1_ratio': 0.06067728038261953}. Best is trial 53 with value: 0.7709.\u001b[0m\n",
      "\u001b[32m[I 2022-06-28 23:20:41,018]\u001b[0m Trial 82 finished with value: 0.8741 and parameters: {'alpha': 2.9946734623550393, 'l1_ratio': 0.751891617184148}. Best is trial 53 with value: 0.7709.\u001b[0m\n",
      "\u001b[32m[I 2022-06-28 23:20:41,034]\u001b[0m Trial 83 finished with value: 0.8417 and parameters: {'alpha': 8.14072357379076, 'l1_ratio': 0.024629799317265055}. Best is trial 53 with value: 0.7709.\u001b[0m\n",
      "\u001b[32m[I 2022-06-28 23:20:41,050]\u001b[0m Trial 84 finished with value: 0.8741 and parameters: {'alpha': 2.4629997694069914, 'l1_ratio': 0.3853164050172133}. Best is trial 53 with value: 0.7709.\u001b[0m\n"
     ]
    },
    {
     "name": "stderr",
     "output_type": "stream",
     "text": [
      "\u001b[32m[I 2022-06-28 23:20:41,066]\u001b[0m Trial 85 finished with value: 0.8741 and parameters: {'alpha': 63.806776023459776, 'l1_ratio': 0.10189967877876789}. Best is trial 53 with value: 0.7709.\u001b[0m\n",
      "\u001b[32m[I 2022-06-28 23:20:41,083]\u001b[0m Trial 86 finished with value: 0.8741 and parameters: {'alpha': 48.790526313032686, 'l1_ratio': 0.13589772290914404}. Best is trial 53 with value: 0.7709.\u001b[0m\n",
      "\u001b[32m[I 2022-06-28 23:20:41,100]\u001b[0m Trial 87 finished with value: 0.8741 and parameters: {'alpha': 6.050957356205738, 'l1_ratio': 0.27450421638645806}. Best is trial 53 with value: 0.7709.\u001b[0m\n",
      "\u001b[32m[I 2022-06-28 23:20:41,115]\u001b[0m Trial 88 finished with value: 0.8741 and parameters: {'alpha': 11.222465566280977, 'l1_ratio': 0.43694007340157637}. Best is trial 53 with value: 0.7709.\u001b[0m\n",
      "\u001b[32m[I 2022-06-28 23:20:41,132]\u001b[0m Trial 89 finished with value: 0.8043 and parameters: {'alpha': 0.12063861702254738, 'l1_ratio': 0.1710974739192159}. Best is trial 53 with value: 0.7709.\u001b[0m\n",
      "\u001b[32m[I 2022-06-28 23:20:41,153]\u001b[0m Trial 90 finished with value: 0.8741 and parameters: {'alpha': 36.7070480390847, 'l1_ratio': 0.05184978357111481}. Best is trial 53 with value: 0.7709.\u001b[0m\n",
      "\u001b[32m[I 2022-06-28 23:20:41,171]\u001b[0m Trial 91 finished with value: 0.7789 and parameters: {'alpha': 2.1827852271137447, 'l1_ratio': 0.01772339562784519}. Best is trial 53 with value: 0.7709.\u001b[0m\n",
      "\u001b[32m[I 2022-06-28 23:20:41,194]\u001b[0m Trial 92 finished with value: 0.7737 and parameters: {'alpha': 2.5617520087506316, 'l1_ratio': 0.0004134667787134283}. Best is trial 53 with value: 0.7709.\u001b[0m\n",
      "\u001b[32m[I 2022-06-28 23:20:41,210]\u001b[0m Trial 93 finished with value: 0.7953 and parameters: {'alpha': 5.641837555569905, 'l1_ratio': 0.000712347953816599}. Best is trial 53 with value: 0.7709.\u001b[0m\n",
      "\u001b[32m[I 2022-06-28 23:20:41,228]\u001b[0m Trial 94 finished with value: 0.8073 and parameters: {'alpha': 2.141757911406201, 'l1_ratio': 0.07460617273979887}. Best is trial 53 with value: 0.7709.\u001b[0m\n",
      "\u001b[32m[I 2022-06-28 23:20:41,246]\u001b[0m Trial 95 finished with value: 0.8565 and parameters: {'alpha': 9.098675494788893, 'l1_ratio': 0.03257644558801959}. Best is trial 53 with value: 0.7709.\u001b[0m\n",
      "\u001b[32m[I 2022-06-28 23:20:41,263]\u001b[0m Trial 96 finished with value: 0.793 and parameters: {'alpha': 3.1439036535487865, 'l1_ratio': 0.02154574870395074}. Best is trial 53 with value: 0.7709.\u001b[0m\n",
      "\u001b[32m[I 2022-06-28 23:20:41,282]\u001b[0m Trial 97 finished with value: 0.8627 and parameters: {'alpha': 14.914184193917858, 'l1_ratio': 0.020429337343779237}. Best is trial 53 with value: 0.7709.\u001b[0m\n",
      "\u001b[32m[I 2022-06-28 23:20:41,298]\u001b[0m Trial 98 finished with value: 0.7966 and parameters: {'alpha': 2.151982666636509, 'l1_ratio': 0.052220432915835835}. Best is trial 53 with value: 0.7709.\u001b[0m\n",
      "\u001b[32m[I 2022-06-28 23:20:41,313]\u001b[0m Trial 99 finished with value: 0.8741 and parameters: {'alpha': 6.090502829495238, 'l1_ratio': 0.10542417035107088}. Best is trial 53 with value: 0.7709.\u001b[0m\n"
     ]
    },
    {
     "name": "stdout",
     "output_type": "stream",
     "text": [
      " alpha: 0.5843843105449336\n",
      " l1_ratio: 0.02513934561026432\n"
     ]
    }
   ],
   "source": [
    "import optuna \n",
    "import optuna.trial._state\n",
    "\n",
    "\n",
    "# search space \n",
    "\n",
    "\n",
    "\n",
    "# objective function\n",
    "\n",
    "def objective(trial) :\n",
    "    tuned_paramaters = {'alpha':trial.suggest_float(\"alpha\",0.000000000000001,100),\n",
    "                        'l1_ratio':trial.suggest_float(\"l1_ratio\",0.000000000000001,1) }\n",
    "    enet = ElasticNet(**tuned_paramaters)\n",
    "    enet.fit(X_train, y_train)\n",
    "    return get_test_rmse(enet)\n",
    "    \n",
    "study = optuna.create_study(direction=\"minimize\")\n",
    "study.optimize(objective, n_trials=100)\n",
    "\n",
    "\n",
    "trial = study.best_trial\n",
    "\n",
    "for key, value in trial.params.items():\n",
    "        print(\" {}: {}\".format(key, value))"
   ]
  },
  {
   "cell_type": "code",
   "execution_count": 1,
   "metadata": {},
   "outputs": [
    {
     "ename": "NameError",
     "evalue": "name 'study' is not defined",
     "output_type": "error",
     "traceback": [
      "\u001b[0;31m---------------------------------------------------------------------------\u001b[0m",
      "\u001b[0;31mNameError\u001b[0m                                 Traceback (most recent call last)",
      "Cell \u001b[0;32mIn [1], line 1\u001b[0m\n\u001b[0;32m----> 1\u001b[0m \u001b[38;5;28mprint\u001b[39m(\u001b[38;5;124m'\u001b[39m\u001b[38;5;124mNumber of finished trials: \u001b[39m\u001b[38;5;124m'\u001b[39m, \u001b[38;5;28mlen\u001b[39m(\u001b[43mstudy\u001b[49m\u001b[38;5;241m.\u001b[39mtrials))\n\u001b[1;32m      2\u001b[0m \u001b[38;5;28mprint\u001b[39m(\u001b[38;5;124m'\u001b[39m\u001b[38;5;124mBest trial:\u001b[39m\u001b[38;5;124m'\u001b[39m)\n\u001b[1;32m      3\u001b[0m trial \u001b[38;5;241m=\u001b[39m study\u001b[38;5;241m.\u001b[39mbest_trial\n",
      "\u001b[0;31mNameError\u001b[0m: name 'study' is not defined"
     ]
    }
   ],
   "source": [
    "print('Number of finished trials: ', len(study.trials))\n",
    "print('Best trial:')\n",
    "trial = study.best_trial\n",
    "\n",
    "print('\\tValue: {}'.format(trial.value))\n",
    "print('\\tParams: ')\n",
    "for key, value in trial.params.items():\n",
    "    print('\\t\\t{}: {}'.format(key, value))\n"
   ]
  },
  {
   "cell_type": "markdown",
   "metadata": {
    "colab_type": "text",
    "id": "qQtB_faleLHd"
   },
   "source": [
    "**Interpretation:** With the optimal value of alpha that we got from GridSearchCV, the RMSE of test set is 0.7972. "
   ]
  },
  {
   "cell_type": "code",
   "execution_count": null,
   "metadata": {
    "colab": {
     "base_uri": "https://localhost:8080/",
     "height": 314
    },
    "colab_type": "code",
    "executionInfo": {
     "elapsed": 1123,
     "status": "ok",
     "timestamp": 1598880652847,
     "user": {
      "displayName": "Sutithi Chakraborty",
      "photoUrl": "",
      "userId": "12749148906436566424"
     },
     "user_tz": -330
    },
    "id": "xx8UQvqPeLHd",
    "outputId": "fe7eb4b1-db50-4acf-ec53-af49ff499a30"
   },
   "outputs": [],
   "source": [
    "# update the dataframe 'score_card'\n",
    "# 'best_params_' returns the dictionary containig best parameter values and parameter name  \n",
    "# 'get()' returns the value of specified parameter\n",
    "update_score_card(algorithm_name = 'Elastic Net Regression (using GridSearchCV)', \n",
    "                  model = enet_grid, \n",
    "                  alpha = enet_grid.best_params_.get('alpha'), \n",
    "                  l1_ratio = enet_grid.best_params_.get('l1_ratio'))\n",
    "\n",
    "# print the datarframe\n",
    "score_card"
   ]
  },
  {
   "cell_type": "markdown",
   "metadata": {
    "colab_type": "text",
    "id": "an7mwc3beLHf"
   },
   "source": [
    "### Display the score card summary"
   ]
  },
  {
   "cell_type": "markdown",
   "metadata": {
    "colab_type": "text",
    "id": "pCE7iPxHeLHf"
   },
   "source": [
    "We sort the dataframe `score_card` to get the model with least RMSE in the top."
   ]
  },
  {
   "cell_type": "code",
   "execution_count": null,
   "metadata": {
    "colab": {
     "base_uri": "https://localhost:8080/",
     "height": 218
    },
    "colab_type": "code",
    "executionInfo": {
     "elapsed": 1139,
     "status": "ok",
     "timestamp": 1598880658898,
     "user": {
      "displayName": "Sutithi Chakraborty",
      "photoUrl": "",
      "userId": "12749148906436566424"
     },
     "user_tz": -330
    },
    "id": "OWNzzURDeLHg",
    "outputId": "8d94c6a8-7af5-46f1-e97c-64cfb9ede5a3",
    "scrolled": true
   },
   "outputs": [],
   "source": [
    "# # sort the dataframe 'score_card' on 'Test_RMSE' in an ascending order using 'sort_values' \n",
    "# # 'reset_index' resets the index of the dataframe\n",
    "# # 'drop = True' drops the previous index\n",
    "# score_card = score_card.sort_values('Test_RMSE').reset_index(drop = True)\n",
    "\n",
    "# # color the cell in the column 'Test_RMSE' having minimum RMSE value\n",
    "# # 'style.highlight_min' assigns color to the minimum value\n",
    "# # pass specified color to the parameter, 'color'\n",
    "# # pass the data to limit the color assignment to the parameter, 'subset' \n",
    "# score_card.style.highlight_min(color = 'lightblue', subset = 'Test_RMSE')"
   ]
  },
  {
   "cell_type": "markdown",
   "metadata": {
    "colab_type": "text",
    "id": "6oxUiAEmeLHh"
   },
   "source": [
    "**Interpretation:** We can see that `Ridge Regression (using GridSearchCV)` has the lowest test RMSE. Here, ridge regression with `alpha = 20` seems to deal with the problem of overfitting efficiently."
   ]
  }
 ],
 "metadata": {
  "colab": {
   "collapsed_sections": [],
   "name": "SLR - Faculty Notebook (Session 6).ipynb",
   "provenance": []
  },
  "kernelspec": {
   "display_name": "Python 3 (ipykernel)",
   "language": "python",
   "name": "python3"
  },
  "language_info": {
   "codemirror_mode": {
    "name": "ipython",
    "version": 3
   },
   "file_extension": ".py",
   "mimetype": "text/x-python",
   "name": "python",
   "nbconvert_exporter": "python",
   "pygments_lexer": "ipython3",
   "version": "3.10.7"
  }
 },
 "nbformat": 4,
 "nbformat_minor": 1
}
