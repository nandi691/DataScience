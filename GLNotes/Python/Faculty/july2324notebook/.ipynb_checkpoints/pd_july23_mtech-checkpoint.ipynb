{
 "cells": [
  {
   "cell_type": "markdown",
   "id": "3cb711a0",
   "metadata": {},
   "source": [
    "# Pandas"
   ]
  },
  {
   "cell_type": "code",
   "execution_count": 1,
   "id": "91bfd292",
   "metadata": {},
   "outputs": [],
   "source": [
    "import pandas as pd"
   ]
  },
  {
   "cell_type": "raw",
   "id": "c3de654f",
   "metadata": {},
   "source": [
    "ref dataset\n",
    "https://raw.githubusercontent.com/vcsgithub/vcsgithub.github.io/master/lds1.csv"
   ]
  },
  {
   "cell_type": "markdown",
   "id": "a1acac6f",
   "metadata": {},
   "source": [
    "# Series"
   ]
  },
  {
   "cell_type": "raw",
   "id": "9f05a248",
   "metadata": {},
   "source": [
    "Creation\n",
    "\n",
    "Tata  100\n",
    "Birla 200\n",
    "Wipro 300\n",
    "Infy  400\n",
    "ITC   500"
   ]
  },
  {
   "cell_type": "code",
   "execution_count": 2,
   "id": "09068886",
   "metadata": {},
   "outputs": [
    {
     "name": "stdout",
     "output_type": "stream",
     "text": [
      "<class 'pandas.core.series.Series'>\n"
     ]
    },
    {
     "data": {
      "text/plain": [
       "0    100\n",
       "1    200\n",
       "2    300\n",
       "3    400\n",
       "4    500\n",
       "dtype: int64"
      ]
     },
     "execution_count": 2,
     "metadata": {},
     "output_type": "execute_result"
    }
   ],
   "source": [
    "mylist1 = [100,200,300,400,500]\n",
    "ps1 = pd.Series(mylist1)        ##  unlabelled series\n",
    "print(type(ps1))\n",
    "ps1"
   ]
  },
  {
   "cell_type": "code",
   "execution_count": 3,
   "id": "894629fc",
   "metadata": {},
   "outputs": [
    {
     "data": {
      "text/plain": [
       "RangeIndex(start=0, stop=5, step=1)"
      ]
     },
     "execution_count": 3,
     "metadata": {},
     "output_type": "execute_result"
    }
   ],
   "source": [
    "ps1.index"
   ]
  },
  {
   "cell_type": "code",
   "execution_count": 4,
   "id": "411524ae",
   "metadata": {},
   "outputs": [
    {
     "data": {
      "text/plain": [
       "100"
      ]
     },
     "execution_count": 4,
     "metadata": {},
     "output_type": "execute_result"
    }
   ],
   "source": [
    "ps1[0]"
   ]
  },
  {
   "cell_type": "code",
   "execution_count": 5,
   "id": "f0387756",
   "metadata": {},
   "outputs": [
    {
     "data": {
      "text/plain": [
       "500"
      ]
     },
     "execution_count": 5,
     "metadata": {},
     "output_type": "execute_result"
    }
   ],
   "source": [
    "ps1[4]"
   ]
  },
  {
   "cell_type": "code",
   "execution_count": 6,
   "id": "c340b106",
   "metadata": {},
   "outputs": [],
   "source": [
    "#ps1['Tata']"
   ]
  },
  {
   "cell_type": "code",
   "execution_count": 7,
   "id": "622a35d5",
   "metadata": {},
   "outputs": [
    {
     "data": {
      "text/plain": [
       "Tata     100\n",
       "Birla    200\n",
       "Wipro    300\n",
       "Infy     400\n",
       "HCL      500\n",
       "dtype: int64"
      ]
     },
     "execution_count": 7,
     "metadata": {},
     "output_type": "execute_result"
    }
   ],
   "source": [
    "mylist1 = [100,200,300,400,500]\n",
    "index_list = ['Tata', 'Birla', 'Wipro', 'Infy', 'HCL']\n",
    "ps1 = pd.Series(mylist1, index=index_list)        ##  labelled series\n",
    "ps1"
   ]
  },
  {
   "cell_type": "code",
   "execution_count": 8,
   "id": "ca36028b",
   "metadata": {},
   "outputs": [
    {
     "data": {
      "text/plain": [
       "Index(['Tata', 'Birla', 'Wipro', 'Infy', 'HCL'], dtype='object')"
      ]
     },
     "execution_count": 8,
     "metadata": {},
     "output_type": "execute_result"
    }
   ],
   "source": [
    "ps1.index"
   ]
  },
  {
   "cell_type": "code",
   "execution_count": 9,
   "id": "ed3c6e5f",
   "metadata": {},
   "outputs": [
    {
     "data": {
      "text/plain": [
       "100"
      ]
     },
     "execution_count": 9,
     "metadata": {},
     "output_type": "execute_result"
    }
   ],
   "source": [
    "ps1['Tata']"
   ]
  },
  {
   "cell_type": "code",
   "execution_count": 10,
   "id": "f9374854",
   "metadata": {},
   "outputs": [
    {
     "data": {
      "text/plain": [
       "(5,)"
      ]
     },
     "execution_count": 10,
     "metadata": {},
     "output_type": "execute_result"
    }
   ],
   "source": [
    "ps1.shape"
   ]
  },
  {
   "cell_type": "code",
   "execution_count": 11,
   "id": "ea6f4ae8",
   "metadata": {},
   "outputs": [
    {
     "data": {
      "text/plain": [
       "1"
      ]
     },
     "execution_count": 11,
     "metadata": {},
     "output_type": "execute_result"
    }
   ],
   "source": [
    "ps1.ndim"
   ]
  },
  {
   "cell_type": "code",
   "execution_count": 12,
   "id": "12a28c1e",
   "metadata": {},
   "outputs": [
    {
     "data": {
      "text/plain": [
       "array([100, 200, 300, 400, 500])"
      ]
     },
     "execution_count": 12,
     "metadata": {},
     "output_type": "execute_result"
    }
   ],
   "source": [
    "ps1.values"
   ]
  },
  {
   "cell_type": "code",
   "execution_count": 13,
   "id": "fbd53127",
   "metadata": {},
   "outputs": [
    {
     "name": "stdout",
     "output_type": "stream",
     "text": [
      "<class 'numpy.ndarray'>\n"
     ]
    }
   ],
   "source": [
    "print(type(ps1.values))"
   ]
  },
  {
   "cell_type": "code",
   "execution_count": 14,
   "id": "b3d49282",
   "metadata": {},
   "outputs": [
    {
     "data": {
      "text/plain": [
       "Tata     100\n",
       "Birla    200\n",
       "Wipro    300\n",
       "Infy     400\n",
       "HCL      500\n",
       "dtype: int64"
      ]
     },
     "execution_count": 14,
     "metadata": {},
     "output_type": "execute_result"
    }
   ],
   "source": [
    "md1 = {'Tata':100, 'Birla':200, 'Wipro':300, 'Infy':400, 'HCL':500}\n",
    "\n",
    "ps2 = pd.Series(md1)\n",
    "ps2"
   ]
  },
  {
   "cell_type": "code",
   "execution_count": 15,
   "id": "f149b844",
   "metadata": {},
   "outputs": [
    {
     "data": {
      "text/plain": [
       "Tata     100\n",
       "Birla    200\n",
       "Wipro    300\n",
       "Infy     400\n",
       "HCL      500\n",
       "dtype: int64"
      ]
     },
     "execution_count": 15,
     "metadata": {},
     "output_type": "execute_result"
    }
   ],
   "source": [
    "ps2"
   ]
  },
  {
   "cell_type": "markdown",
   "id": "55a314b7",
   "metadata": {},
   "source": [
    "Series Access"
   ]
  },
  {
   "cell_type": "code",
   "execution_count": 16,
   "id": "30b0c766",
   "metadata": {},
   "outputs": [
    {
     "data": {
      "text/plain": [
       "200"
      ]
     },
     "execution_count": 16,
     "metadata": {},
     "output_type": "execute_result"
    }
   ],
   "source": [
    "ps2['Birla']"
   ]
  },
  {
   "cell_type": "code",
   "execution_count": 17,
   "id": "af5ae160",
   "metadata": {},
   "outputs": [
    {
     "data": {
      "text/plain": [
       "200"
      ]
     },
     "execution_count": 17,
     "metadata": {},
     "output_type": "execute_result"
    }
   ],
   "source": [
    "ps2[1]"
   ]
  },
  {
   "cell_type": "code",
   "execution_count": 18,
   "id": "c04f7c4a",
   "metadata": {},
   "outputs": [
    {
     "data": {
      "text/plain": [
       "Tata     100\n",
       "Birla    200\n",
       "Wipro    300\n",
       "Infy     400\n",
       "HCL      500\n",
       "dtype: int64"
      ]
     },
     "execution_count": 18,
     "metadata": {},
     "output_type": "execute_result"
    }
   ],
   "source": [
    "ps2"
   ]
  },
  {
   "cell_type": "code",
   "execution_count": 19,
   "id": "db6ef5c5",
   "metadata": {},
   "outputs": [
    {
     "data": {
      "text/plain": [
       "Birla    200\n",
       "Wipro    300\n",
       "Infy     400\n",
       "dtype: int64"
      ]
     },
     "execution_count": 19,
     "metadata": {},
     "output_type": "execute_result"
    }
   ],
   "source": [
    "ps2[1:4]  ## numercal slice endpoint=False"
   ]
  },
  {
   "cell_type": "code",
   "execution_count": 20,
   "id": "dddb975d",
   "metadata": {},
   "outputs": [
    {
     "data": {
      "text/plain": [
       "Birla    200\n",
       "Wipro    300\n",
       "Infy     400\n",
       "dtype: int64"
      ]
     },
     "execution_count": 20,
     "metadata": {},
     "output_type": "execute_result"
    }
   ],
   "source": [
    "ps2['Birla':'Infy']  ##  label slice, endpoint=True"
   ]
  },
  {
   "cell_type": "code",
   "execution_count": 21,
   "id": "e9f234a0",
   "metadata": {},
   "outputs": [
    {
     "data": {
      "text/plain": [
       "Birla    200\n",
       "Infy     400\n",
       "dtype: int64"
      ]
     },
     "execution_count": 21,
     "metadata": {},
     "output_type": "execute_result"
    }
   ],
   "source": [
    "ps2[1:4:2]"
   ]
  },
  {
   "cell_type": "code",
   "execution_count": 22,
   "id": "9480088e",
   "metadata": {},
   "outputs": [
    {
     "data": {
      "text/plain": [
       "Tata     100\n",
       "Birla    200\n",
       "Wipro    300\n",
       "Infy     400\n",
       "HCL      500\n",
       "dtype: int64"
      ]
     },
     "execution_count": 22,
     "metadata": {},
     "output_type": "execute_result"
    }
   ],
   "source": [
    "ps2"
   ]
  },
  {
   "cell_type": "code",
   "execution_count": 23,
   "id": "4fca1554",
   "metadata": {},
   "outputs": [
    {
     "data": {
      "text/plain": [
       "Birla    200\n",
       "Infy     400\n",
       "dtype: int64"
      ]
     },
     "execution_count": 23,
     "metadata": {},
     "output_type": "execute_result"
    }
   ],
   "source": [
    "ps2['Birla':'HCL':2]"
   ]
  },
  {
   "cell_type": "code",
   "execution_count": 24,
   "id": "ed540d20",
   "metadata": {},
   "outputs": [
    {
     "data": {
      "text/plain": [
       "Tata     100\n",
       "Birla    200\n",
       "Wipro    300\n",
       "Infy     400\n",
       "HCL      500\n",
       "dtype: int64"
      ]
     },
     "execution_count": 24,
     "metadata": {},
     "output_type": "execute_result"
    }
   ],
   "source": [
    "ps2"
   ]
  },
  {
   "cell_type": "code",
   "execution_count": 25,
   "id": "02dfee45",
   "metadata": {},
   "outputs": [
    {
     "data": {
      "text/plain": [
       "Tata     100\n",
       "Infy     400\n",
       "Birla    200\n",
       "dtype: int64"
      ]
     },
     "execution_count": 25,
     "metadata": {},
     "output_type": "execute_result"
    }
   ],
   "source": [
    "ps2[  ['Tata','Infy','Birla'] ]  ##  vectored access"
   ]
  },
  {
   "cell_type": "code",
   "execution_count": 26,
   "id": "f38a396d",
   "metadata": {},
   "outputs": [
    {
     "data": {
      "text/plain": [
       "Tata     100\n",
       "Birla    200\n",
       "Wipro    300\n",
       "Infy     400\n",
       "HCL      500\n",
       "dtype: int64"
      ]
     },
     "execution_count": 26,
     "metadata": {},
     "output_type": "execute_result"
    }
   ],
   "source": [
    "ps2"
   ]
  },
  {
   "cell_type": "code",
   "execution_count": 27,
   "id": "41907f4d",
   "metadata": {},
   "outputs": [
    {
     "name": "stdout",
     "output_type": "stream",
     "text": [
      "<class 'pandas.core.series.Series'>\n"
     ]
    },
    {
     "data": {
      "text/plain": [
       "Tata     False\n",
       "Birla    False\n",
       "Wipro    False\n",
       "Infy      True\n",
       "HCL       True\n",
       "dtype: bool"
      ]
     },
     "execution_count": 27,
     "metadata": {},
     "output_type": "execute_result"
    }
   ],
   "source": [
    "mask1 = ps2 > 300\n",
    "print(type(mask1))\n",
    "mask1"
   ]
  },
  {
   "cell_type": "code",
   "execution_count": 28,
   "id": "572b654c",
   "metadata": {},
   "outputs": [
    {
     "data": {
      "text/plain": [
       "Infy    400\n",
       "HCL     500\n",
       "dtype: int64"
      ]
     },
     "execution_count": 28,
     "metadata": {},
     "output_type": "execute_result"
    }
   ],
   "source": [
    "ps2[mask1]"
   ]
  },
  {
   "cell_type": "code",
   "execution_count": 29,
   "id": "16b1d279",
   "metadata": {},
   "outputs": [
    {
     "data": {
      "text/plain": [
       "Infy    400\n",
       "HCL     500\n",
       "dtype: int64"
      ]
     },
     "execution_count": 29,
     "metadata": {},
     "output_type": "execute_result"
    }
   ],
   "source": [
    "ps2[ps2>300]"
   ]
  },
  {
   "cell_type": "markdown",
   "id": "1e35b318",
   "metadata": {},
   "source": [
    "# DataFrame"
   ]
  },
  {
   "cell_type": "raw",
   "id": "c9d90a47",
   "metadata": {},
   "source": [
    "          Rev   Exp   HQ\n",
    "\n",
    "Tata      200   100   'MUM'\n",
    "Birla     300   200   'KOL'\n",
    "Wipro     400   300    'BLR'\n",
    "Infy      500   400    'BLR'\n",
    "HCL       600   500    'NCR'"
   ]
  },
  {
   "cell_type": "code",
   "execution_count": 30,
   "id": "e241c84e",
   "metadata": {},
   "outputs": [],
   "source": [
    "mylist53 = [\n",
    "    [200,300,'Mum'],\n",
    "    [300,400,'Kol'],\n",
    "    [400, 300, 'Blr'],\n",
    "    [500, 400, 'Blr'],\n",
    "    [600,500,'NCR']\n",
    "]"
   ]
  },
  {
   "cell_type": "code",
   "execution_count": 31,
   "id": "119832f3",
   "metadata": {},
   "outputs": [
    {
     "name": "stdout",
     "output_type": "stream",
     "text": [
      "<class 'pandas.core.frame.DataFrame'>\n"
     ]
    },
    {
     "data": {
      "text/html": [
       "<div>\n",
       "<style scoped>\n",
       "    .dataframe tbody tr th:only-of-type {\n",
       "        vertical-align: middle;\n",
       "    }\n",
       "\n",
       "    .dataframe tbody tr th {\n",
       "        vertical-align: top;\n",
       "    }\n",
       "\n",
       "    .dataframe thead th {\n",
       "        text-align: right;\n",
       "    }\n",
       "</style>\n",
       "<table border=\"1\" class=\"dataframe\">\n",
       "  <thead>\n",
       "    <tr style=\"text-align: right;\">\n",
       "      <th></th>\n",
       "      <th>0</th>\n",
       "      <th>1</th>\n",
       "      <th>2</th>\n",
       "    </tr>\n",
       "  </thead>\n",
       "  <tbody>\n",
       "    <tr>\n",
       "      <th>0</th>\n",
       "      <td>200</td>\n",
       "      <td>300</td>\n",
       "      <td>Mum</td>\n",
       "    </tr>\n",
       "    <tr>\n",
       "      <th>1</th>\n",
       "      <td>300</td>\n",
       "      <td>400</td>\n",
       "      <td>Kol</td>\n",
       "    </tr>\n",
       "    <tr>\n",
       "      <th>2</th>\n",
       "      <td>400</td>\n",
       "      <td>300</td>\n",
       "      <td>Blr</td>\n",
       "    </tr>\n",
       "    <tr>\n",
       "      <th>3</th>\n",
       "      <td>500</td>\n",
       "      <td>400</td>\n",
       "      <td>Blr</td>\n",
       "    </tr>\n",
       "    <tr>\n",
       "      <th>4</th>\n",
       "      <td>600</td>\n",
       "      <td>500</td>\n",
       "      <td>NCR</td>\n",
       "    </tr>\n",
       "  </tbody>\n",
       "</table>\n",
       "</div>"
      ],
      "text/plain": [
       "     0    1    2\n",
       "0  200  300  Mum\n",
       "1  300  400  Kol\n",
       "2  400  300  Blr\n",
       "3  500  400  Blr\n",
       "4  600  500  NCR"
      ]
     },
     "execution_count": 31,
     "metadata": {},
     "output_type": "execute_result"
    }
   ],
   "source": [
    "df1 = pd.DataFrame(mylist53)  ##  unlabelled data frame\n",
    "print(type(df1))\n",
    "df1"
   ]
  },
  {
   "cell_type": "code",
   "execution_count": 32,
   "id": "8633fc4a",
   "metadata": {},
   "outputs": [
    {
     "data": {
      "text/plain": [
       "RangeIndex(start=0, stop=5, step=1)"
      ]
     },
     "execution_count": 32,
     "metadata": {},
     "output_type": "execute_result"
    }
   ],
   "source": [
    "df1.index"
   ]
  },
  {
   "cell_type": "code",
   "execution_count": 33,
   "id": "71d70b79",
   "metadata": {},
   "outputs": [
    {
     "data": {
      "text/plain": [
       "RangeIndex(start=0, stop=3, step=1)"
      ]
     },
     "execution_count": 33,
     "metadata": {},
     "output_type": "execute_result"
    }
   ],
   "source": [
    "df1.columns"
   ]
  },
  {
   "cell_type": "code",
   "execution_count": 34,
   "id": "09bcecf9",
   "metadata": {},
   "outputs": [],
   "source": [
    "row_list = ['Tata', 'Birla', 'Wipro', 'Infy', 'HCL']"
   ]
  },
  {
   "cell_type": "code",
   "execution_count": 35,
   "id": "5a3c3343",
   "metadata": {},
   "outputs": [
    {
     "data": {
      "text/html": [
       "<div>\n",
       "<style scoped>\n",
       "    .dataframe tbody tr th:only-of-type {\n",
       "        vertical-align: middle;\n",
       "    }\n",
       "\n",
       "    .dataframe tbody tr th {\n",
       "        vertical-align: top;\n",
       "    }\n",
       "\n",
       "    .dataframe thead th {\n",
       "        text-align: right;\n",
       "    }\n",
       "</style>\n",
       "<table border=\"1\" class=\"dataframe\">\n",
       "  <thead>\n",
       "    <tr style=\"text-align: right;\">\n",
       "      <th></th>\n",
       "      <th>0</th>\n",
       "      <th>1</th>\n",
       "      <th>2</th>\n",
       "    </tr>\n",
       "  </thead>\n",
       "  <tbody>\n",
       "    <tr>\n",
       "      <th>Tata</th>\n",
       "      <td>200</td>\n",
       "      <td>300</td>\n",
       "      <td>Mum</td>\n",
       "    </tr>\n",
       "    <tr>\n",
       "      <th>Birla</th>\n",
       "      <td>300</td>\n",
       "      <td>400</td>\n",
       "      <td>Kol</td>\n",
       "    </tr>\n",
       "    <tr>\n",
       "      <th>Wipro</th>\n",
       "      <td>400</td>\n",
       "      <td>300</td>\n",
       "      <td>Blr</td>\n",
       "    </tr>\n",
       "    <tr>\n",
       "      <th>Infy</th>\n",
       "      <td>500</td>\n",
       "      <td>400</td>\n",
       "      <td>Blr</td>\n",
       "    </tr>\n",
       "    <tr>\n",
       "      <th>HCL</th>\n",
       "      <td>600</td>\n",
       "      <td>500</td>\n",
       "      <td>NCR</td>\n",
       "    </tr>\n",
       "  </tbody>\n",
       "</table>\n",
       "</div>"
      ],
      "text/plain": [
       "         0    1    2\n",
       "Tata   200  300  Mum\n",
       "Birla  300  400  Kol\n",
       "Wipro  400  300  Blr\n",
       "Infy   500  400  Blr\n",
       "HCL    600  500  NCR"
      ]
     },
     "execution_count": 35,
     "metadata": {},
     "output_type": "execute_result"
    }
   ],
   "source": [
    "df2 = pd.DataFrame(mylist53, index=row_list)\n",
    "df2"
   ]
  },
  {
   "cell_type": "code",
   "execution_count": 36,
   "id": "108f0545",
   "metadata": {},
   "outputs": [
    {
     "data": {
      "text/plain": [
       "Index(['Tata', 'Birla', 'Wipro', 'Infy', 'HCL'], dtype='object')"
      ]
     },
     "execution_count": 36,
     "metadata": {},
     "output_type": "execute_result"
    }
   ],
   "source": [
    "df2.index"
   ]
  },
  {
   "cell_type": "code",
   "execution_count": 37,
   "id": "18867554",
   "metadata": {},
   "outputs": [
    {
     "data": {
      "text/plain": [
       "RangeIndex(start=0, stop=3, step=1)"
      ]
     },
     "execution_count": 37,
     "metadata": {},
     "output_type": "execute_result"
    }
   ],
   "source": [
    "df2.columns"
   ]
  },
  {
   "cell_type": "code",
   "execution_count": 38,
   "id": "0f85c3f4",
   "metadata": {},
   "outputs": [],
   "source": [
    "col_list = ['Rev', 'Exp', 'HQ']"
   ]
  },
  {
   "cell_type": "code",
   "execution_count": 39,
   "id": "abceb259",
   "metadata": {},
   "outputs": [
    {
     "data": {
      "text/html": [
       "<div>\n",
       "<style scoped>\n",
       "    .dataframe tbody tr th:only-of-type {\n",
       "        vertical-align: middle;\n",
       "    }\n",
       "\n",
       "    .dataframe tbody tr th {\n",
       "        vertical-align: top;\n",
       "    }\n",
       "\n",
       "    .dataframe thead th {\n",
       "        text-align: right;\n",
       "    }\n",
       "</style>\n",
       "<table border=\"1\" class=\"dataframe\">\n",
       "  <thead>\n",
       "    <tr style=\"text-align: right;\">\n",
       "      <th></th>\n",
       "      <th>Rev</th>\n",
       "      <th>Exp</th>\n",
       "      <th>HQ</th>\n",
       "    </tr>\n",
       "  </thead>\n",
       "  <tbody>\n",
       "    <tr>\n",
       "      <th>Tata</th>\n",
       "      <td>200</td>\n",
       "      <td>300</td>\n",
       "      <td>Mum</td>\n",
       "    </tr>\n",
       "    <tr>\n",
       "      <th>Birla</th>\n",
       "      <td>300</td>\n",
       "      <td>400</td>\n",
       "      <td>Kol</td>\n",
       "    </tr>\n",
       "    <tr>\n",
       "      <th>Wipro</th>\n",
       "      <td>400</td>\n",
       "      <td>300</td>\n",
       "      <td>Blr</td>\n",
       "    </tr>\n",
       "    <tr>\n",
       "      <th>Infy</th>\n",
       "      <td>500</td>\n",
       "      <td>400</td>\n",
       "      <td>Blr</td>\n",
       "    </tr>\n",
       "    <tr>\n",
       "      <th>HCL</th>\n",
       "      <td>600</td>\n",
       "      <td>500</td>\n",
       "      <td>NCR</td>\n",
       "    </tr>\n",
       "  </tbody>\n",
       "</table>\n",
       "</div>"
      ],
      "text/plain": [
       "       Rev  Exp   HQ\n",
       "Tata   200  300  Mum\n",
       "Birla  300  400  Kol\n",
       "Wipro  400  300  Blr\n",
       "Infy   500  400  Blr\n",
       "HCL    600  500  NCR"
      ]
     },
     "execution_count": 39,
     "metadata": {},
     "output_type": "execute_result"
    }
   ],
   "source": [
    "df2 = pd.DataFrame(mylist53, index=row_list, columns=col_list)  ## labelled data frame\n",
    "df2"
   ]
  },
  {
   "cell_type": "code",
   "execution_count": 40,
   "id": "4665290c",
   "metadata": {},
   "outputs": [
    {
     "data": {
      "text/plain": [
       "Index(['Tata', 'Birla', 'Wipro', 'Infy', 'HCL'], dtype='object')"
      ]
     },
     "execution_count": 40,
     "metadata": {},
     "output_type": "execute_result"
    }
   ],
   "source": [
    "df2.index"
   ]
  },
  {
   "cell_type": "code",
   "execution_count": 41,
   "id": "ca477097",
   "metadata": {},
   "outputs": [
    {
     "data": {
      "text/plain": [
       "Index(['Rev', 'Exp', 'HQ'], dtype='object')"
      ]
     },
     "execution_count": 41,
     "metadata": {},
     "output_type": "execute_result"
    }
   ],
   "source": [
    "df2.columns"
   ]
  },
  {
   "cell_type": "raw",
   "id": "33283818",
   "metadata": {},
   "source": [
    "          Rev   Exp   HQ\n",
    "\n",
    "Tata      200   100   'MUM'\n",
    "Birla     300   200   'KOL'\n",
    "Wipro     400   300    'BLR'\n",
    "Infy      500   400    'BLR'\n",
    "HCL       600   500    'NCR'"
   ]
  },
  {
   "cell_type": "code",
   "execution_count": 42,
   "id": "6e16015a",
   "metadata": {},
   "outputs": [
    {
     "data": {
      "text/plain": [
       "{'Rev': [200, 300, 400, 500, 600],\n",
       " 'Exp': [100, 200, 300, 400, 500],\n",
       " 'HQ': ['Mum', 'Kol', 'Blr', 'Blr', 'NCR']}"
      ]
     },
     "execution_count": 42,
     "metadata": {},
     "output_type": "execute_result"
    }
   ],
   "source": [
    "md1 = {'Rev':[200,300,400,500,600], \n",
    "       'Exp':[100,200,300,400,500], \n",
    "       'HQ':['Mum','Kol','Blr','Blr','NCR']}\n",
    "md1"
   ]
  },
  {
   "cell_type": "code",
   "execution_count": 43,
   "id": "74a7f75f",
   "metadata": {},
   "outputs": [
    {
     "data": {
      "text/html": [
       "<div>\n",
       "<style scoped>\n",
       "    .dataframe tbody tr th:only-of-type {\n",
       "        vertical-align: middle;\n",
       "    }\n",
       "\n",
       "    .dataframe tbody tr th {\n",
       "        vertical-align: top;\n",
       "    }\n",
       "\n",
       "    .dataframe thead th {\n",
       "        text-align: right;\n",
       "    }\n",
       "</style>\n",
       "<table border=\"1\" class=\"dataframe\">\n",
       "  <thead>\n",
       "    <tr style=\"text-align: right;\">\n",
       "      <th></th>\n",
       "      <th>Rev</th>\n",
       "      <th>Exp</th>\n",
       "      <th>HQ</th>\n",
       "    </tr>\n",
       "  </thead>\n",
       "  <tbody>\n",
       "    <tr>\n",
       "      <th>0</th>\n",
       "      <td>200</td>\n",
       "      <td>100</td>\n",
       "      <td>Mum</td>\n",
       "    </tr>\n",
       "    <tr>\n",
       "      <th>1</th>\n",
       "      <td>300</td>\n",
       "      <td>200</td>\n",
       "      <td>Kol</td>\n",
       "    </tr>\n",
       "    <tr>\n",
       "      <th>2</th>\n",
       "      <td>400</td>\n",
       "      <td>300</td>\n",
       "      <td>Blr</td>\n",
       "    </tr>\n",
       "    <tr>\n",
       "      <th>3</th>\n",
       "      <td>500</td>\n",
       "      <td>400</td>\n",
       "      <td>Blr</td>\n",
       "    </tr>\n",
       "    <tr>\n",
       "      <th>4</th>\n",
       "      <td>600</td>\n",
       "      <td>500</td>\n",
       "      <td>NCR</td>\n",
       "    </tr>\n",
       "  </tbody>\n",
       "</table>\n",
       "</div>"
      ],
      "text/plain": [
       "   Rev  Exp   HQ\n",
       "0  200  100  Mum\n",
       "1  300  200  Kol\n",
       "2  400  300  Blr\n",
       "3  500  400  Blr\n",
       "4  600  500  NCR"
      ]
     },
     "execution_count": 43,
     "metadata": {},
     "output_type": "execute_result"
    }
   ],
   "source": [
    "df4 = pd.DataFrame(md1)\n",
    "df4"
   ]
  },
  {
   "cell_type": "code",
   "execution_count": 44,
   "id": "8b5d0295",
   "metadata": {},
   "outputs": [
    {
     "data": {
      "text/html": [
       "<div>\n",
       "<style scoped>\n",
       "    .dataframe tbody tr th:only-of-type {\n",
       "        vertical-align: middle;\n",
       "    }\n",
       "\n",
       "    .dataframe tbody tr th {\n",
       "        vertical-align: top;\n",
       "    }\n",
       "\n",
       "    .dataframe thead th {\n",
       "        text-align: right;\n",
       "    }\n",
       "</style>\n",
       "<table border=\"1\" class=\"dataframe\">\n",
       "  <thead>\n",
       "    <tr style=\"text-align: right;\">\n",
       "      <th></th>\n",
       "      <th>Rev</th>\n",
       "      <th>Exp</th>\n",
       "      <th>HQ</th>\n",
       "    </tr>\n",
       "  </thead>\n",
       "  <tbody>\n",
       "    <tr>\n",
       "      <th>Tata</th>\n",
       "      <td>200</td>\n",
       "      <td>100</td>\n",
       "      <td>Mum</td>\n",
       "    </tr>\n",
       "    <tr>\n",
       "      <th>Birla</th>\n",
       "      <td>300</td>\n",
       "      <td>200</td>\n",
       "      <td>Kol</td>\n",
       "    </tr>\n",
       "    <tr>\n",
       "      <th>Wipro</th>\n",
       "      <td>400</td>\n",
       "      <td>300</td>\n",
       "      <td>Blr</td>\n",
       "    </tr>\n",
       "    <tr>\n",
       "      <th>Infy</th>\n",
       "      <td>500</td>\n",
       "      <td>400</td>\n",
       "      <td>Blr</td>\n",
       "    </tr>\n",
       "    <tr>\n",
       "      <th>HCL</th>\n",
       "      <td>600</td>\n",
       "      <td>500</td>\n",
       "      <td>NCR</td>\n",
       "    </tr>\n",
       "  </tbody>\n",
       "</table>\n",
       "</div>"
      ],
      "text/plain": [
       "       Rev  Exp   HQ\n",
       "Tata   200  100  Mum\n",
       "Birla  300  200  Kol\n",
       "Wipro  400  300  Blr\n",
       "Infy   500  400  Blr\n",
       "HCL    600  500  NCR"
      ]
     },
     "execution_count": 44,
     "metadata": {},
     "output_type": "execute_result"
    }
   ],
   "source": [
    "df5 = pd.DataFrame(md1, index=row_list)\n",
    "df5"
   ]
  },
  {
   "cell_type": "markdown",
   "id": "74fc521a",
   "metadata": {},
   "source": [
    "# DF File Access"
   ]
  },
  {
   "cell_type": "code",
   "execution_count": 45,
   "id": "de2bdff5",
   "metadata": {},
   "outputs": [
    {
     "data": {
      "text/html": [
       "<div>\n",
       "<style scoped>\n",
       "    .dataframe tbody tr th:only-of-type {\n",
       "        vertical-align: middle;\n",
       "    }\n",
       "\n",
       "    .dataframe tbody tr th {\n",
       "        vertical-align: top;\n",
       "    }\n",
       "\n",
       "    .dataframe thead th {\n",
       "        text-align: right;\n",
       "    }\n",
       "</style>\n",
       "<table border=\"1\" class=\"dataframe\">\n",
       "  <thead>\n",
       "    <tr style=\"text-align: right;\">\n",
       "      <th></th>\n",
       "      <th>Vol</th>\n",
       "      <th>Rev</th>\n",
       "      <th>Exp</th>\n",
       "      <th>Sector</th>\n",
       "      <th>EmpCnt</th>\n",
       "      <th>HQ</th>\n",
       "      <th>MNC</th>\n",
       "      <th>StockID</th>\n",
       "      <th>GST</th>\n",
       "      <th>Started</th>\n",
       "    </tr>\n",
       "  </thead>\n",
       "  <tbody>\n",
       "    <tr>\n",
       "      <th>Deccan_Sporting</th>\n",
       "      <td>931</td>\n",
       "      <td>839.80</td>\n",
       "      <td>615</td>\n",
       "      <td>Pvt</td>\n",
       "      <td>154</td>\n",
       "      <td>Hyd</td>\n",
       "      <td>1</td>\n",
       "      <td>SPRT</td>\n",
       "      <td>Services</td>\n",
       "      <td>Mar 1943</td>\n",
       "    </tr>\n",
       "    <tr>\n",
       "      <th>Kolkata_FMCG</th>\n",
       "      <td>925</td>\n",
       "      <td>874.40</td>\n",
       "      <td>676</td>\n",
       "      <td>Pub</td>\n",
       "      <td>1379</td>\n",
       "      <td>Kol</td>\n",
       "      <td>0</td>\n",
       "      <td>KFMC</td>\n",
       "      <td>Goods</td>\n",
       "      <td>Jan 1920</td>\n",
       "    </tr>\n",
       "    <tr>\n",
       "      <th>NCR_Leagles</th>\n",
       "      <td>931</td>\n",
       "      <td>863.50</td>\n",
       "      <td>605</td>\n",
       "      <td>Pub</td>\n",
       "      <td>1935</td>\n",
       "      <td>NCR</td>\n",
       "      <td>0</td>\n",
       "      <td>NCRL</td>\n",
       "      <td>Services</td>\n",
       "      <td>Feb 1960</td>\n",
       "    </tr>\n",
       "    <tr>\n",
       "      <th>Bangalore_Systems</th>\n",
       "      <td>900</td>\n",
       "      <td>881.60</td>\n",
       "      <td>650</td>\n",
       "      <td>Gov</td>\n",
       "      <td>1361</td>\n",
       "      <td>Blr</td>\n",
       "      <td>0</td>\n",
       "      <td>BSYS</td>\n",
       "      <td>Services</td>\n",
       "      <td>Apr 1950</td>\n",
       "    </tr>\n",
       "    <tr>\n",
       "      <th>Chennai_Chemicals</th>\n",
       "      <td>966</td>\n",
       "      <td>863.20</td>\n",
       "      <td>608</td>\n",
       "      <td>Pub</td>\n",
       "      <td>1656</td>\n",
       "      <td>Che</td>\n",
       "      <td>1</td>\n",
       "      <td>CHEM</td>\n",
       "      <td>Goods</td>\n",
       "      <td>Aug 1928</td>\n",
       "    </tr>\n",
       "    <tr>\n",
       "      <th>Indi_Services</th>\n",
       "      <td>954</td>\n",
       "      <td>733.00</td>\n",
       "      <td>609</td>\n",
       "      <td>Gov</td>\n",
       "      <td>13023</td>\n",
       "      <td>NCR</td>\n",
       "      <td>0</td>\n",
       "      <td>INDI</td>\n",
       "      <td>Services</td>\n",
       "      <td>Mar 1920</td>\n",
       "    </tr>\n",
       "    <tr>\n",
       "      <th>Bangalore_Breweries</th>\n",
       "      <td>966</td>\n",
       "      <td>805.00</td>\n",
       "      <td>895</td>\n",
       "      <td>Pvt</td>\n",
       "      <td>119</td>\n",
       "      <td>Blr</td>\n",
       "      <td>1</td>\n",
       "      <td>BREW</td>\n",
       "      <td>Goods</td>\n",
       "      <td>Oct 1971</td>\n",
       "    </tr>\n",
       "    <tr>\n",
       "      <th>Bombay_Finance</th>\n",
       "      <td>899</td>\n",
       "      <td>917.00</td>\n",
       "      <td>674</td>\n",
       "      <td>Pub</td>\n",
       "      <td>1443</td>\n",
       "      <td>Mum</td>\n",
       "      <td>0</td>\n",
       "      <td>BFIN</td>\n",
       "      <td>Services</td>\n",
       "      <td>Apr 1925</td>\n",
       "    </tr>\n",
       "    <tr>\n",
       "      <th>Chennai_Shipping</th>\n",
       "      <td>992</td>\n",
       "      <td>821.00</td>\n",
       "      <td>665</td>\n",
       "      <td>Pub</td>\n",
       "      <td>1154</td>\n",
       "      <td>Che</td>\n",
       "      <td>1</td>\n",
       "      <td>SHIP</td>\n",
       "      <td>Goods</td>\n",
       "      <td>Nov 1930</td>\n",
       "    </tr>\n",
       "    <tr>\n",
       "      <th>Eastern_Estates</th>\n",
       "      <td>945</td>\n",
       "      <td>834.23</td>\n",
       "      <td>789</td>\n",
       "      <td>Pvt</td>\n",
       "      <td>1873</td>\n",
       "      <td>Kol</td>\n",
       "      <td>1</td>\n",
       "      <td>EEST</td>\n",
       "      <td>Goods</td>\n",
       "      <td>Jan 1994</td>\n",
       "    </tr>\n",
       "  </tbody>\n",
       "</table>\n",
       "</div>"
      ],
      "text/plain": [
       "                     Vol     Rev  Exp Sector  EmpCnt   HQ  MNC StockID  \\\n",
       "Deccan_Sporting      931  839.80  615    Pvt     154  Hyd    1    SPRT   \n",
       "Kolkata_FMCG         925  874.40  676    Pub    1379  Kol    0    KFMC   \n",
       "NCR_Leagles          931  863.50  605    Pub    1935  NCR    0    NCRL   \n",
       "Bangalore_Systems    900  881.60  650    Gov    1361  Blr    0    BSYS   \n",
       "Chennai_Chemicals    966  863.20  608    Pub    1656  Che    1    CHEM   \n",
       "Indi_Services        954  733.00  609    Gov   13023  NCR    0    INDI   \n",
       "Bangalore_Breweries  966  805.00  895    Pvt     119  Blr    1    BREW   \n",
       "Bombay_Finance       899  917.00  674    Pub    1443  Mum    0    BFIN   \n",
       "Chennai_Shipping     992  821.00  665    Pub    1154  Che    1    SHIP   \n",
       "Eastern_Estates      945  834.23  789    Pvt    1873  Kol    1    EEST   \n",
       "\n",
       "                          GST   Started  \n",
       "Deccan_Sporting      Services  Mar 1943  \n",
       "Kolkata_FMCG            Goods  Jan 1920  \n",
       "NCR_Leagles          Services  Feb 1960  \n",
       "Bangalore_Systems    Services  Apr 1950  \n",
       "Chennai_Chemicals       Goods  Aug 1928  \n",
       "Indi_Services        Services  Mar 1920  \n",
       "Bangalore_Breweries     Goods  Oct 1971  \n",
       "Bombay_Finance       Services  Apr 1925  \n",
       "Chennai_Shipping        Goods  Nov 1930  \n",
       "Eastern_Estates         Goods  Jan 1994  "
      ]
     },
     "execution_count": 45,
     "metadata": {},
     "output_type": "execute_result"
    }
   ],
   "source": [
    "df1 = pd.read_csv('https://raw.githubusercontent.com/vcsgithub/vcsgithub.github.io/master/lds1.csv')\n",
    "df1"
   ]
  },
  {
   "cell_type": "code",
   "execution_count": 46,
   "id": "cc1fc678",
   "metadata": {},
   "outputs": [],
   "source": [
    "df1.to_csv('lds1.csv')"
   ]
  },
  {
   "cell_type": "code",
   "execution_count": 47,
   "id": "85e807b0",
   "metadata": {},
   "outputs": [
    {
     "data": {
      "text/html": [
       "<div>\n",
       "<style scoped>\n",
       "    .dataframe tbody tr th:only-of-type {\n",
       "        vertical-align: middle;\n",
       "    }\n",
       "\n",
       "    .dataframe tbody tr th {\n",
       "        vertical-align: top;\n",
       "    }\n",
       "\n",
       "    .dataframe thead th {\n",
       "        text-align: right;\n",
       "    }\n",
       "</style>\n",
       "<table border=\"1\" class=\"dataframe\">\n",
       "  <thead>\n",
       "    <tr style=\"text-align: right;\">\n",
       "      <th></th>\n",
       "      <th>Vol</th>\n",
       "      <th>Rev</th>\n",
       "      <th>Exp</th>\n",
       "      <th>Sector</th>\n",
       "      <th>EmpCnt</th>\n",
       "      <th>HQ</th>\n",
       "      <th>MNC</th>\n",
       "      <th>StockID</th>\n",
       "      <th>GST</th>\n",
       "      <th>Started</th>\n",
       "    </tr>\n",
       "  </thead>\n",
       "  <tbody>\n",
       "    <tr>\n",
       "      <th>Deccan_Sporting</th>\n",
       "      <td>931</td>\n",
       "      <td>839.80</td>\n",
       "      <td>615</td>\n",
       "      <td>Pvt</td>\n",
       "      <td>154</td>\n",
       "      <td>Hyd</td>\n",
       "      <td>1</td>\n",
       "      <td>SPRT</td>\n",
       "      <td>Services</td>\n",
       "      <td>Mar 1943</td>\n",
       "    </tr>\n",
       "    <tr>\n",
       "      <th>Kolkata_FMCG</th>\n",
       "      <td>925</td>\n",
       "      <td>874.40</td>\n",
       "      <td>676</td>\n",
       "      <td>Pub</td>\n",
       "      <td>1379</td>\n",
       "      <td>Kol</td>\n",
       "      <td>0</td>\n",
       "      <td>KFMC</td>\n",
       "      <td>Goods</td>\n",
       "      <td>Jan 1920</td>\n",
       "    </tr>\n",
       "    <tr>\n",
       "      <th>NCR_Leagles</th>\n",
       "      <td>931</td>\n",
       "      <td>863.50</td>\n",
       "      <td>605</td>\n",
       "      <td>Pub</td>\n",
       "      <td>1935</td>\n",
       "      <td>NCR</td>\n",
       "      <td>0</td>\n",
       "      <td>NCRL</td>\n",
       "      <td>Services</td>\n",
       "      <td>Feb 1960</td>\n",
       "    </tr>\n",
       "    <tr>\n",
       "      <th>Bangalore_Systems</th>\n",
       "      <td>900</td>\n",
       "      <td>881.60</td>\n",
       "      <td>650</td>\n",
       "      <td>Gov</td>\n",
       "      <td>1361</td>\n",
       "      <td>Blr</td>\n",
       "      <td>0</td>\n",
       "      <td>BSYS</td>\n",
       "      <td>Services</td>\n",
       "      <td>Apr 1950</td>\n",
       "    </tr>\n",
       "    <tr>\n",
       "      <th>Chennai_Chemicals</th>\n",
       "      <td>966</td>\n",
       "      <td>863.20</td>\n",
       "      <td>608</td>\n",
       "      <td>Pub</td>\n",
       "      <td>1656</td>\n",
       "      <td>Che</td>\n",
       "      <td>1</td>\n",
       "      <td>CHEM</td>\n",
       "      <td>Goods</td>\n",
       "      <td>Aug 1928</td>\n",
       "    </tr>\n",
       "    <tr>\n",
       "      <th>Indi_Services</th>\n",
       "      <td>954</td>\n",
       "      <td>733.00</td>\n",
       "      <td>609</td>\n",
       "      <td>Gov</td>\n",
       "      <td>13023</td>\n",
       "      <td>NCR</td>\n",
       "      <td>0</td>\n",
       "      <td>INDI</td>\n",
       "      <td>Services</td>\n",
       "      <td>Mar 1920</td>\n",
       "    </tr>\n",
       "    <tr>\n",
       "      <th>Bangalore_Breweries</th>\n",
       "      <td>966</td>\n",
       "      <td>805.00</td>\n",
       "      <td>895</td>\n",
       "      <td>Pvt</td>\n",
       "      <td>119</td>\n",
       "      <td>Blr</td>\n",
       "      <td>1</td>\n",
       "      <td>BREW</td>\n",
       "      <td>Goods</td>\n",
       "      <td>Oct 1971</td>\n",
       "    </tr>\n",
       "    <tr>\n",
       "      <th>Bombay_Finance</th>\n",
       "      <td>899</td>\n",
       "      <td>917.00</td>\n",
       "      <td>674</td>\n",
       "      <td>Pub</td>\n",
       "      <td>1443</td>\n",
       "      <td>Mum</td>\n",
       "      <td>0</td>\n",
       "      <td>BFIN</td>\n",
       "      <td>Services</td>\n",
       "      <td>Apr 1925</td>\n",
       "    </tr>\n",
       "    <tr>\n",
       "      <th>Chennai_Shipping</th>\n",
       "      <td>992</td>\n",
       "      <td>821.00</td>\n",
       "      <td>665</td>\n",
       "      <td>Pub</td>\n",
       "      <td>1154</td>\n",
       "      <td>Che</td>\n",
       "      <td>1</td>\n",
       "      <td>SHIP</td>\n",
       "      <td>Goods</td>\n",
       "      <td>Nov 1930</td>\n",
       "    </tr>\n",
       "    <tr>\n",
       "      <th>Eastern_Estates</th>\n",
       "      <td>945</td>\n",
       "      <td>834.23</td>\n",
       "      <td>789</td>\n",
       "      <td>Pvt</td>\n",
       "      <td>1873</td>\n",
       "      <td>Kol</td>\n",
       "      <td>1</td>\n",
       "      <td>EEST</td>\n",
       "      <td>Goods</td>\n",
       "      <td>Jan 1994</td>\n",
       "    </tr>\n",
       "  </tbody>\n",
       "</table>\n",
       "</div>"
      ],
      "text/plain": [
       "                     Vol     Rev  Exp Sector  EmpCnt   HQ  MNC StockID  \\\n",
       "Deccan_Sporting      931  839.80  615    Pvt     154  Hyd    1    SPRT   \n",
       "Kolkata_FMCG         925  874.40  676    Pub    1379  Kol    0    KFMC   \n",
       "NCR_Leagles          931  863.50  605    Pub    1935  NCR    0    NCRL   \n",
       "Bangalore_Systems    900  881.60  650    Gov    1361  Blr    0    BSYS   \n",
       "Chennai_Chemicals    966  863.20  608    Pub    1656  Che    1    CHEM   \n",
       "Indi_Services        954  733.00  609    Gov   13023  NCR    0    INDI   \n",
       "Bangalore_Breweries  966  805.00  895    Pvt     119  Blr    1    BREW   \n",
       "Bombay_Finance       899  917.00  674    Pub    1443  Mum    0    BFIN   \n",
       "Chennai_Shipping     992  821.00  665    Pub    1154  Che    1    SHIP   \n",
       "Eastern_Estates      945  834.23  789    Pvt    1873  Kol    1    EEST   \n",
       "\n",
       "                          GST   Started  \n",
       "Deccan_Sporting      Services  Mar 1943  \n",
       "Kolkata_FMCG            Goods  Jan 1920  \n",
       "NCR_Leagles          Services  Feb 1960  \n",
       "Bangalore_Systems    Services  Apr 1950  \n",
       "Chennai_Chemicals       Goods  Aug 1928  \n",
       "Indi_Services        Services  Mar 1920  \n",
       "Bangalore_Breweries     Goods  Oct 1971  \n",
       "Bombay_Finance       Services  Apr 1925  \n",
       "Chennai_Shipping        Goods  Nov 1930  \n",
       "Eastern_Estates         Goods  Jan 1994  "
      ]
     },
     "execution_count": 47,
     "metadata": {},
     "output_type": "execute_result"
    }
   ],
   "source": [
    "df1 = pd.read_csv('lds1.csv', index_col=0)\n",
    "df1"
   ]
  },
  {
   "cell_type": "code",
   "execution_count": 48,
   "id": "58fea0a2",
   "metadata": {},
   "outputs": [
    {
     "data": {
      "text/html": [
       "<div>\n",
       "<style scoped>\n",
       "    .dataframe tbody tr th:only-of-type {\n",
       "        vertical-align: middle;\n",
       "    }\n",
       "\n",
       "    .dataframe tbody tr th {\n",
       "        vertical-align: top;\n",
       "    }\n",
       "\n",
       "    .dataframe thead th {\n",
       "        text-align: right;\n",
       "    }\n",
       "</style>\n",
       "<table border=\"1\" class=\"dataframe\">\n",
       "  <thead>\n",
       "    <tr style=\"text-align: right;\">\n",
       "      <th></th>\n",
       "      <th>Vol</th>\n",
       "      <th>Rev</th>\n",
       "      <th>Exp</th>\n",
       "      <th>Sector</th>\n",
       "      <th>EmpCnt</th>\n",
       "      <th>HQ</th>\n",
       "      <th>MNC</th>\n",
       "      <th>StockID</th>\n",
       "      <th>GST</th>\n",
       "      <th>Started</th>\n",
       "    </tr>\n",
       "  </thead>\n",
       "  <tbody>\n",
       "    <tr>\n",
       "      <th>Deccan_Sporting</th>\n",
       "      <td>931</td>\n",
       "      <td>839.80</td>\n",
       "      <td>615</td>\n",
       "      <td>Pvt</td>\n",
       "      <td>154</td>\n",
       "      <td>Hyd</td>\n",
       "      <td>1</td>\n",
       "      <td>SPRT</td>\n",
       "      <td>Services</td>\n",
       "      <td>Mar 1943</td>\n",
       "    </tr>\n",
       "    <tr>\n",
       "      <th>Kolkata_FMCG</th>\n",
       "      <td>925</td>\n",
       "      <td>874.40</td>\n",
       "      <td>676</td>\n",
       "      <td>Pub</td>\n",
       "      <td>1379</td>\n",
       "      <td>Kol</td>\n",
       "      <td>0</td>\n",
       "      <td>KFMC</td>\n",
       "      <td>Goods</td>\n",
       "      <td>Jan 1920</td>\n",
       "    </tr>\n",
       "    <tr>\n",
       "      <th>NCR_Leagles</th>\n",
       "      <td>931</td>\n",
       "      <td>863.50</td>\n",
       "      <td>605</td>\n",
       "      <td>Pub</td>\n",
       "      <td>1935</td>\n",
       "      <td>NCR</td>\n",
       "      <td>0</td>\n",
       "      <td>NCRL</td>\n",
       "      <td>Services</td>\n",
       "      <td>Feb 1960</td>\n",
       "    </tr>\n",
       "    <tr>\n",
       "      <th>Bangalore_Systems</th>\n",
       "      <td>900</td>\n",
       "      <td>881.60</td>\n",
       "      <td>650</td>\n",
       "      <td>Gov</td>\n",
       "      <td>1361</td>\n",
       "      <td>Blr</td>\n",
       "      <td>0</td>\n",
       "      <td>BSYS</td>\n",
       "      <td>Services</td>\n",
       "      <td>Apr 1950</td>\n",
       "    </tr>\n",
       "    <tr>\n",
       "      <th>Chennai_Chemicals</th>\n",
       "      <td>966</td>\n",
       "      <td>863.20</td>\n",
       "      <td>608</td>\n",
       "      <td>Pub</td>\n",
       "      <td>1656</td>\n",
       "      <td>Che</td>\n",
       "      <td>1</td>\n",
       "      <td>CHEM</td>\n",
       "      <td>Goods</td>\n",
       "      <td>Aug 1928</td>\n",
       "    </tr>\n",
       "    <tr>\n",
       "      <th>Indi_Services</th>\n",
       "      <td>954</td>\n",
       "      <td>733.00</td>\n",
       "      <td>609</td>\n",
       "      <td>Gov</td>\n",
       "      <td>13023</td>\n",
       "      <td>NCR</td>\n",
       "      <td>0</td>\n",
       "      <td>INDI</td>\n",
       "      <td>Services</td>\n",
       "      <td>Mar 1920</td>\n",
       "    </tr>\n",
       "    <tr>\n",
       "      <th>Bangalore_Breweries</th>\n",
       "      <td>966</td>\n",
       "      <td>805.00</td>\n",
       "      <td>895</td>\n",
       "      <td>Pvt</td>\n",
       "      <td>119</td>\n",
       "      <td>Blr</td>\n",
       "      <td>1</td>\n",
       "      <td>BREW</td>\n",
       "      <td>Goods</td>\n",
       "      <td>Oct 1971</td>\n",
       "    </tr>\n",
       "    <tr>\n",
       "      <th>Bombay_Finance</th>\n",
       "      <td>899</td>\n",
       "      <td>917.00</td>\n",
       "      <td>674</td>\n",
       "      <td>Pub</td>\n",
       "      <td>1443</td>\n",
       "      <td>Mum</td>\n",
       "      <td>0</td>\n",
       "      <td>BFIN</td>\n",
       "      <td>Services</td>\n",
       "      <td>Apr 1925</td>\n",
       "    </tr>\n",
       "    <tr>\n",
       "      <th>Chennai_Shipping</th>\n",
       "      <td>992</td>\n",
       "      <td>821.00</td>\n",
       "      <td>665</td>\n",
       "      <td>Pub</td>\n",
       "      <td>1154</td>\n",
       "      <td>Che</td>\n",
       "      <td>1</td>\n",
       "      <td>SHIP</td>\n",
       "      <td>Goods</td>\n",
       "      <td>Nov 1930</td>\n",
       "    </tr>\n",
       "    <tr>\n",
       "      <th>Eastern_Estates</th>\n",
       "      <td>945</td>\n",
       "      <td>834.23</td>\n",
       "      <td>789</td>\n",
       "      <td>Pvt</td>\n",
       "      <td>1873</td>\n",
       "      <td>Kol</td>\n",
       "      <td>1</td>\n",
       "      <td>EEST</td>\n",
       "      <td>Goods</td>\n",
       "      <td>Jan 1994</td>\n",
       "    </tr>\n",
       "  </tbody>\n",
       "</table>\n",
       "</div>"
      ],
      "text/plain": [
       "                     Vol     Rev  Exp Sector  EmpCnt   HQ  MNC StockID  \\\n",
       "Deccan_Sporting      931  839.80  615    Pvt     154  Hyd    1    SPRT   \n",
       "Kolkata_FMCG         925  874.40  676    Pub    1379  Kol    0    KFMC   \n",
       "NCR_Leagles          931  863.50  605    Pub    1935  NCR    0    NCRL   \n",
       "Bangalore_Systems    900  881.60  650    Gov    1361  Blr    0    BSYS   \n",
       "Chennai_Chemicals    966  863.20  608    Pub    1656  Che    1    CHEM   \n",
       "Indi_Services        954  733.00  609    Gov   13023  NCR    0    INDI   \n",
       "Bangalore_Breweries  966  805.00  895    Pvt     119  Blr    1    BREW   \n",
       "Bombay_Finance       899  917.00  674    Pub    1443  Mum    0    BFIN   \n",
       "Chennai_Shipping     992  821.00  665    Pub    1154  Che    1    SHIP   \n",
       "Eastern_Estates      945  834.23  789    Pvt    1873  Kol    1    EEST   \n",
       "\n",
       "                          GST   Started  \n",
       "Deccan_Sporting      Services  Mar 1943  \n",
       "Kolkata_FMCG            Goods  Jan 1920  \n",
       "NCR_Leagles          Services  Feb 1960  \n",
       "Bangalore_Systems    Services  Apr 1950  \n",
       "Chennai_Chemicals       Goods  Aug 1928  \n",
       "Indi_Services        Services  Mar 1920  \n",
       "Bangalore_Breweries     Goods  Oct 1971  \n",
       "Bombay_Finance       Services  Apr 1925  \n",
       "Chennai_Shipping        Goods  Nov 1930  \n",
       "Eastern_Estates         Goods  Jan 1994  "
      ]
     },
     "execution_count": 48,
     "metadata": {},
     "output_type": "execute_result"
    }
   ],
   "source": [
    "df1"
   ]
  },
  {
   "cell_type": "code",
   "execution_count": 49,
   "id": "187b2ea6",
   "metadata": {},
   "outputs": [],
   "source": [
    "#df1.to_excel('lds1.xlsx')"
   ]
  },
  {
   "cell_type": "code",
   "execution_count": 50,
   "id": "05729859",
   "metadata": {},
   "outputs": [],
   "source": [
    "df1.to_json('lds1.json')"
   ]
  },
  {
   "cell_type": "code",
   "execution_count": 51,
   "id": "732a0466",
   "metadata": {},
   "outputs": [],
   "source": [
    "df1.to_html('lds1.html')"
   ]
  },
  {
   "cell_type": "code",
   "execution_count": 52,
   "id": "9147e3f3",
   "metadata": {},
   "outputs": [
    {
     "ename": "FileNotFoundError",
     "evalue": "[Errno 2] No such file or directory: 'lds1.xlsx'",
     "output_type": "error",
     "traceback": [
      "\u001b[0;31m---------------------------------------------------------------------------\u001b[0m",
      "\u001b[0;31mFileNotFoundError\u001b[0m                         Traceback (most recent call last)",
      "Cell \u001b[0;32mIn[52], line 1\u001b[0m\n\u001b[0;32m----> 1\u001b[0m \u001b[43mpd\u001b[49m\u001b[38;5;241;43m.\u001b[39;49m\u001b[43mread_excel\u001b[49m\u001b[43m(\u001b[49m\u001b[38;5;124;43m'\u001b[39;49m\u001b[38;5;124;43mlds1.xlsx\u001b[39;49m\u001b[38;5;124;43m'\u001b[39;49m\u001b[43m,\u001b[49m\u001b[43m \u001b[49m\u001b[43mindex_col\u001b[49m\u001b[38;5;241;43m=\u001b[39;49m\u001b[38;5;241;43m0\u001b[39;49m\u001b[43m)\u001b[49m\n",
      "File \u001b[0;32m~/.local/lib/python3.9/site-packages/pandas/io/excel/_base.py:478\u001b[0m, in \u001b[0;36mread_excel\u001b[0;34m(io, sheet_name, header, names, index_col, usecols, dtype, engine, converters, true_values, false_values, skiprows, nrows, na_values, keep_default_na, na_filter, verbose, parse_dates, date_parser, date_format, thousands, decimal, comment, skipfooter, storage_options, dtype_backend)\u001b[0m\n\u001b[1;32m    476\u001b[0m \u001b[38;5;28;01mif\u001b[39;00m \u001b[38;5;129;01mnot\u001b[39;00m \u001b[38;5;28misinstance\u001b[39m(io, ExcelFile):\n\u001b[1;32m    477\u001b[0m     should_close \u001b[38;5;241m=\u001b[39m \u001b[38;5;28;01mTrue\u001b[39;00m\n\u001b[0;32m--> 478\u001b[0m     io \u001b[38;5;241m=\u001b[39m \u001b[43mExcelFile\u001b[49m\u001b[43m(\u001b[49m\u001b[43mio\u001b[49m\u001b[43m,\u001b[49m\u001b[43m \u001b[49m\u001b[43mstorage_options\u001b[49m\u001b[38;5;241;43m=\u001b[39;49m\u001b[43mstorage_options\u001b[49m\u001b[43m,\u001b[49m\u001b[43m \u001b[49m\u001b[43mengine\u001b[49m\u001b[38;5;241;43m=\u001b[39;49m\u001b[43mengine\u001b[49m\u001b[43m)\u001b[49m\n\u001b[1;32m    479\u001b[0m \u001b[38;5;28;01melif\u001b[39;00m engine \u001b[38;5;129;01mand\u001b[39;00m engine \u001b[38;5;241m!=\u001b[39m io\u001b[38;5;241m.\u001b[39mengine:\n\u001b[1;32m    480\u001b[0m     \u001b[38;5;28;01mraise\u001b[39;00m \u001b[38;5;167;01mValueError\u001b[39;00m(\n\u001b[1;32m    481\u001b[0m         \u001b[38;5;124m\"\u001b[39m\u001b[38;5;124mEngine should not be specified when passing \u001b[39m\u001b[38;5;124m\"\u001b[39m\n\u001b[1;32m    482\u001b[0m         \u001b[38;5;124m\"\u001b[39m\u001b[38;5;124man ExcelFile - ExcelFile already has the engine set\u001b[39m\u001b[38;5;124m\"\u001b[39m\n\u001b[1;32m    483\u001b[0m     )\n",
      "File \u001b[0;32m~/.local/lib/python3.9/site-packages/pandas/io/excel/_base.py:1496\u001b[0m, in \u001b[0;36mExcelFile.__init__\u001b[0;34m(self, path_or_buffer, engine, storage_options)\u001b[0m\n\u001b[1;32m   1494\u001b[0m     ext \u001b[38;5;241m=\u001b[39m \u001b[38;5;124m\"\u001b[39m\u001b[38;5;124mxls\u001b[39m\u001b[38;5;124m\"\u001b[39m\n\u001b[1;32m   1495\u001b[0m \u001b[38;5;28;01melse\u001b[39;00m:\n\u001b[0;32m-> 1496\u001b[0m     ext \u001b[38;5;241m=\u001b[39m \u001b[43minspect_excel_format\u001b[49m\u001b[43m(\u001b[49m\n\u001b[1;32m   1497\u001b[0m \u001b[43m        \u001b[49m\u001b[43mcontent_or_path\u001b[49m\u001b[38;5;241;43m=\u001b[39;49m\u001b[43mpath_or_buffer\u001b[49m\u001b[43m,\u001b[49m\u001b[43m \u001b[49m\u001b[43mstorage_options\u001b[49m\u001b[38;5;241;43m=\u001b[39;49m\u001b[43mstorage_options\u001b[49m\n\u001b[1;32m   1498\u001b[0m \u001b[43m    \u001b[49m\u001b[43m)\u001b[49m\n\u001b[1;32m   1499\u001b[0m     \u001b[38;5;28;01mif\u001b[39;00m ext \u001b[38;5;129;01mis\u001b[39;00m \u001b[38;5;28;01mNone\u001b[39;00m:\n\u001b[1;32m   1500\u001b[0m         \u001b[38;5;28;01mraise\u001b[39;00m \u001b[38;5;167;01mValueError\u001b[39;00m(\n\u001b[1;32m   1501\u001b[0m             \u001b[38;5;124m\"\u001b[39m\u001b[38;5;124mExcel file format cannot be determined, you must specify \u001b[39m\u001b[38;5;124m\"\u001b[39m\n\u001b[1;32m   1502\u001b[0m             \u001b[38;5;124m\"\u001b[39m\u001b[38;5;124man engine manually.\u001b[39m\u001b[38;5;124m\"\u001b[39m\n\u001b[1;32m   1503\u001b[0m         )\n",
      "File \u001b[0;32m~/.local/lib/python3.9/site-packages/pandas/io/excel/_base.py:1371\u001b[0m, in \u001b[0;36minspect_excel_format\u001b[0;34m(content_or_path, storage_options)\u001b[0m\n\u001b[1;32m   1368\u001b[0m \u001b[38;5;28;01mif\u001b[39;00m \u001b[38;5;28misinstance\u001b[39m(content_or_path, \u001b[38;5;28mbytes\u001b[39m):\n\u001b[1;32m   1369\u001b[0m     content_or_path \u001b[38;5;241m=\u001b[39m BytesIO(content_or_path)\n\u001b[0;32m-> 1371\u001b[0m \u001b[38;5;28;01mwith\u001b[39;00m \u001b[43mget_handle\u001b[49m\u001b[43m(\u001b[49m\n\u001b[1;32m   1372\u001b[0m \u001b[43m    \u001b[49m\u001b[43mcontent_or_path\u001b[49m\u001b[43m,\u001b[49m\u001b[43m \u001b[49m\u001b[38;5;124;43m\"\u001b[39;49m\u001b[38;5;124;43mrb\u001b[39;49m\u001b[38;5;124;43m\"\u001b[39;49m\u001b[43m,\u001b[49m\u001b[43m \u001b[49m\u001b[43mstorage_options\u001b[49m\u001b[38;5;241;43m=\u001b[39;49m\u001b[43mstorage_options\u001b[49m\u001b[43m,\u001b[49m\u001b[43m \u001b[49m\u001b[43mis_text\u001b[49m\u001b[38;5;241;43m=\u001b[39;49m\u001b[38;5;28;43;01mFalse\u001b[39;49;00m\n\u001b[1;32m   1373\u001b[0m \u001b[43m\u001b[49m\u001b[43m)\u001b[49m \u001b[38;5;28;01mas\u001b[39;00m handle:\n\u001b[1;32m   1374\u001b[0m     stream \u001b[38;5;241m=\u001b[39m handle\u001b[38;5;241m.\u001b[39mhandle\n\u001b[1;32m   1375\u001b[0m     stream\u001b[38;5;241m.\u001b[39mseek(\u001b[38;5;241m0\u001b[39m)\n",
      "File \u001b[0;32m~/.local/lib/python3.9/site-packages/pandas/io/common.py:868\u001b[0m, in \u001b[0;36mget_handle\u001b[0;34m(path_or_buf, mode, encoding, compression, memory_map, is_text, errors, storage_options)\u001b[0m\n\u001b[1;32m    859\u001b[0m         handle \u001b[38;5;241m=\u001b[39m \u001b[38;5;28mopen\u001b[39m(\n\u001b[1;32m    860\u001b[0m             handle,\n\u001b[1;32m    861\u001b[0m             ioargs\u001b[38;5;241m.\u001b[39mmode,\n\u001b[0;32m   (...)\u001b[0m\n\u001b[1;32m    864\u001b[0m             newline\u001b[38;5;241m=\u001b[39m\u001b[38;5;124m\"\u001b[39m\u001b[38;5;124m\"\u001b[39m,\n\u001b[1;32m    865\u001b[0m         )\n\u001b[1;32m    866\u001b[0m     \u001b[38;5;28;01melse\u001b[39;00m:\n\u001b[1;32m    867\u001b[0m         \u001b[38;5;66;03m# Binary mode\u001b[39;00m\n\u001b[0;32m--> 868\u001b[0m         handle \u001b[38;5;241m=\u001b[39m \u001b[38;5;28;43mopen\u001b[39;49m\u001b[43m(\u001b[49m\u001b[43mhandle\u001b[49m\u001b[43m,\u001b[49m\u001b[43m \u001b[49m\u001b[43mioargs\u001b[49m\u001b[38;5;241;43m.\u001b[39;49m\u001b[43mmode\u001b[49m\u001b[43m)\u001b[49m\n\u001b[1;32m    869\u001b[0m     handles\u001b[38;5;241m.\u001b[39mappend(handle)\n\u001b[1;32m    871\u001b[0m \u001b[38;5;66;03m# Convert BytesIO or file objects passed with an encoding\u001b[39;00m\n",
      "\u001b[0;31mFileNotFoundError\u001b[0m: [Errno 2] No such file or directory: 'lds1.xlsx'"
     ]
    }
   ],
   "source": [
    "#pd.read_excel('lds1.xlsx', index_col=0)"
   ]
  },
  {
   "cell_type": "code",
   "execution_count": null,
   "id": "8977dedc",
   "metadata": {},
   "outputs": [],
   "source": [
    "#pd.read_json('lds1.json')"
   ]
  },
  {
   "cell_type": "code",
   "execution_count": null,
   "id": "b14c9c45",
   "metadata": {},
   "outputs": [],
   "source": [
    "#r = pd.read_html('lds1.html', index_col=0)\n",
    "#print(type(r))"
   ]
  },
  {
   "cell_type": "code",
   "execution_count": null,
   "id": "faddeadd",
   "metadata": {},
   "outputs": [],
   "source": [
    "#len(r)"
   ]
  },
  {
   "cell_type": "code",
   "execution_count": null,
   "id": "6fb5e0a9",
   "metadata": {},
   "outputs": [],
   "source": [
    "#r[0]"
   ]
  },
  {
   "cell_type": "code",
   "execution_count": null,
   "id": "231c6596",
   "metadata": {},
   "outputs": [],
   "source": [
    "##df1 = pd.read_csv('lds1.csv', index_col=0) ##  the col in the stored csv file, which u want to use as index of the dataframe\n",
    "#df1"
   ]
  },
  {
   "cell_type": "code",
   "execution_count": null,
   "id": "01417c4b",
   "metadata": {},
   "outputs": [],
   "source": [
    "#df1 = pd.read_json('lds1.json')\n",
    "#print(type(df1))"
   ]
  },
  {
   "cell_type": "code",
   "execution_count": null,
   "id": "a23bac0a",
   "metadata": {},
   "outputs": [],
   "source": [
    "df1"
   ]
  },
  {
   "cell_type": "markdown",
   "id": "148413de",
   "metadata": {},
   "source": [
    "# Attributes"
   ]
  },
  {
   "cell_type": "code",
   "execution_count": null,
   "id": "7f1599ed",
   "metadata": {},
   "outputs": [],
   "source": [
    "df1 = pd.read_csv('https://raw.githubusercontent.com/vcsgithub/vcsgithub.github.io/master/lds1.csv')\n",
    "df1"
   ]
  },
  {
   "cell_type": "code",
   "execution_count": null,
   "id": "a9a7708e",
   "metadata": {},
   "outputs": [],
   "source": [
    "df1.index"
   ]
  },
  {
   "cell_type": "code",
   "execution_count": null,
   "id": "e42aa9cc",
   "metadata": {},
   "outputs": [],
   "source": [
    "df1.columns"
   ]
  },
  {
   "cell_type": "code",
   "execution_count": null,
   "id": "cba96d8d",
   "metadata": {},
   "outputs": [],
   "source": [
    "df1.shape"
   ]
  },
  {
   "cell_type": "code",
   "execution_count": null,
   "id": "33abf175",
   "metadata": {},
   "outputs": [],
   "source": [
    "df1.ndim"
   ]
  },
  {
   "cell_type": "code",
   "execution_count": null,
   "id": "11891ba7",
   "metadata": {},
   "outputs": [],
   "source": [
    "df1.values"
   ]
  },
  {
   "cell_type": "code",
   "execution_count": null,
   "id": "32520f2a",
   "metadata": {},
   "outputs": [],
   "source": [
    "print(type(df1.values))"
   ]
  },
  {
   "cell_type": "code",
   "execution_count": null,
   "id": "cd18be62",
   "metadata": {},
   "outputs": [],
   "source": [
    "df1.head(n=3)"
   ]
  },
  {
   "cell_type": "code",
   "execution_count": null,
   "id": "80c28054",
   "metadata": {},
   "outputs": [],
   "source": [
    "df1.tail()"
   ]
  },
  {
   "cell_type": "code",
   "execution_count": null,
   "id": "3c6ffec9",
   "metadata": {},
   "outputs": [],
   "source": [
    "df1"
   ]
  },
  {
   "cell_type": "code",
   "execution_count": null,
   "id": "85e4f3a2",
   "metadata": {},
   "outputs": [],
   "source": [
    "df1.isna()"
   ]
  },
  {
   "cell_type": "code",
   "execution_count": null,
   "id": "d16a89a3",
   "metadata": {},
   "outputs": [],
   "source": [
    "df1.isna().sum()"
   ]
  },
  {
   "cell_type": "code",
   "execution_count": null,
   "id": "ce7de4ff",
   "metadata": {},
   "outputs": [],
   "source": [
    "df1.isna().sum().sum()"
   ]
  },
  {
   "cell_type": "code",
   "execution_count": null,
   "id": "75bb95cd",
   "metadata": {},
   "outputs": [],
   "source": [
    "df1"
   ]
  },
  {
   "cell_type": "code",
   "execution_count": null,
   "id": "73ef633d",
   "metadata": {},
   "outputs": [],
   "source": [
    "df1.info()"
   ]
  },
  {
   "cell_type": "markdown",
   "id": "2adf2cfa",
   "metadata": {},
   "source": [
    "# Summary Stats"
   ]
  },
  {
   "cell_type": "code",
   "execution_count": null,
   "id": "71af2fe9",
   "metadata": {},
   "outputs": [],
   "source": [
    "df1.describe()"
   ]
  },
  {
   "cell_type": "code",
   "execution_count": null,
   "id": "12776c33",
   "metadata": {},
   "outputs": [],
   "source": [
    "df2 = df1.describe(include='all')\n",
    "df2"
   ]
  },
  {
   "cell_type": "code",
   "execution_count": null,
   "id": "41bff6fe",
   "metadata": {},
   "outputs": [],
   "source": [
    "df2.isna().sum().sum()"
   ]
  },
  {
   "cell_type": "code",
   "execution_count": null,
   "id": "255c3f3a",
   "metadata": {},
   "outputs": [],
   "source": [
    "df1.describe(include='object')"
   ]
  },
  {
   "cell_type": "code",
   "execution_count": null,
   "id": "d18cb2cb",
   "metadata": {},
   "outputs": [],
   "source": [
    "df1.info()"
   ]
  },
  {
   "cell_type": "code",
   "execution_count": null,
   "id": "c1bc1600",
   "metadata": {},
   "outputs": [],
   "source": [
    "df1.describe(include='float64')"
   ]
  },
  {
   "cell_type": "markdown",
   "id": "945cbe34",
   "metadata": {},
   "source": [
    "# DF Access"
   ]
  },
  {
   "cell_type": "code",
   "execution_count": null,
   "id": "05c92d49",
   "metadata": {},
   "outputs": [],
   "source": [
    "df1 = pd.read_csv('https://raw.githubusercontent.com/vcsgithub/vcsgithub.github.io/master/lds1.csv')\n",
    "df1"
   ]
  },
  {
   "cell_type": "code",
   "execution_count": null,
   "id": "2a401b3b",
   "metadata": {},
   "outputs": [],
   "source": [
    "print(dir(df1))"
   ]
  },
  {
   "cell_type": "code",
   "execution_count": null,
   "id": "7ca4e626",
   "metadata": {},
   "outputs": [],
   "source": [
    "df1.Exp"
   ]
  },
  {
   "cell_type": "code",
   "execution_count": null,
   "id": "f963af72",
   "metadata": {},
   "outputs": [],
   "source": [
    "df1['Rev']"
   ]
  },
  {
   "cell_type": "code",
   "execution_count": null,
   "id": "4c33ea24",
   "metadata": {},
   "outputs": [],
   "source": [
    "df1.columns"
   ]
  },
  {
   "cell_type": "code",
   "execution_count": null,
   "id": "0bb4649d",
   "metadata": {},
   "outputs": [],
   "source": [
    "df1['Rev']"
   ]
  },
  {
   "cell_type": "code",
   "execution_count": null,
   "id": "278c4926",
   "metadata": {},
   "outputs": [],
   "source": [
    "df1.index"
   ]
  },
  {
   "cell_type": "code",
   "execution_count": null,
   "id": "b027938a",
   "metadata": {},
   "outputs": [],
   "source": [
    "df1.columns"
   ]
  },
  {
   "cell_type": "code",
   "execution_count": null,
   "id": "085ce72a",
   "metadata": {},
   "outputs": [],
   "source": [
    "df1['Bombay_Sporting']"
   ]
  },
  {
   "cell_type": "code",
   "execution_count": null,
   "id": "7d356f78",
   "metadata": {},
   "outputs": [],
   "source": [
    "df1['Exp']"
   ]
  },
  {
   "cell_type": "code",
   "execution_count": null,
   "id": "5a43ebd4",
   "metadata": {},
   "outputs": [],
   "source": [
    "df1[ ['HQ','Exp','Rev'] ]"
   ]
  },
  {
   "cell_type": "code",
   "execution_count": null,
   "id": "1c918c09",
   "metadata": {},
   "outputs": [],
   "source": [
    "df1[ ['Bombay_Sporting', 'Chennai_Chemicals']  ]"
   ]
  },
  {
   "cell_type": "code",
   "execution_count": null,
   "id": "96de2513",
   "metadata": {},
   "outputs": [],
   "source": [
    "df1['Exp':'HQ']"
   ]
  },
  {
   "cell_type": "code",
   "execution_count": null,
   "id": "54ba9ab2",
   "metadata": {},
   "outputs": [],
   "source": [
    "df1['NCR_Leagles': 'Chennai_Chemicals']"
   ]
  },
  {
   "cell_type": "code",
   "execution_count": null,
   "id": "ef706075",
   "metadata": {},
   "outputs": [],
   "source": [
    "df1['NCR_Leagles': 'Chennai_Chemicals':2]"
   ]
  },
  {
   "cell_type": "code",
   "execution_count": null,
   "id": "7ab322b5",
   "metadata": {},
   "outputs": [],
   "source": [
    "df1['Bombay_Sporting':'Bombay_Sporting']"
   ]
  },
  {
   "cell_type": "code",
   "execution_count": null,
   "id": "59fa3f1a",
   "metadata": {},
   "outputs": [],
   "source": [
    "print(type(df1.Vol))"
   ]
  },
  {
   "cell_type": "code",
   "execution_count": null,
   "id": "ba476241",
   "metadata": {},
   "outputs": [],
   "source": [
    "df1[ ['HQ','Exp','Rev'] ]"
   ]
  },
  {
   "cell_type": "code",
   "execution_count": null,
   "id": "d9199542",
   "metadata": {},
   "outputs": [],
   "source": [
    "df1"
   ]
  },
  {
   "cell_type": "code",
   "execution_count": null,
   "id": "14db9cde",
   "metadata": {},
   "outputs": [],
   "source": [
    "df1"
   ]
  },
  {
   "cell_type": "code",
   "execution_count": null,
   "id": "52f2e151",
   "metadata": {},
   "outputs": [],
   "source": [
    "df1.iloc[0]"
   ]
  },
  {
   "cell_type": "code",
   "execution_count": null,
   "id": "52a4a040",
   "metadata": {},
   "outputs": [],
   "source": [
    "df1.iloc[0,0]"
   ]
  },
  {
   "cell_type": "code",
   "execution_count": null,
   "id": "44f435ce",
   "metadata": {},
   "outputs": [],
   "source": [
    "df1.iloc[::2]"
   ]
  },
  {
   "cell_type": "code",
   "execution_count": null,
   "id": "343aad3e",
   "metadata": {},
   "outputs": [],
   "source": [
    "df1[::2]"
   ]
  },
  {
   "cell_type": "code",
   "execution_count": null,
   "id": "13148f8d",
   "metadata": {},
   "outputs": [],
   "source": [
    "df1.iloc[::2, ::2]"
   ]
  },
  {
   "cell_type": "code",
   "execution_count": null,
   "id": "b734b08b",
   "metadata": {},
   "outputs": [],
   "source": [
    "df1.iloc[::2, 0:6]"
   ]
  },
  {
   "cell_type": "code",
   "execution_count": null,
   "id": "9cc7124b",
   "metadata": {},
   "outputs": [],
   "source": [
    "df1.iloc[::2, 0]"
   ]
  },
  {
   "cell_type": "code",
   "execution_count": null,
   "id": "e9853589",
   "metadata": {},
   "outputs": [],
   "source": [
    "df1.iloc[ [0,2,-1,-2]  ]"
   ]
  },
  {
   "cell_type": "code",
   "execution_count": null,
   "id": "9d25b980",
   "metadata": {},
   "outputs": [],
   "source": [
    "df1.iloc[ [0,2,-1,-2]  ,   [1,4,-1,-2,-3]  ]"
   ]
  },
  {
   "cell_type": "code",
   "execution_count": null,
   "id": "b08cdc79",
   "metadata": {},
   "outputs": [],
   "source": [
    "df1.iloc[:, 4]"
   ]
  },
  {
   "cell_type": "code",
   "execution_count": null,
   "id": "5666e006",
   "metadata": {},
   "outputs": [],
   "source": [
    "df1.iloc[:, [4,5] ] "
   ]
  },
  {
   "cell_type": "code",
   "execution_count": null,
   "id": "bcd77725",
   "metadata": {},
   "outputs": [],
   "source": [
    "r = df1.iloc[:, [4] ] \n",
    "r"
   ]
  },
  {
   "cell_type": "code",
   "execution_count": null,
   "id": "615f0007",
   "metadata": {},
   "outputs": [],
   "source": [
    "print(type(r))"
   ]
  },
  {
   "cell_type": "code",
   "execution_count": null,
   "id": "4618b178",
   "metadata": {},
   "outputs": [],
   "source": [
    "r.index"
   ]
  },
  {
   "cell_type": "code",
   "execution_count": null,
   "id": "13e80308",
   "metadata": {},
   "outputs": [],
   "source": [
    "r.columns"
   ]
  },
  {
   "cell_type": "markdown",
   "id": "c5900130",
   "metadata": {},
   "source": [
    "Label Based Access"
   ]
  },
  {
   "cell_type": "code",
   "execution_count": null,
   "id": "49375fd7",
   "metadata": {},
   "outputs": [],
   "source": [
    "df1.loc[0,0]"
   ]
  },
  {
   "cell_type": "code",
   "execution_count": null,
   "id": "8a1e41f9",
   "metadata": {},
   "outputs": [],
   "source": [
    "df1.loc['Chennai_Shipping']"
   ]
  },
  {
   "cell_type": "code",
   "execution_count": null,
   "id": "940855c3",
   "metadata": {},
   "outputs": [],
   "source": [
    "df1.loc['Chennai_Shipping', 'EmpCnt']"
   ]
  },
  {
   "cell_type": "code",
   "execution_count": null,
   "id": "496401c4",
   "metadata": {},
   "outputs": [],
   "source": [
    "df1.loc['Chennai_Shipping':'Kolkata_FMCG':-1]"
   ]
  },
  {
   "cell_type": "code",
   "execution_count": null,
   "id": "e48b2bfb",
   "metadata": {},
   "outputs": [],
   "source": [
    "df1.loc['Chennai_Shipping':'Kolkata_FMCG':-1, 'EmpCnt':'Rev':-1]"
   ]
  },
  {
   "cell_type": "code",
   "execution_count": null,
   "id": "6a08412d",
   "metadata": {},
   "outputs": [],
   "source": [
    "print(df1.index)\n",
    "print(df1.columns)"
   ]
  },
  {
   "cell_type": "code",
   "execution_count": null,
   "id": "a6843f5b",
   "metadata": {},
   "outputs": [],
   "source": [
    "df1.loc[ ['Chennai_Shipping', 'Bangalore_Breweries','NCR_Leagles']  ]"
   ]
  },
  {
   "cell_type": "code",
   "execution_count": null,
   "id": "786ca3ec",
   "metadata": {},
   "outputs": [],
   "source": [
    "df1.loc[ ['Chennai_Shipping', 'Bangalore_Breweries','NCR_Leagles'] , ['EmpCnt','Vol'] ]"
   ]
  },
  {
   "cell_type": "code",
   "execution_count": null,
   "id": "b1ddf534",
   "metadata": {},
   "outputs": [],
   "source": [
    "df1.loc[ ['Chennai_Shipping', 'Bangalore_Breweries','NCR_Leagles'] , 'EmpCnt':'HQ' ]"
   ]
  },
  {
   "cell_type": "code",
   "execution_count": null,
   "id": "286ce1f4",
   "metadata": {},
   "outputs": [],
   "source": [
    "df1.loc[ ['Chennai_Shipping', 'Bangalore_Breweries','NCR_Leagles'] , 'EmpCnt']"
   ]
  },
  {
   "cell_type": "markdown",
   "id": "ec171a36",
   "metadata": {},
   "source": [
    "# Conditional Access"
   ]
  },
  {
   "cell_type": "code",
   "execution_count": null,
   "id": "964dd673",
   "metadata": {},
   "outputs": [],
   "source": [
    "df1[df1.GST == 'Services']"
   ]
  },
  {
   "cell_type": "code",
   "execution_count": null,
   "id": "b2bc7fa0",
   "metadata": {},
   "outputs": [],
   "source": [
    "df1[  (df1.GST == 'Services') & (df1.HQ == 'Mum') ]"
   ]
  },
  {
   "cell_type": "code",
   "execution_count": null,
   "id": "9f672556",
   "metadata": {},
   "outputs": [],
   "source": [
    "df1['profit'] = df1.Rev - df1.Exp"
   ]
  },
  {
   "cell_type": "code",
   "execution_count": null,
   "id": "a4b29e7b",
   "metadata": {},
   "outputs": [],
   "source": [
    "df1"
   ]
  },
  {
   "cell_type": "code",
   "execution_count": null,
   "id": "c3bc83c6",
   "metadata": {},
   "outputs": [],
   "source": [
    "df1.Rev.mean()"
   ]
  },
  {
   "cell_type": "code",
   "execution_count": null,
   "id": "ed556e20",
   "metadata": {},
   "outputs": [],
   "source": [
    "df1[df1.Rev >= df1.Rev.mean()]"
   ]
  },
  {
   "cell_type": "code",
   "execution_count": null,
   "id": "d25be019",
   "metadata": {},
   "outputs": [],
   "source": [
    "df1[df1.Rev >= df1.Rev.mean()]['EmpCnt']"
   ]
  },
  {
   "cell_type": "code",
   "execution_count": null,
   "id": "4d8d9094",
   "metadata": {},
   "outputs": [],
   "source": [
    "df1[df1.Rev >= df1.Rev.mean()][['EmpCnt','Rev']]"
   ]
  },
  {
   "cell_type": "code",
   "execution_count": null,
   "id": "670dffaa",
   "metadata": {},
   "outputs": [],
   "source": [
    "df1.loc[df1.Rev >= df1.Rev.mean(), 'EmpCnt']"
   ]
  },
  {
   "cell_type": "code",
   "execution_count": null,
   "id": "0e070c31",
   "metadata": {},
   "outputs": [],
   "source": [
    "df1.loc[df1.Rev >= df1.Rev.mean(), ['EmpCnt','Rev']]"
   ]
  },
  {
   "cell_type": "code",
   "execution_count": null,
   "id": "b19eb0a3",
   "metadata": {},
   "outputs": [],
   "source": [
    "df1.loc[df1.Rev >= df1.Rev.mean(), 'EmpCnt':'Rev':-1]"
   ]
  },
  {
   "cell_type": "raw",
   "id": "c897e5da",
   "metadata": {},
   "source": [
    "Grammer for Access\n",
    "\n",
    "1. Direct Access\n",
    "2. Unlabelled Access or iloc\n",
    "3. Labelled Access or loc\n",
    "\n",
    "\n",
    "Direct Access Mode\n",
    "    df1['col_name']\n",
    "    df1.col_name\n",
    "    \n",
    "    df1[ [list of col names] ]\n",
    "    \n",
    "    df1[row_label_slice]\n",
    "    \n",
    "    df1[boolean_Series]\n",
    "    \n",
    "    \n",
    "Integer Location Based Access or UNlabelled Access\n",
    "    \n",
    "    df1.iloc[row_n_index]\n",
    "    df1.iloc[row_n_index, col_n_index]\n",
    "    \n",
    "    df1.iloc[row_n_index_slice]\n",
    "    df1.iloc[row_n_index_slice, col_n_index_slice]\n",
    "    \n",
    "    df1.iloc[ [list_of_row_n_indicies] ]\n",
    "    \n",
    "    df1.iloc[ [list_of_row_n_indicies] , [list_of_col_n_indicies] ]\n",
    "    \n",
    "    combo of above\n",
    "\n",
    "\n",
    "Label Based Access\n",
    "    \n",
    "    df1.loc[row_label]\n",
    "    df1.loc[row_label, col_label]\n",
    "    \n",
    "    df1.loc[row_label_slice]\n",
    "    df1.loc[row_label_slice, col_label_slice]\n",
    "    \n",
    "    df1.loc[ [list_of_row_labels] ]\n",
    "    \n",
    "    df1.loc[ [list_of_row_labels] , [list_of_col_labels] ]\n",
    "    \n",
    "    combo of above\n",
    "    \n",
    "    df1.loc[boolean_Series]"
   ]
  },
  {
   "cell_type": "markdown",
   "id": "8afa2a4d",
   "metadata": {},
   "source": [
    "# Sorting"
   ]
  },
  {
   "cell_type": "code",
   "execution_count": null,
   "id": "fe10003c",
   "metadata": {},
   "outputs": [],
   "source": [
    "df1 = pd.read_csv('https://raw.githubusercontent.com/vcsgithub/vcsgithub.github.io/master/lds1.csv')\n",
    "df1"
   ]
  },
  {
   "cell_type": "code",
   "execution_count": null,
   "id": "a420e398",
   "metadata": {},
   "outputs": [],
   "source": [
    "df2 = df1.sort_index(axis=0, ascending=True)\n",
    "df2"
   ]
  },
  {
   "cell_type": "code",
   "execution_count": null,
   "id": "cd89e7e4",
   "metadata": {},
   "outputs": [],
   "source": [
    "df2 = df1.sort_index(axis=0, ascending=False)\n",
    "df2"
   ]
  },
  {
   "cell_type": "code",
   "execution_count": null,
   "id": "65d22199",
   "metadata": {},
   "outputs": [],
   "source": [
    "df2 = df1.sort_index(axis=1, ascending=False)\n",
    "df2"
   ]
  },
  {
   "cell_type": "code",
   "execution_count": null,
   "id": "44b28585",
   "metadata": {},
   "outputs": [],
   "source": [
    "df2 = df1.sort_index(axis=1, ascending=True)\n",
    "df2"
   ]
  },
  {
   "cell_type": "code",
   "execution_count": null,
   "id": "20d5072f",
   "metadata": {},
   "outputs": [],
   "source": [
    "df2 = df1.sort_index(axis=0, ascending=True, inplace=True)\n",
    "print(df2)"
   ]
  },
  {
   "cell_type": "code",
   "execution_count": null,
   "id": "599d1fcb",
   "metadata": {},
   "outputs": [],
   "source": [
    "df1"
   ]
  },
  {
   "cell_type": "code",
   "execution_count": null,
   "id": "81af6625",
   "metadata": {},
   "outputs": [],
   "source": [
    "df1 = pd.read_csv('https://raw.githubusercontent.com/vcsgithub/vcsgithub.github.io/master/lds1.csv')\n",
    "df1"
   ]
  },
  {
   "cell_type": "code",
   "execution_count": null,
   "id": "19cd634a",
   "metadata": {},
   "outputs": [],
   "source": [
    "df1.sort_values(by='Vol',ascending=True, axis=0)"
   ]
  },
  {
   "cell_type": "code",
   "execution_count": null,
   "id": "f547ad0b",
   "metadata": {},
   "outputs": [],
   "source": [
    "df1.sort_values(by=['Vol','Rev'],ascending=[True,True], axis=0)"
   ]
  },
  {
   "cell_type": "code",
   "execution_count": null,
   "id": "b6e6b6d5",
   "metadata": {},
   "outputs": [],
   "source": [
    "df1.sort_values(by=['Vol','Rev'],ascending=[True,False], axis=0)"
   ]
  },
  {
   "cell_type": "code",
   "execution_count": null,
   "id": "31d7081d",
   "metadata": {},
   "outputs": [],
   "source": [
    "df1"
   ]
  },
  {
   "cell_type": "code",
   "execution_count": null,
   "id": "25944af1",
   "metadata": {},
   "outputs": [],
   "source": [
    "df1.sort_values(by='NCR_Leagles',ascending=True, axis=1)"
   ]
  },
  {
   "cell_type": "code",
   "execution_count": null,
   "id": "b2f13427",
   "metadata": {},
   "outputs": [],
   "source": [
    "df1.select_dtypes(include='number').sort_values(by='NCR_Leagles',ascending=True, axis=1)"
   ]
  },
  {
   "cell_type": "markdown",
   "id": "ec48c6ed",
   "metadata": {},
   "source": [
    "# Rank"
   ]
  },
  {
   "cell_type": "code",
   "execution_count": null,
   "id": "1f9ca27c",
   "metadata": {},
   "outputs": [],
   "source": [
    "df1 = pd.read_csv('https://raw.githubusercontent.com/vcsgithub/vcsgithub.github.io/master/lds1.csv')\n",
    "df1"
   ]
  },
  {
   "cell_type": "code",
   "execution_count": null,
   "id": "2160ab54",
   "metadata": {},
   "outputs": [],
   "source": [
    "df1['vrank'] = df1.Vol.rank(method='average',ascending=False)\n",
    "df1"
   ]
  },
  {
   "cell_type": "code",
   "execution_count": null,
   "id": "1947dff6",
   "metadata": {},
   "outputs": [],
   "source": [
    "df1.Vol.rank(method='min',ascending=False)"
   ]
  },
  {
   "cell_type": "code",
   "execution_count": null,
   "id": "f1e2e982",
   "metadata": {},
   "outputs": [],
   "source": [
    "df1.Vol.rank(method='max',ascending=False)"
   ]
  },
  {
   "cell_type": "code",
   "execution_count": null,
   "id": "c2152078",
   "metadata": {},
   "outputs": [],
   "source": [
    "df1.Vol.rank(method='first',ascending=False)"
   ]
  },
  {
   "cell_type": "code",
   "execution_count": null,
   "id": "8e5cb764",
   "metadata": {},
   "outputs": [],
   "source": [
    "df1.Vol.rank(method='dense',ascending=False)"
   ]
  },
  {
   "cell_type": "code",
   "execution_count": null,
   "id": "b8ce4779",
   "metadata": {},
   "outputs": [],
   "source": [
    "df1.Vol.rank(method='first',ascending=False).sort_values().to_csv('rank.csv')"
   ]
  },
  {
   "cell_type": "markdown",
   "id": "7207353f",
   "metadata": {},
   "source": [
    "# Pivot Table"
   ]
  },
  {
   "cell_type": "code",
   "execution_count": null,
   "id": "6bc7c5eb",
   "metadata": {},
   "outputs": [],
   "source": [
    "df1 = pd.read_csv('https://raw.githubusercontent.com/vcsgithub/vcsgithub.github.io/master/lds1.csv')\n",
    "df1"
   ]
  },
  {
   "cell_type": "code",
   "execution_count": null,
   "id": "deb61056",
   "metadata": {},
   "outputs": [],
   "source": [
    "dfp = pd.pivot_table(data=df1, index='Sector',aggfunc='mean')\n",
    "dfp"
   ]
  },
  {
   "cell_type": "code",
   "execution_count": null,
   "id": "c79ece5c",
   "metadata": {},
   "outputs": [],
   "source": [
    "df1.Sector.value_counts()"
   ]
  },
  {
   "cell_type": "code",
   "execution_count": null,
   "id": "19127bec",
   "metadata": {},
   "outputs": [],
   "source": [
    "dfp = pd.pivot_table(data=df1, index='Sector',aggfunc='mean', values=['Exp','Rev'])\n",
    "dfp"
   ]
  },
  {
   "cell_type": "code",
   "execution_count": null,
   "id": "245059cf",
   "metadata": {},
   "outputs": [],
   "source": [
    "dfp = pd.pivot_table(df1, index='Sector',aggfunc=np.mean, values=['Exp','Rev'])\n",
    "dfp"
   ]
  },
  {
   "cell_type": "code",
   "execution_count": null,
   "id": "be91913f",
   "metadata": {},
   "outputs": [],
   "source": [
    "import numpy as np"
   ]
  },
  {
   "cell_type": "code",
   "execution_count": null,
   "id": "14fbd5a9",
   "metadata": {},
   "outputs": [],
   "source": [
    "df1"
   ]
  },
  {
   "cell_type": "code",
   "execution_count": null,
   "id": "618b1376",
   "metadata": {},
   "outputs": [],
   "source": [
    "dfp = pd.pivot_table(df1, index='Sector', columns='GST', values=['Exp'], aggfunc='mean')\n",
    "dfp"
   ]
  },
  {
   "cell_type": "code",
   "execution_count": null,
   "id": "5deea587",
   "metadata": {},
   "outputs": [],
   "source": [
    "dfp = pd.pivot_table(df1, index='Sector', columns='GST', values=['Exp'], aggfunc='count')\n",
    "dfp"
   ]
  },
  {
   "cell_type": "code",
   "execution_count": null,
   "id": "7fb54752",
   "metadata": {},
   "outputs": [],
   "source": [
    "dfp = pd.pivot_table(df1, index='Sector', columns='GST', values=['Exp','Rev'], aggfunc='count')\n",
    "dfp"
   ]
  },
  {
   "cell_type": "code",
   "execution_count": null,
   "id": "720440fa",
   "metadata": {},
   "outputs": [],
   "source": [
    "dfp.index"
   ]
  },
  {
   "cell_type": "code",
   "execution_count": null,
   "id": "f8cbaf71",
   "metadata": {},
   "outputs": [],
   "source": [
    "dfp.columns"
   ]
  },
  {
   "cell_type": "code",
   "execution_count": null,
   "id": "79a169d3",
   "metadata": {},
   "outputs": [],
   "source": [
    "dfp = pd.pivot_table(df1, index='Sector', columns='GST', values=['Exp','Rev'], aggfunc='mean')\n",
    "dfp"
   ]
  },
  {
   "cell_type": "code",
   "execution_count": null,
   "id": "b6ba8d6d",
   "metadata": {},
   "outputs": [],
   "source": [
    "dfp.loc['Pub', ('Rev', 'Services')]"
   ]
  },
  {
   "cell_type": "code",
   "execution_count": null,
   "id": "cdb300c9",
   "metadata": {},
   "outputs": [],
   "source": [
    "dfp = pd.pivot_table(df1, index='Sector', values='Exp', aggfunc=['max',np.min])\n",
    "dfp"
   ]
  },
  {
   "cell_type": "code",
   "execution_count": null,
   "id": "5a779acf",
   "metadata": {},
   "outputs": [],
   "source": [
    "def diffmaxmin(ps1):\n",
    "    #print(ps1)\n",
    "    #print()\n",
    "    return ps1.max()-ps1.min()"
   ]
  },
  {
   "cell_type": "code",
   "execution_count": null,
   "id": "501e410b",
   "metadata": {},
   "outputs": [],
   "source": [
    "diffmaxmin(df1.Exp)"
   ]
  },
  {
   "cell_type": "code",
   "execution_count": null,
   "id": "072f7b2d",
   "metadata": {},
   "outputs": [],
   "source": [
    "df1.Exp.max()"
   ]
  },
  {
   "cell_type": "code",
   "execution_count": null,
   "id": "5d5c4043",
   "metadata": {},
   "outputs": [],
   "source": [
    "df1.Exp.min()"
   ]
  },
  {
   "cell_type": "code",
   "execution_count": null,
   "id": "31acd251",
   "metadata": {},
   "outputs": [],
   "source": [
    "dfp = pd.pivot_table(df1, index='Sector', values='Exp', aggfunc=['max',np.min, diffmaxmin])\n",
    "dfp"
   ]
  },
  {
   "cell_type": "code",
   "execution_count": null,
   "id": "1ba25a8f",
   "metadata": {},
   "outputs": [],
   "source": [
    "df1.loc[(df1.Sector=='Gov'),'Exp']"
   ]
  },
  {
   "cell_type": "code",
   "execution_count": null,
   "id": "19108ea1",
   "metadata": {},
   "outputs": [],
   "source": [
    "dfp = pd.pivot_table(df1, index='Sector', values=['Rev','Exp'], \n",
    "                     aggfunc=['max',np.min, lambda ps2: ps2.max()-ps2.min()])\n",
    "dfp"
   ]
  },
  {
   "cell_type": "markdown",
   "id": "77b72a38",
   "metadata": {},
   "source": [
    "# Groupby"
   ]
  },
  {
   "cell_type": "code",
   "execution_count": null,
   "id": "d73323e4",
   "metadata": {},
   "outputs": [],
   "source": [
    "df1.groupby(by='Sector')['Exp'].mean()"
   ]
  },
  {
   "cell_type": "code",
   "execution_count": null,
   "id": "98efd650",
   "metadata": {},
   "outputs": [],
   "source": [
    "dfg = df1.groupby(by='Sector')\n",
    "print(type(dfg))"
   ]
  },
  {
   "cell_type": "code",
   "execution_count": null,
   "id": "bcbf9019",
   "metadata": {},
   "outputs": [],
   "source": [
    "for item in dfg:\n",
    "    print(item[0])\n",
    "    print(item[1])\n",
    "    print()"
   ]
  },
  {
   "cell_type": "code",
   "execution_count": null,
   "id": "027d75f6",
   "metadata": {},
   "outputs": [],
   "source": [
    "df1.groupby(by='Sector')['Exp'].mean()"
   ]
  },
  {
   "cell_type": "code",
   "execution_count": null,
   "id": "79b4a20d",
   "metadata": {},
   "outputs": [],
   "source": [
    "df1.groupby(by='Sector')['Exp'].min()"
   ]
  },
  {
   "cell_type": "code",
   "execution_count": null,
   "id": "7c0682de",
   "metadata": {},
   "outputs": [],
   "source": [
    "df1.groupby(by='Sector')[['Exp','Rev']].min()"
   ]
  },
  {
   "cell_type": "code",
   "execution_count": null,
   "id": "7e8fc0fa",
   "metadata": {},
   "outputs": [],
   "source": [
    "df1.groupby(by='Sector')[['Exp','Rev']].agg(['max','min', diffmaxmin,'std'])"
   ]
  },
  {
   "cell_type": "markdown",
   "id": "fd46eed4",
   "metadata": {},
   "source": [
    "# MAP"
   ]
  },
  {
   "cell_type": "code",
   "execution_count": null,
   "id": "b45a9bf5",
   "metadata": {},
   "outputs": [],
   "source": [
    "df1"
   ]
  },
  {
   "cell_type": "code",
   "execution_count": null,
   "id": "a10a93dc",
   "metadata": {},
   "outputs": [],
   "source": [
    "md1 = {'Kol':'EZ','Mum':'WZ','Blr':'SZ','Che':'SZ','NCR':'NZ'}"
   ]
  },
  {
   "cell_type": "code",
   "execution_count": null,
   "id": "981210cb",
   "metadata": {},
   "outputs": [],
   "source": [
    "df1['Zone'] = df1.HQ.map(md1)"
   ]
  },
  {
   "cell_type": "code",
   "execution_count": null,
   "id": "aab9f6de",
   "metadata": {},
   "outputs": [],
   "source": [
    "df1"
   ]
  },
  {
   "cell_type": "raw",
   "id": "8894a194",
   "metadata": {},
   "source": [
    "vol > 950: 'Excellent_Sales'\n",
    "vol < 930: 'Average_Sales\n",
    "'Good_Sales'"
   ]
  },
  {
   "cell_type": "code",
   "execution_count": null,
   "id": "6e6e564f",
   "metadata": {},
   "outputs": [],
   "source": [
    "def sales_performance_category(sales_value):\n",
    "    if sales_value > 950:\n",
    "        return 'Excellent_Sales'\n",
    "    elif sales_value < 930:\n",
    "        return 'Average_Sales'\n",
    "    else:\n",
    "        return 'Good_Sales'"
   ]
  },
  {
   "cell_type": "code",
   "execution_count": null,
   "id": "730656fd",
   "metadata": {},
   "outputs": [],
   "source": [
    "sales_performance_category(940)"
   ]
  },
  {
   "cell_type": "code",
   "execution_count": null,
   "id": "8285ebf1",
   "metadata": {},
   "outputs": [],
   "source": [
    "df1['Sales_Performance'] = df1.Vol.map(sales_performance_category)\n",
    "df1"
   ]
  },
  {
   "cell_type": "markdown",
   "id": "1a297991",
   "metadata": {},
   "source": [
    "# Rename of Labels"
   ]
  },
  {
   "cell_type": "code",
   "execution_count": null,
   "id": "86ecccef",
   "metadata": {},
   "outputs": [],
   "source": [
    "df1 = pd.read_csv('https://raw.githubusercontent.com/vcsgithub/vcsgithub.github.io/master/lds1.csv')\n",
    "df1"
   ]
  },
  {
   "cell_type": "code",
   "execution_count": null,
   "id": "2e71f911",
   "metadata": {},
   "outputs": [],
   "source": [
    "df1.rename(index={'Bangalore_Breweries':'KF','Indi_Services':'IR'}, \n",
    "           columns={'Vol':'Volume'}, \n",
    "           inplace=True)\n",
    "df1"
   ]
  },
  {
   "cell_type": "markdown",
   "id": "971d180c",
   "metadata": {},
   "source": [
    "# Replace values"
   ]
  },
  {
   "cell_type": "code",
   "execution_count": null,
   "id": "73c63787",
   "metadata": {},
   "outputs": [],
   "source": [
    "df1 = pd.read_csv('https://raw.githubusercontent.com/vcsgithub/vcsgithub.github.io/master/lds1.csv')\n",
    "df1"
   ]
  },
  {
   "cell_type": "code",
   "execution_count": null,
   "id": "cfe250ae",
   "metadata": {},
   "outputs": [],
   "source": [
    "df1.Sector.replace({'Pub':'Public','Pvt':'Private'},inplace=True)\n",
    "df1"
   ]
  },
  {
   "cell_type": "markdown",
   "id": "0cead48b",
   "metadata": {},
   "source": [
    "# MultiLevel Indexed DataFrame"
   ]
  },
  {
   "cell_type": "raw",
   "id": "d4a7e7ec",
   "metadata": {},
   "source": [
    "                    2020  2020  2021  2021\n",
    "                      q1   q2    q1    q2\n",
    "Tata     Tech\n",
    "         FMCG\n",
    "  \n",
    "Birla    tech\n",
    "         fmcg\n",
    "Wipro    tech\n",
    "         fmcg"
   ]
  },
  {
   "cell_type": "code",
   "execution_count": null,
   "id": "c910544d",
   "metadata": {},
   "outputs": [],
   "source": [
    "np.random.seed(23)\n",
    "n64 = np.random.randint(low=10, high=100, size=(6,4))\n",
    "n64"
   ]
  },
  {
   "cell_type": "code",
   "execution_count": null,
   "id": "1a0220cf",
   "metadata": {},
   "outputs": [],
   "source": [
    "row_level0_labels = ['Tata', 'Birla','Wipro']\n",
    "row_level1_labels = ['FMCG', 'Tech']\n",
    "\n",
    "col_level0_labels = [2020,2021]\n",
    "col_level1_labels = ['q1','q2']"
   ]
  },
  {
   "cell_type": "code",
   "execution_count": null,
   "id": "7c3f1438",
   "metadata": {},
   "outputs": [],
   "source": [
    "row_labels = pd.MultiIndex.from_product([row_level0_labels,row_level1_labels])\n",
    "row_labels"
   ]
  },
  {
   "cell_type": "code",
   "execution_count": null,
   "id": "21c7bf59",
   "metadata": {},
   "outputs": [],
   "source": [
    "col_labels = pd.MultiIndex.from_product([col_level0_labels,col_level1_labels])\n",
    "col_labels"
   ]
  },
  {
   "cell_type": "code",
   "execution_count": null,
   "id": "7bdddf4d",
   "metadata": {},
   "outputs": [],
   "source": [
    "df1 = pd.DataFrame(n64, index=row_labels, columns=col_labels)\n",
    "df1"
   ]
  },
  {
   "cell_type": "code",
   "execution_count": null,
   "id": "ada2956f",
   "metadata": {},
   "outputs": [],
   "source": [
    "df1.index"
   ]
  },
  {
   "cell_type": "code",
   "execution_count": null,
   "id": "8f93d39e",
   "metadata": {},
   "outputs": [],
   "source": [
    "df1.columns"
   ]
  },
  {
   "cell_type": "code",
   "execution_count": null,
   "id": "bc550513",
   "metadata": {},
   "outputs": [],
   "source": [
    "df1"
   ]
  },
  {
   "cell_type": "code",
   "execution_count": null,
   "id": "7492bd70",
   "metadata": {},
   "outputs": [],
   "source": [
    "df1.unstack(level=0) ##  go from row to col"
   ]
  },
  {
   "cell_type": "code",
   "execution_count": null,
   "id": "ed77f28f",
   "metadata": {},
   "outputs": [],
   "source": [
    "df1.stack(level=-1)  ##  go from col to row"
   ]
  },
  {
   "cell_type": "code",
   "execution_count": null,
   "id": "9f5ebe98",
   "metadata": {},
   "outputs": [],
   "source": [
    "df1.stack(level=-1).unstack(level=-1).stack(level=0).unstack(level=1)"
   ]
  },
  {
   "cell_type": "code",
   "execution_count": null,
   "id": "818d4ba0",
   "metadata": {},
   "outputs": [],
   "source": [
    "df1.unstack(level=0).stack(level=1).stack(level=0).unstack(level=-1).unstack(level=0).stack(level=-1)"
   ]
  },
  {
   "cell_type": "code",
   "execution_count": null,
   "id": "cf1b4803",
   "metadata": {},
   "outputs": [],
   "source": [
    "df1.stack(level=-1).unstack(level=0).stack(level=0).unstack(level=-1).unstack(level=0).stack(level=-1)"
   ]
  },
  {
   "cell_type": "markdown",
   "id": "da2ece33",
   "metadata": {},
   "source": [
    "# drop"
   ]
  },
  {
   "cell_type": "code",
   "execution_count": null,
   "id": "030c9e35",
   "metadata": {},
   "outputs": [],
   "source": [
    "df1 = pd.read_csv('https://raw.githubusercontent.com/vcsgithub/vcsgithub.github.io/master/lds1.csv')\n",
    "df1"
   ]
  },
  {
   "cell_type": "code",
   "execution_count": null,
   "id": "9bf26d00",
   "metadata": {},
   "outputs": [],
   "source": [
    "df1.drop(columns=['EmpCnt','HQ','MNC'], inplace=False)"
   ]
  },
  {
   "cell_type": "code",
   "execution_count": null,
   "id": "f7d8e3c7",
   "metadata": {},
   "outputs": [],
   "source": [
    "df1.drop(index=['Bangalore_Breweries','Bombay_Finance'], columns=['EmpCnt','HQ','MNC'], inplace=False)"
   ]
  },
  {
   "cell_type": "markdown",
   "id": "5f6d76c8",
   "metadata": {},
   "source": [
    "# NaN handling"
   ]
  },
  {
   "cell_type": "code",
   "execution_count": null,
   "id": "582f64c4",
   "metadata": {},
   "outputs": [],
   "source": [
    "df1 = pd.read_csv('https://raw.githubusercontent.com/vcsgithub/vcsgithub.github.io/master/lds0.csv')\n",
    "df1"
   ]
  },
  {
   "cell_type": "code",
   "execution_count": null,
   "id": "3028453d",
   "metadata": {},
   "outputs": [],
   "source": [
    "df1.isna().sum().sum()"
   ]
  },
  {
   "cell_type": "code",
   "execution_count": null,
   "id": "ff9660a8",
   "metadata": {},
   "outputs": [],
   "source": [
    "df1.info()"
   ]
  },
  {
   "cell_type": "code",
   "execution_count": null,
   "id": "aae7a7dc",
   "metadata": {},
   "outputs": [],
   "source": [
    "df1"
   ]
  },
  {
   "cell_type": "code",
   "execution_count": null,
   "id": "bb66f0db",
   "metadata": {},
   "outputs": [],
   "source": [
    "df1.dropna()"
   ]
  },
  {
   "cell_type": "code",
   "execution_count": null,
   "id": "9c5ede5f",
   "metadata": {},
   "outputs": [],
   "source": [
    "df1"
   ]
  },
  {
   "cell_type": "code",
   "execution_count": null,
   "id": "d69846a0",
   "metadata": {},
   "outputs": [],
   "source": [
    "df1.loc['NCR_Leagles', 'EmpCnt'] = 123"
   ]
  },
  {
   "cell_type": "code",
   "execution_count": null,
   "id": "a171ec04",
   "metadata": {},
   "outputs": [],
   "source": [
    "df1"
   ]
  },
  {
   "cell_type": "code",
   "execution_count": null,
   "id": "17dc182a",
   "metadata": {},
   "outputs": [],
   "source": [
    "df1.loc['NCR_Leagles', 'Vol'] = 1234.45"
   ]
  },
  {
   "cell_type": "code",
   "execution_count": null,
   "id": "fbb1c3f3",
   "metadata": {},
   "outputs": [],
   "source": [
    "df1"
   ]
  },
  {
   "cell_type": "code",
   "execution_count": null,
   "id": "ab0f4ace",
   "metadata": {},
   "outputs": [],
   "source": [
    "df1.info()"
   ]
  },
  {
   "cell_type": "code",
   "execution_count": null,
   "id": "073e11cf",
   "metadata": {},
   "outputs": [],
   "source": [
    "df1['EmpCnt'] = df1.EmpCnt.astype('float64')"
   ]
  },
  {
   "cell_type": "code",
   "execution_count": null,
   "id": "11c85cd6",
   "metadata": {},
   "outputs": [],
   "source": [
    "df1"
   ]
  },
  {
   "cell_type": "code",
   "execution_count": null,
   "id": "2f49d73b",
   "metadata": {},
   "outputs": [],
   "source": [
    "df1.info()"
   ]
  },
  {
   "cell_type": "code",
   "execution_count": null,
   "id": "f9d9fd13",
   "metadata": {},
   "outputs": [],
   "source": [
    "df1 = pd.read_csv('https://raw.githubusercontent.com/vcsgithub/vcsgithub.github.io/master/lds0.csv')\n",
    "df1"
   ]
  },
  {
   "cell_type": "code",
   "execution_count": null,
   "id": "3b8ab267",
   "metadata": {},
   "outputs": [],
   "source": [
    "df1.fillna(123456)"
   ]
  },
  {
   "cell_type": "code",
   "execution_count": null,
   "id": "c9c8a633",
   "metadata": {},
   "outputs": [],
   "source": [
    "df1.Rev.mean()"
   ]
  },
  {
   "cell_type": "code",
   "execution_count": null,
   "id": "ada312db",
   "metadata": {},
   "outputs": [],
   "source": [
    "df1.Rev.fillna(df1.Rev.mean(), inplace=True)\n",
    "df1"
   ]
  },
  {
   "cell_type": "code",
   "execution_count": null,
   "id": "9a09d7ac",
   "metadata": {},
   "outputs": [],
   "source": [
    "df1.EmpCnt.mean()"
   ]
  },
  {
   "cell_type": "code",
   "execution_count": null,
   "id": "1d53a2fe",
   "metadata": {},
   "outputs": [],
   "source": [
    "df1.EmpCnt.median()"
   ]
  },
  {
   "cell_type": "code",
   "execution_count": null,
   "id": "a7caeeaf",
   "metadata": {},
   "outputs": [],
   "source": [
    "df1.EmpCnt.fillna(df1.EmpCnt.median(), inplace=True)\n",
    "df1"
   ]
  },
  {
   "cell_type": "code",
   "execution_count": null,
   "id": "864dab01",
   "metadata": {},
   "outputs": [],
   "source": [
    "df1"
   ]
  },
  {
   "cell_type": "code",
   "execution_count": null,
   "id": "a694a3ea",
   "metadata": {},
   "outputs": [],
   "source": [
    "df1.Sector.fillna(method='ffill')"
   ]
  },
  {
   "cell_type": "code",
   "execution_count": null,
   "id": "eb28ce32",
   "metadata": {},
   "outputs": [],
   "source": [
    "df1.Sector.fillna(method='bfill')."
   ]
  },
  {
   "cell_type": "markdown",
   "id": "733f72e9",
   "metadata": {},
   "source": [
    "# Duplicate Handling"
   ]
  },
  {
   "cell_type": "code",
   "execution_count": null,
   "id": "d34351f3",
   "metadata": {},
   "outputs": [],
   "source": [
    "df1 = pd.read_csv('https://raw.githubusercontent.com/vcsgithub/vcsgithub.github.io/master/lds33.csv')\n",
    "df1"
   ]
  },
  {
   "cell_type": "code",
   "execution_count": null,
   "id": "4e54d440",
   "metadata": {},
   "outputs": [],
   "source": [
    "df1.drop_duplicates(subset=None, keep='first')"
   ]
  },
  {
   "cell_type": "code",
   "execution_count": null,
   "id": "17dcfb78",
   "metadata": {},
   "outputs": [],
   "source": [
    "df1.drop_duplicates(subset=None, keep='last')"
   ]
  },
  {
   "cell_type": "code",
   "execution_count": null,
   "id": "7b14a29f",
   "metadata": {},
   "outputs": [],
   "source": [
    "df1.drop_duplicates(subset=None, keep=False)"
   ]
  },
  {
   "cell_type": "code",
   "execution_count": null,
   "id": "eccf2fae",
   "metadata": {},
   "outputs": [],
   "source": [
    "df1.drop_duplicates(subset=['City','Temperature'], keep=False)"
   ]
  },
  {
   "cell_type": "code",
   "execution_count": null,
   "id": "f3b0188d",
   "metadata": {},
   "outputs": [],
   "source": [
    "df1.drop_duplicates(subset=['City','Temperature'], keep='first')"
   ]
  },
  {
   "cell_type": "code",
   "execution_count": null,
   "id": "2c9763bd",
   "metadata": {},
   "outputs": [],
   "source": [
    "df1.drop_duplicates(subset=['City','Temperature'], keep='last')"
   ]
  },
  {
   "cell_type": "markdown",
   "id": "27f0b024",
   "metadata": {},
   "source": [
    "# Melt"
   ]
  },
  {
   "cell_type": "code",
   "execution_count": null,
   "id": "6d9953fa",
   "metadata": {},
   "outputs": [],
   "source": [
    "df1 = pd.read_csv('https://raw.githubusercontent.com/vcsgithub/vcsgithub.github.io/master/lds31.csv')\n",
    "df1"
   ]
  },
  {
   "cell_type": "code",
   "execution_count": null,
   "id": "2dbf1563",
   "metadata": {},
   "outputs": [],
   "source": [
    "pd.melt(frame=df1, id_vars=['Location','Temperature'])"
   ]
  },
  {
   "cell_type": "code",
   "execution_count": null,
   "id": "3cd75cb4",
   "metadata": {},
   "outputs": [],
   "source": [
    "pd.melt(frame=df1, id_vars=['Location','Temperature'],var_name='melted_col_names',value_name='melted_col_values')"
   ]
  },
  {
   "cell_type": "markdown",
   "id": "4a455cae",
   "metadata": {},
   "source": [
    "# Concatenation"
   ]
  },
  {
   "cell_type": "code",
   "execution_count": null,
   "id": "7be95759",
   "metadata": {},
   "outputs": [],
   "source": [
    "df11 = pd.read_csv('https://raw.githubusercontent.com/vcsgithub/vcsgithub.github.io/master/lds11.csv')\n",
    "df11"
   ]
  },
  {
   "cell_type": "code",
   "execution_count": null,
   "id": "51640981",
   "metadata": {},
   "outputs": [],
   "source": [
    "df12 = pd.read_csv('https://raw.githubusercontent.com/vcsgithub/vcsgithub.github.io/master/lds12.csv')\n",
    "df12"
   ]
  },
  {
   "cell_type": "code",
   "execution_count": null,
   "id": "6144b928",
   "metadata": {},
   "outputs": [],
   "source": [
    "df13 = pd.read_csv('https://raw.githubusercontent.com/vcsgithub/vcsgithub.github.io/master/lds13.csv')\n",
    "df13"
   ]
  },
  {
   "cell_type": "code",
   "execution_count": null,
   "id": "15d3ad3e",
   "metadata": {},
   "outputs": [],
   "source": [
    "df11"
   ]
  },
  {
   "cell_type": "code",
   "execution_count": null,
   "id": "df3f7d8a",
   "metadata": {},
   "outputs": [],
   "source": [
    "df12"
   ]
  },
  {
   "cell_type": "code",
   "execution_count": null,
   "id": "49e4e30e",
   "metadata": {},
   "outputs": [],
   "source": [
    "df13"
   ]
  },
  {
   "cell_type": "code",
   "execution_count": null,
   "id": "37aa8c6f",
   "metadata": {},
   "outputs": [],
   "source": [
    "print(df11)\n",
    "print(df12)\n",
    "print()\n",
    "dfc = pd.concat(objs=[df11,df12],axis=0, join='outer')  ##  union of labels\n",
    "print(dfc)"
   ]
  },
  {
   "cell_type": "code",
   "execution_count": null,
   "id": "13fbc30a",
   "metadata": {},
   "outputs": [],
   "source": [
    "print(df11)\n",
    "print(df12)\n",
    "print()\n",
    "dfc = pd.concat(objs=[df11,df12],axis=0, join='inner') # intersection of labels\n",
    "print(dfc)"
   ]
  },
  {
   "cell_type": "code",
   "execution_count": null,
   "id": "44e19848",
   "metadata": {},
   "outputs": [],
   "source": [
    "print(df11)\n",
    "print(df12)\n",
    "print()\n",
    "dfc = pd.concat(objs=[df11,df12],axis=1, join='outer')  ##  union of labels\n",
    "dfc"
   ]
  },
  {
   "cell_type": "code",
   "execution_count": null,
   "id": "17e65f41",
   "metadata": {},
   "outputs": [],
   "source": [
    "print(df11)\n",
    "print(df12)\n",
    "print()\n",
    "dfc = pd.concat(objs=[df11,df12],axis=1, join='inner')  ##  intersection of labels\n",
    "dfc"
   ]
  },
  {
   "cell_type": "markdown",
   "id": "b7706205",
   "metadata": {},
   "source": [
    "# Merge"
   ]
  },
  {
   "cell_type": "code",
   "execution_count": null,
   "id": "5eadaea0",
   "metadata": {},
   "outputs": [],
   "source": [
    "df21 = pd.read_csv('https://raw.githubusercontent.com/vcsgithub/vcsgithub.github.io/master/lds21.csv')\n",
    "df22 = pd.read_csv('https://raw.githubusercontent.com/vcsgithub/vcsgithub.github.io/master/lds22.csv')\n",
    "df23 = pd.read_csv('https://raw.githubusercontent.com/vcsgithub/vcsgithub.github.io/master/lds23.csv')"
   ]
  },
  {
   "cell_type": "code",
   "execution_count": null,
   "id": "68815466",
   "metadata": {},
   "outputs": [],
   "source": [
    "print(df21)\n",
    "print(df22)\n",
    "print(df23)"
   ]
  },
  {
   "cell_type": "code",
   "execution_count": null,
   "id": "ed908a50",
   "metadata": {},
   "outputs": [],
   "source": [
    "print(df21)\n",
    "print(df22)\n",
    "print()\n",
    "dfm = pd.merge(df21,df22,how='inner')\n",
    "print(dfm)"
   ]
  },
  {
   "cell_type": "code",
   "execution_count": null,
   "id": "8e374e10",
   "metadata": {},
   "outputs": [],
   "source": [
    "print(df21)\n",
    "print(df22)\n",
    "print()\n",
    "dfm = pd.merge(df21,df22,how='inner', on='HQ')\n",
    "print(dfm)"
   ]
  },
  {
   "cell_type": "code",
   "execution_count": null,
   "id": "af932dc4",
   "metadata": {},
   "outputs": [],
   "source": [
    "print(df21)\n",
    "print(df22)\n",
    "print()\n",
    "dfm = pd.merge(df21,df22,how='outer', on='HQ')\n",
    "print(dfm)"
   ]
  },
  {
   "cell_type": "code",
   "execution_count": null,
   "id": "cb8da427",
   "metadata": {},
   "outputs": [],
   "source": [
    "print(df21)\n",
    "print(df22)\n",
    "print()\n",
    "dfm = pd.merge(df21,df22,how='left', on='HQ')\n",
    "print(dfm)"
   ]
  },
  {
   "cell_type": "code",
   "execution_count": null,
   "id": "7fe32619",
   "metadata": {},
   "outputs": [],
   "source": [
    "print(df21)\n",
    "print(df22)\n",
    "print()\n",
    "dfm = pd.merge(df21,df22,how='right', on='HQ')\n",
    "print(dfm)"
   ]
  },
  {
   "cell_type": "code",
   "execution_count": null,
   "id": "fd88b13e",
   "metadata": {},
   "outputs": [],
   "source": [
    "print(df21)\n",
    "print(df23)\n",
    "print()\n",
    "dfm = pd.merge(df21,df23,how='inner', on='HQ')\n",
    "print(dfm)"
   ]
  },
  {
   "cell_type": "code",
   "execution_count": null,
   "id": "6ced8ae6",
   "metadata": {},
   "outputs": [],
   "source": [
    "print(df21)\n",
    "print(df22)\n",
    "print()\n",
    "dfm = pd.merge(df21,df22,how='cross')\n",
    "print(dfm)"
   ]
  },
  {
   "cell_type": "code",
   "execution_count": null,
   "id": "ae348ffe",
   "metadata": {},
   "outputs": [],
   "source": []
  }
 ],
 "metadata": {
  "kernelspec": {
   "display_name": "Python 3 (ipykernel)",
   "language": "python",
   "name": "python3"
  },
  "language_info": {
   "codemirror_mode": {
    "name": "ipython",
    "version": 3
   },
   "file_extension": ".py",
   "mimetype": "text/x-python",
   "name": "python",
   "nbconvert_exporter": "python",
   "pygments_lexer": "ipython3",
   "version": "3.9.18"
  }
 },
 "nbformat": 4,
 "nbformat_minor": 5
}
