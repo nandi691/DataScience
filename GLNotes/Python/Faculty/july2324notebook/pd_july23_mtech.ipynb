{
 "cells": [
  {
   "cell_type": "markdown",
   "id": "3cb711a0",
   "metadata": {},
   "source": [
    "# Pandas"
   ]
  },
  {
   "cell_type": "code",
   "execution_count": null,
   "id": "91bfd292",
   "metadata": {},
   "outputs": [],
   "source": [
    "import pandas as pd"
   ]
  },
  {
   "cell_type": "raw",
   "id": "c3de654f",
   "metadata": {},
   "source": [
    "ref dataset\n",
    "https://raw.githubusercontent.com/vcsgithub/vcsgithub.github.io/master/lds1.csv"
   ]
  },
  {
   "cell_type": "markdown",
   "id": "a1acac6f",
   "metadata": {},
   "source": [
    "# Series"
   ]
  },
  {
   "cell_type": "raw",
   "id": "9f05a248",
   "metadata": {},
   "source": [
    "Creation\n",
    "\n",
    "Tata  100\n",
    "Birla 200\n",
    "Wipro 300\n",
    "Infy  400\n",
    "ITC   500"
   ]
  },
  {
   "cell_type": "code",
   "execution_count": null,
   "id": "09068886",
   "metadata": {},
   "outputs": [],
   "source": [
    "mylist1 = [100,200,300,400,500]\n",
    "ps1 = pd.Series(mylist1)        ##  unlabelled series\n",
    "print(type(ps1))\n",
    "ps1"
   ]
  },
  {
   "cell_type": "code",
   "execution_count": null,
   "id": "894629fc",
   "metadata": {},
   "outputs": [],
   "source": [
    "ps1.index"
   ]
  },
  {
   "cell_type": "code",
   "execution_count": null,
   "id": "411524ae",
   "metadata": {},
   "outputs": [],
   "source": [
    "ps1[0]"
   ]
  },
  {
   "cell_type": "code",
   "execution_count": null,
   "id": "f0387756",
   "metadata": {},
   "outputs": [],
   "source": [
    "ps1[4]"
   ]
  },
  {
   "cell_type": "code",
   "execution_count": null,
   "id": "c340b106",
   "metadata": {},
   "outputs": [],
   "source": [
    "#ps1['Tata']"
   ]
  },
  {
   "cell_type": "code",
   "execution_count": null,
   "id": "622a35d5",
   "metadata": {},
   "outputs": [],
   "source": [
    "mylist1 = [100,200,300,400,500]\n",
    "index_list = ['Tata', 'Birla', 'Wipro', 'Infy', 'HCL']\n",
    "ps1 = pd.Series(mylist1, index=index_list)        ##  labelled series\n",
    "ps1"
   ]
  },
  {
   "cell_type": "code",
   "execution_count": null,
   "id": "ca36028b",
   "metadata": {},
   "outputs": [],
   "source": [
    "ps1.index"
   ]
  },
  {
   "cell_type": "code",
   "execution_count": null,
   "id": "ed3c6e5f",
   "metadata": {},
   "outputs": [],
   "source": [
    "ps1['Tata']"
   ]
  },
  {
   "cell_type": "code",
   "execution_count": null,
   "id": "f9374854",
   "metadata": {},
   "outputs": [],
   "source": [
    "ps1.shape"
   ]
  },
  {
   "cell_type": "code",
   "execution_count": null,
   "id": "ea6f4ae8",
   "metadata": {},
   "outputs": [],
   "source": [
    "ps1.ndim"
   ]
  },
  {
   "cell_type": "code",
   "execution_count": null,
   "id": "12a28c1e",
   "metadata": {},
   "outputs": [],
   "source": [
    "ps1.values"
   ]
  },
  {
   "cell_type": "code",
   "execution_count": null,
   "id": "fbd53127",
   "metadata": {},
   "outputs": [],
   "source": [
    "print(type(ps1.values))"
   ]
  },
  {
   "cell_type": "code",
   "execution_count": null,
   "id": "b3d49282",
   "metadata": {},
   "outputs": [],
   "source": [
    "md1 = {'Tata':100, 'Birla':200, 'Wipro':300, 'Infy':400, 'HCL':500}\n",
    "\n",
    "ps2 = pd.Series(md1)\n",
    "ps2"
   ]
  },
  {
   "cell_type": "code",
   "execution_count": null,
   "id": "f149b844",
   "metadata": {},
   "outputs": [],
   "source": [
    "ps2"
   ]
  },
  {
   "cell_type": "markdown",
   "id": "55a314b7",
   "metadata": {},
   "source": [
    "Series Access"
   ]
  },
  {
   "cell_type": "code",
   "execution_count": null,
   "id": "30b0c766",
   "metadata": {},
   "outputs": [],
   "source": [
    "ps2['Birla']"
   ]
  },
  {
   "cell_type": "code",
   "execution_count": null,
   "id": "af5ae160",
   "metadata": {},
   "outputs": [],
   "source": [
    "ps2[1]"
   ]
  },
  {
   "cell_type": "code",
   "execution_count": null,
   "id": "c04f7c4a",
   "metadata": {},
   "outputs": [],
   "source": [
    "ps2"
   ]
  },
  {
   "cell_type": "code",
   "execution_count": null,
   "id": "db6ef5c5",
   "metadata": {},
   "outputs": [],
   "source": [
    "ps2[1:4]  ## numercal slice endpoint=False"
   ]
  },
  {
   "cell_type": "code",
   "execution_count": null,
   "id": "dddb975d",
   "metadata": {},
   "outputs": [],
   "source": [
    "ps2['Birla':'Infy']  ##  label slice, endpoint=True"
   ]
  },
  {
   "cell_type": "code",
   "execution_count": null,
   "id": "e9f234a0",
   "metadata": {},
   "outputs": [],
   "source": [
    "ps2[1:4:2]"
   ]
  },
  {
   "cell_type": "code",
   "execution_count": null,
   "id": "9480088e",
   "metadata": {},
   "outputs": [],
   "source": [
    "ps2"
   ]
  },
  {
   "cell_type": "code",
   "execution_count": null,
   "id": "4fca1554",
   "metadata": {},
   "outputs": [],
   "source": [
    "ps2['Birla':'HCL':2]"
   ]
  },
  {
   "cell_type": "code",
   "execution_count": null,
   "id": "ed540d20",
   "metadata": {},
   "outputs": [],
   "source": [
    "ps2"
   ]
  },
  {
   "cell_type": "code",
   "execution_count": null,
   "id": "02dfee45",
   "metadata": {},
   "outputs": [],
   "source": [
    "ps2[  ['Tata','Infy','Birla'] ]  ##  vectored access"
   ]
  },
  {
   "cell_type": "code",
   "execution_count": null,
   "id": "f38a396d",
   "metadata": {},
   "outputs": [],
   "source": [
    "ps2"
   ]
  },
  {
   "cell_type": "code",
   "execution_count": null,
   "id": "41907f4d",
   "metadata": {},
   "outputs": [],
   "source": [
    "mask1 = ps2 > 300\n",
    "print(type(mask1))\n",
    "mask1"
   ]
  },
  {
   "cell_type": "code",
   "execution_count": null,
   "id": "572b654c",
   "metadata": {},
   "outputs": [],
   "source": [
    "ps2[mask1]"
   ]
  },
  {
   "cell_type": "code",
   "execution_count": null,
   "id": "16b1d279",
   "metadata": {},
   "outputs": [],
   "source": [
    "ps2[ps2>300]"
   ]
  },
  {
   "cell_type": "markdown",
   "id": "1e35b318",
   "metadata": {},
   "source": [
    "# DataFrame"
   ]
  },
  {
   "cell_type": "raw",
   "id": "c9d90a47",
   "metadata": {},
   "source": [
    "          Rev   Exp   HQ\n",
    "\n",
    "Tata      200   100   'MUM'\n",
    "Birla     300   200   'KOL'\n",
    "Wipro     400   300    'BLR'\n",
    "Infy      500   400    'BLR'\n",
    "HCL       600   500    'NCR'"
   ]
  },
  {
   "cell_type": "code",
   "execution_count": null,
   "id": "e241c84e",
   "metadata": {},
   "outputs": [],
   "source": [
    "mylist53 = [\n",
    "    [200,300,'Mum'],\n",
    "    [300,400,'Kol'],\n",
    "    [400, 300, 'Blr'],\n",
    "    [500, 400, 'Blr'],\n",
    "    [600,500,'NCR']\n",
    "]"
   ]
  },
  {
   "cell_type": "code",
   "execution_count": null,
   "id": "119832f3",
   "metadata": {},
   "outputs": [],
   "source": [
    "df1 = pd.DataFrame(mylist53)  ##  unlabelled data frame\n",
    "print(type(df1))\n",
    "df1"
   ]
  },
  {
   "cell_type": "code",
   "execution_count": null,
   "id": "8633fc4a",
   "metadata": {},
   "outputs": [],
   "source": [
    "df1.index"
   ]
  },
  {
   "cell_type": "code",
   "execution_count": null,
   "id": "71d70b79",
   "metadata": {},
   "outputs": [],
   "source": [
    "df1.columns"
   ]
  },
  {
   "cell_type": "code",
   "execution_count": null,
   "id": "09bcecf9",
   "metadata": {},
   "outputs": [],
   "source": [
    "row_list = ['Tata', 'Birla', 'Wipro', 'Infy', 'HCL']"
   ]
  },
  {
   "cell_type": "code",
   "execution_count": null,
   "id": "5a3c3343",
   "metadata": {},
   "outputs": [],
   "source": [
    "df2 = pd.DataFrame(mylist53, index=row_list)\n",
    "df2"
   ]
  },
  {
   "cell_type": "code",
   "execution_count": null,
   "id": "108f0545",
   "metadata": {},
   "outputs": [],
   "source": [
    "df2.index"
   ]
  },
  {
   "cell_type": "code",
   "execution_count": null,
   "id": "18867554",
   "metadata": {},
   "outputs": [],
   "source": [
    "df2.columns"
   ]
  },
  {
   "cell_type": "code",
   "execution_count": null,
   "id": "0f85c3f4",
   "metadata": {},
   "outputs": [],
   "source": [
    "col_list = ['Rev', 'Exp', 'HQ']"
   ]
  },
  {
   "cell_type": "code",
   "execution_count": null,
   "id": "abceb259",
   "metadata": {},
   "outputs": [],
   "source": [
    "df2 = pd.DataFrame(mylist53, index=row_list, columns=col_list)  ## labelled data frame\n",
    "df2"
   ]
  },
  {
   "cell_type": "code",
   "execution_count": null,
   "id": "4665290c",
   "metadata": {},
   "outputs": [],
   "source": [
    "df2.index"
   ]
  },
  {
   "cell_type": "code",
   "execution_count": null,
   "id": "ca477097",
   "metadata": {},
   "outputs": [],
   "source": [
    "df2.columns"
   ]
  },
  {
   "cell_type": "raw",
   "id": "33283818",
   "metadata": {},
   "source": [
    "          Rev   Exp   HQ\n",
    "\n",
    "Tata      200   100   'MUM'\n",
    "Birla     300   200   'KOL'\n",
    "Wipro     400   300    'BLR'\n",
    "Infy      500   400    'BLR'\n",
    "HCL       600   500    'NCR'"
   ]
  },
  {
   "cell_type": "code",
   "execution_count": null,
   "id": "6e16015a",
   "metadata": {},
   "outputs": [],
   "source": [
    "md1 = {'Rev':[200,300,400,500,600], \n",
    "       'Exp':[100,200,300,400,500], \n",
    "       'HQ':['Mum','Kol','Blr','Blr','NCR']}\n",
    "md1"
   ]
  },
  {
   "cell_type": "code",
   "execution_count": null,
   "id": "74a7f75f",
   "metadata": {},
   "outputs": [],
   "source": [
    "df4 = pd.DataFrame(md1)\n",
    "df4"
   ]
  },
  {
   "cell_type": "code",
   "execution_count": null,
   "id": "8b5d0295",
   "metadata": {},
   "outputs": [],
   "source": [
    "df5 = pd.DataFrame(md1, index=row_list)\n",
    "df5"
   ]
  },
  {
   "cell_type": "markdown",
   "id": "74fc521a",
   "metadata": {},
   "source": [
    "# DF File Access"
   ]
  },
  {
   "cell_type": "code",
   "execution_count": null,
   "id": "de2bdff5",
   "metadata": {},
   "outputs": [],
   "source": [
    "df1 = pd.read_csv('https://raw.githubusercontent.com/vcsgithub/vcsgithub.github.io/master/lds1.csv')\n",
    "df1"
   ]
  },
  {
   "cell_type": "code",
   "execution_count": null,
   "id": "cc1fc678",
   "metadata": {},
   "outputs": [],
   "source": [
    "df1.to_csv('lds1.csv')"
   ]
  },
  {
   "cell_type": "code",
   "execution_count": null,
   "id": "85e807b0",
   "metadata": {},
   "outputs": [],
   "source": [
    "df1 = pd.read_csv('lds1.csv', index_col=0)\n",
    "df1"
   ]
  },
  {
   "cell_type": "code",
   "execution_count": null,
   "id": "58fea0a2",
   "metadata": {},
   "outputs": [],
   "source": [
    "df1"
   ]
  },
  {
   "cell_type": "code",
   "execution_count": null,
   "id": "187b2ea6",
   "metadata": {},
   "outputs": [],
   "source": [
    "#df1.to_excel('lds1.xlsx')"
   ]
  },
  {
   "cell_type": "code",
   "execution_count": null,
   "id": "05729859",
   "metadata": {},
   "outputs": [],
   "source": [
    "df1.to_json('lds1.json')"
   ]
  },
  {
   "cell_type": "code",
   "execution_count": null,
   "id": "732a0466",
   "metadata": {},
   "outputs": [],
   "source": [
    "df1.to_html('lds1.html')"
   ]
  },
  {
   "cell_type": "code",
   "execution_count": null,
   "id": "9147e3f3",
   "metadata": {},
   "outputs": [],
   "source": [
    "#pd.read_excel('lds1.xlsx', index_col=0)"
   ]
  },
  {
   "cell_type": "code",
   "execution_count": null,
   "id": "8977dedc",
   "metadata": {},
   "outputs": [],
   "source": [
    "#pd.read_json('lds1.json')"
   ]
  },
  {
   "cell_type": "code",
   "execution_count": null,
   "id": "b14c9c45",
   "metadata": {},
   "outputs": [],
   "source": [
    "#r = pd.read_html('lds1.html', index_col=0)\n",
    "#print(type(r))"
   ]
  },
  {
   "cell_type": "code",
   "execution_count": null,
   "id": "faddeadd",
   "metadata": {},
   "outputs": [],
   "source": [
    "#len(r)"
   ]
  },
  {
   "cell_type": "code",
   "execution_count": null,
   "id": "6fb5e0a9",
   "metadata": {},
   "outputs": [],
   "source": [
    "#r[0]"
   ]
  },
  {
   "cell_type": "code",
   "execution_count": null,
   "id": "231c6596",
   "metadata": {},
   "outputs": [],
   "source": [
    "##df1 = pd.read_csv('lds1.csv', index_col=0) ##  the col in the stored csv file, which u want to use as index of the dataframe\n",
    "#df1"
   ]
  },
  {
   "cell_type": "code",
   "execution_count": null,
   "id": "01417c4b",
   "metadata": {},
   "outputs": [],
   "source": [
    "#df1 = pd.read_json('lds1.json')\n",
    "#print(type(df1))"
   ]
  },
  {
   "cell_type": "code",
   "execution_count": null,
   "id": "a23bac0a",
   "metadata": {},
   "outputs": [],
   "source": [
    "df1"
   ]
  },
  {
   "cell_type": "markdown",
   "id": "148413de",
   "metadata": {},
   "source": [
    "# Attributes"
   ]
  },
  {
   "cell_type": "code",
   "execution_count": null,
   "id": "7f1599ed",
   "metadata": {},
   "outputs": [],
   "source": [
    "df1 = pd.read_csv('https://raw.githubusercontent.com/vcsgithub/vcsgithub.github.io/master/lds1.csv')\n",
    "df1"
   ]
  },
  {
   "cell_type": "code",
   "execution_count": null,
   "id": "a9a7708e",
   "metadata": {},
   "outputs": [],
   "source": [
    "df1.index"
   ]
  },
  {
   "cell_type": "code",
   "execution_count": null,
   "id": "e42aa9cc",
   "metadata": {},
   "outputs": [],
   "source": [
    "df1.columns"
   ]
  },
  {
   "cell_type": "code",
   "execution_count": null,
   "id": "cba96d8d",
   "metadata": {},
   "outputs": [],
   "source": [
    "df1.shape"
   ]
  },
  {
   "cell_type": "code",
   "execution_count": null,
   "id": "33abf175",
   "metadata": {},
   "outputs": [],
   "source": [
    "df1.ndim"
   ]
  },
  {
   "cell_type": "code",
   "execution_count": null,
   "id": "11891ba7",
   "metadata": {},
   "outputs": [],
   "source": [
    "df1.values"
   ]
  },
  {
   "cell_type": "code",
   "execution_count": null,
   "id": "32520f2a",
   "metadata": {},
   "outputs": [],
   "source": [
    "print(type(df1.values))"
   ]
  },
  {
   "cell_type": "code",
   "execution_count": null,
   "id": "cd18be62",
   "metadata": {},
   "outputs": [],
   "source": [
    "df1.head(n=3)"
   ]
  },
  {
   "cell_type": "code",
   "execution_count": null,
   "id": "80c28054",
   "metadata": {},
   "outputs": [],
   "source": [
    "df1.tail()"
   ]
  },
  {
   "cell_type": "code",
   "execution_count": null,
   "id": "3c6ffec9",
   "metadata": {},
   "outputs": [],
   "source": [
    "df1"
   ]
  },
  {
   "cell_type": "code",
   "execution_count": null,
   "id": "85e4f3a2",
   "metadata": {},
   "outputs": [],
   "source": [
    "df1.isna()"
   ]
  },
  {
   "cell_type": "code",
   "execution_count": null,
   "id": "d16a89a3",
   "metadata": {},
   "outputs": [],
   "source": [
    "df1.isna().sum()"
   ]
  },
  {
   "cell_type": "code",
   "execution_count": null,
   "id": "ce7de4ff",
   "metadata": {},
   "outputs": [],
   "source": [
    "df1.isna().sum().sum()"
   ]
  },
  {
   "cell_type": "code",
   "execution_count": null,
   "id": "75bb95cd",
   "metadata": {},
   "outputs": [],
   "source": [
    "df1"
   ]
  },
  {
   "cell_type": "code",
   "execution_count": null,
   "id": "73ef633d",
   "metadata": {},
   "outputs": [],
   "source": [
    "df1.info()"
   ]
  },
  {
   "cell_type": "markdown",
   "id": "2adf2cfa",
   "metadata": {},
   "source": [
    "# Summary Stats"
   ]
  },
  {
   "cell_type": "code",
   "execution_count": null,
   "id": "71af2fe9",
   "metadata": {},
   "outputs": [],
   "source": [
    "df1.describe()"
   ]
  },
  {
   "cell_type": "code",
   "execution_count": null,
   "id": "12776c33",
   "metadata": {},
   "outputs": [],
   "source": [
    "df2 = df1.describe(include='all')\n",
    "df2"
   ]
  },
  {
   "cell_type": "code",
   "execution_count": null,
   "id": "41bff6fe",
   "metadata": {},
   "outputs": [],
   "source": [
    "df2.isna().sum().sum()"
   ]
  },
  {
   "cell_type": "code",
   "execution_count": null,
   "id": "255c3f3a",
   "metadata": {},
   "outputs": [],
   "source": [
    "df1.describe(include='object')"
   ]
  },
  {
   "cell_type": "code",
   "execution_count": null,
   "id": "d18cb2cb",
   "metadata": {},
   "outputs": [],
   "source": [
    "df1.info()"
   ]
  },
  {
   "cell_type": "code",
   "execution_count": null,
   "id": "c1bc1600",
   "metadata": {},
   "outputs": [],
   "source": [
    "df1.describe(include='float64')"
   ]
  },
  {
   "cell_type": "markdown",
   "id": "945cbe34",
   "metadata": {},
   "source": [
    "# DF Access"
   ]
  },
  {
   "cell_type": "code",
   "execution_count": null,
   "id": "05c92d49",
   "metadata": {},
   "outputs": [],
   "source": [
    "df1 = pd.read_csv('https://raw.githubusercontent.com/vcsgithub/vcsgithub.github.io/master/lds1.csv')\n",
    "df1"
   ]
  },
  {
   "cell_type": "code",
   "execution_count": null,
   "id": "2a401b3b",
   "metadata": {},
   "outputs": [],
   "source": [
    "print(dir(df1))"
   ]
  },
  {
   "cell_type": "code",
   "execution_count": null,
   "id": "7ca4e626",
   "metadata": {},
   "outputs": [],
   "source": [
    "df1.Exp"
   ]
  },
  {
   "cell_type": "code",
   "execution_count": null,
   "id": "f963af72",
   "metadata": {},
   "outputs": [],
   "source": [
    "df1['Rev']"
   ]
  },
  {
   "cell_type": "code",
   "execution_count": null,
   "id": "4c33ea24",
   "metadata": {},
   "outputs": [],
   "source": [
    "df1.columns"
   ]
  },
  {
   "cell_type": "code",
   "execution_count": null,
   "id": "0bb4649d",
   "metadata": {},
   "outputs": [],
   "source": [
    "df1['Rev']"
   ]
  },
  {
   "cell_type": "code",
   "execution_count": null,
   "id": "278c4926",
   "metadata": {},
   "outputs": [],
   "source": [
    "df1.index"
   ]
  },
  {
   "cell_type": "code",
   "execution_count": null,
   "id": "b027938a",
   "metadata": {},
   "outputs": [],
   "source": [
    "df1.columns"
   ]
  },
  {
   "cell_type": "code",
   "execution_count": null,
   "id": "085ce72a",
   "metadata": {},
   "outputs": [],
   "source": [
    "df1['Bombay_Sporting']"
   ]
  },
  {
   "cell_type": "code",
   "execution_count": null,
   "id": "7d356f78",
   "metadata": {},
   "outputs": [],
   "source": [
    "df1['Exp']"
   ]
  },
  {
   "cell_type": "code",
   "execution_count": null,
   "id": "5a43ebd4",
   "metadata": {},
   "outputs": [],
   "source": [
    "df1[ ['HQ','Exp','Rev'] ]"
   ]
  },
  {
   "cell_type": "code",
   "execution_count": null,
   "id": "1c918c09",
   "metadata": {},
   "outputs": [],
   "source": [
    "df1[ ['Bombay_Sporting', 'Chennai_Chemicals']  ]"
   ]
  },
  {
   "cell_type": "code",
   "execution_count": null,
   "id": "96de2513",
   "metadata": {},
   "outputs": [],
   "source": [
    "df1['Exp':'HQ']"
   ]
  },
  {
   "cell_type": "code",
   "execution_count": null,
   "id": "54ba9ab2",
   "metadata": {},
   "outputs": [],
   "source": [
    "df1['NCR_Leagles': 'Chennai_Chemicals']"
   ]
  },
  {
   "cell_type": "code",
   "execution_count": null,
   "id": "ef706075",
   "metadata": {},
   "outputs": [],
   "source": [
    "df1['NCR_Leagles': 'Chennai_Chemicals':2]"
   ]
  },
  {
   "cell_type": "code",
   "execution_count": null,
   "id": "7ab322b5",
   "metadata": {},
   "outputs": [],
   "source": [
    "df1['Bombay_Sporting':'Bombay_Sporting']"
   ]
  },
  {
   "cell_type": "code",
   "execution_count": null,
   "id": "59fa3f1a",
   "metadata": {},
   "outputs": [],
   "source": [
    "print(type(df1.Vol))"
   ]
  },
  {
   "cell_type": "code",
   "execution_count": null,
   "id": "ba476241",
   "metadata": {},
   "outputs": [],
   "source": [
    "df1[ ['HQ','Exp','Rev'] ]"
   ]
  },
  {
   "cell_type": "code",
   "execution_count": null,
   "id": "d9199542",
   "metadata": {},
   "outputs": [],
   "source": [
    "df1"
   ]
  },
  {
   "cell_type": "code",
   "execution_count": null,
   "id": "14db9cde",
   "metadata": {},
   "outputs": [],
   "source": [
    "df1"
   ]
  },
  {
   "cell_type": "code",
   "execution_count": null,
   "id": "52f2e151",
   "metadata": {},
   "outputs": [],
   "source": [
    "df1.iloc[0]"
   ]
  },
  {
   "cell_type": "code",
   "execution_count": null,
   "id": "52a4a040",
   "metadata": {},
   "outputs": [],
   "source": [
    "df1.iloc[0,0]"
   ]
  },
  {
   "cell_type": "code",
   "execution_count": null,
   "id": "44f435ce",
   "metadata": {},
   "outputs": [],
   "source": [
    "df1.iloc[::2]"
   ]
  },
  {
   "cell_type": "code",
   "execution_count": null,
   "id": "343aad3e",
   "metadata": {},
   "outputs": [],
   "source": [
    "df1[::2]"
   ]
  },
  {
   "cell_type": "code",
   "execution_count": null,
   "id": "13148f8d",
   "metadata": {},
   "outputs": [],
   "source": [
    "df1.iloc[::2, ::2]"
   ]
  },
  {
   "cell_type": "code",
   "execution_count": null,
   "id": "b734b08b",
   "metadata": {},
   "outputs": [],
   "source": [
    "df1.iloc[::2, 0:6]"
   ]
  },
  {
   "cell_type": "code",
   "execution_count": null,
   "id": "9cc7124b",
   "metadata": {},
   "outputs": [],
   "source": [
    "df1.iloc[::2, 0]"
   ]
  },
  {
   "cell_type": "code",
   "execution_count": null,
   "id": "e9853589",
   "metadata": {},
   "outputs": [],
   "source": [
    "df1.iloc[ [0,2,-1,-2]  ]"
   ]
  },
  {
   "cell_type": "code",
   "execution_count": null,
   "id": "9d25b980",
   "metadata": {},
   "outputs": [],
   "source": [
    "df1.iloc[ [0,2,-1,-2]  ,   [1,4,-1,-2,-3]  ]"
   ]
  },
  {
   "cell_type": "code",
   "execution_count": null,
   "id": "b08cdc79",
   "metadata": {},
   "outputs": [],
   "source": [
    "df1.iloc[:, 4]"
   ]
  },
  {
   "cell_type": "code",
   "execution_count": null,
   "id": "5666e006",
   "metadata": {},
   "outputs": [],
   "source": [
    "df1.iloc[:, [4,5] ] "
   ]
  },
  {
   "cell_type": "code",
   "execution_count": null,
   "id": "bcd77725",
   "metadata": {},
   "outputs": [],
   "source": [
    "r = df1.iloc[:, [4] ] \n",
    "r"
   ]
  },
  {
   "cell_type": "code",
   "execution_count": null,
   "id": "615f0007",
   "metadata": {},
   "outputs": [],
   "source": [
    "print(type(r))"
   ]
  },
  {
   "cell_type": "code",
   "execution_count": null,
   "id": "4618b178",
   "metadata": {},
   "outputs": [],
   "source": [
    "r.index"
   ]
  },
  {
   "cell_type": "code",
   "execution_count": null,
   "id": "13e80308",
   "metadata": {},
   "outputs": [],
   "source": [
    "r.columns"
   ]
  },
  {
   "cell_type": "markdown",
   "id": "c5900130",
   "metadata": {},
   "source": [
    "Label Based Access"
   ]
  },
  {
   "cell_type": "code",
   "execution_count": null,
   "id": "49375fd7",
   "metadata": {},
   "outputs": [],
   "source": [
    "df1.loc[0,0]"
   ]
  },
  {
   "cell_type": "code",
   "execution_count": null,
   "id": "8a1e41f9",
   "metadata": {},
   "outputs": [],
   "source": [
    "df1.loc['Chennai_Shipping']"
   ]
  },
  {
   "cell_type": "code",
   "execution_count": null,
   "id": "940855c3",
   "metadata": {},
   "outputs": [],
   "source": [
    "df1.loc['Chennai_Shipping', 'EmpCnt']"
   ]
  },
  {
   "cell_type": "code",
   "execution_count": null,
   "id": "496401c4",
   "metadata": {},
   "outputs": [],
   "source": [
    "df1.loc['Chennai_Shipping':'Kolkata_FMCG':-1]"
   ]
  },
  {
   "cell_type": "code",
   "execution_count": null,
   "id": "e48b2bfb",
   "metadata": {},
   "outputs": [],
   "source": [
    "df1.loc['Chennai_Shipping':'Kolkata_FMCG':-1, 'EmpCnt':'Rev':-1]"
   ]
  },
  {
   "cell_type": "code",
   "execution_count": null,
   "id": "6a08412d",
   "metadata": {},
   "outputs": [],
   "source": [
    "print(df1.index)\n",
    "print(df1.columns)"
   ]
  },
  {
   "cell_type": "code",
   "execution_count": null,
   "id": "a6843f5b",
   "metadata": {},
   "outputs": [],
   "source": [
    "df1.loc[ ['Chennai_Shipping', 'Bangalore_Breweries','NCR_Leagles']  ]"
   ]
  },
  {
   "cell_type": "code",
   "execution_count": null,
   "id": "786ca3ec",
   "metadata": {},
   "outputs": [],
   "source": [
    "df1.loc[ ['Chennai_Shipping', 'Bangalore_Breweries','NCR_Leagles'] , ['EmpCnt','Vol'] ]"
   ]
  },
  {
   "cell_type": "code",
   "execution_count": null,
   "id": "b1ddf534",
   "metadata": {},
   "outputs": [],
   "source": [
    "df1.loc[ ['Chennai_Shipping', 'Bangalore_Breweries','NCR_Leagles'] , 'EmpCnt':'HQ' ]"
   ]
  },
  {
   "cell_type": "code",
   "execution_count": null,
   "id": "286ce1f4",
   "metadata": {},
   "outputs": [],
   "source": [
    "df1.loc[ ['Chennai_Shipping', 'Bangalore_Breweries','NCR_Leagles'] , 'EmpCnt']"
   ]
  },
  {
   "cell_type": "markdown",
   "id": "ec171a36",
   "metadata": {},
   "source": [
    "# Conditional Access"
   ]
  },
  {
   "cell_type": "code",
   "execution_count": null,
   "id": "964dd673",
   "metadata": {},
   "outputs": [],
   "source": [
    "df1[df1.GST == 'Services']"
   ]
  },
  {
   "cell_type": "code",
   "execution_count": null,
   "id": "b2bc7fa0",
   "metadata": {},
   "outputs": [],
   "source": [
    "df1[  (df1.GST == 'Services') & (df1.HQ == 'Mum') ]"
   ]
  },
  {
   "cell_type": "code",
   "execution_count": null,
   "id": "9f672556",
   "metadata": {},
   "outputs": [],
   "source": [
    "df1['profit'] = df1.Rev - df1.Exp"
   ]
  },
  {
   "cell_type": "code",
   "execution_count": null,
   "id": "a4b29e7b",
   "metadata": {},
   "outputs": [],
   "source": [
    "df1"
   ]
  },
  {
   "cell_type": "code",
   "execution_count": null,
   "id": "c3bc83c6",
   "metadata": {},
   "outputs": [],
   "source": [
    "df1.Rev.mean()"
   ]
  },
  {
   "cell_type": "code",
   "execution_count": null,
   "id": "ed556e20",
   "metadata": {},
   "outputs": [],
   "source": [
    "df1[df1.Rev >= df1.Rev.mean()]"
   ]
  },
  {
   "cell_type": "code",
   "execution_count": null,
   "id": "d25be019",
   "metadata": {},
   "outputs": [],
   "source": [
    "df1[df1.Rev >= df1.Rev.mean()]['EmpCnt']"
   ]
  },
  {
   "cell_type": "code",
   "execution_count": null,
   "id": "4d8d9094",
   "metadata": {},
   "outputs": [],
   "source": [
    "df1[df1.Rev >= df1.Rev.mean()][['EmpCnt','Rev']]"
   ]
  },
  {
   "cell_type": "code",
   "execution_count": null,
   "id": "670dffaa",
   "metadata": {},
   "outputs": [],
   "source": [
    "df1.loc[df1.Rev >= df1.Rev.mean(), 'EmpCnt']"
   ]
  },
  {
   "cell_type": "code",
   "execution_count": null,
   "id": "0e070c31",
   "metadata": {},
   "outputs": [],
   "source": [
    "df1.loc[df1.Rev >= df1.Rev.mean(), ['EmpCnt','Rev']]"
   ]
  },
  {
   "cell_type": "code",
   "execution_count": null,
   "id": "b19eb0a3",
   "metadata": {},
   "outputs": [],
   "source": [
    "df1.loc[df1.Rev >= df1.Rev.mean(), 'EmpCnt':'Rev':-1]"
   ]
  },
  {
   "cell_type": "raw",
   "id": "c897e5da",
   "metadata": {},
   "source": [
    "Grammer for Access\n",
    "\n",
    "1. Direct Access\n",
    "2. Unlabelled Access or iloc\n",
    "3. Labelled Access or loc\n",
    "\n",
    "\n",
    "Direct Access Mode\n",
    "    df1['col_name']\n",
    "    df1.col_name\n",
    "    \n",
    "    df1[ [list of col names] ]\n",
    "    \n",
    "    df1[row_label_slice]\n",
    "    \n",
    "    df1[boolean_Series]\n",
    "    \n",
    "    \n",
    "Integer Location Based Access or UNlabelled Access\n",
    "    \n",
    "    df1.iloc[row_n_index]\n",
    "    df1.iloc[row_n_index, col_n_index]\n",
    "    \n",
    "    df1.iloc[row_n_index_slice]\n",
    "    df1.iloc[row_n_index_slice, col_n_index_slice]\n",
    "    \n",
    "    df1.iloc[ [list_of_row_n_indicies] ]\n",
    "    \n",
    "    df1.iloc[ [list_of_row_n_indicies] , [list_of_col_n_indicies] ]\n",
    "    \n",
    "    combo of above\n",
    "\n",
    "\n",
    "Label Based Access\n",
    "    \n",
    "    df1.loc[row_label]\n",
    "    df1.loc[row_label, col_label]\n",
    "    \n",
    "    df1.loc[row_label_slice]\n",
    "    df1.loc[row_label_slice, col_label_slice]\n",
    "    \n",
    "    df1.loc[ [list_of_row_labels] ]\n",
    "    \n",
    "    df1.loc[ [list_of_row_labels] , [list_of_col_labels] ]\n",
    "    \n",
    "    combo of above\n",
    "    \n",
    "    df1.loc[boolean_Series]"
   ]
  },
  {
   "cell_type": "markdown",
   "id": "8afa2a4d",
   "metadata": {},
   "source": [
    "# Sorting"
   ]
  },
  {
   "cell_type": "code",
   "execution_count": null,
   "id": "fe10003c",
   "metadata": {},
   "outputs": [],
   "source": [
    "df1 = pd.read_csv('https://raw.githubusercontent.com/vcsgithub/vcsgithub.github.io/master/lds1.csv')\n",
    "df1"
   ]
  },
  {
   "cell_type": "code",
   "execution_count": null,
   "id": "a420e398",
   "metadata": {},
   "outputs": [],
   "source": [
    "df2 = df1.sort_index(axis=0, ascending=True)\n",
    "df2"
   ]
  },
  {
   "cell_type": "code",
   "execution_count": null,
   "id": "cd89e7e4",
   "metadata": {},
   "outputs": [],
   "source": [
    "df2 = df1.sort_index(axis=0, ascending=False)\n",
    "df2"
   ]
  },
  {
   "cell_type": "code",
   "execution_count": null,
   "id": "65d22199",
   "metadata": {},
   "outputs": [],
   "source": [
    "df2 = df1.sort_index(axis=1, ascending=False)\n",
    "df2"
   ]
  },
  {
   "cell_type": "code",
   "execution_count": null,
   "id": "44b28585",
   "metadata": {},
   "outputs": [],
   "source": [
    "df2 = df1.sort_index(axis=1, ascending=True)\n",
    "df2"
   ]
  },
  {
   "cell_type": "code",
   "execution_count": null,
   "id": "20d5072f",
   "metadata": {},
   "outputs": [],
   "source": [
    "df2 = df1.sort_index(axis=0, ascending=True, inplace=True)\n",
    "print(df2)"
   ]
  },
  {
   "cell_type": "code",
   "execution_count": null,
   "id": "599d1fcb",
   "metadata": {},
   "outputs": [],
   "source": [
    "df1"
   ]
  },
  {
   "cell_type": "code",
   "execution_count": null,
   "id": "81af6625",
   "metadata": {},
   "outputs": [],
   "source": [
    "df1 = pd.read_csv('https://raw.githubusercontent.com/vcsgithub/vcsgithub.github.io/master/lds1.csv')\n",
    "df1"
   ]
  },
  {
   "cell_type": "code",
   "execution_count": null,
   "id": "19cd634a",
   "metadata": {},
   "outputs": [],
   "source": [
    "df1.sort_values(by='Vol',ascending=True, axis=0)"
   ]
  },
  {
   "cell_type": "code",
   "execution_count": null,
   "id": "f547ad0b",
   "metadata": {},
   "outputs": [],
   "source": [
    "df1.sort_values(by=['Vol','Rev'],ascending=[True,True], axis=0)"
   ]
  },
  {
   "cell_type": "code",
   "execution_count": null,
   "id": "b6e6b6d5",
   "metadata": {},
   "outputs": [],
   "source": [
    "df1.sort_values(by=['Vol','Rev'],ascending=[True,False], axis=0)"
   ]
  },
  {
   "cell_type": "code",
   "execution_count": null,
   "id": "31d7081d",
   "metadata": {},
   "outputs": [],
   "source": [
    "df1"
   ]
  },
  {
   "cell_type": "code",
   "execution_count": null,
   "id": "25944af1",
   "metadata": {},
   "outputs": [],
   "source": [
    "df1.sort_values(by='NCR_Leagles',ascending=True, axis=1)"
   ]
  },
  {
   "cell_type": "code",
   "execution_count": null,
   "id": "b2f13427",
   "metadata": {},
   "outputs": [],
   "source": [
    "df1.select_dtypes(include='number').sort_values(by='NCR_Leagles',ascending=True, axis=1)"
   ]
  },
  {
   "cell_type": "markdown",
   "id": "ec48c6ed",
   "metadata": {},
   "source": [
    "# Rank"
   ]
  },
  {
   "cell_type": "code",
   "execution_count": null,
   "id": "1f9ca27c",
   "metadata": {},
   "outputs": [],
   "source": [
    "df1 = pd.read_csv('https://raw.githubusercontent.com/vcsgithub/vcsgithub.github.io/master/lds1.csv')\n",
    "df1"
   ]
  },
  {
   "cell_type": "code",
   "execution_count": null,
   "id": "2160ab54",
   "metadata": {},
   "outputs": [],
   "source": [
    "df1['vrank'] = df1.Vol.rank(method='average',ascending=False)\n",
    "df1"
   ]
  },
  {
   "cell_type": "code",
   "execution_count": null,
   "id": "1947dff6",
   "metadata": {},
   "outputs": [],
   "source": [
    "df1.Vol.rank(method='min',ascending=False)"
   ]
  },
  {
   "cell_type": "code",
   "execution_count": null,
   "id": "f1e2e982",
   "metadata": {},
   "outputs": [],
   "source": [
    "df1.Vol.rank(method='max',ascending=False)"
   ]
  },
  {
   "cell_type": "code",
   "execution_count": null,
   "id": "c2152078",
   "metadata": {},
   "outputs": [],
   "source": [
    "df1.Vol.rank(method='first',ascending=False)"
   ]
  },
  {
   "cell_type": "code",
   "execution_count": null,
   "id": "8e5cb764",
   "metadata": {},
   "outputs": [],
   "source": [
    "df1.Vol.rank(method='dense',ascending=False)"
   ]
  },
  {
   "cell_type": "code",
   "execution_count": null,
   "id": "b8ce4779",
   "metadata": {},
   "outputs": [],
   "source": [
    "df1.Vol.rank(method='first',ascending=False).sort_values().to_csv('rank.csv')"
   ]
  },
  {
   "cell_type": "markdown",
   "id": "7207353f",
   "metadata": {},
   "source": [
    "# Pivot Table"
   ]
  },
  {
   "cell_type": "code",
   "execution_count": 2,
   "id": "6bc7c5eb",
   "metadata": {},
   "outputs": [
    {
     "data": {
      "text/html": [
       "<div>\n",
       "<style scoped>\n",
       "    .dataframe tbody tr th:only-of-type {\n",
       "        vertical-align: middle;\n",
       "    }\n",
       "\n",
       "    .dataframe tbody tr th {\n",
       "        vertical-align: top;\n",
       "    }\n",
       "\n",
       "    .dataframe thead th {\n",
       "        text-align: right;\n",
       "    }\n",
       "</style>\n",
       "<table border=\"1\" class=\"dataframe\">\n",
       "  <thead>\n",
       "    <tr style=\"text-align: right;\">\n",
       "      <th></th>\n",
       "      <th>Vol</th>\n",
       "      <th>Rev</th>\n",
       "      <th>Exp</th>\n",
       "      <th>Sector</th>\n",
       "      <th>EmpCnt</th>\n",
       "      <th>HQ</th>\n",
       "      <th>MNC</th>\n",
       "      <th>StockID</th>\n",
       "      <th>GST</th>\n",
       "      <th>Started</th>\n",
       "    </tr>\n",
       "  </thead>\n",
       "  <tbody>\n",
       "    <tr>\n",
       "      <th>Deccan_Sporting</th>\n",
       "      <td>931</td>\n",
       "      <td>839.80</td>\n",
       "      <td>615</td>\n",
       "      <td>Pvt</td>\n",
       "      <td>154</td>\n",
       "      <td>Hyd</td>\n",
       "      <td>1</td>\n",
       "      <td>SPRT</td>\n",
       "      <td>Services</td>\n",
       "      <td>Mar 1943</td>\n",
       "    </tr>\n",
       "    <tr>\n",
       "      <th>Kolkata_FMCG</th>\n",
       "      <td>925</td>\n",
       "      <td>874.40</td>\n",
       "      <td>676</td>\n",
       "      <td>Pub</td>\n",
       "      <td>1379</td>\n",
       "      <td>Kol</td>\n",
       "      <td>0</td>\n",
       "      <td>KFMC</td>\n",
       "      <td>Goods</td>\n",
       "      <td>Jan 1920</td>\n",
       "    </tr>\n",
       "    <tr>\n",
       "      <th>NCR_Leagles</th>\n",
       "      <td>931</td>\n",
       "      <td>863.50</td>\n",
       "      <td>605</td>\n",
       "      <td>Pub</td>\n",
       "      <td>1935</td>\n",
       "      <td>NCR</td>\n",
       "      <td>0</td>\n",
       "      <td>NCRL</td>\n",
       "      <td>Services</td>\n",
       "      <td>Feb 1960</td>\n",
       "    </tr>\n",
       "    <tr>\n",
       "      <th>Bangalore_Systems</th>\n",
       "      <td>900</td>\n",
       "      <td>881.60</td>\n",
       "      <td>650</td>\n",
       "      <td>Gov</td>\n",
       "      <td>1361</td>\n",
       "      <td>Blr</td>\n",
       "      <td>0</td>\n",
       "      <td>BSYS</td>\n",
       "      <td>Services</td>\n",
       "      <td>Apr 1950</td>\n",
       "    </tr>\n",
       "    <tr>\n",
       "      <th>Chennai_Chemicals</th>\n",
       "      <td>966</td>\n",
       "      <td>863.20</td>\n",
       "      <td>608</td>\n",
       "      <td>Pub</td>\n",
       "      <td>1656</td>\n",
       "      <td>Che</td>\n",
       "      <td>1</td>\n",
       "      <td>CHEM</td>\n",
       "      <td>Goods</td>\n",
       "      <td>Aug 1928</td>\n",
       "    </tr>\n",
       "    <tr>\n",
       "      <th>Indi_Services</th>\n",
       "      <td>954</td>\n",
       "      <td>733.00</td>\n",
       "      <td>609</td>\n",
       "      <td>Gov</td>\n",
       "      <td>13023</td>\n",
       "      <td>NCR</td>\n",
       "      <td>0</td>\n",
       "      <td>INDI</td>\n",
       "      <td>Services</td>\n",
       "      <td>Mar 1920</td>\n",
       "    </tr>\n",
       "    <tr>\n",
       "      <th>Bangalore_Breweries</th>\n",
       "      <td>966</td>\n",
       "      <td>805.00</td>\n",
       "      <td>895</td>\n",
       "      <td>Pvt</td>\n",
       "      <td>119</td>\n",
       "      <td>Blr</td>\n",
       "      <td>1</td>\n",
       "      <td>BREW</td>\n",
       "      <td>Goods</td>\n",
       "      <td>Oct 1971</td>\n",
       "    </tr>\n",
       "    <tr>\n",
       "      <th>Bombay_Finance</th>\n",
       "      <td>899</td>\n",
       "      <td>917.00</td>\n",
       "      <td>674</td>\n",
       "      <td>Pub</td>\n",
       "      <td>1443</td>\n",
       "      <td>Mum</td>\n",
       "      <td>0</td>\n",
       "      <td>BFIN</td>\n",
       "      <td>Services</td>\n",
       "      <td>Apr 1925</td>\n",
       "    </tr>\n",
       "    <tr>\n",
       "      <th>Chennai_Shipping</th>\n",
       "      <td>992</td>\n",
       "      <td>821.00</td>\n",
       "      <td>665</td>\n",
       "      <td>Pub</td>\n",
       "      <td>1154</td>\n",
       "      <td>Che</td>\n",
       "      <td>1</td>\n",
       "      <td>SHIP</td>\n",
       "      <td>Goods</td>\n",
       "      <td>Nov 1930</td>\n",
       "    </tr>\n",
       "    <tr>\n",
       "      <th>Eastern_Estates</th>\n",
       "      <td>945</td>\n",
       "      <td>834.23</td>\n",
       "      <td>789</td>\n",
       "      <td>Pvt</td>\n",
       "      <td>1873</td>\n",
       "      <td>Kol</td>\n",
       "      <td>1</td>\n",
       "      <td>EEST</td>\n",
       "      <td>Goods</td>\n",
       "      <td>Jan 1994</td>\n",
       "    </tr>\n",
       "  </tbody>\n",
       "</table>\n",
       "</div>"
      ],
      "text/plain": [
       "                     Vol     Rev  Exp Sector  EmpCnt   HQ  MNC StockID  \\\n",
       "Deccan_Sporting      931  839.80  615    Pvt     154  Hyd    1    SPRT   \n",
       "Kolkata_FMCG         925  874.40  676    Pub    1379  Kol    0    KFMC   \n",
       "NCR_Leagles          931  863.50  605    Pub    1935  NCR    0    NCRL   \n",
       "Bangalore_Systems    900  881.60  650    Gov    1361  Blr    0    BSYS   \n",
       "Chennai_Chemicals    966  863.20  608    Pub    1656  Che    1    CHEM   \n",
       "Indi_Services        954  733.00  609    Gov   13023  NCR    0    INDI   \n",
       "Bangalore_Breweries  966  805.00  895    Pvt     119  Blr    1    BREW   \n",
       "Bombay_Finance       899  917.00  674    Pub    1443  Mum    0    BFIN   \n",
       "Chennai_Shipping     992  821.00  665    Pub    1154  Che    1    SHIP   \n",
       "Eastern_Estates      945  834.23  789    Pvt    1873  Kol    1    EEST   \n",
       "\n",
       "                          GST   Started  \n",
       "Deccan_Sporting      Services  Mar 1943  \n",
       "Kolkata_FMCG            Goods  Jan 1920  \n",
       "NCR_Leagles          Services  Feb 1960  \n",
       "Bangalore_Systems    Services  Apr 1950  \n",
       "Chennai_Chemicals       Goods  Aug 1928  \n",
       "Indi_Services        Services  Mar 1920  \n",
       "Bangalore_Breweries     Goods  Oct 1971  \n",
       "Bombay_Finance       Services  Apr 1925  \n",
       "Chennai_Shipping        Goods  Nov 1930  \n",
       "Eastern_Estates         Goods  Jan 1994  "
      ]
     },
     "execution_count": 2,
     "metadata": {},
     "output_type": "execute_result"
    }
   ],
   "source": [
    "import pandas as pd\n",
    "df1 = pd.read_csv('https://raw.githubusercontent.com/vcsgithub/vcsgithub.github.io/master/lds1.csv')\n",
    "df1"
   ]
  },
  {
   "cell_type": "code",
   "execution_count": 3,
   "id": "deb61056",
   "metadata": {},
   "outputs": [
    {
     "ename": "TypeError",
     "evalue": "Could not convert BlrNCR to numeric",
     "output_type": "error",
     "traceback": [
      "\u001b[0;31m---------------------------------------------------------------------------\u001b[0m",
      "\u001b[0;31mNotImplementedError\u001b[0m                       Traceback (most recent call last)",
      "File \u001b[0;32m~/.local/lib/python3.9/site-packages/pandas/core/groupby/groupby.py:1490\u001b[0m, in \u001b[0;36mGroupBy._cython_agg_general.<locals>.array_func\u001b[0;34m(values)\u001b[0m\n\u001b[1;32m   1489\u001b[0m \u001b[38;5;28;01mtry\u001b[39;00m:\n\u001b[0;32m-> 1490\u001b[0m     result \u001b[38;5;241m=\u001b[39m \u001b[38;5;28;43mself\u001b[39;49m\u001b[38;5;241;43m.\u001b[39;49m\u001b[43mgrouper\u001b[49m\u001b[38;5;241;43m.\u001b[39;49m\u001b[43m_cython_operation\u001b[49m\u001b[43m(\u001b[49m\n\u001b[1;32m   1491\u001b[0m \u001b[43m        \u001b[49m\u001b[38;5;124;43m\"\u001b[39;49m\u001b[38;5;124;43maggregate\u001b[39;49m\u001b[38;5;124;43m\"\u001b[39;49m\u001b[43m,\u001b[49m\n\u001b[1;32m   1492\u001b[0m \u001b[43m        \u001b[49m\u001b[43mvalues\u001b[49m\u001b[43m,\u001b[49m\n\u001b[1;32m   1493\u001b[0m \u001b[43m        \u001b[49m\u001b[43mhow\u001b[49m\u001b[43m,\u001b[49m\n\u001b[1;32m   1494\u001b[0m \u001b[43m        \u001b[49m\u001b[43maxis\u001b[49m\u001b[38;5;241;43m=\u001b[39;49m\u001b[43mdata\u001b[49m\u001b[38;5;241;43m.\u001b[39;49m\u001b[43mndim\u001b[49m\u001b[43m \u001b[49m\u001b[38;5;241;43m-\u001b[39;49m\u001b[43m \u001b[49m\u001b[38;5;241;43m1\u001b[39;49m\u001b[43m,\u001b[49m\n\u001b[1;32m   1495\u001b[0m \u001b[43m        \u001b[49m\u001b[43mmin_count\u001b[49m\u001b[38;5;241;43m=\u001b[39;49m\u001b[43mmin_count\u001b[49m\u001b[43m,\u001b[49m\n\u001b[1;32m   1496\u001b[0m \u001b[43m        \u001b[49m\u001b[38;5;241;43m*\u001b[39;49m\u001b[38;5;241;43m*\u001b[39;49m\u001b[43mkwargs\u001b[49m\u001b[43m,\u001b[49m\n\u001b[1;32m   1497\u001b[0m \u001b[43m    \u001b[49m\u001b[43m)\u001b[49m\n\u001b[1;32m   1498\u001b[0m \u001b[38;5;28;01mexcept\u001b[39;00m \u001b[38;5;167;01mNotImplementedError\u001b[39;00m:\n\u001b[1;32m   1499\u001b[0m     \u001b[38;5;66;03m# generally if we have numeric_only=False\u001b[39;00m\n\u001b[1;32m   1500\u001b[0m     \u001b[38;5;66;03m# and non-applicable functions\u001b[39;00m\n\u001b[1;32m   1501\u001b[0m     \u001b[38;5;66;03m# try to python agg\u001b[39;00m\n\u001b[1;32m   1502\u001b[0m     \u001b[38;5;66;03m# TODO: shouldn't min_count matter?\u001b[39;00m\n",
      "File \u001b[0;32m~/.local/lib/python3.9/site-packages/pandas/core/groupby/ops.py:959\u001b[0m, in \u001b[0;36mBaseGrouper._cython_operation\u001b[0;34m(self, kind, values, how, axis, min_count, **kwargs)\u001b[0m\n\u001b[1;32m    958\u001b[0m ngroups \u001b[38;5;241m=\u001b[39m \u001b[38;5;28mself\u001b[39m\u001b[38;5;241m.\u001b[39mngroups\n\u001b[0;32m--> 959\u001b[0m \u001b[38;5;28;01mreturn\u001b[39;00m \u001b[43mcy_op\u001b[49m\u001b[38;5;241;43m.\u001b[39;49m\u001b[43mcython_operation\u001b[49m\u001b[43m(\u001b[49m\n\u001b[1;32m    960\u001b[0m \u001b[43m    \u001b[49m\u001b[43mvalues\u001b[49m\u001b[38;5;241;43m=\u001b[39;49m\u001b[43mvalues\u001b[49m\u001b[43m,\u001b[49m\n\u001b[1;32m    961\u001b[0m \u001b[43m    \u001b[49m\u001b[43maxis\u001b[49m\u001b[38;5;241;43m=\u001b[39;49m\u001b[43maxis\u001b[49m\u001b[43m,\u001b[49m\n\u001b[1;32m    962\u001b[0m \u001b[43m    \u001b[49m\u001b[43mmin_count\u001b[49m\u001b[38;5;241;43m=\u001b[39;49m\u001b[43mmin_count\u001b[49m\u001b[43m,\u001b[49m\n\u001b[1;32m    963\u001b[0m \u001b[43m    \u001b[49m\u001b[43mcomp_ids\u001b[49m\u001b[38;5;241;43m=\u001b[39;49m\u001b[43mids\u001b[49m\u001b[43m,\u001b[49m\n\u001b[1;32m    964\u001b[0m \u001b[43m    \u001b[49m\u001b[43mngroups\u001b[49m\u001b[38;5;241;43m=\u001b[39;49m\u001b[43mngroups\u001b[49m\u001b[43m,\u001b[49m\n\u001b[1;32m    965\u001b[0m \u001b[43m    \u001b[49m\u001b[38;5;241;43m*\u001b[39;49m\u001b[38;5;241;43m*\u001b[39;49m\u001b[43mkwargs\u001b[49m\u001b[43m,\u001b[49m\n\u001b[1;32m    966\u001b[0m \u001b[43m\u001b[49m\u001b[43m)\u001b[49m\n",
      "File \u001b[0;32m~/.local/lib/python3.9/site-packages/pandas/core/groupby/ops.py:657\u001b[0m, in \u001b[0;36mWrappedCythonOp.cython_operation\u001b[0;34m(self, values, axis, min_count, comp_ids, ngroups, **kwargs)\u001b[0m\n\u001b[1;32m    649\u001b[0m     \u001b[38;5;28;01mreturn\u001b[39;00m \u001b[38;5;28mself\u001b[39m\u001b[38;5;241m.\u001b[39m_ea_wrap_cython_operation(\n\u001b[1;32m    650\u001b[0m         values,\n\u001b[1;32m    651\u001b[0m         min_count\u001b[38;5;241m=\u001b[39mmin_count,\n\u001b[0;32m   (...)\u001b[0m\n\u001b[1;32m    654\u001b[0m         \u001b[38;5;241m*\u001b[39m\u001b[38;5;241m*\u001b[39mkwargs,\n\u001b[1;32m    655\u001b[0m     )\n\u001b[0;32m--> 657\u001b[0m \u001b[38;5;28;01mreturn\u001b[39;00m \u001b[38;5;28;43mself\u001b[39;49m\u001b[38;5;241;43m.\u001b[39;49m\u001b[43m_cython_op_ndim_compat\u001b[49m\u001b[43m(\u001b[49m\n\u001b[1;32m    658\u001b[0m \u001b[43m    \u001b[49m\u001b[43mvalues\u001b[49m\u001b[43m,\u001b[49m\n\u001b[1;32m    659\u001b[0m \u001b[43m    \u001b[49m\u001b[43mmin_count\u001b[49m\u001b[38;5;241;43m=\u001b[39;49m\u001b[43mmin_count\u001b[49m\u001b[43m,\u001b[49m\n\u001b[1;32m    660\u001b[0m \u001b[43m    \u001b[49m\u001b[43mngroups\u001b[49m\u001b[38;5;241;43m=\u001b[39;49m\u001b[43mngroups\u001b[49m\u001b[43m,\u001b[49m\n\u001b[1;32m    661\u001b[0m \u001b[43m    \u001b[49m\u001b[43mcomp_ids\u001b[49m\u001b[38;5;241;43m=\u001b[39;49m\u001b[43mcomp_ids\u001b[49m\u001b[43m,\u001b[49m\n\u001b[1;32m    662\u001b[0m \u001b[43m    \u001b[49m\u001b[43mmask\u001b[49m\u001b[38;5;241;43m=\u001b[39;49m\u001b[38;5;28;43;01mNone\u001b[39;49;00m\u001b[43m,\u001b[49m\n\u001b[1;32m    663\u001b[0m \u001b[43m    \u001b[49m\u001b[38;5;241;43m*\u001b[39;49m\u001b[38;5;241;43m*\u001b[39;49m\u001b[43mkwargs\u001b[49m\u001b[43m,\u001b[49m\n\u001b[1;32m    664\u001b[0m \u001b[43m\u001b[49m\u001b[43m)\u001b[49m\n",
      "File \u001b[0;32m~/.local/lib/python3.9/site-packages/pandas/core/groupby/ops.py:497\u001b[0m, in \u001b[0;36mWrappedCythonOp._cython_op_ndim_compat\u001b[0;34m(self, values, min_count, ngroups, comp_ids, mask, result_mask, **kwargs)\u001b[0m\n\u001b[1;32m    495\u001b[0m     \u001b[38;5;28;01mreturn\u001b[39;00m res\u001b[38;5;241m.\u001b[39mT\n\u001b[0;32m--> 497\u001b[0m \u001b[38;5;28;01mreturn\u001b[39;00m \u001b[38;5;28;43mself\u001b[39;49m\u001b[38;5;241;43m.\u001b[39;49m\u001b[43m_call_cython_op\u001b[49m\u001b[43m(\u001b[49m\n\u001b[1;32m    498\u001b[0m \u001b[43m    \u001b[49m\u001b[43mvalues\u001b[49m\u001b[43m,\u001b[49m\n\u001b[1;32m    499\u001b[0m \u001b[43m    \u001b[49m\u001b[43mmin_count\u001b[49m\u001b[38;5;241;43m=\u001b[39;49m\u001b[43mmin_count\u001b[49m\u001b[43m,\u001b[49m\n\u001b[1;32m    500\u001b[0m \u001b[43m    \u001b[49m\u001b[43mngroups\u001b[49m\u001b[38;5;241;43m=\u001b[39;49m\u001b[43mngroups\u001b[49m\u001b[43m,\u001b[49m\n\u001b[1;32m    501\u001b[0m \u001b[43m    \u001b[49m\u001b[43mcomp_ids\u001b[49m\u001b[38;5;241;43m=\u001b[39;49m\u001b[43mcomp_ids\u001b[49m\u001b[43m,\u001b[49m\n\u001b[1;32m    502\u001b[0m \u001b[43m    \u001b[49m\u001b[43mmask\u001b[49m\u001b[38;5;241;43m=\u001b[39;49m\u001b[43mmask\u001b[49m\u001b[43m,\u001b[49m\n\u001b[1;32m    503\u001b[0m \u001b[43m    \u001b[49m\u001b[43mresult_mask\u001b[49m\u001b[38;5;241;43m=\u001b[39;49m\u001b[43mresult_mask\u001b[49m\u001b[43m,\u001b[49m\n\u001b[1;32m    504\u001b[0m \u001b[43m    \u001b[49m\u001b[38;5;241;43m*\u001b[39;49m\u001b[38;5;241;43m*\u001b[39;49m\u001b[43mkwargs\u001b[49m\u001b[43m,\u001b[49m\n\u001b[1;32m    505\u001b[0m \u001b[43m\u001b[49m\u001b[43m)\u001b[49m\n",
      "File \u001b[0;32m~/.local/lib/python3.9/site-packages/pandas/core/groupby/ops.py:541\u001b[0m, in \u001b[0;36mWrappedCythonOp._call_cython_op\u001b[0;34m(self, values, min_count, ngroups, comp_ids, mask, result_mask, **kwargs)\u001b[0m\n\u001b[1;32m    540\u001b[0m out_shape \u001b[38;5;241m=\u001b[39m \u001b[38;5;28mself\u001b[39m\u001b[38;5;241m.\u001b[39m_get_output_shape(ngroups, values)\n\u001b[0;32m--> 541\u001b[0m func \u001b[38;5;241m=\u001b[39m \u001b[38;5;28;43mself\u001b[39;49m\u001b[38;5;241;43m.\u001b[39;49m\u001b[43m_get_cython_function\u001b[49m\u001b[43m(\u001b[49m\u001b[38;5;28;43mself\u001b[39;49m\u001b[38;5;241;43m.\u001b[39;49m\u001b[43mkind\u001b[49m\u001b[43m,\u001b[49m\u001b[43m \u001b[49m\u001b[38;5;28;43mself\u001b[39;49m\u001b[38;5;241;43m.\u001b[39;49m\u001b[43mhow\u001b[49m\u001b[43m,\u001b[49m\u001b[43m \u001b[49m\u001b[43mvalues\u001b[49m\u001b[38;5;241;43m.\u001b[39;49m\u001b[43mdtype\u001b[49m\u001b[43m,\u001b[49m\u001b[43m \u001b[49m\u001b[43mis_numeric\u001b[49m\u001b[43m)\u001b[49m\n\u001b[1;32m    542\u001b[0m values \u001b[38;5;241m=\u001b[39m \u001b[38;5;28mself\u001b[39m\u001b[38;5;241m.\u001b[39m_get_cython_vals(values)\n",
      "File \u001b[0;32m~/.local/lib/python3.9/site-packages/pandas/core/groupby/ops.py:173\u001b[0m, in \u001b[0;36mWrappedCythonOp._get_cython_function\u001b[0;34m(cls, kind, how, dtype, is_numeric)\u001b[0m\n\u001b[1;32m    171\u001b[0m \u001b[38;5;28;01mif\u001b[39;00m \u001b[38;5;124m\"\u001b[39m\u001b[38;5;124mobject\u001b[39m\u001b[38;5;124m\"\u001b[39m \u001b[38;5;129;01mnot\u001b[39;00m \u001b[38;5;129;01min\u001b[39;00m f\u001b[38;5;241m.\u001b[39m__signatures__:\n\u001b[1;32m    172\u001b[0m     \u001b[38;5;66;03m# raise NotImplementedError here rather than TypeError later\u001b[39;00m\n\u001b[0;32m--> 173\u001b[0m     \u001b[38;5;28;01mraise\u001b[39;00m \u001b[38;5;167;01mNotImplementedError\u001b[39;00m(\n\u001b[1;32m    174\u001b[0m         \u001b[38;5;124mf\u001b[39m\u001b[38;5;124m\"\u001b[39m\u001b[38;5;124mfunction is not implemented for this dtype: \u001b[39m\u001b[38;5;124m\"\u001b[39m\n\u001b[1;32m    175\u001b[0m         \u001b[38;5;124mf\u001b[39m\u001b[38;5;124m\"\u001b[39m\u001b[38;5;124m[how->\u001b[39m\u001b[38;5;132;01m{\u001b[39;00mhow\u001b[38;5;132;01m}\u001b[39;00m\u001b[38;5;124m,dtype->\u001b[39m\u001b[38;5;132;01m{\u001b[39;00mdtype_str\u001b[38;5;132;01m}\u001b[39;00m\u001b[38;5;124m]\u001b[39m\u001b[38;5;124m\"\u001b[39m\n\u001b[1;32m    176\u001b[0m     )\n\u001b[1;32m    177\u001b[0m \u001b[38;5;28;01mreturn\u001b[39;00m f\n",
      "\u001b[0;31mNotImplementedError\u001b[0m: function is not implemented for this dtype: [how->mean,dtype->object]",
      "\nDuring handling of the above exception, another exception occurred:\n",
      "\u001b[0;31mValueError\u001b[0m                                Traceback (most recent call last)",
      "File \u001b[0;32m~/.local/lib/python3.9/site-packages/pandas/core/nanops.py:1692\u001b[0m, in \u001b[0;36m_ensure_numeric\u001b[0;34m(x)\u001b[0m\n\u001b[1;32m   1691\u001b[0m \u001b[38;5;28;01mtry\u001b[39;00m:\n\u001b[0;32m-> 1692\u001b[0m     x \u001b[38;5;241m=\u001b[39m \u001b[38;5;28;43mfloat\u001b[39;49m\u001b[43m(\u001b[49m\u001b[43mx\u001b[49m\u001b[43m)\u001b[49m\n\u001b[1;32m   1693\u001b[0m \u001b[38;5;28;01mexcept\u001b[39;00m (\u001b[38;5;167;01mTypeError\u001b[39;00m, \u001b[38;5;167;01mValueError\u001b[39;00m):\n\u001b[1;32m   1694\u001b[0m     \u001b[38;5;66;03m# e.g. \"1+1j\" or \"foo\"\u001b[39;00m\n",
      "\u001b[0;31mValueError\u001b[0m: could not convert string to float: 'BlrNCR'",
      "\nDuring handling of the above exception, another exception occurred:\n",
      "\u001b[0;31mValueError\u001b[0m                                Traceback (most recent call last)",
      "File \u001b[0;32m~/.local/lib/python3.9/site-packages/pandas/core/nanops.py:1696\u001b[0m, in \u001b[0;36m_ensure_numeric\u001b[0;34m(x)\u001b[0m\n\u001b[1;32m   1695\u001b[0m \u001b[38;5;28;01mtry\u001b[39;00m:\n\u001b[0;32m-> 1696\u001b[0m     x \u001b[38;5;241m=\u001b[39m \u001b[38;5;28;43mcomplex\u001b[39;49m\u001b[43m(\u001b[49m\u001b[43mx\u001b[49m\u001b[43m)\u001b[49m\n\u001b[1;32m   1697\u001b[0m \u001b[38;5;28;01mexcept\u001b[39;00m \u001b[38;5;167;01mValueError\u001b[39;00m \u001b[38;5;28;01mas\u001b[39;00m err:\n\u001b[1;32m   1698\u001b[0m     \u001b[38;5;66;03m# e.g. \"foo\"\u001b[39;00m\n",
      "\u001b[0;31mValueError\u001b[0m: complex() arg is a malformed string",
      "\nThe above exception was the direct cause of the following exception:\n",
      "\u001b[0;31mTypeError\u001b[0m                                 Traceback (most recent call last)",
      "Cell \u001b[0;32mIn[3], line 1\u001b[0m\n\u001b[0;32m----> 1\u001b[0m dfp \u001b[38;5;241m=\u001b[39m \u001b[43mpd\u001b[49m\u001b[38;5;241;43m.\u001b[39;49m\u001b[43mpivot_table\u001b[49m\u001b[43m(\u001b[49m\u001b[43mdata\u001b[49m\u001b[38;5;241;43m=\u001b[39;49m\u001b[43mdf1\u001b[49m\u001b[43m,\u001b[49m\u001b[43m \u001b[49m\u001b[43mindex\u001b[49m\u001b[38;5;241;43m=\u001b[39;49m\u001b[38;5;124;43m'\u001b[39;49m\u001b[38;5;124;43mSector\u001b[39;49m\u001b[38;5;124;43m'\u001b[39;49m\u001b[43m,\u001b[49m\u001b[43maggfunc\u001b[49m\u001b[38;5;241;43m=\u001b[39;49m\u001b[38;5;124;43m'\u001b[39;49m\u001b[38;5;124;43mmean\u001b[39;49m\u001b[38;5;124;43m'\u001b[39;49m\u001b[43m)\u001b[49m\n\u001b[1;32m      2\u001b[0m dfp\n",
      "File \u001b[0;32m~/.local/lib/python3.9/site-packages/pandas/core/reshape/pivot.py:97\u001b[0m, in \u001b[0;36mpivot_table\u001b[0;34m(data, values, index, columns, aggfunc, fill_value, margins, dropna, margins_name, observed, sort)\u001b[0m\n\u001b[1;32m     94\u001b[0m     table \u001b[38;5;241m=\u001b[39m concat(pieces, keys\u001b[38;5;241m=\u001b[39mkeys, axis\u001b[38;5;241m=\u001b[39m\u001b[38;5;241m1\u001b[39m)\n\u001b[1;32m     95\u001b[0m     \u001b[38;5;28;01mreturn\u001b[39;00m table\u001b[38;5;241m.\u001b[39m__finalize__(data, method\u001b[38;5;241m=\u001b[39m\u001b[38;5;124m\"\u001b[39m\u001b[38;5;124mpivot_table\u001b[39m\u001b[38;5;124m\"\u001b[39m)\n\u001b[0;32m---> 97\u001b[0m table \u001b[38;5;241m=\u001b[39m \u001b[43m__internal_pivot_table\u001b[49m\u001b[43m(\u001b[49m\n\u001b[1;32m     98\u001b[0m \u001b[43m    \u001b[49m\u001b[43mdata\u001b[49m\u001b[43m,\u001b[49m\n\u001b[1;32m     99\u001b[0m \u001b[43m    \u001b[49m\u001b[43mvalues\u001b[49m\u001b[43m,\u001b[49m\n\u001b[1;32m    100\u001b[0m \u001b[43m    \u001b[49m\u001b[43mindex\u001b[49m\u001b[43m,\u001b[49m\n\u001b[1;32m    101\u001b[0m \u001b[43m    \u001b[49m\u001b[43mcolumns\u001b[49m\u001b[43m,\u001b[49m\n\u001b[1;32m    102\u001b[0m \u001b[43m    \u001b[49m\u001b[43maggfunc\u001b[49m\u001b[43m,\u001b[49m\n\u001b[1;32m    103\u001b[0m \u001b[43m    \u001b[49m\u001b[43mfill_value\u001b[49m\u001b[43m,\u001b[49m\n\u001b[1;32m    104\u001b[0m \u001b[43m    \u001b[49m\u001b[43mmargins\u001b[49m\u001b[43m,\u001b[49m\n\u001b[1;32m    105\u001b[0m \u001b[43m    \u001b[49m\u001b[43mdropna\u001b[49m\u001b[43m,\u001b[49m\n\u001b[1;32m    106\u001b[0m \u001b[43m    \u001b[49m\u001b[43mmargins_name\u001b[49m\u001b[43m,\u001b[49m\n\u001b[1;32m    107\u001b[0m \u001b[43m    \u001b[49m\u001b[43mobserved\u001b[49m\u001b[43m,\u001b[49m\n\u001b[1;32m    108\u001b[0m \u001b[43m    \u001b[49m\u001b[43msort\u001b[49m\u001b[43m,\u001b[49m\n\u001b[1;32m    109\u001b[0m \u001b[43m\u001b[49m\u001b[43m)\u001b[49m\n\u001b[1;32m    110\u001b[0m \u001b[38;5;28;01mreturn\u001b[39;00m table\u001b[38;5;241m.\u001b[39m__finalize__(data, method\u001b[38;5;241m=\u001b[39m\u001b[38;5;124m\"\u001b[39m\u001b[38;5;124mpivot_table\u001b[39m\u001b[38;5;124m\"\u001b[39m)\n",
      "File \u001b[0;32m~/.local/lib/python3.9/site-packages/pandas/core/reshape/pivot.py:167\u001b[0m, in \u001b[0;36m__internal_pivot_table\u001b[0;34m(data, values, index, columns, aggfunc, fill_value, margins, dropna, margins_name, observed, sort)\u001b[0m\n\u001b[1;32m    164\u001b[0m     values \u001b[38;5;241m=\u001b[39m \u001b[38;5;28mlist\u001b[39m(values)\n\u001b[1;32m    166\u001b[0m grouped \u001b[38;5;241m=\u001b[39m data\u001b[38;5;241m.\u001b[39mgroupby(keys, observed\u001b[38;5;241m=\u001b[39mobserved, sort\u001b[38;5;241m=\u001b[39msort)\n\u001b[0;32m--> 167\u001b[0m agged \u001b[38;5;241m=\u001b[39m \u001b[43mgrouped\u001b[49m\u001b[38;5;241;43m.\u001b[39;49m\u001b[43magg\u001b[49m\u001b[43m(\u001b[49m\u001b[43maggfunc\u001b[49m\u001b[43m)\u001b[49m\n\u001b[1;32m    169\u001b[0m \u001b[38;5;28;01mif\u001b[39;00m dropna \u001b[38;5;129;01mand\u001b[39;00m \u001b[38;5;28misinstance\u001b[39m(agged, ABCDataFrame) \u001b[38;5;129;01mand\u001b[39;00m \u001b[38;5;28mlen\u001b[39m(agged\u001b[38;5;241m.\u001b[39mcolumns):\n\u001b[1;32m    170\u001b[0m     agged \u001b[38;5;241m=\u001b[39m agged\u001b[38;5;241m.\u001b[39mdropna(how\u001b[38;5;241m=\u001b[39m\u001b[38;5;124m\"\u001b[39m\u001b[38;5;124mall\u001b[39m\u001b[38;5;124m\"\u001b[39m)\n",
      "File \u001b[0;32m~/.local/lib/python3.9/site-packages/pandas/core/groupby/generic.py:1269\u001b[0m, in \u001b[0;36mDataFrameGroupBy.aggregate\u001b[0;34m(self, func, engine, engine_kwargs, *args, **kwargs)\u001b[0m\n\u001b[1;32m   1266\u001b[0m func \u001b[38;5;241m=\u001b[39m maybe_mangle_lambdas(func)\n\u001b[1;32m   1268\u001b[0m op \u001b[38;5;241m=\u001b[39m GroupByApply(\u001b[38;5;28mself\u001b[39m, func, args, kwargs)\n\u001b[0;32m-> 1269\u001b[0m result \u001b[38;5;241m=\u001b[39m \u001b[43mop\u001b[49m\u001b[38;5;241;43m.\u001b[39;49m\u001b[43magg\u001b[49m\u001b[43m(\u001b[49m\u001b[43m)\u001b[49m\n\u001b[1;32m   1270\u001b[0m \u001b[38;5;28;01mif\u001b[39;00m \u001b[38;5;129;01mnot\u001b[39;00m is_dict_like(func) \u001b[38;5;129;01mand\u001b[39;00m result \u001b[38;5;129;01mis\u001b[39;00m \u001b[38;5;129;01mnot\u001b[39;00m \u001b[38;5;28;01mNone\u001b[39;00m:\n\u001b[1;32m   1271\u001b[0m     \u001b[38;5;28;01mreturn\u001b[39;00m result\n",
      "File \u001b[0;32m~/.local/lib/python3.9/site-packages/pandas/core/apply.py:160\u001b[0m, in \u001b[0;36mApply.agg\u001b[0;34m(self)\u001b[0m\n\u001b[1;32m    157\u001b[0m kwargs \u001b[38;5;241m=\u001b[39m \u001b[38;5;28mself\u001b[39m\u001b[38;5;241m.\u001b[39mkwargs\n\u001b[1;32m    159\u001b[0m \u001b[38;5;28;01mif\u001b[39;00m \u001b[38;5;28misinstance\u001b[39m(arg, \u001b[38;5;28mstr\u001b[39m):\n\u001b[0;32m--> 160\u001b[0m     \u001b[38;5;28;01mreturn\u001b[39;00m \u001b[38;5;28;43mself\u001b[39;49m\u001b[38;5;241;43m.\u001b[39;49m\u001b[43mapply_str\u001b[49m\u001b[43m(\u001b[49m\u001b[43m)\u001b[49m\n\u001b[1;32m    162\u001b[0m \u001b[38;5;28;01mif\u001b[39;00m is_dict_like(arg):\n\u001b[1;32m    163\u001b[0m     \u001b[38;5;28;01mreturn\u001b[39;00m \u001b[38;5;28mself\u001b[39m\u001b[38;5;241m.\u001b[39magg_dict_like()\n",
      "File \u001b[0;32m~/.local/lib/python3.9/site-packages/pandas/core/apply.py:496\u001b[0m, in \u001b[0;36mApply.apply_str\u001b[0;34m(self)\u001b[0m\n\u001b[1;32m    494\u001b[0m     \u001b[38;5;28;01mif\u001b[39;00m \u001b[38;5;124m\"\u001b[39m\u001b[38;5;124maxis\u001b[39m\u001b[38;5;124m\"\u001b[39m \u001b[38;5;129;01min\u001b[39;00m arg_names:\n\u001b[1;32m    495\u001b[0m         \u001b[38;5;28mself\u001b[39m\u001b[38;5;241m.\u001b[39mkwargs[\u001b[38;5;124m\"\u001b[39m\u001b[38;5;124maxis\u001b[39m\u001b[38;5;124m\"\u001b[39m] \u001b[38;5;241m=\u001b[39m \u001b[38;5;28mself\u001b[39m\u001b[38;5;241m.\u001b[39maxis\n\u001b[0;32m--> 496\u001b[0m \u001b[38;5;28;01mreturn\u001b[39;00m \u001b[38;5;28;43mself\u001b[39;49m\u001b[38;5;241;43m.\u001b[39;49m\u001b[43m_try_aggregate_string_function\u001b[49m\u001b[43m(\u001b[49m\u001b[43mobj\u001b[49m\u001b[43m,\u001b[49m\u001b[43m \u001b[49m\u001b[43mf\u001b[49m\u001b[43m,\u001b[49m\u001b[43m \u001b[49m\u001b[38;5;241;43m*\u001b[39;49m\u001b[38;5;28;43mself\u001b[39;49m\u001b[38;5;241;43m.\u001b[39;49m\u001b[43margs\u001b[49m\u001b[43m,\u001b[49m\u001b[43m \u001b[49m\u001b[38;5;241;43m*\u001b[39;49m\u001b[38;5;241;43m*\u001b[39;49m\u001b[38;5;28;43mself\u001b[39;49m\u001b[38;5;241;43m.\u001b[39;49m\u001b[43mkwargs\u001b[49m\u001b[43m)\u001b[49m\n",
      "File \u001b[0;32m~/.local/lib/python3.9/site-packages/pandas/core/apply.py:565\u001b[0m, in \u001b[0;36mApply._try_aggregate_string_function\u001b[0;34m(self, obj, arg, *args, **kwargs)\u001b[0m\n\u001b[1;32m    563\u001b[0m \u001b[38;5;28;01mif\u001b[39;00m f \u001b[38;5;129;01mis\u001b[39;00m \u001b[38;5;129;01mnot\u001b[39;00m \u001b[38;5;28;01mNone\u001b[39;00m:\n\u001b[1;32m    564\u001b[0m     \u001b[38;5;28;01mif\u001b[39;00m \u001b[38;5;28mcallable\u001b[39m(f):\n\u001b[0;32m--> 565\u001b[0m         \u001b[38;5;28;01mreturn\u001b[39;00m \u001b[43mf\u001b[49m\u001b[43m(\u001b[49m\u001b[38;5;241;43m*\u001b[39;49m\u001b[43margs\u001b[49m\u001b[43m,\u001b[49m\u001b[43m \u001b[49m\u001b[38;5;241;43m*\u001b[39;49m\u001b[38;5;241;43m*\u001b[39;49m\u001b[43mkwargs\u001b[49m\u001b[43m)\u001b[49m\n\u001b[1;32m    567\u001b[0m     \u001b[38;5;66;03m# people may try to aggregate on a non-callable attribute\u001b[39;00m\n\u001b[1;32m    568\u001b[0m     \u001b[38;5;66;03m# but don't let them think they can pass args to it\u001b[39;00m\n\u001b[1;32m    569\u001b[0m     \u001b[38;5;28;01massert\u001b[39;00m \u001b[38;5;28mlen\u001b[39m(args) \u001b[38;5;241m==\u001b[39m \u001b[38;5;241m0\u001b[39m\n",
      "File \u001b[0;32m~/.local/lib/python3.9/site-packages/pandas/core/groupby/groupby.py:1855\u001b[0m, in \u001b[0;36mGroupBy.mean\u001b[0;34m(self, numeric_only, engine, engine_kwargs)\u001b[0m\n\u001b[1;32m   1853\u001b[0m     \u001b[38;5;28;01mreturn\u001b[39;00m \u001b[38;5;28mself\u001b[39m\u001b[38;5;241m.\u001b[39m_numba_agg_general(sliding_mean, engine_kwargs)\n\u001b[1;32m   1854\u001b[0m \u001b[38;5;28;01melse\u001b[39;00m:\n\u001b[0;32m-> 1855\u001b[0m     result \u001b[38;5;241m=\u001b[39m \u001b[38;5;28;43mself\u001b[39;49m\u001b[38;5;241;43m.\u001b[39;49m\u001b[43m_cython_agg_general\u001b[49m\u001b[43m(\u001b[49m\n\u001b[1;32m   1856\u001b[0m \u001b[43m        \u001b[49m\u001b[38;5;124;43m\"\u001b[39;49m\u001b[38;5;124;43mmean\u001b[39;49m\u001b[38;5;124;43m\"\u001b[39;49m\u001b[43m,\u001b[49m\n\u001b[1;32m   1857\u001b[0m \u001b[43m        \u001b[49m\u001b[43malt\u001b[49m\u001b[38;5;241;43m=\u001b[39;49m\u001b[38;5;28;43;01mlambda\u001b[39;49;00m\u001b[43m \u001b[49m\u001b[43mx\u001b[49m\u001b[43m:\u001b[49m\u001b[43m \u001b[49m\u001b[43mSeries\u001b[49m\u001b[43m(\u001b[49m\u001b[43mx\u001b[49m\u001b[43m)\u001b[49m\u001b[38;5;241;43m.\u001b[39;49m\u001b[43mmean\u001b[49m\u001b[43m(\u001b[49m\u001b[43mnumeric_only\u001b[49m\u001b[38;5;241;43m=\u001b[39;49m\u001b[43mnumeric_only\u001b[49m\u001b[43m)\u001b[49m\u001b[43m,\u001b[49m\n\u001b[1;32m   1858\u001b[0m \u001b[43m        \u001b[49m\u001b[43mnumeric_only\u001b[49m\u001b[38;5;241;43m=\u001b[39;49m\u001b[43mnumeric_only\u001b[49m\u001b[43m,\u001b[49m\n\u001b[1;32m   1859\u001b[0m \u001b[43m    \u001b[49m\u001b[43m)\u001b[49m\n\u001b[1;32m   1860\u001b[0m     \u001b[38;5;28;01mreturn\u001b[39;00m result\u001b[38;5;241m.\u001b[39m__finalize__(\u001b[38;5;28mself\u001b[39m\u001b[38;5;241m.\u001b[39mobj, method\u001b[38;5;241m=\u001b[39m\u001b[38;5;124m\"\u001b[39m\u001b[38;5;124mgroupby\u001b[39m\u001b[38;5;124m\"\u001b[39m)\n",
      "File \u001b[0;32m~/.local/lib/python3.9/site-packages/pandas/core/groupby/groupby.py:1507\u001b[0m, in \u001b[0;36mGroupBy._cython_agg_general\u001b[0;34m(self, how, alt, numeric_only, min_count, **kwargs)\u001b[0m\n\u001b[1;32m   1503\u001b[0m         result \u001b[38;5;241m=\u001b[39m \u001b[38;5;28mself\u001b[39m\u001b[38;5;241m.\u001b[39m_agg_py_fallback(values, ndim\u001b[38;5;241m=\u001b[39mdata\u001b[38;5;241m.\u001b[39mndim, alt\u001b[38;5;241m=\u001b[39malt)\n\u001b[1;32m   1505\u001b[0m     \u001b[38;5;28;01mreturn\u001b[39;00m result\n\u001b[0;32m-> 1507\u001b[0m new_mgr \u001b[38;5;241m=\u001b[39m \u001b[43mdata\u001b[49m\u001b[38;5;241;43m.\u001b[39;49m\u001b[43mgrouped_reduce\u001b[49m\u001b[43m(\u001b[49m\u001b[43marray_func\u001b[49m\u001b[43m)\u001b[49m\n\u001b[1;32m   1508\u001b[0m res \u001b[38;5;241m=\u001b[39m \u001b[38;5;28mself\u001b[39m\u001b[38;5;241m.\u001b[39m_wrap_agged_manager(new_mgr)\n\u001b[1;32m   1509\u001b[0m out \u001b[38;5;241m=\u001b[39m \u001b[38;5;28mself\u001b[39m\u001b[38;5;241m.\u001b[39m_wrap_aggregated_output(res)\n",
      "File \u001b[0;32m~/.local/lib/python3.9/site-packages/pandas/core/internals/managers.py:1503\u001b[0m, in \u001b[0;36mBlockManager.grouped_reduce\u001b[0;34m(self, func)\u001b[0m\n\u001b[1;32m   1499\u001b[0m \u001b[38;5;28;01mif\u001b[39;00m blk\u001b[38;5;241m.\u001b[39mis_object:\n\u001b[1;32m   1500\u001b[0m     \u001b[38;5;66;03m# split on object-dtype blocks bc some columns may raise\u001b[39;00m\n\u001b[1;32m   1501\u001b[0m     \u001b[38;5;66;03m#  while others do not.\u001b[39;00m\n\u001b[1;32m   1502\u001b[0m     \u001b[38;5;28;01mfor\u001b[39;00m sb \u001b[38;5;129;01min\u001b[39;00m blk\u001b[38;5;241m.\u001b[39m_split():\n\u001b[0;32m-> 1503\u001b[0m         applied \u001b[38;5;241m=\u001b[39m \u001b[43msb\u001b[49m\u001b[38;5;241;43m.\u001b[39;49m\u001b[43mapply\u001b[49m\u001b[43m(\u001b[49m\u001b[43mfunc\u001b[49m\u001b[43m)\u001b[49m\n\u001b[1;32m   1504\u001b[0m         result_blocks \u001b[38;5;241m=\u001b[39m extend_blocks(applied, result_blocks)\n\u001b[1;32m   1505\u001b[0m \u001b[38;5;28;01melse\u001b[39;00m:\n",
      "File \u001b[0;32m~/.local/lib/python3.9/site-packages/pandas/core/internals/blocks.py:329\u001b[0m, in \u001b[0;36mBlock.apply\u001b[0;34m(self, func, **kwargs)\u001b[0m\n\u001b[1;32m    323\u001b[0m \u001b[38;5;129m@final\u001b[39m\n\u001b[1;32m    324\u001b[0m \u001b[38;5;28;01mdef\u001b[39;00m \u001b[38;5;21mapply\u001b[39m(\u001b[38;5;28mself\u001b[39m, func, \u001b[38;5;241m*\u001b[39m\u001b[38;5;241m*\u001b[39mkwargs) \u001b[38;5;241m-\u001b[39m\u001b[38;5;241m>\u001b[39m \u001b[38;5;28mlist\u001b[39m[Block]:\n\u001b[1;32m    325\u001b[0m \u001b[38;5;250m    \u001b[39m\u001b[38;5;124;03m\"\"\"\u001b[39;00m\n\u001b[1;32m    326\u001b[0m \u001b[38;5;124;03m    apply the function to my values; return a block if we are not\u001b[39;00m\n\u001b[1;32m    327\u001b[0m \u001b[38;5;124;03m    one\u001b[39;00m\n\u001b[1;32m    328\u001b[0m \u001b[38;5;124;03m    \"\"\"\u001b[39;00m\n\u001b[0;32m--> 329\u001b[0m     result \u001b[38;5;241m=\u001b[39m \u001b[43mfunc\u001b[49m\u001b[43m(\u001b[49m\u001b[38;5;28;43mself\u001b[39;49m\u001b[38;5;241;43m.\u001b[39;49m\u001b[43mvalues\u001b[49m\u001b[43m,\u001b[49m\u001b[43m \u001b[49m\u001b[38;5;241;43m*\u001b[39;49m\u001b[38;5;241;43m*\u001b[39;49m\u001b[43mkwargs\u001b[49m\u001b[43m)\u001b[49m\n\u001b[1;32m    331\u001b[0m     \u001b[38;5;28;01mreturn\u001b[39;00m \u001b[38;5;28mself\u001b[39m\u001b[38;5;241m.\u001b[39m_split_op_result(result)\n",
      "File \u001b[0;32m~/.local/lib/python3.9/site-packages/pandas/core/groupby/groupby.py:1503\u001b[0m, in \u001b[0;36mGroupBy._cython_agg_general.<locals>.array_func\u001b[0;34m(values)\u001b[0m\n\u001b[1;32m   1490\u001b[0m     result \u001b[38;5;241m=\u001b[39m \u001b[38;5;28mself\u001b[39m\u001b[38;5;241m.\u001b[39mgrouper\u001b[38;5;241m.\u001b[39m_cython_operation(\n\u001b[1;32m   1491\u001b[0m         \u001b[38;5;124m\"\u001b[39m\u001b[38;5;124maggregate\u001b[39m\u001b[38;5;124m\"\u001b[39m,\n\u001b[1;32m   1492\u001b[0m         values,\n\u001b[0;32m   (...)\u001b[0m\n\u001b[1;32m   1496\u001b[0m         \u001b[38;5;241m*\u001b[39m\u001b[38;5;241m*\u001b[39mkwargs,\n\u001b[1;32m   1497\u001b[0m     )\n\u001b[1;32m   1498\u001b[0m \u001b[38;5;28;01mexcept\u001b[39;00m \u001b[38;5;167;01mNotImplementedError\u001b[39;00m:\n\u001b[1;32m   1499\u001b[0m     \u001b[38;5;66;03m# generally if we have numeric_only=False\u001b[39;00m\n\u001b[1;32m   1500\u001b[0m     \u001b[38;5;66;03m# and non-applicable functions\u001b[39;00m\n\u001b[1;32m   1501\u001b[0m     \u001b[38;5;66;03m# try to python agg\u001b[39;00m\n\u001b[1;32m   1502\u001b[0m     \u001b[38;5;66;03m# TODO: shouldn't min_count matter?\u001b[39;00m\n\u001b[0;32m-> 1503\u001b[0m     result \u001b[38;5;241m=\u001b[39m \u001b[38;5;28;43mself\u001b[39;49m\u001b[38;5;241;43m.\u001b[39;49m\u001b[43m_agg_py_fallback\u001b[49m\u001b[43m(\u001b[49m\u001b[43mvalues\u001b[49m\u001b[43m,\u001b[49m\u001b[43m \u001b[49m\u001b[43mndim\u001b[49m\u001b[38;5;241;43m=\u001b[39;49m\u001b[43mdata\u001b[49m\u001b[38;5;241;43m.\u001b[39;49m\u001b[43mndim\u001b[49m\u001b[43m,\u001b[49m\u001b[43m \u001b[49m\u001b[43malt\u001b[49m\u001b[38;5;241;43m=\u001b[39;49m\u001b[43malt\u001b[49m\u001b[43m)\u001b[49m\n\u001b[1;32m   1505\u001b[0m \u001b[38;5;28;01mreturn\u001b[39;00m result\n",
      "File \u001b[0;32m~/.local/lib/python3.9/site-packages/pandas/core/groupby/groupby.py:1457\u001b[0m, in \u001b[0;36mGroupBy._agg_py_fallback\u001b[0;34m(self, values, ndim, alt)\u001b[0m\n\u001b[1;32m   1452\u001b[0m     ser \u001b[38;5;241m=\u001b[39m df\u001b[38;5;241m.\u001b[39miloc[:, \u001b[38;5;241m0\u001b[39m]\n\u001b[1;32m   1454\u001b[0m \u001b[38;5;66;03m# We do not get here with UDFs, so we know that our dtype\u001b[39;00m\n\u001b[1;32m   1455\u001b[0m \u001b[38;5;66;03m#  should always be preserved by the implemented aggregations\u001b[39;00m\n\u001b[1;32m   1456\u001b[0m \u001b[38;5;66;03m# TODO: Is this exactly right; see WrappedCythonOp get_result_dtype?\u001b[39;00m\n\u001b[0;32m-> 1457\u001b[0m res_values \u001b[38;5;241m=\u001b[39m \u001b[38;5;28;43mself\u001b[39;49m\u001b[38;5;241;43m.\u001b[39;49m\u001b[43mgrouper\u001b[49m\u001b[38;5;241;43m.\u001b[39;49m\u001b[43magg_series\u001b[49m\u001b[43m(\u001b[49m\u001b[43mser\u001b[49m\u001b[43m,\u001b[49m\u001b[43m \u001b[49m\u001b[43malt\u001b[49m\u001b[43m,\u001b[49m\u001b[43m \u001b[49m\u001b[43mpreserve_dtype\u001b[49m\u001b[38;5;241;43m=\u001b[39;49m\u001b[38;5;28;43;01mTrue\u001b[39;49;00m\u001b[43m)\u001b[49m\n\u001b[1;32m   1459\u001b[0m \u001b[38;5;28;01mif\u001b[39;00m \u001b[38;5;28misinstance\u001b[39m(values, Categorical):\n\u001b[1;32m   1460\u001b[0m     \u001b[38;5;66;03m# Because we only get here with known dtype-preserving\u001b[39;00m\n\u001b[1;32m   1461\u001b[0m     \u001b[38;5;66;03m#  reductions, we cast back to Categorical.\u001b[39;00m\n\u001b[1;32m   1462\u001b[0m     \u001b[38;5;66;03m# TODO: if we ever get \"rank\" working, exclude it here.\u001b[39;00m\n\u001b[1;32m   1463\u001b[0m     res_values \u001b[38;5;241m=\u001b[39m \u001b[38;5;28mtype\u001b[39m(values)\u001b[38;5;241m.\u001b[39m_from_sequence(res_values, dtype\u001b[38;5;241m=\u001b[39mvalues\u001b[38;5;241m.\u001b[39mdtype)\n",
      "File \u001b[0;32m~/.local/lib/python3.9/site-packages/pandas/core/groupby/ops.py:994\u001b[0m, in \u001b[0;36mBaseGrouper.agg_series\u001b[0;34m(self, obj, func, preserve_dtype)\u001b[0m\n\u001b[1;32m    987\u001b[0m \u001b[38;5;28;01mif\u001b[39;00m \u001b[38;5;28mlen\u001b[39m(obj) \u001b[38;5;241m>\u001b[39m \u001b[38;5;241m0\u001b[39m \u001b[38;5;129;01mand\u001b[39;00m \u001b[38;5;129;01mnot\u001b[39;00m \u001b[38;5;28misinstance\u001b[39m(obj\u001b[38;5;241m.\u001b[39m_values, np\u001b[38;5;241m.\u001b[39mndarray):\n\u001b[1;32m    988\u001b[0m     \u001b[38;5;66;03m# we can preserve a little bit more aggressively with EA dtype\u001b[39;00m\n\u001b[1;32m    989\u001b[0m     \u001b[38;5;66;03m#  because maybe_cast_pointwise_result will do a try/except\u001b[39;00m\n\u001b[1;32m    990\u001b[0m     \u001b[38;5;66;03m#  with _from_sequence.  NB we are assuming here that _from_sequence\u001b[39;00m\n\u001b[1;32m    991\u001b[0m     \u001b[38;5;66;03m#  is sufficiently strict that it casts appropriately.\u001b[39;00m\n\u001b[1;32m    992\u001b[0m     preserve_dtype \u001b[38;5;241m=\u001b[39m \u001b[38;5;28;01mTrue\u001b[39;00m\n\u001b[0;32m--> 994\u001b[0m result \u001b[38;5;241m=\u001b[39m \u001b[38;5;28;43mself\u001b[39;49m\u001b[38;5;241;43m.\u001b[39;49m\u001b[43m_aggregate_series_pure_python\u001b[49m\u001b[43m(\u001b[49m\u001b[43mobj\u001b[49m\u001b[43m,\u001b[49m\u001b[43m \u001b[49m\u001b[43mfunc\u001b[49m\u001b[43m)\u001b[49m\n\u001b[1;32m    996\u001b[0m npvalues \u001b[38;5;241m=\u001b[39m lib\u001b[38;5;241m.\u001b[39mmaybe_convert_objects(result, try_float\u001b[38;5;241m=\u001b[39m\u001b[38;5;28;01mFalse\u001b[39;00m)\n\u001b[1;32m    997\u001b[0m \u001b[38;5;28;01mif\u001b[39;00m preserve_dtype:\n",
      "File \u001b[0;32m~/.local/lib/python3.9/site-packages/pandas/core/groupby/ops.py:1015\u001b[0m, in \u001b[0;36mBaseGrouper._aggregate_series_pure_python\u001b[0;34m(self, obj, func)\u001b[0m\n\u001b[1;32m   1012\u001b[0m splitter \u001b[38;5;241m=\u001b[39m \u001b[38;5;28mself\u001b[39m\u001b[38;5;241m.\u001b[39m_get_splitter(obj, axis\u001b[38;5;241m=\u001b[39m\u001b[38;5;241m0\u001b[39m)\n\u001b[1;32m   1014\u001b[0m \u001b[38;5;28;01mfor\u001b[39;00m i, group \u001b[38;5;129;01min\u001b[39;00m \u001b[38;5;28menumerate\u001b[39m(splitter):\n\u001b[0;32m-> 1015\u001b[0m     res \u001b[38;5;241m=\u001b[39m \u001b[43mfunc\u001b[49m\u001b[43m(\u001b[49m\u001b[43mgroup\u001b[49m\u001b[43m)\u001b[49m\n\u001b[1;32m   1016\u001b[0m     res \u001b[38;5;241m=\u001b[39m libreduction\u001b[38;5;241m.\u001b[39mextract_result(res)\n\u001b[1;32m   1018\u001b[0m     \u001b[38;5;28;01mif\u001b[39;00m \u001b[38;5;129;01mnot\u001b[39;00m initialized:\n\u001b[1;32m   1019\u001b[0m         \u001b[38;5;66;03m# We only do this validation on the first iteration\u001b[39;00m\n",
      "File \u001b[0;32m~/.local/lib/python3.9/site-packages/pandas/core/groupby/groupby.py:1857\u001b[0m, in \u001b[0;36mGroupBy.mean.<locals>.<lambda>\u001b[0;34m(x)\u001b[0m\n\u001b[1;32m   1853\u001b[0m     \u001b[38;5;28;01mreturn\u001b[39;00m \u001b[38;5;28mself\u001b[39m\u001b[38;5;241m.\u001b[39m_numba_agg_general(sliding_mean, engine_kwargs)\n\u001b[1;32m   1854\u001b[0m \u001b[38;5;28;01melse\u001b[39;00m:\n\u001b[1;32m   1855\u001b[0m     result \u001b[38;5;241m=\u001b[39m \u001b[38;5;28mself\u001b[39m\u001b[38;5;241m.\u001b[39m_cython_agg_general(\n\u001b[1;32m   1856\u001b[0m         \u001b[38;5;124m\"\u001b[39m\u001b[38;5;124mmean\u001b[39m\u001b[38;5;124m\"\u001b[39m,\n\u001b[0;32m-> 1857\u001b[0m         alt\u001b[38;5;241m=\u001b[39m\u001b[38;5;28;01mlambda\u001b[39;00m x: \u001b[43mSeries\u001b[49m\u001b[43m(\u001b[49m\u001b[43mx\u001b[49m\u001b[43m)\u001b[49m\u001b[38;5;241;43m.\u001b[39;49m\u001b[43mmean\u001b[49m\u001b[43m(\u001b[49m\u001b[43mnumeric_only\u001b[49m\u001b[38;5;241;43m=\u001b[39;49m\u001b[43mnumeric_only\u001b[49m\u001b[43m)\u001b[49m,\n\u001b[1;32m   1858\u001b[0m         numeric_only\u001b[38;5;241m=\u001b[39mnumeric_only,\n\u001b[1;32m   1859\u001b[0m     )\n\u001b[1;32m   1860\u001b[0m     \u001b[38;5;28;01mreturn\u001b[39;00m result\u001b[38;5;241m.\u001b[39m__finalize__(\u001b[38;5;28mself\u001b[39m\u001b[38;5;241m.\u001b[39mobj, method\u001b[38;5;241m=\u001b[39m\u001b[38;5;124m\"\u001b[39m\u001b[38;5;124mgroupby\u001b[39m\u001b[38;5;124m\"\u001b[39m)\n",
      "File \u001b[0;32m~/.local/lib/python3.9/site-packages/pandas/core/generic.py:11556\u001b[0m, in \u001b[0;36mNDFrame._add_numeric_operations.<locals>.mean\u001b[0;34m(self, axis, skipna, numeric_only, **kwargs)\u001b[0m\n\u001b[1;32m  11539\u001b[0m \u001b[38;5;129m@doc\u001b[39m(\n\u001b[1;32m  11540\u001b[0m     _num_doc,\n\u001b[1;32m  11541\u001b[0m     desc\u001b[38;5;241m=\u001b[39m\u001b[38;5;124m\"\u001b[39m\u001b[38;5;124mReturn the mean of the values over the requested axis.\u001b[39m\u001b[38;5;124m\"\u001b[39m,\n\u001b[0;32m   (...)\u001b[0m\n\u001b[1;32m  11554\u001b[0m     \u001b[38;5;241m*\u001b[39m\u001b[38;5;241m*\u001b[39mkwargs,\n\u001b[1;32m  11555\u001b[0m ):\n\u001b[0;32m> 11556\u001b[0m     \u001b[38;5;28;01mreturn\u001b[39;00m \u001b[43mNDFrame\u001b[49m\u001b[38;5;241;43m.\u001b[39;49m\u001b[43mmean\u001b[49m\u001b[43m(\u001b[49m\u001b[38;5;28;43mself\u001b[39;49m\u001b[43m,\u001b[49m\u001b[43m \u001b[49m\u001b[43maxis\u001b[49m\u001b[43m,\u001b[49m\u001b[43m \u001b[49m\u001b[43mskipna\u001b[49m\u001b[43m,\u001b[49m\u001b[43m \u001b[49m\u001b[43mnumeric_only\u001b[49m\u001b[43m,\u001b[49m\u001b[43m \u001b[49m\u001b[38;5;241;43m*\u001b[39;49m\u001b[38;5;241;43m*\u001b[39;49m\u001b[43mkwargs\u001b[49m\u001b[43m)\u001b[49m\n",
      "File \u001b[0;32m~/.local/lib/python3.9/site-packages/pandas/core/generic.py:11201\u001b[0m, in \u001b[0;36mNDFrame.mean\u001b[0;34m(self, axis, skipna, numeric_only, **kwargs)\u001b[0m\n\u001b[1;32m  11194\u001b[0m \u001b[38;5;28;01mdef\u001b[39;00m \u001b[38;5;21mmean\u001b[39m(\n\u001b[1;32m  11195\u001b[0m     \u001b[38;5;28mself\u001b[39m,\n\u001b[1;32m  11196\u001b[0m     axis: Axis \u001b[38;5;241m|\u001b[39m \u001b[38;5;28;01mNone\u001b[39;00m \u001b[38;5;241m=\u001b[39m \u001b[38;5;241m0\u001b[39m,\n\u001b[0;32m   (...)\u001b[0m\n\u001b[1;32m  11199\u001b[0m     \u001b[38;5;241m*\u001b[39m\u001b[38;5;241m*\u001b[39mkwargs,\n\u001b[1;32m  11200\u001b[0m ) \u001b[38;5;241m-\u001b[39m\u001b[38;5;241m>\u001b[39m Series \u001b[38;5;241m|\u001b[39m \u001b[38;5;28mfloat\u001b[39m:\n\u001b[0;32m> 11201\u001b[0m     \u001b[38;5;28;01mreturn\u001b[39;00m \u001b[38;5;28;43mself\u001b[39;49m\u001b[38;5;241;43m.\u001b[39;49m\u001b[43m_stat_function\u001b[49m\u001b[43m(\u001b[49m\n\u001b[1;32m  11202\u001b[0m \u001b[43m        \u001b[49m\u001b[38;5;124;43m\"\u001b[39;49m\u001b[38;5;124;43mmean\u001b[39;49m\u001b[38;5;124;43m\"\u001b[39;49m\u001b[43m,\u001b[49m\u001b[43m \u001b[49m\u001b[43mnanops\u001b[49m\u001b[38;5;241;43m.\u001b[39;49m\u001b[43mnanmean\u001b[49m\u001b[43m,\u001b[49m\u001b[43m \u001b[49m\u001b[43maxis\u001b[49m\u001b[43m,\u001b[49m\u001b[43m \u001b[49m\u001b[43mskipna\u001b[49m\u001b[43m,\u001b[49m\u001b[43m \u001b[49m\u001b[43mnumeric_only\u001b[49m\u001b[43m,\u001b[49m\u001b[43m \u001b[49m\u001b[38;5;241;43m*\u001b[39;49m\u001b[38;5;241;43m*\u001b[39;49m\u001b[43mkwargs\u001b[49m\n\u001b[1;32m  11203\u001b[0m \u001b[43m    \u001b[49m\u001b[43m)\u001b[49m\n",
      "File \u001b[0;32m~/.local/lib/python3.9/site-packages/pandas/core/generic.py:11158\u001b[0m, in \u001b[0;36mNDFrame._stat_function\u001b[0;34m(self, name, func, axis, skipna, numeric_only, **kwargs)\u001b[0m\n\u001b[1;32m  11154\u001b[0m     nv\u001b[38;5;241m.\u001b[39mvalidate_stat_func((), kwargs, fname\u001b[38;5;241m=\u001b[39mname)\n\u001b[1;32m  11156\u001b[0m validate_bool_kwarg(skipna, \u001b[38;5;124m\"\u001b[39m\u001b[38;5;124mskipna\u001b[39m\u001b[38;5;124m\"\u001b[39m, none_allowed\u001b[38;5;241m=\u001b[39m\u001b[38;5;28;01mFalse\u001b[39;00m)\n\u001b[0;32m> 11158\u001b[0m \u001b[38;5;28;01mreturn\u001b[39;00m \u001b[38;5;28;43mself\u001b[39;49m\u001b[38;5;241;43m.\u001b[39;49m\u001b[43m_reduce\u001b[49m\u001b[43m(\u001b[49m\n\u001b[1;32m  11159\u001b[0m \u001b[43m    \u001b[49m\u001b[43mfunc\u001b[49m\u001b[43m,\u001b[49m\u001b[43m \u001b[49m\u001b[43mname\u001b[49m\u001b[38;5;241;43m=\u001b[39;49m\u001b[43mname\u001b[49m\u001b[43m,\u001b[49m\u001b[43m \u001b[49m\u001b[43maxis\u001b[49m\u001b[38;5;241;43m=\u001b[39;49m\u001b[43maxis\u001b[49m\u001b[43m,\u001b[49m\u001b[43m \u001b[49m\u001b[43mskipna\u001b[49m\u001b[38;5;241;43m=\u001b[39;49m\u001b[43mskipna\u001b[49m\u001b[43m,\u001b[49m\u001b[43m \u001b[49m\u001b[43mnumeric_only\u001b[49m\u001b[38;5;241;43m=\u001b[39;49m\u001b[43mnumeric_only\u001b[49m\n\u001b[1;32m  11160\u001b[0m \u001b[43m\u001b[49m\u001b[43m)\u001b[49m\n",
      "File \u001b[0;32m~/.local/lib/python3.9/site-packages/pandas/core/series.py:4670\u001b[0m, in \u001b[0;36mSeries._reduce\u001b[0;34m(self, op, name, axis, skipna, numeric_only, filter_type, **kwds)\u001b[0m\n\u001b[1;32m   4665\u001b[0m     \u001b[38;5;28;01mraise\u001b[39;00m \u001b[38;5;167;01mTypeError\u001b[39;00m(\n\u001b[1;32m   4666\u001b[0m         \u001b[38;5;124mf\u001b[39m\u001b[38;5;124m\"\u001b[39m\u001b[38;5;124mSeries.\u001b[39m\u001b[38;5;132;01m{\u001b[39;00mname\u001b[38;5;132;01m}\u001b[39;00m\u001b[38;5;124m does not allow \u001b[39m\u001b[38;5;132;01m{\u001b[39;00mkwd_name\u001b[38;5;132;01m}\u001b[39;00m\u001b[38;5;124m=\u001b[39m\u001b[38;5;132;01m{\u001b[39;00mnumeric_only\u001b[38;5;132;01m}\u001b[39;00m\u001b[38;5;124m \u001b[39m\u001b[38;5;124m\"\u001b[39m\n\u001b[1;32m   4667\u001b[0m         \u001b[38;5;124m\"\u001b[39m\u001b[38;5;124mwith non-numeric dtypes.\u001b[39m\u001b[38;5;124m\"\u001b[39m\n\u001b[1;32m   4668\u001b[0m     )\n\u001b[1;32m   4669\u001b[0m \u001b[38;5;28;01mwith\u001b[39;00m np\u001b[38;5;241m.\u001b[39merrstate(\u001b[38;5;28mall\u001b[39m\u001b[38;5;241m=\u001b[39m\u001b[38;5;124m\"\u001b[39m\u001b[38;5;124mignore\u001b[39m\u001b[38;5;124m\"\u001b[39m):\n\u001b[0;32m-> 4670\u001b[0m     \u001b[38;5;28;01mreturn\u001b[39;00m \u001b[43mop\u001b[49m\u001b[43m(\u001b[49m\u001b[43mdelegate\u001b[49m\u001b[43m,\u001b[49m\u001b[43m \u001b[49m\u001b[43mskipna\u001b[49m\u001b[38;5;241;43m=\u001b[39;49m\u001b[43mskipna\u001b[49m\u001b[43m,\u001b[49m\u001b[43m \u001b[49m\u001b[38;5;241;43m*\u001b[39;49m\u001b[38;5;241;43m*\u001b[39;49m\u001b[43mkwds\u001b[49m\u001b[43m)\u001b[49m\n",
      "File \u001b[0;32m~/.local/lib/python3.9/site-packages/pandas/core/nanops.py:96\u001b[0m, in \u001b[0;36mdisallow.__call__.<locals>._f\u001b[0;34m(*args, **kwargs)\u001b[0m\n\u001b[1;32m     94\u001b[0m \u001b[38;5;28;01mtry\u001b[39;00m:\n\u001b[1;32m     95\u001b[0m     \u001b[38;5;28;01mwith\u001b[39;00m np\u001b[38;5;241m.\u001b[39merrstate(invalid\u001b[38;5;241m=\u001b[39m\u001b[38;5;124m\"\u001b[39m\u001b[38;5;124mignore\u001b[39m\u001b[38;5;124m\"\u001b[39m):\n\u001b[0;32m---> 96\u001b[0m         \u001b[38;5;28;01mreturn\u001b[39;00m \u001b[43mf\u001b[49m\u001b[43m(\u001b[49m\u001b[38;5;241;43m*\u001b[39;49m\u001b[43margs\u001b[49m\u001b[43m,\u001b[49m\u001b[43m \u001b[49m\u001b[38;5;241;43m*\u001b[39;49m\u001b[38;5;241;43m*\u001b[39;49m\u001b[43mkwargs\u001b[49m\u001b[43m)\u001b[49m\n\u001b[1;32m     97\u001b[0m \u001b[38;5;28;01mexcept\u001b[39;00m \u001b[38;5;167;01mValueError\u001b[39;00m \u001b[38;5;28;01mas\u001b[39;00m e:\n\u001b[1;32m     98\u001b[0m     \u001b[38;5;66;03m# we want to transform an object array\u001b[39;00m\n\u001b[1;32m     99\u001b[0m     \u001b[38;5;66;03m# ValueError message to the more typical TypeError\u001b[39;00m\n\u001b[1;32m    100\u001b[0m     \u001b[38;5;66;03m# e.g. this is normally a disallowed function on\u001b[39;00m\n\u001b[1;32m    101\u001b[0m     \u001b[38;5;66;03m# object arrays that contain strings\u001b[39;00m\n\u001b[1;32m    102\u001b[0m     \u001b[38;5;28;01mif\u001b[39;00m is_object_dtype(args[\u001b[38;5;241m0\u001b[39m]):\n",
      "File \u001b[0;32m~/.local/lib/python3.9/site-packages/pandas/core/nanops.py:158\u001b[0m, in \u001b[0;36mbottleneck_switch.__call__.<locals>.f\u001b[0;34m(values, axis, skipna, **kwds)\u001b[0m\n\u001b[1;32m    156\u001b[0m         result \u001b[38;5;241m=\u001b[39m alt(values, axis\u001b[38;5;241m=\u001b[39maxis, skipna\u001b[38;5;241m=\u001b[39mskipna, \u001b[38;5;241m*\u001b[39m\u001b[38;5;241m*\u001b[39mkwds)\n\u001b[1;32m    157\u001b[0m \u001b[38;5;28;01melse\u001b[39;00m:\n\u001b[0;32m--> 158\u001b[0m     result \u001b[38;5;241m=\u001b[39m \u001b[43malt\u001b[49m\u001b[43m(\u001b[49m\u001b[43mvalues\u001b[49m\u001b[43m,\u001b[49m\u001b[43m \u001b[49m\u001b[43maxis\u001b[49m\u001b[38;5;241;43m=\u001b[39;49m\u001b[43maxis\u001b[49m\u001b[43m,\u001b[49m\u001b[43m \u001b[49m\u001b[43mskipna\u001b[49m\u001b[38;5;241;43m=\u001b[39;49m\u001b[43mskipna\u001b[49m\u001b[43m,\u001b[49m\u001b[43m \u001b[49m\u001b[38;5;241;43m*\u001b[39;49m\u001b[38;5;241;43m*\u001b[39;49m\u001b[43mkwds\u001b[49m\u001b[43m)\u001b[49m\n\u001b[1;32m    160\u001b[0m \u001b[38;5;28;01mreturn\u001b[39;00m result\n",
      "File \u001b[0;32m~/.local/lib/python3.9/site-packages/pandas/core/nanops.py:421\u001b[0m, in \u001b[0;36m_datetimelike_compat.<locals>.new_func\u001b[0;34m(values, axis, skipna, mask, **kwargs)\u001b[0m\n\u001b[1;32m    418\u001b[0m \u001b[38;5;28;01mif\u001b[39;00m datetimelike \u001b[38;5;129;01mand\u001b[39;00m mask \u001b[38;5;129;01mis\u001b[39;00m \u001b[38;5;28;01mNone\u001b[39;00m:\n\u001b[1;32m    419\u001b[0m     mask \u001b[38;5;241m=\u001b[39m isna(values)\n\u001b[0;32m--> 421\u001b[0m result \u001b[38;5;241m=\u001b[39m \u001b[43mfunc\u001b[49m\u001b[43m(\u001b[49m\u001b[43mvalues\u001b[49m\u001b[43m,\u001b[49m\u001b[43m \u001b[49m\u001b[43maxis\u001b[49m\u001b[38;5;241;43m=\u001b[39;49m\u001b[43maxis\u001b[49m\u001b[43m,\u001b[49m\u001b[43m \u001b[49m\u001b[43mskipna\u001b[49m\u001b[38;5;241;43m=\u001b[39;49m\u001b[43mskipna\u001b[49m\u001b[43m,\u001b[49m\u001b[43m \u001b[49m\u001b[43mmask\u001b[49m\u001b[38;5;241;43m=\u001b[39;49m\u001b[43mmask\u001b[49m\u001b[43m,\u001b[49m\u001b[43m \u001b[49m\u001b[38;5;241;43m*\u001b[39;49m\u001b[38;5;241;43m*\u001b[39;49m\u001b[43mkwargs\u001b[49m\u001b[43m)\u001b[49m\n\u001b[1;32m    423\u001b[0m \u001b[38;5;28;01mif\u001b[39;00m datetimelike:\n\u001b[1;32m    424\u001b[0m     result \u001b[38;5;241m=\u001b[39m _wrap_results(result, orig_values\u001b[38;5;241m.\u001b[39mdtype, fill_value\u001b[38;5;241m=\u001b[39miNaT)\n",
      "File \u001b[0;32m~/.local/lib/python3.9/site-packages/pandas/core/nanops.py:727\u001b[0m, in \u001b[0;36mnanmean\u001b[0;34m(values, axis, skipna, mask)\u001b[0m\n\u001b[1;32m    724\u001b[0m     dtype_count \u001b[38;5;241m=\u001b[39m dtype\n\u001b[1;32m    726\u001b[0m count \u001b[38;5;241m=\u001b[39m _get_counts(values\u001b[38;5;241m.\u001b[39mshape, mask, axis, dtype\u001b[38;5;241m=\u001b[39mdtype_count)\n\u001b[0;32m--> 727\u001b[0m the_sum \u001b[38;5;241m=\u001b[39m \u001b[43m_ensure_numeric\u001b[49m\u001b[43m(\u001b[49m\u001b[43mvalues\u001b[49m\u001b[38;5;241;43m.\u001b[39;49m\u001b[43msum\u001b[49m\u001b[43m(\u001b[49m\u001b[43maxis\u001b[49m\u001b[43m,\u001b[49m\u001b[43m \u001b[49m\u001b[43mdtype\u001b[49m\u001b[38;5;241;43m=\u001b[39;49m\u001b[43mdtype_sum\u001b[49m\u001b[43m)\u001b[49m\u001b[43m)\u001b[49m\n\u001b[1;32m    729\u001b[0m \u001b[38;5;28;01mif\u001b[39;00m axis \u001b[38;5;129;01mis\u001b[39;00m \u001b[38;5;129;01mnot\u001b[39;00m \u001b[38;5;28;01mNone\u001b[39;00m \u001b[38;5;129;01mand\u001b[39;00m \u001b[38;5;28mgetattr\u001b[39m(the_sum, \u001b[38;5;124m\"\u001b[39m\u001b[38;5;124mndim\u001b[39m\u001b[38;5;124m\"\u001b[39m, \u001b[38;5;28;01mFalse\u001b[39;00m):\n\u001b[1;32m    730\u001b[0m     count \u001b[38;5;241m=\u001b[39m cast(np\u001b[38;5;241m.\u001b[39mndarray, count)\n",
      "File \u001b[0;32m~/.local/lib/python3.9/site-packages/pandas/core/nanops.py:1699\u001b[0m, in \u001b[0;36m_ensure_numeric\u001b[0;34m(x)\u001b[0m\n\u001b[1;32m   1696\u001b[0m             x \u001b[38;5;241m=\u001b[39m \u001b[38;5;28mcomplex\u001b[39m(x)\n\u001b[1;32m   1697\u001b[0m         \u001b[38;5;28;01mexcept\u001b[39;00m \u001b[38;5;167;01mValueError\u001b[39;00m \u001b[38;5;28;01mas\u001b[39;00m err:\n\u001b[1;32m   1698\u001b[0m             \u001b[38;5;66;03m# e.g. \"foo\"\u001b[39;00m\n\u001b[0;32m-> 1699\u001b[0m             \u001b[38;5;28;01mraise\u001b[39;00m \u001b[38;5;167;01mTypeError\u001b[39;00m(\u001b[38;5;124mf\u001b[39m\u001b[38;5;124m\"\u001b[39m\u001b[38;5;124mCould not convert \u001b[39m\u001b[38;5;132;01m{\u001b[39;00mx\u001b[38;5;132;01m}\u001b[39;00m\u001b[38;5;124m to numeric\u001b[39m\u001b[38;5;124m\"\u001b[39m) \u001b[38;5;28;01mfrom\u001b[39;00m \u001b[38;5;21;01merr\u001b[39;00m\n\u001b[1;32m   1700\u001b[0m \u001b[38;5;28;01mreturn\u001b[39;00m x\n",
      "\u001b[0;31mTypeError\u001b[0m: Could not convert BlrNCR to numeric"
     ]
    }
   ],
   "source": [
    "dfp = pd.pivot_table(data=df1, index='Sector',aggfunc='mean')\n",
    "dfp"
   ]
  },
  {
   "cell_type": "code",
   "execution_count": 4,
   "id": "c79ece5c",
   "metadata": {},
   "outputs": [
    {
     "data": {
      "text/plain": [
       "Sector\n",
       "Pub    5\n",
       "Pvt    3\n",
       "Gov    2\n",
       "Name: count, dtype: int64"
      ]
     },
     "execution_count": 4,
     "metadata": {},
     "output_type": "execute_result"
    }
   ],
   "source": [
    "df1.Sector.value_counts()"
   ]
  },
  {
   "cell_type": "code",
   "execution_count": 5,
   "id": "19127bec",
   "metadata": {},
   "outputs": [
    {
     "data": {
      "text/html": [
       "<div>\n",
       "<style scoped>\n",
       "    .dataframe tbody tr th:only-of-type {\n",
       "        vertical-align: middle;\n",
       "    }\n",
       "\n",
       "    .dataframe tbody tr th {\n",
       "        vertical-align: top;\n",
       "    }\n",
       "\n",
       "    .dataframe thead th {\n",
       "        text-align: right;\n",
       "    }\n",
       "</style>\n",
       "<table border=\"1\" class=\"dataframe\">\n",
       "  <thead>\n",
       "    <tr style=\"text-align: right;\">\n",
       "      <th></th>\n",
       "      <th>Exp</th>\n",
       "      <th>Rev</th>\n",
       "    </tr>\n",
       "    <tr>\n",
       "      <th>Sector</th>\n",
       "      <th></th>\n",
       "      <th></th>\n",
       "    </tr>\n",
       "  </thead>\n",
       "  <tbody>\n",
       "    <tr>\n",
       "      <th>Gov</th>\n",
       "      <td>629.500000</td>\n",
       "      <td>807.300000</td>\n",
       "    </tr>\n",
       "    <tr>\n",
       "      <th>Pub</th>\n",
       "      <td>645.600000</td>\n",
       "      <td>867.820000</td>\n",
       "    </tr>\n",
       "    <tr>\n",
       "      <th>Pvt</th>\n",
       "      <td>766.333333</td>\n",
       "      <td>826.343333</td>\n",
       "    </tr>\n",
       "  </tbody>\n",
       "</table>\n",
       "</div>"
      ],
      "text/plain": [
       "               Exp         Rev\n",
       "Sector                        \n",
       "Gov     629.500000  807.300000\n",
       "Pub     645.600000  867.820000\n",
       "Pvt     766.333333  826.343333"
      ]
     },
     "execution_count": 5,
     "metadata": {},
     "output_type": "execute_result"
    }
   ],
   "source": [
    "dfp = pd.pivot_table(data=df1, index='Sector',aggfunc='mean', values=['Exp','Rev'])\n",
    "dfp"
   ]
  },
  {
   "cell_type": "code",
   "execution_count": null,
   "id": "245059cf",
   "metadata": {},
   "outputs": [],
   "source": [
    "dfp = pd.pivot_table(df1, index='Sector',aggfunc=np.mean, values=['Exp','Rev'])\n",
    "dfp"
   ]
  },
  {
   "cell_type": "code",
   "execution_count": null,
   "id": "be91913f",
   "metadata": {},
   "outputs": [],
   "source": [
    "import numpy as np"
   ]
  },
  {
   "cell_type": "code",
   "execution_count": null,
   "id": "14fbd5a9",
   "metadata": {},
   "outputs": [],
   "source": [
    "df1"
   ]
  },
  {
   "cell_type": "code",
   "execution_count": null,
   "id": "618b1376",
   "metadata": {},
   "outputs": [],
   "source": [
    "dfp = pd.pivot_table(df1, index='Sector', columns='GST', values=['Exp'], aggfunc='mean')\n",
    "dfp"
   ]
  },
  {
   "cell_type": "code",
   "execution_count": null,
   "id": "5deea587",
   "metadata": {},
   "outputs": [],
   "source": [
    "dfp = pd.pivot_table(df1, index='Sector', columns='GST', values=['Exp'], aggfunc='count')\n",
    "dfp"
   ]
  },
  {
   "cell_type": "code",
   "execution_count": null,
   "id": "7fb54752",
   "metadata": {},
   "outputs": [],
   "source": [
    "dfp = pd.pivot_table(df1, index='Sector', columns='GST', values=['Exp','Rev'], aggfunc='count')\n",
    "dfp"
   ]
  },
  {
   "cell_type": "code",
   "execution_count": null,
   "id": "720440fa",
   "metadata": {},
   "outputs": [],
   "source": [
    "dfp.index"
   ]
  },
  {
   "cell_type": "code",
   "execution_count": null,
   "id": "f8cbaf71",
   "metadata": {},
   "outputs": [],
   "source": [
    "dfp.columns"
   ]
  },
  {
   "cell_type": "code",
   "execution_count": null,
   "id": "79a169d3",
   "metadata": {},
   "outputs": [],
   "source": [
    "dfp = pd.pivot_table(df1, index='Sector', columns='GST', values=['Exp','Rev'], aggfunc='mean')\n",
    "dfp"
   ]
  },
  {
   "cell_type": "code",
   "execution_count": null,
   "id": "b6ba8d6d",
   "metadata": {},
   "outputs": [],
   "source": [
    "dfp.loc['Pub', ('Rev', 'Services')]"
   ]
  },
  {
   "cell_type": "code",
   "execution_count": null,
   "id": "cdb300c9",
   "metadata": {},
   "outputs": [],
   "source": [
    "dfp = pd.pivot_table(df1, index='Sector', values='Exp', aggfunc=['max',np.min])\n",
    "dfp"
   ]
  },
  {
   "cell_type": "code",
   "execution_count": null,
   "id": "5a779acf",
   "metadata": {},
   "outputs": [],
   "source": [
    "def diffmaxmin(ps1):\n",
    "    #print(ps1)\n",
    "    #print()\n",
    "    return ps1.max()-ps1.min()"
   ]
  },
  {
   "cell_type": "code",
   "execution_count": null,
   "id": "501e410b",
   "metadata": {},
   "outputs": [],
   "source": [
    "diffmaxmin(df1.Exp)"
   ]
  },
  {
   "cell_type": "code",
   "execution_count": null,
   "id": "072f7b2d",
   "metadata": {},
   "outputs": [],
   "source": [
    "df1.Exp.max()"
   ]
  },
  {
   "cell_type": "code",
   "execution_count": null,
   "id": "5d5c4043",
   "metadata": {},
   "outputs": [],
   "source": [
    "df1.Exp.min()"
   ]
  },
  {
   "cell_type": "code",
   "execution_count": null,
   "id": "31acd251",
   "metadata": {},
   "outputs": [],
   "source": [
    "dfp = pd.pivot_table(df1, index='Sector', values='Exp', aggfunc=['max',np.min, diffmaxmin])\n",
    "dfp"
   ]
  },
  {
   "cell_type": "code",
   "execution_count": null,
   "id": "1ba25a8f",
   "metadata": {},
   "outputs": [],
   "source": [
    "df1.loc[(df1.Sector=='Gov'),'Exp']"
   ]
  },
  {
   "cell_type": "code",
   "execution_count": null,
   "id": "19108ea1",
   "metadata": {},
   "outputs": [],
   "source": [
    "dfp = pd.pivot_table(df1, index='Sector', values=['Rev','Exp'], \n",
    "                     aggfunc=['max',np.min, lambda ps2: ps2.max()-ps2.min()])\n",
    "dfp"
   ]
  },
  {
   "cell_type": "markdown",
   "id": "77b72a38",
   "metadata": {},
   "source": [
    "# Groupby"
   ]
  },
  {
   "cell_type": "code",
   "execution_count": null,
   "id": "d73323e4",
   "metadata": {},
   "outputs": [],
   "source": [
    "df1.groupby(by='Sector')['Exp'].mean()"
   ]
  },
  {
   "cell_type": "code",
   "execution_count": null,
   "id": "98efd650",
   "metadata": {},
   "outputs": [],
   "source": [
    "dfg = df1.groupby(by='Sector')\n",
    "print(type(dfg))"
   ]
  },
  {
   "cell_type": "code",
   "execution_count": null,
   "id": "bcbf9019",
   "metadata": {},
   "outputs": [],
   "source": [
    "for item in dfg:\n",
    "    print(item[0])\n",
    "    print(item[1])\n",
    "    print()"
   ]
  },
  {
   "cell_type": "code",
   "execution_count": null,
   "id": "027d75f6",
   "metadata": {},
   "outputs": [],
   "source": [
    "df1.groupby(by='Sector')['Exp'].mean()"
   ]
  },
  {
   "cell_type": "code",
   "execution_count": null,
   "id": "79b4a20d",
   "metadata": {},
   "outputs": [],
   "source": [
    "df1.groupby(by='Sector')['Exp'].min()"
   ]
  },
  {
   "cell_type": "code",
   "execution_count": null,
   "id": "7c0682de",
   "metadata": {},
   "outputs": [],
   "source": [
    "df1.groupby(by='Sector')[['Exp','Rev']].min()"
   ]
  },
  {
   "cell_type": "code",
   "execution_count": null,
   "id": "7e8fc0fa",
   "metadata": {},
   "outputs": [],
   "source": [
    "df1.groupby(by='Sector')[['Exp','Rev']].agg(['max','min', diffmaxmin,'std'])"
   ]
  },
  {
   "cell_type": "markdown",
   "id": "fd46eed4",
   "metadata": {},
   "source": [
    "# MAP"
   ]
  },
  {
   "cell_type": "code",
   "execution_count": null,
   "id": "b45a9bf5",
   "metadata": {},
   "outputs": [],
   "source": [
    "df1"
   ]
  },
  {
   "cell_type": "code",
   "execution_count": null,
   "id": "a10a93dc",
   "metadata": {},
   "outputs": [],
   "source": [
    "md1 = {'Kol':'EZ','Mum':'WZ','Blr':'SZ','Che':'SZ','NCR':'NZ'}"
   ]
  },
  {
   "cell_type": "code",
   "execution_count": null,
   "id": "981210cb",
   "metadata": {},
   "outputs": [],
   "source": [
    "df1['Zone'] = df1.HQ.map(md1)"
   ]
  },
  {
   "cell_type": "code",
   "execution_count": null,
   "id": "aab9f6de",
   "metadata": {},
   "outputs": [],
   "source": [
    "df1"
   ]
  },
  {
   "cell_type": "raw",
   "id": "8894a194",
   "metadata": {},
   "source": [
    "vol > 950: 'Excellent_Sales'\n",
    "vol < 930: 'Average_Sales\n",
    "'Good_Sales'"
   ]
  },
  {
   "cell_type": "code",
   "execution_count": null,
   "id": "6e6e564f",
   "metadata": {},
   "outputs": [],
   "source": [
    "def sales_performance_category(sales_value):\n",
    "    if sales_value > 950:\n",
    "        return 'Excellent_Sales'\n",
    "    elif sales_value < 930:\n",
    "        return 'Average_Sales'\n",
    "    else:\n",
    "        return 'Good_Sales'"
   ]
  },
  {
   "cell_type": "code",
   "execution_count": null,
   "id": "730656fd",
   "metadata": {},
   "outputs": [],
   "source": [
    "sales_performance_category(940)"
   ]
  },
  {
   "cell_type": "code",
   "execution_count": null,
   "id": "8285ebf1",
   "metadata": {},
   "outputs": [],
   "source": [
    "df1['Sales_Performance'] = df1.Vol.map(sales_performance_category)\n",
    "df1"
   ]
  },
  {
   "cell_type": "markdown",
   "id": "1a297991",
   "metadata": {},
   "source": [
    "# Rename of Labels"
   ]
  },
  {
   "cell_type": "code",
   "execution_count": null,
   "id": "86ecccef",
   "metadata": {},
   "outputs": [],
   "source": [
    "df1 = pd.read_csv('https://raw.githubusercontent.com/vcsgithub/vcsgithub.github.io/master/lds1.csv')\n",
    "df1"
   ]
  },
  {
   "cell_type": "code",
   "execution_count": null,
   "id": "2e71f911",
   "metadata": {},
   "outputs": [],
   "source": [
    "df1.rename(index={'Bangalore_Breweries':'KF','Indi_Services':'IR'}, \n",
    "           columns={'Vol':'Volume'}, \n",
    "           inplace=True)\n",
    "df1"
   ]
  },
  {
   "cell_type": "markdown",
   "id": "971d180c",
   "metadata": {},
   "source": [
    "# Replace values"
   ]
  },
  {
   "cell_type": "code",
   "execution_count": null,
   "id": "73c63787",
   "metadata": {},
   "outputs": [],
   "source": [
    "df1 = pd.read_csv('https://raw.githubusercontent.com/vcsgithub/vcsgithub.github.io/master/lds1.csv')\n",
    "df1"
   ]
  },
  {
   "cell_type": "code",
   "execution_count": null,
   "id": "cfe250ae",
   "metadata": {},
   "outputs": [],
   "source": [
    "df1.Sector.replace({'Pub':'Public','Pvt':'Private'},inplace=True)\n",
    "df1"
   ]
  },
  {
   "cell_type": "markdown",
   "id": "0cead48b",
   "metadata": {},
   "source": [
    "# MultiLevel Indexed DataFrame"
   ]
  },
  {
   "cell_type": "raw",
   "id": "d4a7e7ec",
   "metadata": {},
   "source": [
    "                    2020  2020  2021  2021\n",
    "                      q1   q2    q1    q2\n",
    "Tata     Tech\n",
    "         FMCG\n",
    "  \n",
    "Birla    tech\n",
    "         fmcg\n",
    "Wipro    tech\n",
    "         fmcg"
   ]
  },
  {
   "cell_type": "code",
   "execution_count": null,
   "id": "c910544d",
   "metadata": {},
   "outputs": [],
   "source": [
    "np.random.seed(23)\n",
    "n64 = np.random.randint(low=10, high=100, size=(6,4))\n",
    "n64"
   ]
  },
  {
   "cell_type": "code",
   "execution_count": null,
   "id": "1a0220cf",
   "metadata": {},
   "outputs": [],
   "source": [
    "row_level0_labels = ['Tata', 'Birla','Wipro']\n",
    "row_level1_labels = ['FMCG', 'Tech']\n",
    "\n",
    "col_level0_labels = [2020,2021]\n",
    "col_level1_labels = ['q1','q2']"
   ]
  },
  {
   "cell_type": "code",
   "execution_count": null,
   "id": "7c3f1438",
   "metadata": {},
   "outputs": [],
   "source": [
    "row_labels = pd.MultiIndex.from_product([row_level0_labels,row_level1_labels])\n",
    "row_labels"
   ]
  },
  {
   "cell_type": "code",
   "execution_count": null,
   "id": "21c7bf59",
   "metadata": {},
   "outputs": [],
   "source": [
    "col_labels = pd.MultiIndex.from_product([col_level0_labels,col_level1_labels])\n",
    "col_labels"
   ]
  },
  {
   "cell_type": "code",
   "execution_count": null,
   "id": "7bdddf4d",
   "metadata": {},
   "outputs": [],
   "source": [
    "df1 = pd.DataFrame(n64, index=row_labels, columns=col_labels)\n",
    "df1"
   ]
  },
  {
   "cell_type": "code",
   "execution_count": null,
   "id": "ada2956f",
   "metadata": {},
   "outputs": [],
   "source": [
    "df1.index"
   ]
  },
  {
   "cell_type": "code",
   "execution_count": null,
   "id": "8f93d39e",
   "metadata": {},
   "outputs": [],
   "source": [
    "df1.columns"
   ]
  },
  {
   "cell_type": "code",
   "execution_count": null,
   "id": "bc550513",
   "metadata": {},
   "outputs": [],
   "source": [
    "df1"
   ]
  },
  {
   "cell_type": "code",
   "execution_count": null,
   "id": "7492bd70",
   "metadata": {},
   "outputs": [],
   "source": [
    "df1.unstack(level=0) ##  go from row to col"
   ]
  },
  {
   "cell_type": "code",
   "execution_count": null,
   "id": "ed77f28f",
   "metadata": {},
   "outputs": [],
   "source": [
    "df1.stack(level=-1)  ##  go from col to row"
   ]
  },
  {
   "cell_type": "code",
   "execution_count": null,
   "id": "9f5ebe98",
   "metadata": {},
   "outputs": [],
   "source": [
    "df1.stack(level=-1).unstack(level=-1).stack(level=0).unstack(level=1)"
   ]
  },
  {
   "cell_type": "code",
   "execution_count": null,
   "id": "818d4ba0",
   "metadata": {},
   "outputs": [],
   "source": [
    "df1.unstack(level=0).stack(level=1).stack(level=0).unstack(level=-1).unstack(level=0).stack(level=-1)"
   ]
  },
  {
   "cell_type": "code",
   "execution_count": null,
   "id": "cf1b4803",
   "metadata": {},
   "outputs": [],
   "source": [
    "df1.stack(level=-1).unstack(level=0).stack(level=0).unstack(level=-1).unstack(level=0).stack(level=-1)"
   ]
  },
  {
   "cell_type": "markdown",
   "id": "da2ece33",
   "metadata": {},
   "source": [
    "# drop"
   ]
  },
  {
   "cell_type": "code",
   "execution_count": null,
   "id": "030c9e35",
   "metadata": {},
   "outputs": [],
   "source": [
    "df1 = pd.read_csv('https://raw.githubusercontent.com/vcsgithub/vcsgithub.github.io/master/lds1.csv')\n",
    "df1"
   ]
  },
  {
   "cell_type": "code",
   "execution_count": null,
   "id": "9bf26d00",
   "metadata": {},
   "outputs": [],
   "source": [
    "df1.drop(columns=['EmpCnt','HQ','MNC'], inplace=False)"
   ]
  },
  {
   "cell_type": "code",
   "execution_count": null,
   "id": "f7d8e3c7",
   "metadata": {},
   "outputs": [],
   "source": [
    "df1.drop(index=['Bangalore_Breweries','Bombay_Finance'], columns=['EmpCnt','HQ','MNC'], inplace=False)"
   ]
  },
  {
   "cell_type": "markdown",
   "id": "5f6d76c8",
   "metadata": {},
   "source": [
    "# NaN handling"
   ]
  },
  {
   "cell_type": "code",
   "execution_count": null,
   "id": "582f64c4",
   "metadata": {},
   "outputs": [],
   "source": [
    "df1 = pd.read_csv('https://raw.githubusercontent.com/vcsgithub/vcsgithub.github.io/master/lds0.csv')\n",
    "df1"
   ]
  },
  {
   "cell_type": "code",
   "execution_count": null,
   "id": "3028453d",
   "metadata": {},
   "outputs": [],
   "source": [
    "df1.isna().sum().sum()"
   ]
  },
  {
   "cell_type": "code",
   "execution_count": null,
   "id": "ff9660a8",
   "metadata": {},
   "outputs": [],
   "source": [
    "df1.info()"
   ]
  },
  {
   "cell_type": "code",
   "execution_count": null,
   "id": "aae7a7dc",
   "metadata": {},
   "outputs": [],
   "source": [
    "df1"
   ]
  },
  {
   "cell_type": "code",
   "execution_count": null,
   "id": "bb66f0db",
   "metadata": {},
   "outputs": [],
   "source": [
    "df1.dropna()"
   ]
  },
  {
   "cell_type": "code",
   "execution_count": null,
   "id": "9c5ede5f",
   "metadata": {},
   "outputs": [],
   "source": [
    "df1"
   ]
  },
  {
   "cell_type": "code",
   "execution_count": null,
   "id": "d69846a0",
   "metadata": {},
   "outputs": [],
   "source": [
    "df1.loc['NCR_Leagles', 'EmpCnt'] = 123"
   ]
  },
  {
   "cell_type": "code",
   "execution_count": null,
   "id": "a171ec04",
   "metadata": {},
   "outputs": [],
   "source": [
    "df1"
   ]
  },
  {
   "cell_type": "code",
   "execution_count": null,
   "id": "17dc182a",
   "metadata": {},
   "outputs": [],
   "source": [
    "df1.loc['NCR_Leagles', 'Vol'] = 1234.45"
   ]
  },
  {
   "cell_type": "code",
   "execution_count": null,
   "id": "fbb1c3f3",
   "metadata": {},
   "outputs": [],
   "source": [
    "df1"
   ]
  },
  {
   "cell_type": "code",
   "execution_count": null,
   "id": "ab0f4ace",
   "metadata": {},
   "outputs": [],
   "source": [
    "df1.info()"
   ]
  },
  {
   "cell_type": "code",
   "execution_count": null,
   "id": "073e11cf",
   "metadata": {},
   "outputs": [],
   "source": [
    "df1['EmpCnt'] = df1.EmpCnt.astype('float64')"
   ]
  },
  {
   "cell_type": "code",
   "execution_count": null,
   "id": "11c85cd6",
   "metadata": {},
   "outputs": [],
   "source": [
    "df1"
   ]
  },
  {
   "cell_type": "code",
   "execution_count": null,
   "id": "2f49d73b",
   "metadata": {},
   "outputs": [],
   "source": [
    "df1.info()"
   ]
  },
  {
   "cell_type": "code",
   "execution_count": null,
   "id": "f9d9fd13",
   "metadata": {},
   "outputs": [],
   "source": [
    "df1 = pd.read_csv('https://raw.githubusercontent.com/vcsgithub/vcsgithub.github.io/master/lds0.csv')\n",
    "df1"
   ]
  },
  {
   "cell_type": "code",
   "execution_count": null,
   "id": "3b8ab267",
   "metadata": {},
   "outputs": [],
   "source": [
    "df1.fillna(123456)"
   ]
  },
  {
   "cell_type": "code",
   "execution_count": null,
   "id": "c9c8a633",
   "metadata": {},
   "outputs": [],
   "source": [
    "df1.Rev.mean()"
   ]
  },
  {
   "cell_type": "code",
   "execution_count": null,
   "id": "ada312db",
   "metadata": {},
   "outputs": [],
   "source": [
    "df1.Rev.fillna(df1.Rev.mean(), inplace=True)\n",
    "df1"
   ]
  },
  {
   "cell_type": "code",
   "execution_count": null,
   "id": "9a09d7ac",
   "metadata": {},
   "outputs": [],
   "source": [
    "df1.EmpCnt.mean()"
   ]
  },
  {
   "cell_type": "code",
   "execution_count": null,
   "id": "1d53a2fe",
   "metadata": {},
   "outputs": [],
   "source": [
    "df1.EmpCnt.median()"
   ]
  },
  {
   "cell_type": "code",
   "execution_count": null,
   "id": "a7caeeaf",
   "metadata": {},
   "outputs": [],
   "source": [
    "df1.EmpCnt.fillna(df1.EmpCnt.median(), inplace=True)\n",
    "df1"
   ]
  },
  {
   "cell_type": "code",
   "execution_count": null,
   "id": "864dab01",
   "metadata": {},
   "outputs": [],
   "source": [
    "df1"
   ]
  },
  {
   "cell_type": "code",
   "execution_count": null,
   "id": "a694a3ea",
   "metadata": {},
   "outputs": [],
   "source": [
    "df1.Sector.fillna(method='ffill')"
   ]
  },
  {
   "cell_type": "code",
   "execution_count": null,
   "id": "eb28ce32",
   "metadata": {},
   "outputs": [],
   "source": [
    "df1.Sector.fillna(method='bfill')."
   ]
  },
  {
   "cell_type": "markdown",
   "id": "733f72e9",
   "metadata": {},
   "source": [
    "# Duplicate Handling"
   ]
  },
  {
   "cell_type": "code",
   "execution_count": null,
   "id": "d34351f3",
   "metadata": {},
   "outputs": [],
   "source": [
    "df1 = pd.read_csv('https://raw.githubusercontent.com/vcsgithub/vcsgithub.github.io/master/lds33.csv')\n",
    "df1"
   ]
  },
  {
   "cell_type": "code",
   "execution_count": null,
   "id": "4e54d440",
   "metadata": {},
   "outputs": [],
   "source": [
    "df1.drop_duplicates(subset=None, keep='first')"
   ]
  },
  {
   "cell_type": "code",
   "execution_count": null,
   "id": "17dcfb78",
   "metadata": {},
   "outputs": [],
   "source": [
    "df1.drop_duplicates(subset=None, keep='last')"
   ]
  },
  {
   "cell_type": "code",
   "execution_count": null,
   "id": "7b14a29f",
   "metadata": {},
   "outputs": [],
   "source": [
    "df1.drop_duplicates(subset=None, keep=False)"
   ]
  },
  {
   "cell_type": "code",
   "execution_count": null,
   "id": "eccf2fae",
   "metadata": {},
   "outputs": [],
   "source": [
    "df1.drop_duplicates(subset=['City','Temperature'], keep=False)"
   ]
  },
  {
   "cell_type": "code",
   "execution_count": null,
   "id": "f3b0188d",
   "metadata": {},
   "outputs": [],
   "source": [
    "df1.drop_duplicates(subset=['City','Temperature'], keep='first')"
   ]
  },
  {
   "cell_type": "code",
   "execution_count": null,
   "id": "2c9763bd",
   "metadata": {},
   "outputs": [],
   "source": [
    "df1.drop_duplicates(subset=['City','Temperature'], keep='last')"
   ]
  },
  {
   "cell_type": "markdown",
   "id": "27f0b024",
   "metadata": {},
   "source": [
    "# Melt"
   ]
  },
  {
   "cell_type": "code",
   "execution_count": null,
   "id": "6d9953fa",
   "metadata": {},
   "outputs": [],
   "source": [
    "df1 = pd.read_csv('https://raw.githubusercontent.com/vcsgithub/vcsgithub.github.io/master/lds31.csv')\n",
    "df1"
   ]
  },
  {
   "cell_type": "code",
   "execution_count": null,
   "id": "2dbf1563",
   "metadata": {},
   "outputs": [],
   "source": [
    "pd.melt(frame=df1, id_vars=['Location','Temperature'])"
   ]
  },
  {
   "cell_type": "code",
   "execution_count": null,
   "id": "3cd75cb4",
   "metadata": {},
   "outputs": [],
   "source": [
    "pd.melt(frame=df1, id_vars=['Location','Temperature'],var_name='melted_col_names',value_name='melted_col_values')"
   ]
  },
  {
   "cell_type": "markdown",
   "id": "4a455cae",
   "metadata": {},
   "source": [
    "# Concatenation"
   ]
  },
  {
   "cell_type": "code",
   "execution_count": null,
   "id": "7be95759",
   "metadata": {},
   "outputs": [],
   "source": [
    "df11 = pd.read_csv('https://raw.githubusercontent.com/vcsgithub/vcsgithub.github.io/master/lds11.csv')\n",
    "df11"
   ]
  },
  {
   "cell_type": "code",
   "execution_count": null,
   "id": "51640981",
   "metadata": {},
   "outputs": [],
   "source": [
    "df12 = pd.read_csv('https://raw.githubusercontent.com/vcsgithub/vcsgithub.github.io/master/lds12.csv')\n",
    "df12"
   ]
  },
  {
   "cell_type": "code",
   "execution_count": null,
   "id": "6144b928",
   "metadata": {},
   "outputs": [],
   "source": [
    "df13 = pd.read_csv('https://raw.githubusercontent.com/vcsgithub/vcsgithub.github.io/master/lds13.csv')\n",
    "df13"
   ]
  },
  {
   "cell_type": "code",
   "execution_count": null,
   "id": "15d3ad3e",
   "metadata": {},
   "outputs": [],
   "source": [
    "df11"
   ]
  },
  {
   "cell_type": "code",
   "execution_count": null,
   "id": "df3f7d8a",
   "metadata": {},
   "outputs": [],
   "source": [
    "df12"
   ]
  },
  {
   "cell_type": "code",
   "execution_count": null,
   "id": "49e4e30e",
   "metadata": {},
   "outputs": [],
   "source": [
    "df13"
   ]
  },
  {
   "cell_type": "code",
   "execution_count": null,
   "id": "37aa8c6f",
   "metadata": {},
   "outputs": [],
   "source": [
    "print(df11)\n",
    "print(df12)\n",
    "print()\n",
    "dfc = pd.concat(objs=[df11,df12],axis=0, join='outer')  ##  union of labels\n",
    "print(dfc)"
   ]
  },
  {
   "cell_type": "code",
   "execution_count": null,
   "id": "13fbc30a",
   "metadata": {},
   "outputs": [],
   "source": [
    "print(df11)\n",
    "print(df12)\n",
    "print()\n",
    "dfc = pd.concat(objs=[df11,df12],axis=0, join='inner') # intersection of labels\n",
    "print(dfc)"
   ]
  },
  {
   "cell_type": "code",
   "execution_count": null,
   "id": "44e19848",
   "metadata": {},
   "outputs": [],
   "source": [
    "print(df11)\n",
    "print(df12)\n",
    "print()\n",
    "dfc = pd.concat(objs=[df11,df12],axis=1, join='outer')  ##  union of labels\n",
    "dfc"
   ]
  },
  {
   "cell_type": "code",
   "execution_count": null,
   "id": "17e65f41",
   "metadata": {},
   "outputs": [],
   "source": [
    "print(df11)\n",
    "print(df12)\n",
    "print()\n",
    "dfc = pd.concat(objs=[df11,df12],axis=1, join='inner')  ##  intersection of labels\n",
    "dfc"
   ]
  },
  {
   "cell_type": "markdown",
   "id": "b7706205",
   "metadata": {},
   "source": [
    "# Merge"
   ]
  },
  {
   "cell_type": "code",
   "execution_count": null,
   "id": "5eadaea0",
   "metadata": {},
   "outputs": [],
   "source": [
    "df21 = pd.read_csv('https://raw.githubusercontent.com/vcsgithub/vcsgithub.github.io/master/lds21.csv')\n",
    "df22 = pd.read_csv('https://raw.githubusercontent.com/vcsgithub/vcsgithub.github.io/master/lds22.csv')\n",
    "df23 = pd.read_csv('https://raw.githubusercontent.com/vcsgithub/vcsgithub.github.io/master/lds23.csv')"
   ]
  },
  {
   "cell_type": "code",
   "execution_count": null,
   "id": "68815466",
   "metadata": {},
   "outputs": [],
   "source": [
    "print(df21)\n",
    "print(df22)\n",
    "print(df23)"
   ]
  },
  {
   "cell_type": "code",
   "execution_count": null,
   "id": "ed908a50",
   "metadata": {},
   "outputs": [],
   "source": [
    "print(df21)\n",
    "print(df22)\n",
    "print()\n",
    "dfm = pd.merge(df21,df22,how='inner')\n",
    "print(dfm)"
   ]
  },
  {
   "cell_type": "code",
   "execution_count": null,
   "id": "8e374e10",
   "metadata": {},
   "outputs": [],
   "source": [
    "print(df21)\n",
    "print(df22)\n",
    "print()\n",
    "dfm = pd.merge(df21,df22,how='inner', on='HQ')\n",
    "print(dfm)"
   ]
  },
  {
   "cell_type": "code",
   "execution_count": null,
   "id": "af932dc4",
   "metadata": {},
   "outputs": [],
   "source": [
    "print(df21)\n",
    "print(df22)\n",
    "print()\n",
    "dfm = pd.merge(df21,df22,how='outer', on='HQ')\n",
    "print(dfm)"
   ]
  },
  {
   "cell_type": "code",
   "execution_count": null,
   "id": "cb8da427",
   "metadata": {},
   "outputs": [],
   "source": [
    "print(df21)\n",
    "print(df22)\n",
    "print()\n",
    "dfm = pd.merge(df21,df22,how='left', on='HQ')\n",
    "print(dfm)"
   ]
  },
  {
   "cell_type": "code",
   "execution_count": null,
   "id": "7fe32619",
   "metadata": {},
   "outputs": [],
   "source": [
    "print(df21)\n",
    "print(df22)\n",
    "print()\n",
    "dfm = pd.merge(df21,df22,how='right', on='HQ')\n",
    "print(dfm)"
   ]
  },
  {
   "cell_type": "code",
   "execution_count": null,
   "id": "fd88b13e",
   "metadata": {},
   "outputs": [],
   "source": [
    "print(df21)\n",
    "print(df23)\n",
    "print()\n",
    "dfm = pd.merge(df21,df23,how='inner', on='HQ')\n",
    "print(dfm)"
   ]
  },
  {
   "cell_type": "code",
   "execution_count": null,
   "id": "6ced8ae6",
   "metadata": {},
   "outputs": [],
   "source": [
    "print(df21)\n",
    "print(df22)\n",
    "print()\n",
    "dfm = pd.merge(df21,df22,how='cross')\n",
    "print(dfm)"
   ]
  },
  {
   "cell_type": "code",
   "execution_count": null,
   "id": "ae348ffe",
   "metadata": {},
   "outputs": [],
   "source": []
  }
 ],
 "metadata": {
  "kernelspec": {
   "display_name": "Python 3 (ipykernel)",
   "language": "python",
   "name": "python3"
  },
  "language_info": {
   "codemirror_mode": {
    "name": "ipython",
    "version": 3
   },
   "file_extension": ".py",
   "mimetype": "text/x-python",
   "name": "python",
   "nbconvert_exporter": "python",
   "pygments_lexer": "ipython3",
   "version": "3.9.18"
  }
 },
 "nbformat": 4,
 "nbformat_minor": 5
}
