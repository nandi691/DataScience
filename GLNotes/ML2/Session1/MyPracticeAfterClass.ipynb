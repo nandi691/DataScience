{
 "cells": [
  {
   "cell_type": "code",
   "execution_count": 1,
   "id": "d81016cc-ff89-41fb-a051-9fa7b7a1b631",
   "metadata": {},
   "outputs": [],
   "source": [
    "import pandas as pd\n",
    "import numpy as np\n",
    "import matplotlib.pyplot as plt\n",
    "import seaborn as sns"
   ]
  },
  {
   "cell_type": "code",
   "execution_count": 2,
   "id": "c584d8de-8962-41fa-92a6-d0e860b5e966",
   "metadata": {},
   "outputs": [
    {
     "data": {
      "text/html": [
       "<div>\n",
       "<style scoped>\n",
       "    .dataframe tbody tr th:only-of-type {\n",
       "        vertical-align: middle;\n",
       "    }\n",
       "\n",
       "    .dataframe tbody tr th {\n",
       "        vertical-align: top;\n",
       "    }\n",
       "\n",
       "    .dataframe thead th {\n",
       "        text-align: right;\n",
       "    }\n",
       "</style>\n",
       "<table border=\"1\" class=\"dataframe\">\n",
       "  <thead>\n",
       "    <tr style=\"text-align: right;\">\n",
       "      <th></th>\n",
       "      <th>Serial No.</th>\n",
       "      <th>GRE Score</th>\n",
       "      <th>TOEFL Score</th>\n",
       "      <th>University Rating</th>\n",
       "      <th>SOP</th>\n",
       "      <th>LOR</th>\n",
       "      <th>CGPA</th>\n",
       "      <th>Research</th>\n",
       "      <th>Chance of Admit</th>\n",
       "    </tr>\n",
       "  </thead>\n",
       "  <tbody>\n",
       "    <tr>\n",
       "      <th>0</th>\n",
       "      <td>1</td>\n",
       "      <td>337</td>\n",
       "      <td>118</td>\n",
       "      <td>4</td>\n",
       "      <td>4.5</td>\n",
       "      <td>4.5</td>\n",
       "      <td>9.65</td>\n",
       "      <td>1</td>\n",
       "      <td>1</td>\n",
       "    </tr>\n",
       "    <tr>\n",
       "      <th>1</th>\n",
       "      <td>2</td>\n",
       "      <td>324</td>\n",
       "      <td>107</td>\n",
       "      <td>4</td>\n",
       "      <td>4.0</td>\n",
       "      <td>4.5</td>\n",
       "      <td>8.87</td>\n",
       "      <td>1</td>\n",
       "      <td>1</td>\n",
       "    </tr>\n",
       "    <tr>\n",
       "      <th>2</th>\n",
       "      <td>3</td>\n",
       "      <td>316</td>\n",
       "      <td>104</td>\n",
       "      <td>3</td>\n",
       "      <td>3.0</td>\n",
       "      <td>3.5</td>\n",
       "      <td>8.00</td>\n",
       "      <td>1</td>\n",
       "      <td>0</td>\n",
       "    </tr>\n",
       "    <tr>\n",
       "      <th>3</th>\n",
       "      <td>4</td>\n",
       "      <td>322</td>\n",
       "      <td>110</td>\n",
       "      <td>3</td>\n",
       "      <td>3.5</td>\n",
       "      <td>2.5</td>\n",
       "      <td>8.67</td>\n",
       "      <td>1</td>\n",
       "      <td>1</td>\n",
       "    </tr>\n",
       "    <tr>\n",
       "      <th>4</th>\n",
       "      <td>5</td>\n",
       "      <td>314</td>\n",
       "      <td>103</td>\n",
       "      <td>2</td>\n",
       "      <td>2.0</td>\n",
       "      <td>3.0</td>\n",
       "      <td>8.21</td>\n",
       "      <td>0</td>\n",
       "      <td>0</td>\n",
       "    </tr>\n",
       "  </tbody>\n",
       "</table>\n",
       "</div>"
      ],
      "text/plain": [
       "   Serial No.  GRE Score  TOEFL Score  University Rating  SOP  LOR  CGPA  \\\n",
       "0           1        337          118                  4  4.5  4.5  9.65   \n",
       "1           2        324          107                  4  4.0  4.5  8.87   \n",
       "2           3        316          104                  3  3.0  3.5  8.00   \n",
       "3           4        322          110                  3  3.5  2.5  8.67   \n",
       "4           5        314          103                  2  2.0  3.0  8.21   \n",
       "\n",
       "   Research  Chance of Admit  \n",
       "0         1                1  \n",
       "1         1                1  \n",
       "2         1                0  \n",
       "3         1                1  \n",
       "4         0                0  "
      ]
     },
     "execution_count": 2,
     "metadata": {},
     "output_type": "execute_result"
    }
   ],
   "source": [
    "df = pd.read_csv('Admission_Predict.csv')\n",
    "df.head()"
   ]
  },
  {
   "cell_type": "code",
   "execution_count": 3,
   "id": "ebdc1c7a-a641-4162-99b1-790a8d779b66",
   "metadata": {},
   "outputs": [
    {
     "data": {
      "text/plain": [
       "(400, 9)"
      ]
     },
     "execution_count": 3,
     "metadata": {},
     "output_type": "execute_result"
    }
   ],
   "source": [
    "df.shape"
   ]
  },
  {
   "cell_type": "code",
   "execution_count": 4,
   "id": "e6d0a7a2-b1bb-4ab6-bfe6-9b4aa8d2584e",
   "metadata": {},
   "outputs": [
    {
     "data": {
      "text/plain": [
       "Serial No.             int64\n",
       "GRE Score              int64\n",
       "TOEFL Score            int64\n",
       "University Rating      int64\n",
       "SOP                  float64\n",
       "LOR                  float64\n",
       "CGPA                 float64\n",
       "Research               int64\n",
       "Chance of Admit        int64\n",
       "dtype: object"
      ]
     },
     "execution_count": 4,
     "metadata": {},
     "output_type": "execute_result"
    }
   ],
   "source": [
    "df.dtypes"
   ]
  },
  {
   "cell_type": "code",
   "execution_count": 5,
   "id": "ac8c3b72-bb7b-4ed8-8699-2888ab4c75ad",
   "metadata": {},
   "outputs": [],
   "source": [
    "df.Research = df.Research.astype(object)"
   ]
  },
  {
   "cell_type": "code",
   "execution_count": 6,
   "id": "c175718f-9cc3-4551-8a5b-ebeaaa8360d3",
   "metadata": {},
   "outputs": [
    {
     "data": {
      "text/plain": [
       "Serial No.             int64\n",
       "GRE Score              int64\n",
       "TOEFL Score            int64\n",
       "University Rating      int64\n",
       "SOP                  float64\n",
       "LOR                  float64\n",
       "CGPA                 float64\n",
       "Research              object\n",
       "Chance of Admit        int64\n",
       "dtype: object"
      ]
     },
     "execution_count": 6,
     "metadata": {},
     "output_type": "execute_result"
    }
   ],
   "source": [
    "df.dtypes"
   ]
  },
  {
   "cell_type": "code",
   "execution_count": 7,
   "id": "4f16308d-811f-43f8-9385-68f2a3affcbd",
   "metadata": {},
   "outputs": [],
   "source": [
    "df = df.drop('Serial No.',axis=1)"
   ]
  },
  {
   "cell_type": "code",
   "execution_count": 8,
   "id": "0ff5d41e-1caa-49ab-a164-378994d64991",
   "metadata": {},
   "outputs": [],
   "source": [
    "plt.rcParams['figure.figsize'] = [15,8]"
   ]
  },
  {
   "cell_type": "code",
   "execution_count": 9,
   "id": "3e03e742-d09a-4f2a-9773-cee0ada4a287",
   "metadata": {},
   "outputs": [
    {
     "data": {
      "image/png": "[encoded data removed]",
      "text/plain": [
       "<Figure size 1500x800 with 6 Axes>"
      ]
     },
     "metadata": {},
     "output_type": "display_data"
    }
   ],
   "source": [
    "\n",
    "df.drop('Chance of Admit', axis = 1).hist(bins=100)\n",
    "#plt.figure(figsize=(15,8))\n",
    "plt.tight_layout()\n",
    "plt.show()"
   ]
  },
  {
   "cell_type": "code",
   "execution_count": 10,
   "id": "6d234250-9d41-4eea-86e2-7fe08200bdbe",
   "metadata": {},
   "outputs": [],
   "source": [
    "index_research = list(df.Research.value_counts().index)\n",
    "counts_research = list(df.Research.value_counts())"
   ]
  },
  {
   "cell_type": "code",
   "execution_count": 11,
   "id": "8875c952-21b7-44cb-8653-5a3876b4d98a",
   "metadata": {},
   "outputs": [
    {
     "data": {
      "image/png": "[encoded data removed]",
      "text/plain": [
       "<Figure size 1500x800 with 1 Axes>"
      ]
     },
     "metadata": {},
     "output_type": "display_data"
    }
   ],
   "source": [
    "plt.bar(x=index_research,height=counts_research)\n",
    "plt.xticks(index_research)\n",
    "plt.annotate(text=counts_research[1],xy=(0,counts_research[1]+1))\n",
    "plt.annotate(text=counts_research[0],xy=(1,counts_research[0]+1))\n",
    "plt.title(\"Count plot for Research\")\n",
    "plt.show()\n"
   ]
  },
  {
   "cell_type": "code",
   "execution_count": 12,
   "id": "61ec19e3-e538-4198-b522-2202f9664993",
   "metadata": {},
   "outputs": [],
   "source": [
    "from sklearn.preprocessing import StandardScaler"
   ]
  },
  {
   "cell_type": "code",
   "execution_count": 13,
   "id": "6d0b2b15-1ccb-47cd-a0d8-db05cf1b8824",
   "metadata": {},
   "outputs": [],
   "source": [
    "scale = StandardScaler()"
   ]
  },
  {
   "cell_type": "code",
   "execution_count": 14,
   "id": "ddb32e81-250c-4d7f-b402-d077345fcff6",
   "metadata": {},
   "outputs": [],
   "source": [
    "num_scaled = scale.fit_transform(df.drop(\"Chance of Admit\",axis=1).select_dtypes(include=[np.number]))"
   ]
  },
  {
   "cell_type": "code",
   "execution_count": 15,
   "id": "1507bca6-d0ef-4537-96e9-6f7dfd455d6d",
   "metadata": {},
   "outputs": [],
   "source": [
    "df_cat = df.select_dtypes(include = [np.object_])"
   ]
  },
  {
   "cell_type": "code",
   "execution_count": 18,
   "id": "677d1e59-93b0-4b23-a155-38afb9cb5214",
   "metadata": {},
   "outputs": [],
   "source": [
    "df_num = df.select_dtypes(include=[np.number])"
   ]
  },
  {
   "cell_type": "code",
   "execution_count": 21,
   "id": "abe648d9-4524-4319-a354-190e13d8efa6",
   "metadata": {},
   "outputs": [],
   "source": [
    "df_feature = df_num.drop('Chance of Admit',axis=1)"
   ]
  },
  {
   "cell_type": "code",
   "execution_count": 22,
   "id": "1103730e-a519-4fdf-b9ab-a4e05f9550e5",
   "metadata": {},
   "outputs": [],
   "source": [
    "num_scaled = scale.fit_transform(df_feature)"
   ]
  },
  {
   "cell_type": "code",
   "execution_count": 25,
   "id": "b8f53fc9-50df-475e-a1c4-72a6af31353d",
   "metadata": {},
   "outputs": [],
   "source": [
    "df_num = pd.DataFrame(num_scaled,columns=df_feature.columns)"
   ]
  },
  {
   "cell_type": "code",
   "execution_count": 26,
   "id": "0ac41111-783e-4e3c-86f2-09b4baa00e1b",
   "metadata": {},
   "outputs": [
    {
     "data": {
      "text/html": [
       "<div>\n",
       "<style scoped>\n",
       "    .dataframe tbody tr th:only-of-type {\n",
       "        vertical-align: middle;\n",
       "    }\n",
       "\n",
       "    .dataframe tbody tr th {\n",
       "        vertical-align: top;\n",
       "    }\n",
       "\n",
       "    .dataframe thead th {\n",
       "        text-align: right;\n",
       "    }\n",
       "</style>\n",
       "<table border=\"1\" class=\"dataframe\">\n",
       "  <thead>\n",
       "    <tr style=\"text-align: right;\">\n",
       "      <th></th>\n",
       "      <th>GRE Score</th>\n",
       "      <th>TOEFL Score</th>\n",
       "      <th>University Rating</th>\n",
       "      <th>SOP</th>\n",
       "      <th>LOR</th>\n",
       "      <th>CGPA</th>\n",
       "      <th>Research</th>\n",
       "    </tr>\n",
       "  </thead>\n",
       "  <tbody>\n",
       "    <tr>\n",
       "      <th>0</th>\n",
       "      <td>1.762107</td>\n",
       "      <td>1.746971</td>\n",
       "      <td>0.798829</td>\n",
       "      <td>1.093864</td>\n",
       "      <td>1.167321</td>\n",
       "      <td>1.764818</td>\n",
       "      <td>1</td>\n",
       "    </tr>\n",
       "    <tr>\n",
       "      <th>1</th>\n",
       "      <td>0.627656</td>\n",
       "      <td>-0.067635</td>\n",
       "      <td>0.798829</td>\n",
       "      <td>0.596653</td>\n",
       "      <td>1.167321</td>\n",
       "      <td>0.455151</td>\n",
       "      <td>1</td>\n",
       "    </tr>\n",
       "    <tr>\n",
       "      <th>2</th>\n",
       "      <td>-0.070467</td>\n",
       "      <td>-0.562528</td>\n",
       "      <td>-0.076600</td>\n",
       "      <td>-0.397769</td>\n",
       "      <td>0.052933</td>\n",
       "      <td>-1.005631</td>\n",
       "      <td>1</td>\n",
       "    </tr>\n",
       "    <tr>\n",
       "      <th>3</th>\n",
       "      <td>0.453126</td>\n",
       "      <td>0.427257</td>\n",
       "      <td>-0.076600</td>\n",
       "      <td>0.099442</td>\n",
       "      <td>-1.061454</td>\n",
       "      <td>0.119339</td>\n",
       "      <td>1</td>\n",
       "    </tr>\n",
       "    <tr>\n",
       "      <th>4</th>\n",
       "      <td>-0.244998</td>\n",
       "      <td>-0.727492</td>\n",
       "      <td>-0.952029</td>\n",
       "      <td>-1.392191</td>\n",
       "      <td>-0.504260</td>\n",
       "      <td>-0.653029</td>\n",
       "      <td>0</td>\n",
       "    </tr>\n",
       "  </tbody>\n",
       "</table>\n",
       "</div>"
      ],
      "text/plain": [
       "   GRE Score  TOEFL Score  University Rating       SOP       LOR      CGPA  \\\n",
       "0   1.762107     1.746971           0.798829  1.093864  1.167321  1.764818   \n",
       "1   0.627656    -0.067635           0.798829  0.596653  1.167321  0.455151   \n",
       "2  -0.070467    -0.562528          -0.076600 -0.397769  0.052933 -1.005631   \n",
       "3   0.453126     0.427257          -0.076600  0.099442 -1.061454  0.119339   \n",
       "4  -0.244998    -0.727492          -0.952029 -1.392191 -0.504260 -0.653029   \n",
       "\n",
       "  Research  \n",
       "0        1  \n",
       "1        1  \n",
       "2        1  \n",
       "3        1  \n",
       "4        0  "
      ]
     },
     "execution_count": 26,
     "metadata": {},
     "output_type": "execute_result"
    }
   ],
   "source": [
    "df_feature = pd.concat([df_num,df_cat],axis=1)\n",
    "df_feature.head()"
   ]
  },
  {
   "cell_type": "code",
   "execution_count": 27,
   "id": "f9f46896-b174-49e9-a165-d968b5f2f829",
   "metadata": {},
   "outputs": [],
   "source": [
    "X = df_feature\n",
    "y = df['Chance of Admit']"
   ]
  },
  {
   "cell_type": "code",
   "execution_count": 29,
   "id": "0a7a4151-18a6-4d17-a3fa-456d6d3091b4",
   "metadata": {},
   "outputs": [],
   "source": [
    "import statsmodels.api as sm\n",
    "from sklearn.model_selection import train_test_split"
   ]
  },
  {
   "cell_type": "code",
   "execution_count": 30,
   "id": "86aaaf6e-5718-4ea0-87c8-fbc2218c5435",
   "metadata": {},
   "outputs": [],
   "source": [
    "X = sm.add_constant(X)"
   ]
  },
  {
   "cell_type": "code",
   "execution_count": 31,
   "id": "34e2f9f9-4898-42fb-a4c3-ffc645af07f8",
   "metadata": {},
   "outputs": [],
   "source": [
    "X_train,X_test,y_train,y_test = train_test_split(X,y,test_size=0.2,random_state=10)"
   ]
  },
  {
   "cell_type": "code",
   "execution_count": 33,
   "id": "68873e72-2ba4-4692-b798-89aa06c5a9d6",
   "metadata": {},
   "outputs": [
    {
     "name": "stdout",
     "output_type": "stream",
     "text": [
      "Optimization terminated successfully.\n",
      "         Current function value: 0.241326\n",
      "         Iterations 8\n"
     ]
    }
   ],
   "source": [
    "logreg = sm.Logit(y_train, X_train.astype(float)).fit()"
   ]
  },
  {
   "cell_type": "code",
   "execution_count": 34,
   "id": "e60d8371-acbd-411e-9358-012ad5790f67",
   "metadata": {},
   "outputs": [
    {
     "name": "stdout",
     "output_type": "stream",
     "text": [
      "                           Logit Regression Results                           \n",
      "==============================================================================\n",
      "Dep. Variable:        Chance of Admit   No. Observations:                  320\n",
      "Model:                          Logit   Df Residuals:                      312\n",
      "Method:                           MLE   Df Model:                            7\n",
      "Date:                Mon, 15 Apr 2024   Pseudo R-squ.:                  0.6486\n",
      "Time:                        08:24:40   Log-Likelihood:                -77.224\n",
      "converged:                       True   LL-Null:                       -219.78\n",
      "Covariance Type:            nonrobust   LLR p-value:                 9.137e-58\n",
      "=====================================================================================\n",
      "                        coef    std err          z      P>|z|      [0.025      0.975]\n",
      "-------------------------------------------------------------------------------------\n",
      "const                -0.7119      0.330     -2.157      0.031      -1.359      -0.065\n",
      "GRE Score             0.6095      0.447      1.365      0.172      -0.266       1.485\n",
      "TOEFL Score           0.1989      0.403      0.493      0.622      -0.592       0.990\n",
      "University Rating     0.5883      0.383      1.535      0.125      -0.163       1.339\n",
      "SOP                   0.1768      0.374      0.473      0.636      -0.555       0.909\n",
      "LOR                   0.5118      0.308      1.662      0.096      -0.092       1.115\n",
      "CGPA                  2.6273      0.544      4.832      0.000       1.562       3.693\n",
      "Research              0.5819      0.465      1.251      0.211      -0.329       1.493\n",
      "=====================================================================================\n"
     ]
    }
   ],
   "source": [
    "print(logreg.summary())"
   ]
  },
  {
   "cell_type": "code",
   "execution_count": 35,
   "id": "3d3cf23c-808f-46e3-be8f-83c8d215e5ac",
   "metadata": {},
   "outputs": [
    {
     "data": {
      "text/plain": [
       "170.44859325107456"
      ]
     },
     "execution_count": 35,
     "metadata": {},
     "output_type": "execute_result"
    }
   ],
   "source": [
    "logreg.aic"
   ]
  },
  {
   "cell_type": "code",
   "execution_count": 36,
   "id": "219de6a1-b79e-475e-b07e-d65fe2ece915",
   "metadata": {},
   "outputs": [
    {
     "data": {
      "text/plain": [
       "const                 0.490694\n",
       "GRE Score             1.839477\n",
       "TOEFL Score           1.220082\n",
       "University Rating     1.800906\n",
       "SOP                   1.193371\n",
       "LOR                   1.668273\n",
       "CGPA                 13.836155\n",
       "Research              1.789418\n",
       "dtype: float64"
      ]
     },
     "execution_count": 36,
     "metadata": {},
     "output_type": "execute_result"
    }
   ],
   "source": [
    "np.exp(logreg.params)"
   ]
  },
  {
   "cell_type": "code",
   "execution_count": null,
   "id": "6a686291-6d3e-4741-8113-1a9f4474aac5",
   "metadata": {},
   "outputs": [],
   "source": []
  }
 ],
 "metadata": {
  "kernelspec": {
   "display_name": "Python 3 (ipykernel)",
   "language": "python",
   "name": "python3"
  },
  "language_info": {
   "codemirror_mode": {
    "name": "ipython",
    "version": 3
   },
   "file_extension": ".py",
   "mimetype": "text/x-python",
   "name": "python",
   "nbconvert_exporter": "python",
   "pygments_lexer": "ipython3",
   "version": "3.9.18"
  }
 },
 "nbformat": 4,
 "nbformat_minor": 5
}
