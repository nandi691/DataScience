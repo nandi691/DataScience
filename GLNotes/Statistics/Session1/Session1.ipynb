{
 "cells": [
  {
   "cell_type": "code",
   "execution_count": 1,
   "id": "59a97acc-b6ca-49eb-a90a-289b3beb8c50",
   "metadata": {},
   "outputs": [],
   "source": [
    "# import 'pandas' \n",
    "import pandas as pd \n",
    "\n",
    "# import 'numpy' \n",
    "import numpy as np\n",
    "\n",
    "# import subpackage of matplotlib\n",
    "import matplotlib.pyplot as plt\n",
    "from matplotlib import gridspec\n",
    "%matplotlib inline\n",
    "\n",
    "# import 'seaborn'\n",
    "import seaborn as sns\n",
    "\n",
    "# to suppress warnings \n",
    "from warnings import filterwarnings\n",
    "filterwarnings('ignore')\n",
    "\n",
    "# import 'factorial' from math library\n",
    "from math import factorial\n",
    "\n",
    "# import 'stats' package from scipy library\n",
    "from scipy import stats\n",
    "from scipy.stats import randint\n",
    "from scipy.stats import skewnorm\n",
    "\n",
    "# import 'random' to generate a random sample\n",
    "import random"
   ]
  },
  {
   "cell_type": "code",
   "execution_count": 2,
   "id": "a5d9e050-97b7-47f4-91c3-dcdeb376e569",
   "metadata": {},
   "outputs": [
    {
     "data": {
      "text/plain": [
       "169.33333333333334"
      ]
     },
     "execution_count": 2,
     "metadata": {},
     "output_type": "execute_result"
    }
   ],
   "source": [
    "sale = [165, 182, 140, 193, 172, 168, 174, 124, 187, 204, 148, 175]\n",
    "np.mean(sale)"
   ]
  },
  {
   "cell_type": "code",
   "execution_count": 3,
   "id": "89635dd8-301b-44aa-b702-55a50ea78623",
   "metadata": {},
   "outputs": [
    {
     "data": {
      "text/plain": [
       "173.0"
      ]
     },
     "execution_count": 3,
     "metadata": {},
     "output_type": "execute_result"
    }
   ],
   "source": [
    "np.median(sale)"
   ]
  },
  {
   "cell_type": "code",
   "execution_count": 5,
   "id": "2a000809-68cf-479a-a54c-a2e1984268fd",
   "metadata": {},
   "outputs": [
    {
     "data": {
      "text/plain": [
       "21.76898915634093"
      ]
     },
     "execution_count": 5,
     "metadata": {},
     "output_type": "execute_result"
    }
   ],
   "source": [
    "np.std(sale)"
   ]
  },
  {
   "cell_type": "code",
   "execution_count": 6,
   "id": "1dad4e08-c1ee-4654-8bfa-f4d4f6f84002",
   "metadata": {},
   "outputs": [
    {
     "data": {
      "text/plain": [
       "160.75"
      ]
     },
     "execution_count": 6,
     "metadata": {},
     "output_type": "execute_result"
    }
   ],
   "source": [
    "sale = [165, 182, 140, 193, 172, 168, 174, 124, 187, 204, 148, 175]\n",
    "np.quantile(sale,0.25)"
   ]
  },
  {
   "cell_type": "code",
   "execution_count": 7,
   "id": "d1c37eea-ad11-4341-8684-4e0bed90c08d",
   "metadata": {},
   "outputs": [
    {
     "data": {
      "text/plain": [
       "-0.5285526567587567"
      ]
     },
     "execution_count": 7,
     "metadata": {},
     "output_type": "execute_result"
    }
   ],
   "source": [
    "stats.skew(sale)"
   ]
  },
  {
   "cell_type": "code",
   "execution_count": 8,
   "id": "fcead74f-ac99-4a0e-aabd-bc422c1d5ed5",
   "metadata": {},
   "outputs": [
    {
     "data": {
      "text/plain": [
       "-0.38240010775017863"
      ]
     },
     "execution_count": 8,
     "metadata": {},
     "output_type": "execute_result"
    }
   ],
   "source": [
    "stats.kurtosis(sale)"
   ]
  },
  {
   "cell_type": "code",
   "execution_count": 9,
   "id": "c3106ba6-ba37-49e2-917d-214ec6d5e99b",
   "metadata": {},
   "outputs": [
    {
     "data": {
      "text/plain": [
       "0.6447248082202144"
      ]
     },
     "execution_count": 9,
     "metadata": {},
     "output_type": "execute_result"
    }
   ],
   "source": [
    "sale = pd.Series([165, 182, 140, 193, 172, 168, 174, 124, 187, 204, 148, 175])\n",
    "working_hrs = pd.Series([7, 8.5, 8, 10, 9, 8, 8.5, 7.5, 9.5, 8.5, 8, 9])\n",
    "\n",
    "corr_var = working_hrs.corr(sale)\n",
    "corr_var\n"
   ]
  },
  {
   "cell_type": "code",
   "execution_count": null,
   "id": "56ecad22-b4fb-43a5-bfe7-caf0fce57735",
   "metadata": {},
   "outputs": [],
   "source": []
  }
 ],
 "metadata": {
  "kernelspec": {
   "display_name": "Python 3 (ipykernel)",
   "language": "python",
   "name": "python3"
  },
  "language_info": {
   "codemirror_mode": {
    "name": "ipython",
    "version": 3
   },
   "file_extension": ".py",
   "mimetype": "text/x-python",
   "name": "python",
   "nbconvert_exporter": "python",
   "pygments_lexer": "ipython3",
   "version": "3.9.18"
  }
 },
 "nbformat": 4,
 "nbformat_minor": 5
}
