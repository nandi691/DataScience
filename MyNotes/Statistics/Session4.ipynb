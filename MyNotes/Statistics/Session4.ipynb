{
 "cells": [
  {
   "cell_type": "code",
   "execution_count": 1,
   "id": "0291efa7-72ec-422b-bef1-f7ef21e9e102",
   "metadata": {},
   "outputs": [
    {
     "name": "stdout",
     "output_type": "stream",
     "text": [
      "Aum Namaha Shivaya\n"
     ]
    }
   ],
   "source": [
    "print(\"Aum Namaha Shivaya\");"
   ]
  },
  {
   "cell_type": "code",
   "execution_count": 3,
   "id": "bba9b864-5567-4c68-8635-a7cda45c2c2e",
   "metadata": {},
   "outputs": [],
   "source": [
    "import pandas as pd\n",
    "import numpy as np\n",
    "import matplotlib.pyplot as plt\n",
    "import seaborn as sns\n",
    "from warnings import filterwarnings\n",
    "filterwarnings('ignore')\n",
    "import random\n",
    "import statistics\n",
    "import scipy.stats as st\n",
    "import statsmodels.stats.power as pw\n",
    "import statsmodels.stats.weightstats as stests\n"
   ]
  },
  {
   "cell_type": "code",
   "execution_count": 4,
   "id": "e93e3473-6ab4-4b11-a7c8-d872088ff325",
   "metadata": {},
   "outputs": [],
   "source": [
    "plt.rcParams['figure.figsize'] = [15,8]"
   ]
  },
  {
   "cell_type": "markdown",
   "id": "e3cb6b83-9d5b-4b44-b470-6c14ece3ec9f",
   "metadata": {},
   "source": [
    "# 1. A car manufacturing company claims that the mileage of their new car is 25 kmph with a standard deviation of 2.5 kmph. A random sample of 45 cars was drawn and recorded their mileage as per the standard procedure. From the sample, the mean mileage was seen to be 24 kmph. Is this evidence to claim that the mean mileage is different from 25kmph? (assume the normality of the data) Use α = 0.01."
   ]
  },
  {
   "cell_type": "code",
   "execution_count": null,
   "id": "2f703893-04ea-4d91-a7ad-db005f3906a3",
   "metadata": {},
   "outputs": [],
   "source": [
    "mu = 25\n",
    "sd = 2.5\n",
    "alpha = 0.01\n"
   ]
  }
 ],
 "metadata": {
  "kernelspec": {
   "display_name": "Python 3 (ipykernel)",
   "language": "python",
   "name": "python3"
  },
  "language_info": {
   "codemirror_mode": {
    "name": "ipython",
    "version": 3
   },
   "file_extension": ".py",
   "mimetype": "text/x-python",
   "name": "python",
   "nbconvert_exporter": "python",
   "pygments_lexer": "ipython3",
   "version": "3.9.18"
  }
 },
 "nbformat": 4,
 "nbformat_minor": 5
}
