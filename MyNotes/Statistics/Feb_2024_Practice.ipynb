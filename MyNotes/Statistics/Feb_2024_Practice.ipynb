{
 "cells": [
  {
   "cell_type": "code",
   "execution_count": 1,
   "id": "a0b54d0b-ecb0-462a-b790-783a216dd9fd",
   "metadata": {},
   "outputs": [
    {
     "name": "stdout",
     "output_type": "stream",
     "text": [
      "AUM Namaha Shivaya\n"
     ]
    }
   ],
   "source": [
    "print(\"AUM Namaha Shivaya\")"
   ]
  },
  {
   "cell_type": "code",
   "execution_count": 2,
   "id": "1a621816-5d73-4619-b69e-9537374811b9",
   "metadata": {},
   "outputs": [],
   "source": [
    "import pandas as pd\n",
    "import numpy as np\n",
    "import matplotlib.pyplot as plt\n",
    "from matplotlib import gridspec\n",
    "%matplotlib inline\n",
    "import seaborn as sns\n",
    "from warnings import filterwarnings\n",
    "filterwarnings('ignore')\n",
    "from math import factorial\n",
    "from scipy import stats\n",
    "from scipy.stats import randint\n",
    "from scipy.stats import skewnorm\n",
    "import random"
   ]
  },
  {
   "cell_type": "code",
   "execution_count": 3,
   "id": "f09e1248-d6af-49f0-9878-40bb648665d4",
   "metadata": {},
   "outputs": [
    {
     "data": {
      "text/plain": [
       "169.33333333333334"
      ]
     },
     "execution_count": 3,
     "metadata": {},
     "output_type": "execute_result"
    }
   ],
   "source": [
    "sale = [165, 182, 140, 193, 172, 168, 174, 124, 187, 204, 148, 175]\n",
    "mean_sale = np.mean(sale)\n",
    "mean_sale"
   ]
  },
  {
   "cell_type": "code",
   "execution_count": 4,
   "id": "463b6941-f70f-4382-9cdf-07eea3d02c13",
   "metadata": {},
   "outputs": [
    {
     "data": {
      "text/plain": [
       "173.0"
      ]
     },
     "execution_count": 4,
     "metadata": {},
     "output_type": "execute_result"
    }
   ],
   "source": [
    "median_sale = np.median(sale)\n",
    "median_sale"
   ]
  },
  {
   "cell_type": "code",
   "execution_count": 5,
   "id": "034a74b0-934c-42b7-89d2-b55ab60200f3",
   "metadata": {},
   "outputs": [
    {
     "data": {
      "text/plain": [
       "21.76898915634093"
      ]
     },
     "execution_count": 5,
     "metadata": {},
     "output_type": "execute_result"
    }
   ],
   "source": [
    "std_sale = np.std(sale)\n",
    "std_sale"
   ]
  },
  {
   "cell_type": "code",
   "execution_count": 6,
   "id": "b8f698e8-610c-43af-84c9-741188dda465",
   "metadata": {},
   "outputs": [],
   "source": [
    "# 7AM - First avadahi - Avadhi 1\n",
    "# 815 - Dinner\n",
    "# 9PM - 945PM - Anoupacharika\n",
    "# 10PM Deepa Visarjane\n",
    "# 530 - Uthana\n",
    "# 600 Ekatmata Stotra\n",
    "# 630 - 800 Sanghasthana (30 Min Samatha)\n",
    "# 815 - Upahara\n",
    "# 900 - 1000 - Avadhi 2\n",
    "# 1015 - 1100 - Avadhi 3\n",
    "# 1100 - 1115 - Paniya\n",
    "# 1115 - 1200 - Samaropa"
   ]
  },
  {
   "cell_type": "code",
   "execution_count": 7,
   "id": "f6f5a21f-7d1e-476d-8900-7de390c3e5fb",
   "metadata": {},
   "outputs": [
    {
     "data": {
      "text/plain": [
       "160.75"
      ]
     },
     "execution_count": 7,
     "metadata": {},
     "output_type": "execute_result"
    }
   ],
   "source": [
    "q1_sale = np.quantile(a=sale,q=0.25)\n",
    "q1_sale"
   ]
  },
  {
   "cell_type": "code",
   "execution_count": 8,
   "id": "6dc1db6d-c3c3-4bc3-ad99-11022af21e8e",
   "metadata": {},
   "outputs": [
    {
     "data": {
      "text/plain": [
       "183.25"
      ]
     },
     "execution_count": 8,
     "metadata": {},
     "output_type": "execute_result"
    }
   ],
   "source": [
    "q3_sale = np.quantile(a=sale,q=0.75)\n",
    "q3_sale"
   ]
  },
  {
   "cell_type": "code",
   "execution_count": 9,
   "id": "e17bfa4d-1ecf-434c-a24f-c23de439d483",
   "metadata": {},
   "outputs": [
    {
     "data": {
      "text/plain": [
       "22.5"
      ]
     },
     "execution_count": 9,
     "metadata": {},
     "output_type": "execute_result"
    }
   ],
   "source": [
    "iqr = q3_sale - q1_sale\n",
    "iqr"
   ]
  },
  {
   "cell_type": "code",
   "execution_count": 10,
   "id": "fd760011-3316-4864-8038-56a080ebf570",
   "metadata": {},
   "outputs": [
    {
     "data": {
      "text/plain": [
       "-0.5285526567587567"
      ]
     },
     "execution_count": 10,
     "metadata": {},
     "output_type": "execute_result"
    }
   ],
   "source": [
    "sale_skew = stats.skew(sale) #Differ from Normal distribution\n",
    "sale_skew"
   ]
  },
  {
   "cell_type": "code",
   "execution_count": 11,
   "id": "6a10dd38-22ef-4094-bafd-e42d883e5c5c",
   "metadata": {},
   "outputs": [
    {
     "data": {
      "text/plain": [
       "-0.38240010775017863"
      ]
     },
     "execution_count": 11,
     "metadata": {},
     "output_type": "execute_result"
    }
   ],
   "source": [
    "sale_kurt = stats.kurtosis(sale)\n",
    "sale_kurt"
   ]
  },
  {
   "cell_type": "code",
   "execution_count": 12,
   "id": "67c57264-ef5c-43d4-bfce-5a6bdc2728bf",
   "metadata": {},
   "outputs": [
    {
     "data": {
      "text/plain": [
       "0.6447248082202144"
      ]
     },
     "execution_count": 12,
     "metadata": {},
     "output_type": "execute_result"
    }
   ],
   "source": [
    "sale = pd.Series([165, 182, 140, 193, 172, 168, 174, 124, 187, 204, 148, 175])\n",
    "working_hrs = pd.Series([7, 8.5, 8, 10, 9, 8, 8.5, 7.5, 9.5, 8.5, 8, 9])\n",
    "\n",
    "corr_coeff = working_hrs.corr(sale)\n",
    "corr_coeff"
   ]
  },
  {
   "cell_type": "code",
   "execution_count": 3,
   "id": "7d038fa6-b075-43de-bb92-12ceb4c49f28",
   "metadata": {},
   "outputs": [
    {
     "data": {
      "text/plain": [
       "0.43999999999999995"
      ]
     },
     "execution_count": 3,
     "metadata": {},
     "output_type": "execute_result"
    }
   ],
   "source": [
    "1-(14/25)"
   ]
  },
  {
   "cell_type": "code",
   "execution_count": null,
   "id": "2d001dc5-09ad-4301-aa2c-7bffd363f9a4",
   "metadata": {},
   "outputs": [],
   "source": []
  }
 ],
 "metadata": {
  "kernelspec": {
   "display_name": "Python 3 (ipykernel)",
   "language": "python",
   "name": "python3"
  },
  "language_info": {
   "codemirror_mode": {
    "name": "ipython",
    "version": 3
   },
   "file_extension": ".py",
   "mimetype": "text/x-python",
   "name": "python",
   "nbconvert_exporter": "python",
   "pygments_lexer": "ipython3",
   "version": "3.9.18"
  }
 },
 "nbformat": 4,
 "nbformat_minor": 5
}
